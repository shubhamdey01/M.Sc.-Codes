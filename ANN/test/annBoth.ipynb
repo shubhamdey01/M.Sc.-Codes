{
 "cells": [
  {
   "cell_type": "markdown",
   "id": "5ea09920-b9b8-45e5-8912-148c4ef9fb64",
   "metadata": {},
   "source": [
    "## Libraries"
   ]
  },
  {
   "cell_type": "code",
   "execution_count": 29,
   "id": "obvious-looking",
   "metadata": {},
   "outputs": [],
   "source": [
    "import numpy as np\n",
    "import matplotlib.pyplot as plt\n",
    "import random"
   ]
  },
  {
   "cell_type": "markdown",
   "id": "ac27f096-4dbd-42c2-aa5e-64b5fb393a55",
   "metadata": {},
   "source": [
    "## Loading Data"
   ]
  },
  {
   "cell_type": "markdown",
   "id": "974086fe-ea56-45f0-a6a6-f6044a5443ac",
   "metadata": {},
   "source": [
    "#### Multiclass"
   ]
  },
  {
   "cell_type": "code",
   "execution_count": 30,
   "id": "interracial-chess",
   "metadata": {},
   "outputs": [],
   "source": [
    "# xTrain = np.loadtxt('train_X.csv', delimiter = ',').T\n",
    "# yTrain = np.loadtxt('train_label.csv', delimiter = ',').T\n",
    "# xTest = np.loadtxt('test_X.csv', delimiter = ',').T\n",
    "# yTest = np.loadtxt('test_label.csv', delimiter = ',').T\n",
    "\n",
    "# print(\"shape of xTrain :\", xTrain.shape)\n",
    "# print(\"shape of yTrain :\", yTrain.shape)\n",
    "# print(\"shape of xTest :\", xTest.shape)\n",
    "# print(\"shape of yTest :\", yTest.shape)\n",
    "\n",
    "# idx = random.randrange(0, xTrain.shape[1])\n",
    "# plt.figure(figsize=(1.5, 1.5))\n",
    "# plt.imshow(X_train[:, idx].reshape(28, 28), cmap = 'gray')\n",
    "# plt.show()"
   ]
  },
  {
   "cell_type": "markdown",
   "id": "76ff2270-979b-46c4-8dd5-50d5abe762e8",
   "metadata": {},
   "source": [
    "#### Binary"
   ]
  },
  {
   "cell_type": "code",
   "execution_count": 31,
   "id": "57b45a12-4a5b-4bf3-b711-0412d080abe2",
   "metadata": {},
   "outputs": [],
   "source": [
    "# xTrain = np.loadtxt('cat_train_x.csv', delimiter = ',')/255.0\n",
    "# yTrain = np.loadtxt('cat_train_y.csv', delimiter = ',').reshape(1, xTrain.shape[1])\n",
    "# xTest = np.loadtxt('cat_test_x.csv', delimiter = ',')/255.0\n",
    "# yTest = np.loadtxt('cat_test_y.csv', delimiter = ',').reshape(1, xTest.shape[1])\n",
    "\n",
    "# print(\"shape of xTrain :\", xTrain.shape)\n",
    "# print(\"shape of yTrain :\", yTrain.shape)\n",
    "# print(\"shape of xTest :\", xTest.shape)\n",
    "# print(\"shape of yTest :\", yTest.shape)\n",
    "\n",
    "# index = random.randrange(0, xTrain.shape[1])\n",
    "# plt.figure(figsize=(2, 2))\n",
    "# plt.imshow(xTrain[:, index].reshape(64,64, 3))\n",
    "# plt.show()"
   ]
  },
  {
   "cell_type": "code",
   "execution_count": 32,
   "id": "0830f07b-4f4c-4ca7-a554-588762b727c2",
   "metadata": {},
   "outputs": [
    {
     "name": "stdout",
     "output_type": "stream",
     "text": [
      "shape of xTrain : (10, 80000)\n",
      "shape of yTrain : (1, 80000)\n",
      "shape of xTest : (10, 20000)\n",
      "shape of yTest : (1, 20000)\n"
     ]
    }
   ],
   "source": [
    "marks = np.random.normal(50, 15, size=(10, 100000))\n",
    "marks = np.clip(marks, 5, 95)\n",
    "result = np.random.randint(2, size=(1, 100000))\n",
    "\n",
    "xTrain, xTest = marks[:, :80000], marks[:, 80000:]\n",
    "yTrain, yTest = result[:, :80000], result[:, 80000:]\n",
    "\n",
    "print(\"shape of xTrain :\", xTrain.shape)\n",
    "print(\"shape of yTrain :\", yTrain.shape)\n",
    "print(\"shape of xTest :\", xTest.shape)\n",
    "print(\"shape of yTest :\", yTest.shape)"
   ]
  },
  {
   "cell_type": "markdown",
   "id": "413885f0-0efc-4de9-a823-c878df5fb9e3",
   "metadata": {},
   "source": [
    "## Activation Functions"
   ]
  },
  {
   "cell_type": "code",
   "execution_count": 33,
   "id": "centered-tunnel",
   "metadata": {},
   "outputs": [],
   "source": [
    "def sigmoid(x):\n",
    "    return 1 / (1 + np.exp(-x))\n",
    "\n",
    "def softmax(x):\n",
    "    expX = np.exp(x)\n",
    "    return expX / np.sum(expX, 0)\n",
    "\n",
    "def tanh(x):\n",
    "    return np.tanh(x)\n",
    "\n",
    "def relu(x):\n",
    "    return np.maximum(x, 0)"
   ]
  },
  {
   "cell_type": "code",
   "execution_count": 34,
   "id": "functional-monthly",
   "metadata": {},
   "outputs": [],
   "source": [
    "def derivative_tanh(x):\n",
    "    return (1 - np.power(np.tanh(x), 2))\n",
    "\n",
    "def derivative_relu(x):\n",
    "    return np.array(x > 0, dtype = np.float32)"
   ]
  },
  {
   "cell_type": "markdown",
   "id": "aggregate-collar",
   "metadata": {},
   "source": [
    "## Initialize Parameters"
   ]
  },
  {
   "cell_type": "code",
   "execution_count": 35,
   "id": "prepared-heritage",
   "metadata": {},
   "outputs": [],
   "source": [
    "def initParameters(ldims):\n",
    "    params = {}\n",
    "    L = len(ldims)\n",
    "\n",
    "    for l in range(1, L):\n",
    "        # params[f'w{l}'] = np.random.randn(ldims[l], ldims[l-1]) * 0.01\n",
    "        params[f'w{l}'] = np.random.randn(ldims[l], ldims[l-1]) / np.sqrt(ldims[l-1])\n",
    "       \n",
    "        params[f'b{l}'] = np.zeros((ldims[l], 1))\n",
    "\n",
    "    return params"
   ]
  },
  {
   "cell_type": "markdown",
   "id": "cubic-thailand",
   "metadata": {},
   "source": [
    "## Forward Propagation"
   ]
  },
  {
   "cell_type": "code",
   "execution_count": 36,
   "id": "voluntary-sigma",
   "metadata": {},
   "outputs": [],
   "source": [
    "def forwardPropagation(X, params, aFun):\n",
    "    forwardCache = {}\n",
    "    L = len(params) // 2\n",
    "\n",
    "    forwardCache['a0'] = X\n",
    "    for l in range(1, L):\n",
    "        forwardCache[f'z{l}'] = np.dot(params[f'w{l}'], forwardCache[f'a{l-1}']) + params[f'b{l}']\n",
    "        \n",
    "        if aFun == 'tanh':\n",
    "            forwardCache[f'a{l}'] = tanh(forwardCache[f'z{l}'])\n",
    "        else:\n",
    "            forwardCache[f'a{l}'] = relu(forwardCache[f'z{l}'])\n",
    "\n",
    "    forwardCache[f'z{L}'] = np.dot(params[f'w{L}'], forwardCache[f'a{L-1}']) + params[f'b{L}']\n",
    "    \n",
    "    if forwardCache[f'z{L}'].shape[0] == 1:\n",
    "        forwardCache[f'a{L}'] = sigmoid(forwardCache[f'z{L}'])\n",
    "    else :\n",
    "        forwardCache[f'a{L}'] = softmax(forwardCache[f'z{L}'])\n",
    "    \n",
    "    return forwardCache[f'a{L}'], forwardCache"
   ]
  },
  {
   "cell_type": "markdown",
   "id": "present-easter",
   "metadata": {},
   "source": [
    "## Backpropagation"
   ]
  },
  {
   "cell_type": "code",
   "execution_count": 37,
   "id": "weird-lyric",
   "metadata": {},
   "outputs": [],
   "source": [
    "def backPropagation(aL, y, params, forwardCache, aFun):\n",
    "    grads = {}\n",
    "    L = len(params) // 2\n",
    "    m = aL.shape[1]\n",
    "\n",
    "    grads[f'dz{L}'] = aL - y\n",
    "    grads[f'dw{L}'] = 1./m * np.dot(grads[f'dz{L}'], forwardCache[f'a{L-1}'].T)\n",
    "    grads[f'db{L}'] = 1./m * np.sum(grads[f'dz{L}'], axis=1, keepdims=True)\n",
    "\n",
    "    for l in reversed(range(1, L)):\n",
    "        if aFun == 'tanh':\n",
    "            # grads[f'dz{l}'] = 1./m * np.dot(params[f'w{l+1}'].T, grads[f'dz{l+1}']) * derivative_tanh(forwardCache[f'a{l}'])\n",
    "            grads[f'dz{l}'] = np.dot(params[f'w{l+1}'].T, grads[f'dz{l+1}']) * derivative_tanh(forwardCache[f'a{l}'])\n",
    "        else:\n",
    "            # grads[f'dz{l}'] = 1./m * np.dot(params[f'w{l+1}'].T, grads[f'dz{l+1}']) * derivative_relu(forwardCache[f'a{l}'])\n",
    "            grads[f'dz{l}'] = np.dot(params[f'w{l+1}'].T, grads[f'dz{l+1}']) * derivative_relu(forwardCache[f'a{l}'])\n",
    "        \n",
    "        grads[f'dw{l}'] = 1./m * np.dot(grads[f'dz{l}'], forwardCache[f'a{l-1}'].T)\n",
    "        grads[f'db{l}'] = 1./m * np.sum(grads[f'dz{l}'], axis=1, keepdims=True)\n",
    "\n",
    "    return grads"
   ]
  },
  {
   "cell_type": "markdown",
   "id": "capital-hostel",
   "metadata": {},
   "source": [
    "## Update Parameters"
   ]
  },
  {
   "cell_type": "code",
   "execution_count": 38,
   "id": "written-sullivan",
   "metadata": {},
   "outputs": [],
   "source": [
    "def updateParams(params, grads, eta):\n",
    "    L = len(params) // 2\n",
    "    for l in range(L):\n",
    "        params[f'w{l+1}'] = params[f'w{l+1}'] - eta * grads[f'dw{l+1}']\n",
    "        params[f'b{l+1}'] = params[f'b{l+1}'] - eta * grads[f'db{l+1}']\n",
    "\n",
    "    return params"
   ]
  },
  {
   "cell_type": "markdown",
   "id": "lined-charger",
   "metadata": {},
   "source": [
    "## Cost Function, Accuracy, Prediction"
   ]
  },
  {
   "cell_type": "code",
   "execution_count": 39,
   "id": "legendary-playback",
   "metadata": {},
   "outputs": [],
   "source": [
    "def costFun(aL, y):\n",
    "    m = y.shape[1]\n",
    "    if y.shape[0] == 1:\n",
    "        c = (1./m) * (-np.dot(y, np.log(aL).T) - np.dot(1-y, np.log(1-aL).T))\n",
    "    else:\n",
    "        c = -(1./m) * np.sum(y * np.log(aL))\n",
    "    return np.squeeze(c)"
   ]
  },
  {
   "cell_type": "code",
   "execution_count": 40,
   "id": "french-design",
   "metadata": {},
   "outputs": [],
   "source": [
    "def accuracy(aL, y):\n",
    "    m = y.shape[1]\n",
    "    if y.shape[0] == 1:\n",
    "        aL = np.array(aL > 0.5, dtype='float')\n",
    "    else:\n",
    "        aL = np.argmax(aL, 0)  # 0 represents row wise \n",
    "        y = np.argmax(y, 0)\n",
    "        \n",
    "    return np.round(np.sum((aL == y)/m), 2) * 100"
   ]
  },
  {
   "cell_type": "code",
   "execution_count": 41,
   "id": "7f75498f-a190-4a7a-9807-b691b9340145",
   "metadata": {},
   "outputs": [],
   "source": [
    "def predict(X, params, aFun):\n",
    "    yPred, _ = forwardPropagation(X, params, aFun)\n",
    "    return yPred"
   ]
  },
  {
   "cell_type": "markdown",
   "id": "intelligent-julian",
   "metadata": {},
   "source": [
    "## A Model"
   ]
  },
  {
   "cell_type": "code",
   "execution_count": 42,
   "id": "dietary-capacity",
   "metadata": {},
   "outputs": [],
   "source": [
    "def model(X, y, ldims, eta, epochs, aFun):\n",
    "\n",
    "    np.random.seed(1)\n",
    "    costs = []\n",
    "    accs = []\n",
    "    \n",
    "    params = initParameters(ldims)\n",
    "    \n",
    "    for i in range(epochs):\n",
    "        \n",
    "        aL, forwardCache = forwardPropagation(X, params, aFun)\n",
    "        \n",
    "        cost = costFun(aL, y)\n",
    "        acc = accuracy(aL, y)\n",
    "        \n",
    "        grads = backPropagation(aL, y, params, forwardCache, aFun)\n",
    "        \n",
    "        params = updateParams(params, grads, eta)\n",
    "        \n",
    "        costs.append(cost)\n",
    "        accs.append(acc)\n",
    "        \n",
    "        if(i%(epochs/10) == 0):\n",
    "            print(\"after\", i, \"epochs :\\tCost = \", cost, \"\\tAccuracy = \", acc)\n",
    "        \n",
    "    return params, costs, accs"
   ]
  },
  {
   "cell_type": "markdown",
   "id": "2ad6bcf2-871f-411d-a8b2-2b693b2839c0",
   "metadata": {},
   "source": [
    "### running"
   ]
  },
  {
   "cell_type": "code",
   "execution_count": null,
   "id": "integral-credit",
   "metadata": {},
   "outputs": [],
   "source": [
    "# eta = 0.02\n",
    "# epochs = 100\n",
    "# ldims = [xTrain.shape[0], 1000, yTrain.shape[0]]\n",
    "# params, costList, accuracyList = model(xTrain, yTrain, ldims, eta, epochs, 'tanh')\n",
    "\n",
    "# eta = 0.001\n",
    "# epochs = 1000\n",
    "# ldims = [xTrain.shape[0], 20, 7, 5, yTrain.shape[0]]\n",
    "# params, costList, accuracyList = model(xTrain, yTrain, ldims, eta, epochs, 'relu')\n",
    "\n",
    "eta = 0.09\n",
    "epochs = 100\n",
    "ldims = [xTrain.shape[0],  yTrain.shape[0]]\n",
    "params, costList, accuracyList = model(xTrain, yTrain, ldims, eta, epochs, 'relu')"
   ]
  },
  {
   "cell_type": "code",
   "execution_count": null,
   "id": "italian-graph",
   "metadata": {},
   "outputs": [],
   "source": [
    "t = np.arange(0, epochs)\n",
    "plt.figure(figsize=(15,5))\n",
    "plt.subplot(1, 2, 1)\n",
    "plt.plot(t, costList)\n",
    "plt.subplot(1, 2, 2)\n",
    "plt.plot(t, accuracyList)\n",
    "plt.show()"
   ]
  },
  {
   "cell_type": "code",
   "execution_count": null,
   "id": "mexican-jamaica",
   "metadata": {},
   "outputs": [],
   "source": [
    "print(\"Accuracy of Train Dataset\", accuracy(predict(xTrain, params, 'tanh'), yTrain), \"%\")\n",
    "print(\"Accuracy of Test Dataset\", accuracy(predict(xTest, params, 'tanh'), yTest), \"%\")"
   ]
  },
  {
   "cell_type": "code",
   "execution_count": null,
   "id": "finished-superintendent",
   "metadata": {},
   "outputs": [],
   "source": [
    "# idx = int(random.randrange(0,xTest.shape[1]))\n",
    "# plt.figure(figsize=(1.5, 1.5))\n",
    "# plt.imshow(xTest[:, idx].reshape((28,28)),cmap='gray')\n",
    "# plt.show()\n",
    "\n",
    "# yPred = predict(xTest[:, idx].reshape(xTest[:, idx].shape[0], 1), params, 'tanh')\n",
    "# yPred = np.argmax(yPred, 0)\n",
    "# print(\"Our model says it is :\", yPred[0])"
   ]
  },
  {
   "cell_type": "code",
   "execution_count": null,
   "id": "3b5841f7-fd1c-40c4-acf8-7b038abb61a2",
   "metadata": {},
   "outputs": [],
   "source": [
    "# idx = int(random.randrange(0, xTest.shape[1]))\n",
    "# plt.figure(figsize=(2, 2))\n",
    "# plt.imshow(xTest[:, idx].reshape(64,64, 3))\n",
    "# plt.show()\n",
    "\n",
    "# yPred = predict(xTest[:, idx].reshape(xTest[:, idx].shape[0], 1), params, 'tanh')\n",
    "# yPred = 1 * np.array(yPred > 0.5)\n",
    "# print(\"Our model says it is :\", np.squeeze(yPred))"
   ]
  },
  {
   "cell_type": "code",
   "execution_count": null,
   "id": "6ebae1dd-9e69-4591-98a4-080e66d6b00b",
   "metadata": {},
   "outputs": [],
   "source": []
  }
 ],
 "metadata": {
  "kernelspec": {
   "display_name": "Python 3 (ipykernel)",
   "language": "python",
   "name": "python3"
  },
  "language_info": {
   "codemirror_mode": {
    "name": "ipython",
    "version": 3
   },
   "file_extension": ".py",
   "mimetype": "text/x-python",
   "name": "python",
   "nbconvert_exporter": "python",
   "pygments_lexer": "ipython3",
   "version": "3.12.2"
  }
 },
 "nbformat": 4,
 "nbformat_minor": 5
}
