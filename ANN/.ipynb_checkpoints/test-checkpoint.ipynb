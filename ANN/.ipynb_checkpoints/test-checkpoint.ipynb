{
 "cells": [
  {
   "cell_type": "code",
   "execution_count": 3,
   "id": "fe31d4d9-9adc-4b70-8c3e-73cbcff05ae0",
   "metadata": {},
   "outputs": [],
   "source": [
    "import numpy as np\n",
    "import matplotlib.pyplot as plt\n",
    "import seaborn as sns\n",
    "import pandas as pd"
   ]
  },
  {
   "cell_type": "code",
   "execution_count": 4,
   "id": "02867855-892c-4e04-bba0-5935481073dc",
   "metadata": {},
   "outputs": [
    {
     "name": "stderr",
     "output_type": "stream",
     "text": [
      "C:\\Users\\shubh\\AppData\\Local\\Temp\\ipykernel_15284\\143504611.py:6: UserWarning: \n",
      "\n",
      "`distplot` is a deprecated function and will be removed in seaborn v0.14.0.\n",
      "\n",
      "Please adapt your code to use either `displot` (a figure-level function with\n",
      "similar flexibility) or `histplot` (an axes-level function for histograms).\n",
      "\n",
      "For a guide to updating your code to use the new functions, please see\n",
      "https://gist.github.com/mwaskom/de44147ed2974457ad6372750bbe5751\n",
      "\n",
      "  sns.distplot(val, hist=True)\n"
     ]
    },
    {
     "data": {
      "image/png": "[encoded data removed]",
      "text/plain": [
       "<Figure size 640x480 with 1 Axes>"
      ]
     },
     "metadata": {},
     "output_type": "display_data"
    }
   ],
   "source": [
    "mean = 50\n",
    "stDev = 15\n",
    "val = np.random.normal(mean, stDev, size=1000)\n",
    "val = np.clip(val, 5, 95)\n",
    "\n",
    "sns.distplot(val, hist=True)\n",
    "plt.show()"
   ]
  },
  {
   "cell_type": "code",
   "execution_count": 5,
   "id": "bc5e2cbf-883f-489f-a11f-4ef50c1140a3",
   "metadata": {},
   "outputs": [
    {
     "name": "stdout",
     "output_type": "stream",
     "text": [
      "5.0 89.10447558096001\n"
     ]
    }
   ],
   "source": [
    "print(min(val), max(val))"
   ]
  },
  {
   "cell_type": "code",
   "execution_count": 6,
   "id": "301cb5aa-ff76-43af-a1fd-d89d91fdcfa3",
   "metadata": {},
   "outputs": [
    {
     "data": {
      "text/plain": [
       "array([[58, 47],\n",
       "       [46, 62],\n",
       "       [58, 58],\n",
       "       ...,\n",
       "       [47, 48],\n",
       "       [26, 62],\n",
       "       [44, 48]], dtype=int8)"
      ]
     },
     "execution_count": 6,
     "metadata": {},
     "output_type": "execute_result"
    }
   ],
   "source": [
    "marks = np.random.normal(mean, stDev, size=(100000, 2))\n",
    "marks = np.clip(marks, 5, 95)\n",
    "marks.astype(dtype='int8')"
   ]
  },
  {
   "cell_type": "code",
   "execution_count": 7,
   "id": "3c2340c9-9bc4-4b6f-888d-ce2178606d11",
   "metadata": {},
   "outputs": [],
   "source": [
    "df = pd.DataFrame(marks, columns=['SUB-1', 'SUB-2'])"
   ]
  },
  {
   "cell_type": "code",
   "execution_count": 8,
   "id": "fd3f6213-a904-4315-96a3-299ad579496d",
   "metadata": {},
   "outputs": [],
   "source": [
    "df['Result'] = df.apply(lambda row: int((row > 55).any()), axis=1)"
   ]
  },
  {
   "cell_type": "code",
   "execution_count": 9,
   "id": "a22615de-35fc-49c4-a075-cb57eda96173",
   "metadata": {},
   "outputs": [
    {
     "data": {
      "text/html": [
       "<div>\n",
       "<style scoped>\n",
       "    .dataframe tbody tr th:only-of-type {\n",
       "        vertical-align: middle;\n",
       "    }\n",
       "\n",
       "    .dataframe tbody tr th {\n",
       "        vertical-align: top;\n",
       "    }\n",
       "\n",
       "    .dataframe thead th {\n",
       "        text-align: right;\n",
       "    }\n",
       "</style>\n",
       "<table border=\"1\" class=\"dataframe\">\n",
       "  <thead>\n",
       "    <tr style=\"text-align: right;\">\n",
       "      <th></th>\n",
       "      <th>SUB-1</th>\n",
       "      <th>SUB-2</th>\n",
       "      <th>Result</th>\n",
       "    </tr>\n",
       "  </thead>\n",
       "  <tbody>\n",
       "    <tr>\n",
       "      <th>63056</th>\n",
       "      <td>39.668565</td>\n",
       "      <td>55.653689</td>\n",
       "      <td>1</td>\n",
       "    </tr>\n",
       "    <tr>\n",
       "      <th>45530</th>\n",
       "      <td>59.496058</td>\n",
       "      <td>37.934022</td>\n",
       "      <td>1</td>\n",
       "    </tr>\n",
       "    <tr>\n",
       "      <th>65445</th>\n",
       "      <td>71.127489</td>\n",
       "      <td>66.613532</td>\n",
       "      <td>1</td>\n",
       "    </tr>\n",
       "    <tr>\n",
       "      <th>31883</th>\n",
       "      <td>54.796311</td>\n",
       "      <td>66.560419</td>\n",
       "      <td>1</td>\n",
       "    </tr>\n",
       "    <tr>\n",
       "      <th>1269</th>\n",
       "      <td>49.041559</td>\n",
       "      <td>36.799371</td>\n",
       "      <td>0</td>\n",
       "    </tr>\n",
       "  </tbody>\n",
       "</table>\n",
       "</div>"
      ],
      "text/plain": [
       "           SUB-1      SUB-2  Result\n",
       "63056  39.668565  55.653689       1\n",
       "45530  59.496058  37.934022       1\n",
       "65445  71.127489  66.613532       1\n",
       "31883  54.796311  66.560419       1\n",
       "1269   49.041559  36.799371       0"
      ]
     },
     "execution_count": 9,
     "metadata": {},
     "output_type": "execute_result"
    }
   ],
   "source": [
    "df.sample(5)"
   ]
  },
  {
   "cell_type": "code",
   "execution_count": 196,
   "id": "f4d984c3-8f27-4aff-a67a-afad5dfd7e0a",
   "metadata": {},
   "outputs": [
    {
     "data": {
      "text/plain": [
       "Result\n",
       "1    60017\n",
       "0    39983\n",
       "Name: count, dtype: int64"
      ]
     },
     "execution_count": 196,
     "metadata": {},
     "output_type": "execute_result"
    }
   ],
   "source": [
    "df['Result'].value_counts()"
   ]
  },
  {
   "cell_type": "code",
   "execution_count": null,
   "id": "8f747ff7-6901-4373-944e-45ad845f18a0",
   "metadata": {},
   "outputs": [],
   "source": []
  },
  {
   "cell_type": "code",
   "execution_count": 197,
   "id": "db6c9e62-655a-46e5-8622-8d576e949aec",
   "metadata": {},
   "outputs": [],
   "source": [
    "X = df.iloc[:, :2].values\n",
    "Y = df.iloc[:, -1].values"
   ]
  },
  {
   "cell_type": "code",
   "execution_count": 198,
   "id": "5bb8790c-3800-4b1a-851b-1dd660c32657",
   "metadata": {},
   "outputs": [
    {
     "data": {
      "text/plain": [
       "((100000, 2), (100000,))"
      ]
     },
     "execution_count": 198,
     "metadata": {},
     "output_type": "execute_result"
    }
   ],
   "source": [
    "X.shape, Y.shape"
   ]
  },
  {
   "cell_type": "code",
   "execution_count": 199,
   "id": "098c64d8-3da4-49e9-b883-671017f56dc4",
   "metadata": {},
   "outputs": [
    {
     "data": {
      "text/plain": [
       "((80000, 2), (20000, 2))"
      ]
     },
     "execution_count": 199,
     "metadata": {},
     "output_type": "execute_result"
    }
   ],
   "source": [
    "xTrain, xTest = X[:80000, :], X[80000:, :]\n",
    "xTrain.shape, xTest.shape"
   ]
  },
  {
   "cell_type": "code",
   "execution_count": 200,
   "id": "c5c9272b-6fe4-4ca5-bb47-5557ae8c5bce",
   "metadata": {},
   "outputs": [
    {
     "data": {
      "text/plain": [
       "((80000,), (20000,))"
      ]
     },
     "execution_count": 200,
     "metadata": {},
     "output_type": "execute_result"
    }
   ],
   "source": [
    "yTrain, yTest = Y[:80000], Y[80000:]\n",
    "yTrain.shape, yTest.shape"
   ]
  },
  {
   "cell_type": "code",
   "execution_count": 201,
   "id": "4796ce88-af2c-470a-a74e-ce66c2e525ed",
   "metadata": {},
   "outputs": [],
   "source": [
    "# initialize parameters\n",
    "def initialize(ldims):\n",
    "    inputLayer = ldims[0]\n",
    "    hiddenLayer = ldims[1]\n",
    "    outputLayer = ldims[2]\n",
    "\n",
    "    params = {}\n",
    "    params['W0'] = np.random.randn(hiddenLayer, inputLayer)\n",
    "    params['B0'] = np.zeros(hiddenLayer)\n",
    "    params['W1'] = np.random.randn(outputLayer, hiddenLayer)\n",
    "    params['B1'] = np.zeros(outputLayer)\n",
    "\n",
    "    return params"
   ]
  },
  {
   "cell_type": "code",
   "execution_count": 202,
   "id": "9401b7fa-9cec-4dad-9f56-25a672e293bb",
   "metadata": {},
   "outputs": [],
   "source": [
    "def sigmoid(x, dvt=False):\n",
    "    if dvt:\n",
    "        return np.exp(-x) / ((np.exp(-x) + 1) ** 2)\n",
    "    return 1 / (1 + np.exp(-x))"
   ]
  },
  {
   "cell_type": "code",
   "execution_count": 203,
   "id": "1c14eaad-f9f3-429b-ab85-92c58dae4d62",
   "metadata": {},
   "outputs": [],
   "source": [
    "def forward(x, p):\n",
    "    nnState = {}\n",
    "    nnState['Z1'] = np.dot(p['W0'], x.T)\n",
    "    nnState['A1'] = sigmoid(nnState['Z1'])\n",
    "    nnState['Z2'] = np.dot(p['W1'], nnState['A1'])\n",
    "    nnState['A2'] = sigmoid(nnState['Z2'])\n",
    "    return nnState"
   ]
  },
  {
   "cell_type": "code",
   "execution_count": 204,
   "id": "637542e2-7e7b-45e5-96cb-265a4281e64a",
   "metadata": {},
   "outputs": [],
   "source": [
    "def cost(a, y):\n",
    "    c = np.dot(y, np.log(a).T) + np.dot((1 - y), np.log(1 - a).T)\n",
    "    return -c/y.shape[0]"
   ]
  },
  {
   "cell_type": "code",
   "execution_count": 205,
   "id": "ebe16554-3017-4092-940c-1910ac687a63",
   "metadata": {},
   "outputs": [],
   "source": [
    "def backPropagation(state, params, x, y):\n",
    "    m = y.shape[0]\n",
    "    dZ2 = state['A2'] - y\n",
    "    dW2 = 1./m * np.dot(dZ2, state['A1'].T)\n",
    "    dB2 = 1./m * np.sum(dZ2)\n",
    "\n",
    "    dZ1 = np.dot(params['W1'].T, dZ2)\n",
    "    dW1 = 1./m * np.dot(dZ1, x)\n",
    "    dB1 = 1./m * np.sum(dZ1)\n",
    "\n",
    "    return dW1, dB1, dW2, dB2"
   ]
  },
  {
   "cell_type": "code",
   "execution_count": null,
   "id": "9789f679-c06b-4599-87f7-6d65fcbdaa44",
   "metadata": {},
   "outputs": [],
   "source": []
  },
  {
   "cell_type": "code",
   "execution_count": 206,
   "id": "f10f7916-3f8e-48ae-8726-d44cd64171c4",
   "metadata": {},
   "outputs": [],
   "source": [
    "l = [xTrain.shape[1], 3, 1]\n",
    "params = initialize(l)"
   ]
  },
  {
   "cell_type": "code",
   "execution_count": 211,
   "id": "1ca2798f-e6c0-4cfd-9c63-17c8cbf58168",
   "metadata": {},
   "outputs": [
    {
     "name": "stderr",
     "output_type": "stream",
     "text": [
      "C:\\Users\\shubh\\AppData\\Local\\Temp\\ipykernel_15284\\3922933514.py:4: RuntimeWarning: overflow encountered in exp\n",
      "  return 1 / (1 + np.exp(-x))\n"
     ]
    }
   ],
   "source": [
    "iters = 1500\n",
    "lr = 0.5\n",
    "for _ in range(iters):\n",
    "    nn = forward(xTrain, params)\n",
    "    dW0, dB0, dW1, dB1 = backPropagation(nn, p, xTrain, yTrain)\n",
    "\n",
    "    params['W0'] -= lr * dW0\n",
    "    params['B0'] -= lr * dB0\n",
    "    params['W1'] -= lr * dW1\n",
    "    params['B1'] -= lr * dB1"
   ]
  },
  {
   "cell_type": "code",
   "execution_count": null,
   "id": "9883c57e-aec1-4c36-94d7-a5e1e3af7ec2",
   "metadata": {},
   "outputs": [],
   "source": []
  },
  {
   "cell_type": "code",
   "execution_count": 212,
   "id": "2e3956ad-add6-4630-92db-36678d34b48c",
   "metadata": {},
   "outputs": [],
   "source": [
    "def predict(x, params):\n",
    "    m = x.shape[0]\n",
    "    res = forward(x, params)\n",
    "    yPred = np.array(res['A2']>0.5, dtype='int8')\n",
    "    return np.squeeze(yPred)"
   ]
  },
  {
   "cell_type": "code",
   "execution_count": 213,
   "id": "5c5b9a98-ebb6-4281-b211-d223defac868",
   "metadata": {},
   "outputs": [
    {
     "name": "stderr",
     "output_type": "stream",
     "text": [
      "C:\\Users\\shubh\\AppData\\Local\\Temp\\ipykernel_15284\\3922933514.py:4: RuntimeWarning: overflow encountered in exp\n",
      "  return 1 / (1 + np.exp(-x))\n"
     ]
    },
    {
     "data": {
      "text/plain": [
       "0.5999250000000002"
      ]
     },
     "execution_count": 213,
     "metadata": {},
     "output_type": "execute_result"
    }
   ],
   "source": [
    "# training accuracy\n",
    "predTrain = predict(xTrain, params)\n",
    "np.sum((predTrain == yTrain)/yTrain.shape[0])"
   ]
  },
  {
   "cell_type": "code",
   "execution_count": 214,
   "id": "d52d0368-062d-455b-8d26-1999d0203533",
   "metadata": {},
   "outputs": [
    {
     "name": "stderr",
     "output_type": "stream",
     "text": [
      "C:\\Users\\shubh\\AppData\\Local\\Temp\\ipykernel_15284\\3922933514.py:4: RuntimeWarning: overflow encountered in exp\n",
      "  return 1 / (1 + np.exp(-x))\n"
     ]
    },
    {
     "data": {
      "text/plain": [
       "0.6011500000000001"
      ]
     },
     "execution_count": 214,
     "metadata": {},
     "output_type": "execute_result"
    }
   ],
   "source": [
    "# testing accuracy\n",
    "predTest = predict(xTest, params)\n",
    "np.sum((predTest == yTest)/yTest.shape[0])"
   ]
  },
  {
   "cell_type": "code",
   "execution_count": null,
   "id": "c2d6c6aa-41b5-4d9f-99c4-ad842f62463d",
   "metadata": {},
   "outputs": [],
   "source": []
  }
 ],
 "metadata": {
  "kernelspec": {
   "display_name": "Python 3 (ipykernel)",
   "language": "python",
   "name": "python3"
  },
  "language_info": {
   "codemirror_mode": {
    "name": "ipython",
    "version": 3
   },
   "file_extension": ".py",
   "mimetype": "text/x-python",
   "name": "python",
   "nbconvert_exporter": "python",
   "pygments_lexer": "ipython3",
   "version": "3.12.2"
  }
 },
 "nbformat": 4,
 "nbformat_minor": 5
}
