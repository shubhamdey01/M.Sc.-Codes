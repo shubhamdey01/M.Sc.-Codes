{
 "cells": [
  {
   "cell_type": "markdown",
   "id": "a56db34a",
   "metadata": {},
   "source": [
    "# MNIST NN from scratch"
   ]
  },
  {
   "cell_type": "code",
   "execution_count": 1,
   "id": "2adff1af",
   "metadata": {},
   "outputs": [
    {
     "name": "stderr",
     "output_type": "stream",
     "text": [
      "/home/sachchida/.local/lib/python3.10/site-packages/pandas/core/computation/expressions.py:21: UserWarning: Pandas requires version '2.8.4' or newer of 'numexpr' (version '2.8.1' currently installed).\n",
      "  from pandas.core.computation.check import NUMEXPR_INSTALLED\n",
      "/home/sachchida/.local/lib/python3.10/site-packages/pandas/core/arrays/masked.py:60: UserWarning: Pandas requires version '1.3.6' or newer of 'bottleneck' (version '1.3.2' currently installed).\n",
      "  from pandas.core import (\n"
     ]
    },
    {
     "ename": "FileNotFoundError",
     "evalue": "[Errno 2] No such file or directory: 'Dataset/train.csv'",
     "output_type": "error",
     "traceback": [
      "\u001b[0;31m---------------------------------------------------------------------------\u001b[0m",
      "\u001b[0;31mFileNotFoundError\u001b[0m                         Traceback (most recent call last)",
      "\u001b[0;32m/tmp/ipykernel_6894/1702097635.py\u001b[0m in \u001b[0;36m<module>\u001b[0;34m\u001b[0m\n\u001b[1;32m      5\u001b[0m \u001b[0;32mimport\u001b[0m \u001b[0mcsv\u001b[0m\u001b[0;34m\u001b[0m\u001b[0;34m\u001b[0m\u001b[0m\n\u001b[1;32m      6\u001b[0m \u001b[0;32mimport\u001b[0m \u001b[0mplotly\u001b[0m\u001b[0;34m.\u001b[0m\u001b[0mexpress\u001b[0m \u001b[0;32mas\u001b[0m \u001b[0mpx\u001b[0m\u001b[0;34m\u001b[0m\u001b[0;34m\u001b[0m\u001b[0m\n\u001b[0;32m----> 7\u001b[0;31m \u001b[0mdata\u001b[0m \u001b[0;34m=\u001b[0m \u001b[0mpd\u001b[0m\u001b[0;34m.\u001b[0m\u001b[0mread_csv\u001b[0m\u001b[0;34m(\u001b[0m\u001b[0;34m'Dataset/train.csv'\u001b[0m\u001b[0;34m)\u001b[0m\u001b[0;34m\u001b[0m\u001b[0;34m\u001b[0m\u001b[0m\n\u001b[0m",
      "\u001b[0;32m~/.local/lib/python3.10/site-packages/pandas/io/parsers/readers.py\u001b[0m in \u001b[0;36mread_csv\u001b[0;34m(filepath_or_buffer, sep, delimiter, header, names, index_col, usecols, dtype, engine, converters, true_values, false_values, skipinitialspace, skiprows, skipfooter, nrows, na_values, keep_default_na, na_filter, verbose, skip_blank_lines, parse_dates, infer_datetime_format, keep_date_col, date_parser, date_format, dayfirst, cache_dates, iterator, chunksize, compression, thousands, decimal, lineterminator, quotechar, quoting, doublequote, escapechar, comment, encoding, encoding_errors, dialect, on_bad_lines, delim_whitespace, low_memory, memory_map, float_precision, storage_options, dtype_backend)\u001b[0m\n\u001b[1;32m   1024\u001b[0m     \u001b[0mkwds\u001b[0m\u001b[0;34m.\u001b[0m\u001b[0mupdate\u001b[0m\u001b[0;34m(\u001b[0m\u001b[0mkwds_defaults\u001b[0m\u001b[0;34m)\u001b[0m\u001b[0;34m\u001b[0m\u001b[0;34m\u001b[0m\u001b[0m\n\u001b[1;32m   1025\u001b[0m \u001b[0;34m\u001b[0m\u001b[0m\n\u001b[0;32m-> 1026\u001b[0;31m     \u001b[0;32mreturn\u001b[0m \u001b[0m_read\u001b[0m\u001b[0;34m(\u001b[0m\u001b[0mfilepath_or_buffer\u001b[0m\u001b[0;34m,\u001b[0m \u001b[0mkwds\u001b[0m\u001b[0;34m)\u001b[0m\u001b[0;34m\u001b[0m\u001b[0;34m\u001b[0m\u001b[0m\n\u001b[0m\u001b[1;32m   1027\u001b[0m \u001b[0;34m\u001b[0m\u001b[0m\n\u001b[1;32m   1028\u001b[0m \u001b[0;34m\u001b[0m\u001b[0m\n",
      "\u001b[0;32m~/.local/lib/python3.10/site-packages/pandas/io/parsers/readers.py\u001b[0m in \u001b[0;36m_read\u001b[0;34m(filepath_or_buffer, kwds)\u001b[0m\n\u001b[1;32m    618\u001b[0m \u001b[0;34m\u001b[0m\u001b[0m\n\u001b[1;32m    619\u001b[0m     \u001b[0;31m# Create the parser.\u001b[0m\u001b[0;34m\u001b[0m\u001b[0;34m\u001b[0m\u001b[0m\n\u001b[0;32m--> 620\u001b[0;31m     \u001b[0mparser\u001b[0m \u001b[0;34m=\u001b[0m \u001b[0mTextFileReader\u001b[0m\u001b[0;34m(\u001b[0m\u001b[0mfilepath_or_buffer\u001b[0m\u001b[0;34m,\u001b[0m \u001b[0;34m**\u001b[0m\u001b[0mkwds\u001b[0m\u001b[0;34m)\u001b[0m\u001b[0;34m\u001b[0m\u001b[0;34m\u001b[0m\u001b[0m\n\u001b[0m\u001b[1;32m    621\u001b[0m \u001b[0;34m\u001b[0m\u001b[0m\n\u001b[1;32m    622\u001b[0m     \u001b[0;32mif\u001b[0m \u001b[0mchunksize\u001b[0m \u001b[0;32mor\u001b[0m \u001b[0miterator\u001b[0m\u001b[0;34m:\u001b[0m\u001b[0;34m\u001b[0m\u001b[0;34m\u001b[0m\u001b[0m\n",
      "\u001b[0;32m~/.local/lib/python3.10/site-packages/pandas/io/parsers/readers.py\u001b[0m in \u001b[0;36m__init__\u001b[0;34m(self, f, engine, **kwds)\u001b[0m\n\u001b[1;32m   1618\u001b[0m \u001b[0;34m\u001b[0m\u001b[0m\n\u001b[1;32m   1619\u001b[0m         \u001b[0mself\u001b[0m\u001b[0;34m.\u001b[0m\u001b[0mhandles\u001b[0m\u001b[0;34m:\u001b[0m \u001b[0mIOHandles\u001b[0m \u001b[0;34m|\u001b[0m \u001b[0;32mNone\u001b[0m \u001b[0;34m=\u001b[0m \u001b[0;32mNone\u001b[0m\u001b[0;34m\u001b[0m\u001b[0;34m\u001b[0m\u001b[0m\n\u001b[0;32m-> 1620\u001b[0;31m         \u001b[0mself\u001b[0m\u001b[0;34m.\u001b[0m\u001b[0m_engine\u001b[0m \u001b[0;34m=\u001b[0m \u001b[0mself\u001b[0m\u001b[0;34m.\u001b[0m\u001b[0m_make_engine\u001b[0m\u001b[0;34m(\u001b[0m\u001b[0mf\u001b[0m\u001b[0;34m,\u001b[0m \u001b[0mself\u001b[0m\u001b[0;34m.\u001b[0m\u001b[0mengine\u001b[0m\u001b[0;34m)\u001b[0m\u001b[0;34m\u001b[0m\u001b[0;34m\u001b[0m\u001b[0m\n\u001b[0m\u001b[1;32m   1621\u001b[0m \u001b[0;34m\u001b[0m\u001b[0m\n\u001b[1;32m   1622\u001b[0m     \u001b[0;32mdef\u001b[0m \u001b[0mclose\u001b[0m\u001b[0;34m(\u001b[0m\u001b[0mself\u001b[0m\u001b[0;34m)\u001b[0m \u001b[0;34m->\u001b[0m \u001b[0;32mNone\u001b[0m\u001b[0;34m:\u001b[0m\u001b[0;34m\u001b[0m\u001b[0;34m\u001b[0m\u001b[0m\n",
      "\u001b[0;32m~/.local/lib/python3.10/site-packages/pandas/io/parsers/readers.py\u001b[0m in \u001b[0;36m_make_engine\u001b[0;34m(self, f, engine)\u001b[0m\n\u001b[1;32m   1878\u001b[0m                 \u001b[0;32mif\u001b[0m \u001b[0;34m\"b\"\u001b[0m \u001b[0;32mnot\u001b[0m \u001b[0;32min\u001b[0m \u001b[0mmode\u001b[0m\u001b[0;34m:\u001b[0m\u001b[0;34m\u001b[0m\u001b[0;34m\u001b[0m\u001b[0m\n\u001b[1;32m   1879\u001b[0m                     \u001b[0mmode\u001b[0m \u001b[0;34m+=\u001b[0m \u001b[0;34m\"b\"\u001b[0m\u001b[0;34m\u001b[0m\u001b[0;34m\u001b[0m\u001b[0m\n\u001b[0;32m-> 1880\u001b[0;31m             self.handles = get_handle(\n\u001b[0m\u001b[1;32m   1881\u001b[0m                 \u001b[0mf\u001b[0m\u001b[0;34m,\u001b[0m\u001b[0;34m\u001b[0m\u001b[0;34m\u001b[0m\u001b[0m\n\u001b[1;32m   1882\u001b[0m                 \u001b[0mmode\u001b[0m\u001b[0;34m,\u001b[0m\u001b[0;34m\u001b[0m\u001b[0;34m\u001b[0m\u001b[0m\n",
      "\u001b[0;32m~/.local/lib/python3.10/site-packages/pandas/io/common.py\u001b[0m in \u001b[0;36mget_handle\u001b[0;34m(path_or_buf, mode, encoding, compression, memory_map, is_text, errors, storage_options)\u001b[0m\n\u001b[1;32m    871\u001b[0m         \u001b[0;32mif\u001b[0m \u001b[0mioargs\u001b[0m\u001b[0;34m.\u001b[0m\u001b[0mencoding\u001b[0m \u001b[0;32mand\u001b[0m \u001b[0;34m\"b\"\u001b[0m \u001b[0;32mnot\u001b[0m \u001b[0;32min\u001b[0m \u001b[0mioargs\u001b[0m\u001b[0;34m.\u001b[0m\u001b[0mmode\u001b[0m\u001b[0;34m:\u001b[0m\u001b[0;34m\u001b[0m\u001b[0;34m\u001b[0m\u001b[0m\n\u001b[1;32m    872\u001b[0m             \u001b[0;31m# Encoding\u001b[0m\u001b[0;34m\u001b[0m\u001b[0;34m\u001b[0m\u001b[0m\n\u001b[0;32m--> 873\u001b[0;31m             handle = open(\n\u001b[0m\u001b[1;32m    874\u001b[0m                 \u001b[0mhandle\u001b[0m\u001b[0;34m,\u001b[0m\u001b[0;34m\u001b[0m\u001b[0;34m\u001b[0m\u001b[0m\n\u001b[1;32m    875\u001b[0m                 \u001b[0mioargs\u001b[0m\u001b[0;34m.\u001b[0m\u001b[0mmode\u001b[0m\u001b[0;34m,\u001b[0m\u001b[0;34m\u001b[0m\u001b[0;34m\u001b[0m\u001b[0m\n",
      "\u001b[0;31mFileNotFoundError\u001b[0m: [Errno 2] No such file or directory: 'Dataset/train.csv'"
     ]
    }
   ],
   "source": [
    "import numpy as np\n",
    "import pandas as pd\n",
    "from matplotlib import pyplot as plt\n",
    "import time\n",
    "import csv\n",
    "import plotly.express as px\n",
    "data = pd.read_csv('Dataset/train.csv')"
   ]
  },
  {
   "cell_type": "markdown",
   "id": "65fd294a",
   "metadata": {},
   "source": [
    "![MNIST sample](Dataset/320px-MnistExamples.png)"
   ]
  },
  {
   "cell_type": "code",
   "execution_count": 3,
   "id": "79392cec",
   "metadata": {},
   "outputs": [
    {
     "ename": "NameError",
     "evalue": "name 'data' is not defined",
     "output_type": "error",
     "traceback": [
      "\u001b[0;31m---------------------------------------------------------------------------\u001b[0m",
      "\u001b[0;31mNameError\u001b[0m                                 Traceback (most recent call last)",
      "Input \u001b[0;32mIn [3]\u001b[0m, in \u001b[0;36m<cell line: 1>\u001b[0;34m()\u001b[0m\n\u001b[0;32m----> 1\u001b[0m \u001b[43mdata\u001b[49m\u001b[38;5;241m.\u001b[39mhead(\u001b[38;5;241m10\u001b[39m)\n",
      "\u001b[0;31mNameError\u001b[0m: name 'data' is not defined"
     ]
    }
   ],
   "source": [
    "data.head(10)"
   ]
  },
  {
   "cell_type": "code",
   "execution_count": null,
   "id": "850f1534",
   "metadata": {},
   "outputs": [],
   "source": []
  },
  {
   "cell_type": "code",
   "execution_count": 30,
   "id": "4ca6e42a",
   "metadata": {},
   "outputs": [],
   "source": [
    "data = np.array(data)"
   ]
  },
  {
   "cell_type": "code",
   "execution_count": 31,
   "id": "125c22b2",
   "metadata": {},
   "outputs": [
    {
     "data": {
      "text/plain": [
       "(42000, 785)"
      ]
     },
     "execution_count": 31,
     "metadata": {},
     "output_type": "execute_result"
    }
   ],
   "source": [
    "data.shape"
   ]
  },
  {
   "cell_type": "code",
   "execution_count": 32,
   "id": "6ce609b0",
   "metadata": {},
   "outputs": [
    {
     "data": {
      "text/plain": [
       "785"
      ]
     },
     "execution_count": 32,
     "metadata": {},
     "output_type": "execute_result"
    }
   ],
   "source": [
    "m, n = data.shape\n",
    "np.random.shuffle(data) # shuffle before splitting into dev and training sets\n",
    "\n",
    "n"
   ]
  },
  {
   "cell_type": "code",
   "execution_count": 33,
   "id": "92898e62",
   "metadata": {},
   "outputs": [],
   "source": [
    "data_dev = data[0:1000].T \n",
    "Y_dev = data_dev[0]\n",
    "X_dev = data_dev[1:n]\n",
    "X_dev = X_dev / 255.\n",
    "\n",
    "data_train = data[1000:m].T\n",
    "Y_train = data_train[0]\n",
    "X_train = data_train[1:n]\n",
    "X_train = X_train / 255.\n",
    "_,m_train = X_train.shape"
   ]
  },
  {
   "cell_type": "code",
   "execution_count": 34,
   "id": "99f9eaa0",
   "metadata": {},
   "outputs": [
    {
     "data": {
      "text/plain": [
       "array([[5, 0, 0, ..., 0, 0, 0],\n",
       "       [0, 0, 0, ..., 0, 0, 0],\n",
       "       [2, 0, 0, ..., 0, 0, 0],\n",
       "       ...,\n",
       "       [0, 0, 0, ..., 0, 0, 0],\n",
       "       [1, 0, 0, ..., 0, 0, 0],\n",
       "       [8, 0, 0, ..., 0, 0, 0]])"
      ]
     },
     "execution_count": 34,
     "metadata": {},
     "output_type": "execute_result"
    }
   ],
   "source": [
    "data"
   ]
  },
  {
   "cell_type": "code",
   "execution_count": 35,
   "id": "f7df9c88",
   "metadata": {},
   "outputs": [
    {
     "data": {
      "text/plain": [
       "(42000, 785)"
      ]
     },
     "execution_count": 35,
     "metadata": {},
     "output_type": "execute_result"
    }
   ],
   "source": [
    "m,n"
   ]
  },
  {
   "cell_type": "code",
   "execution_count": 36,
   "id": "ae8cec71",
   "metadata": {},
   "outputs": [
    {
     "data": {
      "text/plain": [
       "(784, 41000)"
      ]
     },
     "execution_count": 36,
     "metadata": {},
     "output_type": "execute_result"
    }
   ],
   "source": [
    "X_train.shape"
   ]
  },
  {
   "cell_type": "code",
   "execution_count": 37,
   "id": "c6659912",
   "metadata": {},
   "outputs": [
    {
     "data": {
      "image/png": "[encoded data removed]",
      "text/plain": [
       "<Figure size 432x288 with 1 Axes>"
      ]
     },
     "metadata": {
      "needs_background": "light"
     },
     "output_type": "display_data"
    }
   ],
   "source": [
    "with open('Dataset/train.csv', 'r') as csv_file:\n",
    "    header = next(csv_file)\n",
    "    for data1 in csv.reader(csv_file):\n",
    "        # The first column is the label\n",
    "        label = data1[0]\n",
    "\n",
    "        # The rest of columns are pixels\n",
    "        pixels = data1[1:]\n",
    "\n",
    "        # Make those columns into a array of 8-bits pixels\n",
    "        # This array will be of 1D with length 784\n",
    "        # The pixel intensity values are integers from 0 to 255\n",
    "        pixels = np.array(pixels, dtype='uint8')\n",
    "\n",
    "        # Reshape the array into 28 x 28 array (2-dimensional array)\n",
    "        pixels = pixels.reshape((28, 28))\n",
    "\n",
    "        # Plot\n",
    "        plt.title('Label is {label}'.format(label=label))\n",
    "        plt.imshow(pixels, cmap='gray')\n",
    "        plt.show()\n",
    "\n",
    "        break # This stops the loop, I just want to see one\n"
   ]
  },
  {
   "cell_type": "code",
   "execution_count": 38,
   "id": "791133a6",
   "metadata": {},
   "outputs": [
    {
     "data": {
      "text/plain": [
       "(41000,)"
      ]
     },
     "execution_count": 38,
     "metadata": {},
     "output_type": "execute_result"
    }
   ],
   "source": [
    "Y_train.shape"
   ]
  },
  {
   "cell_type": "code",
   "execution_count": 39,
   "id": "3d7d9980",
   "metadata": {},
   "outputs": [
    {
     "data": {
      "text/plain": [
       "array([3, 1, 6, ..., 0, 1, 8])"
      ]
     },
     "execution_count": 39,
     "metadata": {},
     "output_type": "execute_result"
    }
   ],
   "source": [
    "Y_train"
   ]
  },
  {
   "cell_type": "markdown",
   "id": "74a4654a",
   "metadata": {},
   "source": [
    "NN will have a simple two-layer architecture. Input layer $a^{[0]}$ will have 784 units corresponding to the 784 pixels in each 28x28 input image. A hidden layer $a^{[1]}$ will have 10 units with ReLU activation, and finally output layer $a^{[2]}$ will have 10 units corresponding to the ten digit classes with softmax activation.\n",
    "\n",
    "**Vars and shapes**\n",
    "\n",
    "Forward prop\n",
    "\n",
    "- $A^{[0]} = X$: 784 x m\n",
    "- $Z^{[1]} \\sim A^{[1]}$: 10 x m\n",
    "- $W^{[1]}$: 10 x 784 (as $W^{[1]} A^{[0]} \\sim Z^{[1]}$)\n",
    "- $B^{[1]}$: 10 x 1\n",
    "- $Z^{[2]} \\sim A^{[2]}$: 10 x m\n",
    "- $W^{[2]}$: 10 x 10 (as $W^{[2]} A^{[1]} \\sim Z^{[2]}$)\n",
    "- $B^{[2]}$: 10 x 1\n",
    "\n",
    "Backprop\n",
    "\n",
    "- $dZ^{[2]}$: 10 x m ($~A^{[2]}$)\n",
    "- $dW^{[2]}$: 10 x 10\n",
    "- $dB^{[2]}$: 10 x 1\n",
    "- $dZ^{[1]}$: 10 x m ($~A^{[1]}$)\n",
    "- $dW^{[1]}$: 10 x 10\n",
    "- $dB^{[1]}$: 10 x 1\n",
    "\n",
    "\n",
    "\n",
    "**Forward propagation**\n",
    "\n",
    "$$Z^{[1]} = W^{[1]} X + b^{[1]}$$\n",
    "$$A^{[1]} = g_{\\text{ReLU}}(Z^{[1]}))$$\n",
    "$$Z^{[2]} = W^{[2]} A^{[1]} + b^{[2]}$$\n",
    "$$A^{[2]} = g_{\\text{softmax}}(Z^{[2]})$$\n",
    "\n",
    "**Backward propagation**\n",
    "\n",
    "$$dZ^{[2]} = A^{[2]} - Y$$\n",
    "$$dW^{[2]} = \\frac{1}{m} dZ^{[2]} A^{[1]T}$$\n",
    "$$dB^{[2]} = \\frac{1}{m} \\Sigma {dZ^{[2]}}$$\n",
    "$$dZ^{[1]} = W^{[2]T} dZ^{[2]} .* g^{[1]\\prime} (z^{[1]})$$\n",
    "$$dW^{[1]} = \\frac{1}{m} dZ^{[1]} A^{[0]T}$$\n",
    "$$dB^{[1]} = \\frac{1}{m} \\Sigma {dZ^{[1]}}$$\n",
    "\n",
    "**Parameter updates**\n",
    "\n",
    "$$W^{[2]} := W^{[2]} - \\alpha dW^{[2]}$$\n",
    "$$b^{[2]} := b^{[2]} - \\alpha db^{[2]}$$\n",
    "$$W^{[1]} := W^{[1]} - \\alpha dW^{[1]}$$\n",
    "$$b^{[1]} := b^{[1]} - \\alpha db^{[1]}$$"
   ]
  },
  {
   "cell_type": "code",
   "execution_count": 40,
   "id": "2b7af0b5",
   "metadata": {},
   "outputs": [],
   "source": [
    "def init_params():\n",
    "    W1 = np.random.rand(100, 784) - 0.5\n",
    "    b1 = np.random.rand(100, 1) - 0.5\n",
    "    W2 = np.random.rand(10, 100) - 0.5\n",
    "    b2 = np.random.rand(10, 1) - 0.5\n",
    "    return W1, b1, W2, b2\n",
    "W1, b1, W2, b2 = init_params()"
   ]
  },
  {
   "cell_type": "code",
   "execution_count": 41,
   "id": "7873e0f8",
   "metadata": {},
   "outputs": [
    {
     "data": {
      "text/plain": [
       "array([[-3.36146792e-01,  2.48861522e-01,  4.07322407e-01, ...,\n",
       "        -1.34704728e-02,  1.38289976e-01, -1.97245792e-01],\n",
       "       [-1.55361146e-01, -2.46873296e-01, -4.44358965e-02, ...,\n",
       "         1.55652547e-01, -2.41873824e-02,  1.83411302e-01],\n",
       "       [ 3.65751771e-01, -3.40004708e-01,  3.31586874e-01, ...,\n",
       "         4.47880157e-01,  3.09982556e-01,  4.82871638e-01],\n",
       "       ...,\n",
       "       [ 1.80145150e-01,  2.00231388e-01,  6.82281152e-02, ...,\n",
       "        -6.22877279e-02, -1.03059382e-01, -3.01776471e-01],\n",
       "       [ 4.57418559e-01, -7.96425298e-02,  4.45643970e-01, ...,\n",
       "        -3.79219790e-01,  1.39733343e-01,  4.17288548e-01],\n",
       "       [ 2.60930542e-04, -1.20391756e-01,  4.07702033e-01, ...,\n",
       "         4.37146407e-01,  2.26706204e-01,  1.41231426e-01]])"
      ]
     },
     "execution_count": 41,
     "metadata": {},
     "output_type": "execute_result"
    }
   ],
   "source": [
    "W1"
   ]
  },
  {
   "cell_type": "code",
   "execution_count": null,
   "id": "cedb25a4",
   "metadata": {},
   "outputs": [],
   "source": []
  },
  {
   "cell_type": "code",
   "execution_count": 42,
   "id": "9783c288",
   "metadata": {},
   "outputs": [],
   "source": [
    "#uniform distribution\n",
    "def init_params1():\n",
    "    W1 = np.random.uniform(low=-.05, high=.05, size=(10, 784)) \n",
    "    b1 = np.random.uniform(low=-.05, high=.05, size=(10, 1)) \n",
    "    W2 = np.random.uniform(low=-.05, high=.05, size=(10, 10)) \n",
    "    b2 = np.random.uniform(low=-.05, high=.05, size=(10, 1)) \n",
    "    return W1, b1, W2, b2\n",
    "#W1, b1, W2, b2 = init_params1()"
   ]
  },
  {
   "cell_type": "code",
   "execution_count": 43,
   "id": "70bae8e2",
   "metadata": {},
   "outputs": [],
   "source": [
    "#normal distribution\n",
    "def init_params2():\n",
    "    W1 = np.random.normal(0.0, 0.05, size=(10,784))\n",
    "    b1 = np.random.normal(0.0, 0.05, size=(10, 1))\n",
    "    W2 = np.random.normal(0.0, 0.05, size=(10, 10))\n",
    "    b2 = np.random.normal(0.0, 0.05, size=(10, 1))\n",
    "    return W1, b1, W2, b2\n",
    "#W1, b1, W2, b2 = init_params2()"
   ]
  },
  {
   "cell_type": "code",
   "execution_count": 44,
   "id": "a0bbcb0e",
   "metadata": {},
   "outputs": [
    {
     "data": {
      "text/plain": [
       "(100, 784)"
      ]
     },
     "execution_count": 44,
     "metadata": {},
     "output_type": "execute_result"
    }
   ],
   "source": [
    "W1.shape"
   ]
  },
  {
   "cell_type": "code",
   "execution_count": 45,
   "id": "4fffe9a6",
   "metadata": {},
   "outputs": [
    {
     "data": {
      "text/plain": [
       "(100, 1)"
      ]
     },
     "execution_count": 45,
     "metadata": {},
     "output_type": "execute_result"
    }
   ],
   "source": [
    "b1.shape"
   ]
  },
  {
   "cell_type": "code",
   "execution_count": 46,
   "id": "b78ba802",
   "metadata": {},
   "outputs": [],
   "source": [
    "def sigmoid(Z):\n",
    "    ''' It returns 1/(1+exp(-x)). where the values lies between zero and one '''\n",
    "    return 1/(1+np.exp(-Z))\n",
    "\n",
    "def sigmoid_derivative(Z):\n",
    "    return sigmoid(Z)*(1-sigmoid(Z))\n",
    "\n",
    "\n",
    "def ReLU(Z):\n",
    "    return np.maximum(Z, 0)\n",
    "\n",
    "def softmax(Z):\n",
    "    A = np.exp(Z) / sum(np.exp(Z))\n",
    "    return A\n",
    "    \n",
    "def forward_prop(W1, b1, W2, b2, X):\n",
    "    Z1 = W1.dot(X) + b1\n",
    "    A1 = ReLU(Z1)\n",
    "    #A1 = sigmoid(Z1)\n",
    "    Z2 = W2.dot(A1) + b2\n",
    "    A2 = softmax(Z2)\n",
    "    A2\n",
    "    return Z1, A1, Z2, A2\n",
    "\n",
    "def ReLU_deriv(Z):\n",
    "    return Z > 0\n",
    "\n",
    "def one_hot(Y):\n",
    "    one_hot_Y = np.zeros((Y.size, Y.max() + 1))\n",
    "    one_hot_Y[np.arange(Y.size), Y] = 1\n",
    "    one_hot_Y = one_hot_Y.T\n",
    "    return one_hot_Y\n",
    "\n",
    "def backward_prop(Z1, A1, Z2, A2, W1, W2, X, Y):\n",
    "    one_hot_Y = one_hot(Y)\n",
    "    dZ2 = A2 - one_hot_Y\n",
    "    dW2 = 1 / m * dZ2.dot(A1.T)\n",
    "    db2 = 1 / m * np.sum(dZ2)\n",
    "    dZ1 = W2.T.dot(dZ2) * ReLU_deriv(Z1)\n",
    "    #dZ1 = W2.T.dot(dZ2) * sigmoid_derivative(Z1)\n",
    "    dW1 = 1 / m * dZ1.dot(X.T)\n",
    "    db1 = 1 / m * np.sum(dZ1)\n",
    "    return dW1, db1, dW2, db2\n",
    "\n",
    "def update_params(W1, b1, W2, b2, dW1, db1, dW2, db2, alpha):\n",
    "    W1 = W1 - alpha * dW1\n",
    "    b1 = b1 - alpha * db1    \n",
    "    W2 = W2 - alpha * dW2  \n",
    "    b2 = b2 - alpha * db2    \n",
    "    return W1, b1, W2, b2\n"
   ]
  },
  {
   "cell_type": "markdown",
   "id": "69589d23",
   "metadata": {},
   "source": [
    "![Gradient of the softMax Activation Function](Dataset/SMAX.png)"
   ]
  },
  {
   "cell_type": "markdown",
   "id": "aedb30ae",
   "metadata": {},
   "source": [
    "**One Hot Encodin**\n",
    "\n",
    "Sometimes in datasets, we encounter columns that contain categorical features (string values) for example parameter Gender will have categorical parameters like Male, Female. These labels have no specific order of preference and also since the data is string labels, the machine learning model can not work on such data.  This method is mostly used when deep learning techniques are to be applied to​ sequential classification problems.\n",
    "\n",
    "![Examp](Dataset/One_hot_2.png)\n",
    "![Examp](Dataset/One_hot.png)\n",
    "\n",
    "\n",
    "![Examp](Dataset/One_hot_1.png)"
   ]
  },
  {
   "cell_type": "code",
   "execution_count": null,
   "id": "3c728c5a",
   "metadata": {},
   "outputs": [],
   "source": []
  },
  {
   "cell_type": "code",
   "execution_count": 47,
   "id": "36f23166",
   "metadata": {},
   "outputs": [],
   "source": [
    "def get_predictions(A2):\n",
    "    return np.argmax(A2, 0)\n",
    "\n",
    "def get_accuracy(predictions, Y):\n",
    "    #print(predictions, Y)\n",
    "    return np.sum(predictions == Y) / Y.size\n",
    "\n",
    "def gradient_descent(X, Y, alpha, iterations):\n",
    "    # starting time\n",
    "    start = time.time()\n",
    "    Accu=[]\n",
    "    W1, b1, W2, b2 = init_params()\n",
    "    for i in range(iterations):\n",
    "        Z1, A1, Z2, A2 = forward_prop(W1, b1, W2, b2, X)\n",
    "        dW1, db1, dW2, db2 = backward_prop(Z1, A1, Z2, A2, W1, W2, X, Y)\n",
    "        W1, b1, W2, b2 = update_params(W1, b1, W2, b2, dW1, db1, dW2, db2, alpha)\n",
    "        if i % 1 == 0:\n",
    "            #print(\"Iteration: \", i)\n",
    "            predictions = get_predictions(A2)\n",
    "            temp=get_accuracy(predictions, Y)\n",
    "            temp1=float(temp)\n",
    "            Accu.append(temp1)\n",
    "            #print(temp)\n",
    "        # end time\n",
    "        end = time.time()\n",
    "    return W1, b1, W2, b2, Accu, alpha, (end-start), predictions"
   ]
  },
  {
   "cell_type": "code",
   "execution_count": 48,
   "id": "84f2e17d",
   "metadata": {},
   "outputs": [],
   "source": [
    "W1, b1, W2, b2, Accu, Alph, Time, predictions = gradient_descent(X_train, Y_train, 0.10, 50)\n",
    "#W1, b1, W2, b2, Accu1, Alph1, Time1 = gradient_descent(X_train, Y_train, 0.15, 50)\n",
    "#W1, b1, W2, b2, Accu2, Alph2, Time2 = gradient_descent(X_train, Y_train, 0.20, 50)\n",
    "#W1, b1, W2, b2, Accu3, Alph3, Time3 = gradient_descent(X_train, Y_train, 0.25, 50)\n",
    "#W1, b1, W2, b2, Accu4, Alph4, Time4 = gradient_descent(X_train, Y_train, 0.30, 50)\n",
    "#W1, b1, W2, b2, Accu5, Alph5, Time5 = gradient_descent(X_train, Y_train, 0.35, 50)\n",
    "#W1, b1, W2, b2, Accu6, Alph6, Time6 = gradient_descent(X_train, Y_train, 0.40, 50)\n",
    "#W1, b1, W2, b2, Accu7, Alph7, Time7 = gradient_descent(X_train, Y_train, 0.45, 50)\n",
    "#W1, b1, W2, b2, Accu8, Alph8, Time8 = gradient_descent(X_train, Y_train, 0.50, 50)\n",
    "#W1, b1, W2, b2, Accu9, Alph9, Time9 = gradient_descent(X_train, Y_train, 0.55, 50)\n",
    "#W1, b1, W2, b2, Accu10, Alph10, Time10 = gradient_descent(X_train, Y_train, 0.60, 50)\n",
    "#W1, b1, W2, b2, Accu11, Alph11, Time11 = gradient_descent(X_train, Y_train, 0.65, 50)"
   ]
  },
  {
   "cell_type": "code",
   "execution_count": 71,
   "id": "752548f1",
   "metadata": {},
   "outputs": [
    {
     "data": {
      "text/plain": [
       "25.87180995941162"
      ]
     },
     "execution_count": 71,
     "metadata": {},
     "output_type": "execute_result"
    }
   ],
   "source": [
    "Time #, Time1, Time2, Time3, Time4, Time5, Time6, Time7, Time8, Time9, Time10, Time11"
   ]
  },
  {
   "cell_type": "code",
   "execution_count": 72,
   "id": "1940b48f",
   "metadata": {},
   "outputs": [
    {
     "data": {
      "text/plain": [
       "array([3, 1, 1, ..., 0, 1, 2])"
      ]
     },
     "execution_count": 72,
     "metadata": {},
     "output_type": "execute_result"
    }
   ],
   "source": [
    "predictions"
   ]
  },
  {
   "cell_type": "code",
   "execution_count": 73,
   "id": "127010e8",
   "metadata": {},
   "outputs": [
    {
     "data": {
      "text/plain": [
       "array([3, 1, 6, ..., 0, 1, 8])"
      ]
     },
     "execution_count": 73,
     "metadata": {},
     "output_type": "execute_result"
    }
   ],
   "source": [
    "Y_train"
   ]
  },
  {
   "cell_type": "code",
   "execution_count": 74,
   "id": "4a37272a",
   "metadata": {},
   "outputs": [
    {
     "data": {
      "text/plain": [
       "<Figure size 720x432 with 0 Axes>"
      ]
     },
     "metadata": {},
     "output_type": "display_data"
    },
    {
     "data": {
      "image/png": "[encoded data removed]",
      "text/plain": [
       "<Figure size 432x288 with 2 Axes>"
      ]
     },
     "metadata": {
      "needs_background": "light"
     },
     "output_type": "display_data"
    }
   ],
   "source": [
    "import matplotlib.pyplot as plt\n",
    "import numpy\n",
    "from sklearn import metrics\n",
    "\n",
    "confusion_matrix = metrics.confusion_matrix(Y_train, predictions)\n",
    "\n",
    "cm_display = metrics.ConfusionMatrixDisplay(confusion_matrix = confusion_matrix)\n",
    "plt.figure(figsize=(10,6))\n",
    "cm_display.plot()\n",
    "\n",
    "\n",
    "plt.show()"
   ]
  },
  {
   "cell_type": "code",
   "execution_count": 75,
   "id": "d89ba032",
   "metadata": {},
   "outputs": [
    {
     "data": {
      "text/plain": [
       "0.7265365853658536"
      ]
     },
     "execution_count": 75,
     "metadata": {},
     "output_type": "execute_result"
    }
   ],
   "source": [
    "Accuracy = metrics.accuracy_score(Y_train, predictions)\n",
    "Accuracy"
   ]
  },
  {
   "cell_type": "code",
   "execution_count": 76,
   "id": "4e8317db",
   "metadata": {},
   "outputs": [
    {
     "ename": "ValueError",
     "evalue": "Target is multiclass but average='binary'. Please choose another average setting, one of [None, 'micro', 'macro', 'weighted'].",
     "output_type": "error",
     "traceback": [
      "\u001b[0;31m---------------------------------------------------------------------------\u001b[0m",
      "\u001b[0;31mValueError\u001b[0m                                Traceback (most recent call last)",
      "Input \u001b[0;32mIn [76]\u001b[0m, in \u001b[0;36m<cell line: 1>\u001b[0;34m()\u001b[0m\n\u001b[0;32m----> 1\u001b[0m Precision \u001b[38;5;241m=\u001b[39m \u001b[43mmetrics\u001b[49m\u001b[38;5;241;43m.\u001b[39;49m\u001b[43mprecision_score\u001b[49m\u001b[43m(\u001b[49m\u001b[43mY_train\u001b[49m\u001b[43m,\u001b[49m\u001b[43m \u001b[49m\u001b[43mpredictions\u001b[49m\u001b[43m)\u001b[49m\n\u001b[1;32m      2\u001b[0m Precision\n",
      "File \u001b[0;32m~/anaconda3/lib/python3.9/site-packages/sklearn/metrics/_classification.py:1757\u001b[0m, in \u001b[0;36mprecision_score\u001b[0;34m(y_true, y_pred, labels, pos_label, average, sample_weight, zero_division)\u001b[0m\n\u001b[1;32m   1628\u001b[0m \u001b[38;5;28;01mdef\u001b[39;00m \u001b[38;5;21mprecision_score\u001b[39m(\n\u001b[1;32m   1629\u001b[0m     y_true,\n\u001b[1;32m   1630\u001b[0m     y_pred,\n\u001b[0;32m   (...)\u001b[0m\n\u001b[1;32m   1636\u001b[0m     zero_division\u001b[38;5;241m=\u001b[39m\u001b[38;5;124m\"\u001b[39m\u001b[38;5;124mwarn\u001b[39m\u001b[38;5;124m\"\u001b[39m,\n\u001b[1;32m   1637\u001b[0m ):\n\u001b[1;32m   1638\u001b[0m \u001b[38;5;250m    \u001b[39m\u001b[38;5;124;03m\"\"\"Compute the precision.\u001b[39;00m\n\u001b[1;32m   1639\u001b[0m \n\u001b[1;32m   1640\u001b[0m \u001b[38;5;124;03m    The precision is the ratio ``tp / (tp + fp)`` where ``tp`` is the number of\u001b[39;00m\n\u001b[0;32m   (...)\u001b[0m\n\u001b[1;32m   1755\u001b[0m \u001b[38;5;124;03m    array([0.5, 1. , 1. ])\u001b[39;00m\n\u001b[1;32m   1756\u001b[0m \u001b[38;5;124;03m    \"\"\"\u001b[39;00m\n\u001b[0;32m-> 1757\u001b[0m     p, _, _, _ \u001b[38;5;241m=\u001b[39m \u001b[43mprecision_recall_fscore_support\u001b[49m\u001b[43m(\u001b[49m\n\u001b[1;32m   1758\u001b[0m \u001b[43m        \u001b[49m\u001b[43my_true\u001b[49m\u001b[43m,\u001b[49m\n\u001b[1;32m   1759\u001b[0m \u001b[43m        \u001b[49m\u001b[43my_pred\u001b[49m\u001b[43m,\u001b[49m\n\u001b[1;32m   1760\u001b[0m \u001b[43m        \u001b[49m\u001b[43mlabels\u001b[49m\u001b[38;5;241;43m=\u001b[39;49m\u001b[43mlabels\u001b[49m\u001b[43m,\u001b[49m\n\u001b[1;32m   1761\u001b[0m \u001b[43m        \u001b[49m\u001b[43mpos_label\u001b[49m\u001b[38;5;241;43m=\u001b[39;49m\u001b[43mpos_label\u001b[49m\u001b[43m,\u001b[49m\n\u001b[1;32m   1762\u001b[0m \u001b[43m        \u001b[49m\u001b[43maverage\u001b[49m\u001b[38;5;241;43m=\u001b[39;49m\u001b[43maverage\u001b[49m\u001b[43m,\u001b[49m\n\u001b[1;32m   1763\u001b[0m \u001b[43m        \u001b[49m\u001b[43mwarn_for\u001b[49m\u001b[38;5;241;43m=\u001b[39;49m\u001b[43m(\u001b[49m\u001b[38;5;124;43m\"\u001b[39;49m\u001b[38;5;124;43mprecision\u001b[39;49m\u001b[38;5;124;43m\"\u001b[39;49m\u001b[43m,\u001b[49m\u001b[43m)\u001b[49m\u001b[43m,\u001b[49m\n\u001b[1;32m   1764\u001b[0m \u001b[43m        \u001b[49m\u001b[43msample_weight\u001b[49m\u001b[38;5;241;43m=\u001b[39;49m\u001b[43msample_weight\u001b[49m\u001b[43m,\u001b[49m\n\u001b[1;32m   1765\u001b[0m \u001b[43m        \u001b[49m\u001b[43mzero_division\u001b[49m\u001b[38;5;241;43m=\u001b[39;49m\u001b[43mzero_division\u001b[49m\u001b[43m,\u001b[49m\n\u001b[1;32m   1766\u001b[0m \u001b[43m    \u001b[49m\u001b[43m)\u001b[49m\n\u001b[1;32m   1767\u001b[0m     \u001b[38;5;28;01mreturn\u001b[39;00m p\n",
      "File \u001b[0;32m~/anaconda3/lib/python3.9/site-packages/sklearn/metrics/_classification.py:1544\u001b[0m, in \u001b[0;36mprecision_recall_fscore_support\u001b[0;34m(y_true, y_pred, beta, labels, pos_label, average, warn_for, sample_weight, zero_division)\u001b[0m\n\u001b[1;32m   1542\u001b[0m \u001b[38;5;28;01mif\u001b[39;00m beta \u001b[38;5;241m<\u001b[39m \u001b[38;5;241m0\u001b[39m:\n\u001b[1;32m   1543\u001b[0m     \u001b[38;5;28;01mraise\u001b[39;00m \u001b[38;5;167;01mValueError\u001b[39;00m(\u001b[38;5;124m\"\u001b[39m\u001b[38;5;124mbeta should be >=0 in the F-beta score\u001b[39m\u001b[38;5;124m\"\u001b[39m)\n\u001b[0;32m-> 1544\u001b[0m labels \u001b[38;5;241m=\u001b[39m \u001b[43m_check_set_wise_labels\u001b[49m\u001b[43m(\u001b[49m\u001b[43my_true\u001b[49m\u001b[43m,\u001b[49m\u001b[43m \u001b[49m\u001b[43my_pred\u001b[49m\u001b[43m,\u001b[49m\u001b[43m \u001b[49m\u001b[43maverage\u001b[49m\u001b[43m,\u001b[49m\u001b[43m \u001b[49m\u001b[43mlabels\u001b[49m\u001b[43m,\u001b[49m\u001b[43m \u001b[49m\u001b[43mpos_label\u001b[49m\u001b[43m)\u001b[49m\n\u001b[1;32m   1546\u001b[0m \u001b[38;5;66;03m# Calculate tp_sum, pred_sum, true_sum ###\u001b[39;00m\n\u001b[1;32m   1547\u001b[0m samplewise \u001b[38;5;241m=\u001b[39m average \u001b[38;5;241m==\u001b[39m \u001b[38;5;124m\"\u001b[39m\u001b[38;5;124msamples\u001b[39m\u001b[38;5;124m\"\u001b[39m\n",
      "File \u001b[0;32m~/anaconda3/lib/python3.9/site-packages/sklearn/metrics/_classification.py:1365\u001b[0m, in \u001b[0;36m_check_set_wise_labels\u001b[0;34m(y_true, y_pred, average, labels, pos_label)\u001b[0m\n\u001b[1;32m   1363\u001b[0m         \u001b[38;5;28;01mif\u001b[39;00m y_type \u001b[38;5;241m==\u001b[39m \u001b[38;5;124m\"\u001b[39m\u001b[38;5;124mmulticlass\u001b[39m\u001b[38;5;124m\"\u001b[39m:\n\u001b[1;32m   1364\u001b[0m             average_options\u001b[38;5;241m.\u001b[39mremove(\u001b[38;5;124m\"\u001b[39m\u001b[38;5;124msamples\u001b[39m\u001b[38;5;124m\"\u001b[39m)\n\u001b[0;32m-> 1365\u001b[0m         \u001b[38;5;28;01mraise\u001b[39;00m \u001b[38;5;167;01mValueError\u001b[39;00m(\n\u001b[1;32m   1366\u001b[0m             \u001b[38;5;124m\"\u001b[39m\u001b[38;5;124mTarget is \u001b[39m\u001b[38;5;132;01m%s\u001b[39;00m\u001b[38;5;124m but average=\u001b[39m\u001b[38;5;124m'\u001b[39m\u001b[38;5;124mbinary\u001b[39m\u001b[38;5;124m'\u001b[39m\u001b[38;5;124m. Please \u001b[39m\u001b[38;5;124m\"\u001b[39m\n\u001b[1;32m   1367\u001b[0m             \u001b[38;5;124m\"\u001b[39m\u001b[38;5;124mchoose another average setting, one of \u001b[39m\u001b[38;5;132;01m%r\u001b[39;00m\u001b[38;5;124m.\u001b[39m\u001b[38;5;124m\"\u001b[39m \u001b[38;5;241m%\u001b[39m (y_type, average_options)\n\u001b[1;32m   1368\u001b[0m         )\n\u001b[1;32m   1369\u001b[0m \u001b[38;5;28;01melif\u001b[39;00m pos_label \u001b[38;5;129;01mnot\u001b[39;00m \u001b[38;5;129;01min\u001b[39;00m (\u001b[38;5;28;01mNone\u001b[39;00m, \u001b[38;5;241m1\u001b[39m):\n\u001b[1;32m   1370\u001b[0m     warnings\u001b[38;5;241m.\u001b[39mwarn(\n\u001b[1;32m   1371\u001b[0m         \u001b[38;5;124m\"\u001b[39m\u001b[38;5;124mNote that pos_label (set to \u001b[39m\u001b[38;5;132;01m%r\u001b[39;00m\u001b[38;5;124m) is ignored when \u001b[39m\u001b[38;5;124m\"\u001b[39m\n\u001b[1;32m   1372\u001b[0m         \u001b[38;5;124m\"\u001b[39m\u001b[38;5;124maverage != \u001b[39m\u001b[38;5;124m'\u001b[39m\u001b[38;5;124mbinary\u001b[39m\u001b[38;5;124m'\u001b[39m\u001b[38;5;124m (got \u001b[39m\u001b[38;5;132;01m%r\u001b[39;00m\u001b[38;5;124m). You may use \u001b[39m\u001b[38;5;124m\"\u001b[39m\n\u001b[0;32m   (...)\u001b[0m\n\u001b[1;32m   1375\u001b[0m         \u001b[38;5;167;01mUserWarning\u001b[39;00m,\n\u001b[1;32m   1376\u001b[0m     )\n",
      "\u001b[0;31mValueError\u001b[0m: Target is multiclass but average='binary'. Please choose another average setting, one of [None, 'micro', 'macro', 'weighted']."
     ]
    }
   ],
   "source": [
    "Precision = metrics.precision_score(Y_train, predictions)\n",
    "Precision"
   ]
  },
  {
   "cell_type": "code",
   "execution_count": 77,
   "id": "3e83c10b",
   "metadata": {},
   "outputs": [
    {
     "ename": "ValueError",
     "evalue": "Target is multiclass but average='binary'. Please choose another average setting, one of [None, 'micro', 'macro', 'weighted'].",
     "output_type": "error",
     "traceback": [
      "\u001b[0;31m---------------------------------------------------------------------------\u001b[0m",
      "\u001b[0;31mValueError\u001b[0m                                Traceback (most recent call last)",
      "Input \u001b[0;32mIn [77]\u001b[0m, in \u001b[0;36m<cell line: 1>\u001b[0;34m()\u001b[0m\n\u001b[0;32m----> 1\u001b[0m Sensitivity_recall \u001b[38;5;241m=\u001b[39m \u001b[43mmetrics\u001b[49m\u001b[38;5;241;43m.\u001b[39;49m\u001b[43mrecall_score\u001b[49m\u001b[43m(\u001b[49m\u001b[43mY_train\u001b[49m\u001b[43m,\u001b[49m\u001b[43m \u001b[49m\u001b[43mpredictions\u001b[49m\u001b[43m)\u001b[49m\n\u001b[1;32m      2\u001b[0m Sensitivity_recall\n",
      "File \u001b[0;32m~/anaconda3/lib/python3.9/site-packages/sklearn/metrics/_classification.py:1901\u001b[0m, in \u001b[0;36mrecall_score\u001b[0;34m(y_true, y_pred, labels, pos_label, average, sample_weight, zero_division)\u001b[0m\n\u001b[1;32m   1770\u001b[0m \u001b[38;5;28;01mdef\u001b[39;00m \u001b[38;5;21mrecall_score\u001b[39m(\n\u001b[1;32m   1771\u001b[0m     y_true,\n\u001b[1;32m   1772\u001b[0m     y_pred,\n\u001b[0;32m   (...)\u001b[0m\n\u001b[1;32m   1778\u001b[0m     zero_division\u001b[38;5;241m=\u001b[39m\u001b[38;5;124m\"\u001b[39m\u001b[38;5;124mwarn\u001b[39m\u001b[38;5;124m\"\u001b[39m,\n\u001b[1;32m   1779\u001b[0m ):\n\u001b[1;32m   1780\u001b[0m \u001b[38;5;250m    \u001b[39m\u001b[38;5;124;03m\"\"\"Compute the recall.\u001b[39;00m\n\u001b[1;32m   1781\u001b[0m \n\u001b[1;32m   1782\u001b[0m \u001b[38;5;124;03m    The recall is the ratio ``tp / (tp + fn)`` where ``tp`` is the number of\u001b[39;00m\n\u001b[0;32m   (...)\u001b[0m\n\u001b[1;32m   1899\u001b[0m \u001b[38;5;124;03m    array([1. , 1. , 0.5])\u001b[39;00m\n\u001b[1;32m   1900\u001b[0m \u001b[38;5;124;03m    \"\"\"\u001b[39;00m\n\u001b[0;32m-> 1901\u001b[0m     _, r, _, _ \u001b[38;5;241m=\u001b[39m \u001b[43mprecision_recall_fscore_support\u001b[49m\u001b[43m(\u001b[49m\n\u001b[1;32m   1902\u001b[0m \u001b[43m        \u001b[49m\u001b[43my_true\u001b[49m\u001b[43m,\u001b[49m\n\u001b[1;32m   1903\u001b[0m \u001b[43m        \u001b[49m\u001b[43my_pred\u001b[49m\u001b[43m,\u001b[49m\n\u001b[1;32m   1904\u001b[0m \u001b[43m        \u001b[49m\u001b[43mlabels\u001b[49m\u001b[38;5;241;43m=\u001b[39;49m\u001b[43mlabels\u001b[49m\u001b[43m,\u001b[49m\n\u001b[1;32m   1905\u001b[0m \u001b[43m        \u001b[49m\u001b[43mpos_label\u001b[49m\u001b[38;5;241;43m=\u001b[39;49m\u001b[43mpos_label\u001b[49m\u001b[43m,\u001b[49m\n\u001b[1;32m   1906\u001b[0m \u001b[43m        \u001b[49m\u001b[43maverage\u001b[49m\u001b[38;5;241;43m=\u001b[39;49m\u001b[43maverage\u001b[49m\u001b[43m,\u001b[49m\n\u001b[1;32m   1907\u001b[0m \u001b[43m        \u001b[49m\u001b[43mwarn_for\u001b[49m\u001b[38;5;241;43m=\u001b[39;49m\u001b[43m(\u001b[49m\u001b[38;5;124;43m\"\u001b[39;49m\u001b[38;5;124;43mrecall\u001b[39;49m\u001b[38;5;124;43m\"\u001b[39;49m\u001b[43m,\u001b[49m\u001b[43m)\u001b[49m\u001b[43m,\u001b[49m\n\u001b[1;32m   1908\u001b[0m \u001b[43m        \u001b[49m\u001b[43msample_weight\u001b[49m\u001b[38;5;241;43m=\u001b[39;49m\u001b[43msample_weight\u001b[49m\u001b[43m,\u001b[49m\n\u001b[1;32m   1909\u001b[0m \u001b[43m        \u001b[49m\u001b[43mzero_division\u001b[49m\u001b[38;5;241;43m=\u001b[39;49m\u001b[43mzero_division\u001b[49m\u001b[43m,\u001b[49m\n\u001b[1;32m   1910\u001b[0m \u001b[43m    \u001b[49m\u001b[43m)\u001b[49m\n\u001b[1;32m   1911\u001b[0m     \u001b[38;5;28;01mreturn\u001b[39;00m r\n",
      "File \u001b[0;32m~/anaconda3/lib/python3.9/site-packages/sklearn/metrics/_classification.py:1544\u001b[0m, in \u001b[0;36mprecision_recall_fscore_support\u001b[0;34m(y_true, y_pred, beta, labels, pos_label, average, warn_for, sample_weight, zero_division)\u001b[0m\n\u001b[1;32m   1542\u001b[0m \u001b[38;5;28;01mif\u001b[39;00m beta \u001b[38;5;241m<\u001b[39m \u001b[38;5;241m0\u001b[39m:\n\u001b[1;32m   1543\u001b[0m     \u001b[38;5;28;01mraise\u001b[39;00m \u001b[38;5;167;01mValueError\u001b[39;00m(\u001b[38;5;124m\"\u001b[39m\u001b[38;5;124mbeta should be >=0 in the F-beta score\u001b[39m\u001b[38;5;124m\"\u001b[39m)\n\u001b[0;32m-> 1544\u001b[0m labels \u001b[38;5;241m=\u001b[39m \u001b[43m_check_set_wise_labels\u001b[49m\u001b[43m(\u001b[49m\u001b[43my_true\u001b[49m\u001b[43m,\u001b[49m\u001b[43m \u001b[49m\u001b[43my_pred\u001b[49m\u001b[43m,\u001b[49m\u001b[43m \u001b[49m\u001b[43maverage\u001b[49m\u001b[43m,\u001b[49m\u001b[43m \u001b[49m\u001b[43mlabels\u001b[49m\u001b[43m,\u001b[49m\u001b[43m \u001b[49m\u001b[43mpos_label\u001b[49m\u001b[43m)\u001b[49m\n\u001b[1;32m   1546\u001b[0m \u001b[38;5;66;03m# Calculate tp_sum, pred_sum, true_sum ###\u001b[39;00m\n\u001b[1;32m   1547\u001b[0m samplewise \u001b[38;5;241m=\u001b[39m average \u001b[38;5;241m==\u001b[39m \u001b[38;5;124m\"\u001b[39m\u001b[38;5;124msamples\u001b[39m\u001b[38;5;124m\"\u001b[39m\n",
      "File \u001b[0;32m~/anaconda3/lib/python3.9/site-packages/sklearn/metrics/_classification.py:1365\u001b[0m, in \u001b[0;36m_check_set_wise_labels\u001b[0;34m(y_true, y_pred, average, labels, pos_label)\u001b[0m\n\u001b[1;32m   1363\u001b[0m         \u001b[38;5;28;01mif\u001b[39;00m y_type \u001b[38;5;241m==\u001b[39m \u001b[38;5;124m\"\u001b[39m\u001b[38;5;124mmulticlass\u001b[39m\u001b[38;5;124m\"\u001b[39m:\n\u001b[1;32m   1364\u001b[0m             average_options\u001b[38;5;241m.\u001b[39mremove(\u001b[38;5;124m\"\u001b[39m\u001b[38;5;124msamples\u001b[39m\u001b[38;5;124m\"\u001b[39m)\n\u001b[0;32m-> 1365\u001b[0m         \u001b[38;5;28;01mraise\u001b[39;00m \u001b[38;5;167;01mValueError\u001b[39;00m(\n\u001b[1;32m   1366\u001b[0m             \u001b[38;5;124m\"\u001b[39m\u001b[38;5;124mTarget is \u001b[39m\u001b[38;5;132;01m%s\u001b[39;00m\u001b[38;5;124m but average=\u001b[39m\u001b[38;5;124m'\u001b[39m\u001b[38;5;124mbinary\u001b[39m\u001b[38;5;124m'\u001b[39m\u001b[38;5;124m. Please \u001b[39m\u001b[38;5;124m\"\u001b[39m\n\u001b[1;32m   1367\u001b[0m             \u001b[38;5;124m\"\u001b[39m\u001b[38;5;124mchoose another average setting, one of \u001b[39m\u001b[38;5;132;01m%r\u001b[39;00m\u001b[38;5;124m.\u001b[39m\u001b[38;5;124m\"\u001b[39m \u001b[38;5;241m%\u001b[39m (y_type, average_options)\n\u001b[1;32m   1368\u001b[0m         )\n\u001b[1;32m   1369\u001b[0m \u001b[38;5;28;01melif\u001b[39;00m pos_label \u001b[38;5;129;01mnot\u001b[39;00m \u001b[38;5;129;01min\u001b[39;00m (\u001b[38;5;28;01mNone\u001b[39;00m, \u001b[38;5;241m1\u001b[39m):\n\u001b[1;32m   1370\u001b[0m     warnings\u001b[38;5;241m.\u001b[39mwarn(\n\u001b[1;32m   1371\u001b[0m         \u001b[38;5;124m\"\u001b[39m\u001b[38;5;124mNote that pos_label (set to \u001b[39m\u001b[38;5;132;01m%r\u001b[39;00m\u001b[38;5;124m) is ignored when \u001b[39m\u001b[38;5;124m\"\u001b[39m\n\u001b[1;32m   1372\u001b[0m         \u001b[38;5;124m\"\u001b[39m\u001b[38;5;124maverage != \u001b[39m\u001b[38;5;124m'\u001b[39m\u001b[38;5;124mbinary\u001b[39m\u001b[38;5;124m'\u001b[39m\u001b[38;5;124m (got \u001b[39m\u001b[38;5;132;01m%r\u001b[39;00m\u001b[38;5;124m). You may use \u001b[39m\u001b[38;5;124m\"\u001b[39m\n\u001b[0;32m   (...)\u001b[0m\n\u001b[1;32m   1375\u001b[0m         \u001b[38;5;167;01mUserWarning\u001b[39;00m,\n\u001b[1;32m   1376\u001b[0m     )\n",
      "\u001b[0;31mValueError\u001b[0m: Target is multiclass but average='binary'. Please choose another average setting, one of [None, 'micro', 'macro', 'weighted']."
     ]
    }
   ],
   "source": [
    "Sensitivity_recall = metrics.recall_score(Y_train, predictions)\n",
    "Sensitivity_recall"
   ]
  },
  {
   "cell_type": "code",
   "execution_count": 56,
   "id": "0955dee0",
   "metadata": {},
   "outputs": [
    {
     "ename": "ValueError",
     "evalue": "Target is multiclass but average='binary'. Please choose another average setting, one of [None, 'micro', 'macro', 'weighted'].",
     "output_type": "error",
     "traceback": [
      "\u001b[0;31m---------------------------------------------------------------------------\u001b[0m",
      "\u001b[0;31mValueError\u001b[0m                                Traceback (most recent call last)",
      "Input \u001b[0;32mIn [56]\u001b[0m, in \u001b[0;36m<cell line: 1>\u001b[0;34m()\u001b[0m\n\u001b[0;32m----> 1\u001b[0m F1_score \u001b[38;5;241m=\u001b[39m \u001b[43mmetrics\u001b[49m\u001b[38;5;241;43m.\u001b[39;49m\u001b[43mf1_score\u001b[49m\u001b[43m(\u001b[49m\u001b[43mY_train\u001b[49m\u001b[43m,\u001b[49m\u001b[43m \u001b[49m\u001b[43mpredictions\u001b[49m\u001b[43m)\u001b[49m\n\u001b[1;32m      2\u001b[0m F1_score\n",
      "File \u001b[0;32m~/anaconda3/lib/python3.9/site-packages/sklearn/metrics/_classification.py:1123\u001b[0m, in \u001b[0;36mf1_score\u001b[0;34m(y_true, y_pred, labels, pos_label, average, sample_weight, zero_division)\u001b[0m\n\u001b[1;32m    992\u001b[0m \u001b[38;5;28;01mdef\u001b[39;00m \u001b[38;5;21mf1_score\u001b[39m(\n\u001b[1;32m    993\u001b[0m     y_true,\n\u001b[1;32m    994\u001b[0m     y_pred,\n\u001b[0;32m   (...)\u001b[0m\n\u001b[1;32m   1000\u001b[0m     zero_division\u001b[38;5;241m=\u001b[39m\u001b[38;5;124m\"\u001b[39m\u001b[38;5;124mwarn\u001b[39m\u001b[38;5;124m\"\u001b[39m,\n\u001b[1;32m   1001\u001b[0m ):\n\u001b[1;32m   1002\u001b[0m \u001b[38;5;250m    \u001b[39m\u001b[38;5;124;03m\"\"\"Compute the F1 score, also known as balanced F-score or F-measure.\u001b[39;00m\n\u001b[1;32m   1003\u001b[0m \n\u001b[1;32m   1004\u001b[0m \u001b[38;5;124;03m    The F1 score can be interpreted as a harmonic mean of the precision and\u001b[39;00m\n\u001b[0;32m   (...)\u001b[0m\n\u001b[1;32m   1121\u001b[0m \u001b[38;5;124;03m    modified with ``zero_division``.\u001b[39;00m\n\u001b[1;32m   1122\u001b[0m \u001b[38;5;124;03m    \"\"\"\u001b[39;00m\n\u001b[0;32m-> 1123\u001b[0m     \u001b[38;5;28;01mreturn\u001b[39;00m \u001b[43mfbeta_score\u001b[49m\u001b[43m(\u001b[49m\n\u001b[1;32m   1124\u001b[0m \u001b[43m        \u001b[49m\u001b[43my_true\u001b[49m\u001b[43m,\u001b[49m\n\u001b[1;32m   1125\u001b[0m \u001b[43m        \u001b[49m\u001b[43my_pred\u001b[49m\u001b[43m,\u001b[49m\n\u001b[1;32m   1126\u001b[0m \u001b[43m        \u001b[49m\u001b[43mbeta\u001b[49m\u001b[38;5;241;43m=\u001b[39;49m\u001b[38;5;241;43m1\u001b[39;49m\u001b[43m,\u001b[49m\n\u001b[1;32m   1127\u001b[0m \u001b[43m        \u001b[49m\u001b[43mlabels\u001b[49m\u001b[38;5;241;43m=\u001b[39;49m\u001b[43mlabels\u001b[49m\u001b[43m,\u001b[49m\n\u001b[1;32m   1128\u001b[0m \u001b[43m        \u001b[49m\u001b[43mpos_label\u001b[49m\u001b[38;5;241;43m=\u001b[39;49m\u001b[43mpos_label\u001b[49m\u001b[43m,\u001b[49m\n\u001b[1;32m   1129\u001b[0m \u001b[43m        \u001b[49m\u001b[43maverage\u001b[49m\u001b[38;5;241;43m=\u001b[39;49m\u001b[43maverage\u001b[49m\u001b[43m,\u001b[49m\n\u001b[1;32m   1130\u001b[0m \u001b[43m        \u001b[49m\u001b[43msample_weight\u001b[49m\u001b[38;5;241;43m=\u001b[39;49m\u001b[43msample_weight\u001b[49m\u001b[43m,\u001b[49m\n\u001b[1;32m   1131\u001b[0m \u001b[43m        \u001b[49m\u001b[43mzero_division\u001b[49m\u001b[38;5;241;43m=\u001b[39;49m\u001b[43mzero_division\u001b[49m\u001b[43m,\u001b[49m\n\u001b[1;32m   1132\u001b[0m \u001b[43m    \u001b[49m\u001b[43m)\u001b[49m\n",
      "File \u001b[0;32m~/anaconda3/lib/python3.9/site-packages/sklearn/metrics/_classification.py:1261\u001b[0m, in \u001b[0;36mfbeta_score\u001b[0;34m(y_true, y_pred, beta, labels, pos_label, average, sample_weight, zero_division)\u001b[0m\n\u001b[1;32m   1135\u001b[0m \u001b[38;5;28;01mdef\u001b[39;00m \u001b[38;5;21mfbeta_score\u001b[39m(\n\u001b[1;32m   1136\u001b[0m     y_true,\n\u001b[1;32m   1137\u001b[0m     y_pred,\n\u001b[0;32m   (...)\u001b[0m\n\u001b[1;32m   1144\u001b[0m     zero_division\u001b[38;5;241m=\u001b[39m\u001b[38;5;124m\"\u001b[39m\u001b[38;5;124mwarn\u001b[39m\u001b[38;5;124m\"\u001b[39m,\n\u001b[1;32m   1145\u001b[0m ):\n\u001b[1;32m   1146\u001b[0m \u001b[38;5;250m    \u001b[39m\u001b[38;5;124;03m\"\"\"Compute the F-beta score.\u001b[39;00m\n\u001b[1;32m   1147\u001b[0m \n\u001b[1;32m   1148\u001b[0m \u001b[38;5;124;03m    The F-beta score is the weighted harmonic mean of precision and recall,\u001b[39;00m\n\u001b[0;32m   (...)\u001b[0m\n\u001b[1;32m   1258\u001b[0m \u001b[38;5;124;03m    array([0.71..., 0.        , 0.        ])\u001b[39;00m\n\u001b[1;32m   1259\u001b[0m \u001b[38;5;124;03m    \"\"\"\u001b[39;00m\n\u001b[0;32m-> 1261\u001b[0m     _, _, f, _ \u001b[38;5;241m=\u001b[39m \u001b[43mprecision_recall_fscore_support\u001b[49m\u001b[43m(\u001b[49m\n\u001b[1;32m   1262\u001b[0m \u001b[43m        \u001b[49m\u001b[43my_true\u001b[49m\u001b[43m,\u001b[49m\n\u001b[1;32m   1263\u001b[0m \u001b[43m        \u001b[49m\u001b[43my_pred\u001b[49m\u001b[43m,\u001b[49m\n\u001b[1;32m   1264\u001b[0m \u001b[43m        \u001b[49m\u001b[43mbeta\u001b[49m\u001b[38;5;241;43m=\u001b[39;49m\u001b[43mbeta\u001b[49m\u001b[43m,\u001b[49m\n\u001b[1;32m   1265\u001b[0m \u001b[43m        \u001b[49m\u001b[43mlabels\u001b[49m\u001b[38;5;241;43m=\u001b[39;49m\u001b[43mlabels\u001b[49m\u001b[43m,\u001b[49m\n\u001b[1;32m   1266\u001b[0m \u001b[43m        \u001b[49m\u001b[43mpos_label\u001b[49m\u001b[38;5;241;43m=\u001b[39;49m\u001b[43mpos_label\u001b[49m\u001b[43m,\u001b[49m\n\u001b[1;32m   1267\u001b[0m \u001b[43m        \u001b[49m\u001b[43maverage\u001b[49m\u001b[38;5;241;43m=\u001b[39;49m\u001b[43maverage\u001b[49m\u001b[43m,\u001b[49m\n\u001b[1;32m   1268\u001b[0m \u001b[43m        \u001b[49m\u001b[43mwarn_for\u001b[49m\u001b[38;5;241;43m=\u001b[39;49m\u001b[43m(\u001b[49m\u001b[38;5;124;43m\"\u001b[39;49m\u001b[38;5;124;43mf-score\u001b[39;49m\u001b[38;5;124;43m\"\u001b[39;49m\u001b[43m,\u001b[49m\u001b[43m)\u001b[49m\u001b[43m,\u001b[49m\n\u001b[1;32m   1269\u001b[0m \u001b[43m        \u001b[49m\u001b[43msample_weight\u001b[49m\u001b[38;5;241;43m=\u001b[39;49m\u001b[43msample_weight\u001b[49m\u001b[43m,\u001b[49m\n\u001b[1;32m   1270\u001b[0m \u001b[43m        \u001b[49m\u001b[43mzero_division\u001b[49m\u001b[38;5;241;43m=\u001b[39;49m\u001b[43mzero_division\u001b[49m\u001b[43m,\u001b[49m\n\u001b[1;32m   1271\u001b[0m \u001b[43m    \u001b[49m\u001b[43m)\u001b[49m\n\u001b[1;32m   1272\u001b[0m     \u001b[38;5;28;01mreturn\u001b[39;00m f\n",
      "File \u001b[0;32m~/anaconda3/lib/python3.9/site-packages/sklearn/metrics/_classification.py:1544\u001b[0m, in \u001b[0;36mprecision_recall_fscore_support\u001b[0;34m(y_true, y_pred, beta, labels, pos_label, average, warn_for, sample_weight, zero_division)\u001b[0m\n\u001b[1;32m   1542\u001b[0m \u001b[38;5;28;01mif\u001b[39;00m beta \u001b[38;5;241m<\u001b[39m \u001b[38;5;241m0\u001b[39m:\n\u001b[1;32m   1543\u001b[0m     \u001b[38;5;28;01mraise\u001b[39;00m \u001b[38;5;167;01mValueError\u001b[39;00m(\u001b[38;5;124m\"\u001b[39m\u001b[38;5;124mbeta should be >=0 in the F-beta score\u001b[39m\u001b[38;5;124m\"\u001b[39m)\n\u001b[0;32m-> 1544\u001b[0m labels \u001b[38;5;241m=\u001b[39m \u001b[43m_check_set_wise_labels\u001b[49m\u001b[43m(\u001b[49m\u001b[43my_true\u001b[49m\u001b[43m,\u001b[49m\u001b[43m \u001b[49m\u001b[43my_pred\u001b[49m\u001b[43m,\u001b[49m\u001b[43m \u001b[49m\u001b[43maverage\u001b[49m\u001b[43m,\u001b[49m\u001b[43m \u001b[49m\u001b[43mlabels\u001b[49m\u001b[43m,\u001b[49m\u001b[43m \u001b[49m\u001b[43mpos_label\u001b[49m\u001b[43m)\u001b[49m\n\u001b[1;32m   1546\u001b[0m \u001b[38;5;66;03m# Calculate tp_sum, pred_sum, true_sum ###\u001b[39;00m\n\u001b[1;32m   1547\u001b[0m samplewise \u001b[38;5;241m=\u001b[39m average \u001b[38;5;241m==\u001b[39m \u001b[38;5;124m\"\u001b[39m\u001b[38;5;124msamples\u001b[39m\u001b[38;5;124m\"\u001b[39m\n",
      "File \u001b[0;32m~/anaconda3/lib/python3.9/site-packages/sklearn/metrics/_classification.py:1365\u001b[0m, in \u001b[0;36m_check_set_wise_labels\u001b[0;34m(y_true, y_pred, average, labels, pos_label)\u001b[0m\n\u001b[1;32m   1363\u001b[0m         \u001b[38;5;28;01mif\u001b[39;00m y_type \u001b[38;5;241m==\u001b[39m \u001b[38;5;124m\"\u001b[39m\u001b[38;5;124mmulticlass\u001b[39m\u001b[38;5;124m\"\u001b[39m:\n\u001b[1;32m   1364\u001b[0m             average_options\u001b[38;5;241m.\u001b[39mremove(\u001b[38;5;124m\"\u001b[39m\u001b[38;5;124msamples\u001b[39m\u001b[38;5;124m\"\u001b[39m)\n\u001b[0;32m-> 1365\u001b[0m         \u001b[38;5;28;01mraise\u001b[39;00m \u001b[38;5;167;01mValueError\u001b[39;00m(\n\u001b[1;32m   1366\u001b[0m             \u001b[38;5;124m\"\u001b[39m\u001b[38;5;124mTarget is \u001b[39m\u001b[38;5;132;01m%s\u001b[39;00m\u001b[38;5;124m but average=\u001b[39m\u001b[38;5;124m'\u001b[39m\u001b[38;5;124mbinary\u001b[39m\u001b[38;5;124m'\u001b[39m\u001b[38;5;124m. Please \u001b[39m\u001b[38;5;124m\"\u001b[39m\n\u001b[1;32m   1367\u001b[0m             \u001b[38;5;124m\"\u001b[39m\u001b[38;5;124mchoose another average setting, one of \u001b[39m\u001b[38;5;132;01m%r\u001b[39;00m\u001b[38;5;124m.\u001b[39m\u001b[38;5;124m\"\u001b[39m \u001b[38;5;241m%\u001b[39m (y_type, average_options)\n\u001b[1;32m   1368\u001b[0m         )\n\u001b[1;32m   1369\u001b[0m \u001b[38;5;28;01melif\u001b[39;00m pos_label \u001b[38;5;129;01mnot\u001b[39;00m \u001b[38;5;129;01min\u001b[39;00m (\u001b[38;5;28;01mNone\u001b[39;00m, \u001b[38;5;241m1\u001b[39m):\n\u001b[1;32m   1370\u001b[0m     warnings\u001b[38;5;241m.\u001b[39mwarn(\n\u001b[1;32m   1371\u001b[0m         \u001b[38;5;124m\"\u001b[39m\u001b[38;5;124mNote that pos_label (set to \u001b[39m\u001b[38;5;132;01m%r\u001b[39;00m\u001b[38;5;124m) is ignored when \u001b[39m\u001b[38;5;124m\"\u001b[39m\n\u001b[1;32m   1372\u001b[0m         \u001b[38;5;124m\"\u001b[39m\u001b[38;5;124maverage != \u001b[39m\u001b[38;5;124m'\u001b[39m\u001b[38;5;124mbinary\u001b[39m\u001b[38;5;124m'\u001b[39m\u001b[38;5;124m (got \u001b[39m\u001b[38;5;132;01m%r\u001b[39;00m\u001b[38;5;124m). You may use \u001b[39m\u001b[38;5;124m\"\u001b[39m\n\u001b[0;32m   (...)\u001b[0m\n\u001b[1;32m   1375\u001b[0m         \u001b[38;5;167;01mUserWarning\u001b[39;00m,\n\u001b[1;32m   1376\u001b[0m     )\n",
      "\u001b[0;31mValueError\u001b[0m: Target is multiclass but average='binary'. Please choose another average setting, one of [None, 'micro', 'macro', 'weighted']."
     ]
    }
   ],
   "source": [
    "F1_score = metrics.f1_score(Y_train, predictions)\n",
    "F1_score"
   ]
  },
  {
   "cell_type": "code",
   "execution_count": 57,
   "id": "e6d0a393",
   "metadata": {},
   "outputs": [
    {
     "ename": "NameError",
     "evalue": "name 'Accu1' is not defined",
     "output_type": "error",
     "traceback": [
      "\u001b[0;31m---------------------------------------------------------------------------\u001b[0m",
      "\u001b[0;31mNameError\u001b[0m                                 Traceback (most recent call last)",
      "Input \u001b[0;32mIn [57]\u001b[0m, in \u001b[0;36m<cell line: 3>\u001b[0;34m()\u001b[0m\n\u001b[1;32m      1\u001b[0m numbersList \u001b[38;5;241m=\u001b[39m []\n\u001b[1;32m      2\u001b[0m numbersList\u001b[38;5;241m.\u001b[39mappend(Accu)\n\u001b[0;32m----> 3\u001b[0m numbersList\u001b[38;5;241m.\u001b[39mappend(\u001b[43mAccu1\u001b[49m)\n\u001b[1;32m      4\u001b[0m numbersList\u001b[38;5;241m.\u001b[39mappend(Accu2)\n\u001b[1;32m      5\u001b[0m numbersList\u001b[38;5;241m.\u001b[39mappend(Accu3)\n",
      "\u001b[0;31mNameError\u001b[0m: name 'Accu1' is not defined"
     ]
    }
   ],
   "source": [
    "numbersList = []\n",
    "numbersList.append(Accu)\n",
    "numbersList.append(Accu1)\n",
    "numbersList.append(Accu2)\n",
    "numbersList.append(Accu3)\n",
    "numbersList.append(Accu4)\n",
    "numbersList.append(Accu5)\n",
    "numbersList.append(Accu6)\n",
    "numbersList.append(Accu7)\n",
    "numbersList.append(Accu8)\n",
    "numbersList.append(Accu9)\n",
    "numbersList.append(Accu10)\n",
    "numbersList.append(Accu11)\n",
    "# creating a list of index names\n",
    "index_values = list(range(0, 50))\n",
    "# creating a list of column names\n",
    "column_values  = ['0.10', '0.15','0.20', '0.25','0.30', '0.35', '0.40', '0.45' ,'0.50','0.55','0.60','0.65']\n",
    "# creating the dataframe\n",
    "df = pd.DataFrame(data = np.transpose(numbersList),index = index_values,columns = column_values)\n",
    "# displaying the dataframe\n",
    "#df\n",
    "#df.iloc[300:500]"
   ]
  },
  {
   "cell_type": "code",
   "execution_count": null,
   "id": "10082b79",
   "metadata": {},
   "outputs": [],
   "source": []
  },
  {
   "cell_type": "code",
   "execution_count": 105,
   "id": "c3367b9d",
   "metadata": {},
   "outputs": [
    {
     "data": {
      "application/vnd.plotly.v1+json": {
       "config": {
        "plotlyServerURL": "https://plot.ly"
       },
       "data": [
        {
         "hovertemplate": "variable=0.10<br>index=%{x}<br>value=%{y}<extra></extra>",
         "legendgroup": "0.10",
         "line": {
          "color": "#636efa",
          "dash": "solid"
         },
         "marker": {
          "symbol": "circle"
         },
         "mode": "lines",
         "name": "0.10",
         "orientation": "v",
         "showlegend": true,
         "type": "scatter",
         "x": [
          0,
          1,
          2,
          3,
          4,
          5,
          6,
          7,
          8,
          9,
          10,
          11,
          12,
          13,
          14,
          15,
          16,
          17,
          18,
          19,
          20,
          21,
          22,
          23,
          24,
          25,
          26,
          27,
          28,
          29,
          30,
          31,
          32,
          33,
          34,
          35,
          36,
          37,
          38,
          39,
          40,
          41,
          42,
          43,
          44,
          45,
          46,
          47,
          48,
          49
         ],
         "xaxis": "x",
         "y": [
          0.12295121951219512,
          0.1691219512195122,
          0.19002439024390244,
          0.25390243902439025,
          0.30053658536585365,
          0.33946341463414637,
          0.372390243902439,
          0.40190243902439027,
          0.42897560975609755,
          0.4522439024390244,
          0.4740243902439024,
          0.4943658536585366,
          0.5124390243902439,
          0.5287804878048781,
          0.5442926829268293,
          0.5576341463414635,
          0.5704146341463414,
          0.5825121951219512,
          0.5934390243902439,
          0.6040731707317073,
          0.6131951219512195,
          0.6218780487804878,
          0.6296829268292683,
          0.6373658536585366,
          0.6441951219512195,
          0.650609756097561,
          0.656829268292683,
          0.6633902439024391,
          0.669219512195122,
          0.6750487804878049,
          0.6806585365853659,
          0.6854878048780488,
          0.6898536585365853,
          0.6946097560975609,
          0.6984634146341463,
          0.7023414634146341,
          0.7063170731707317,
          0.7104390243902439,
          0.714,
          0.7174146341463414,
          0.7202926829268292,
          0.723609756097561,
          0.7266829268292683,
          0.7293170731707317,
          0.7323658536585366,
          0.7349756097560975,
          0.7381463414634146,
          0.7401951219512195,
          0.7421951219512195,
          0.7443658536585366
         ],
         "yaxis": "y"
        },
        {
         "hovertemplate": "variable=0.15<br>index=%{x}<br>value=%{y}<extra></extra>",
         "legendgroup": "0.15",
         "line": {
          "color": "#EF553B",
          "dash": "solid"
         },
         "marker": {
          "symbol": "circle"
         },
         "mode": "lines",
         "name": "0.15",
         "orientation": "v",
         "showlegend": true,
         "type": "scatter",
         "x": [
          0,
          1,
          2,
          3,
          4,
          5,
          6,
          7,
          8,
          9,
          10,
          11,
          12,
          13,
          14,
          15,
          16,
          17,
          18,
          19,
          20,
          21,
          22,
          23,
          24,
          25,
          26,
          27,
          28,
          29,
          30,
          31,
          32,
          33,
          34,
          35,
          36,
          37,
          38,
          39,
          40,
          41,
          42,
          43,
          44,
          45,
          46,
          47,
          48,
          49
         ],
         "xaxis": "x",
         "y": [
          0.11721951219512194,
          0.14392682926829267,
          0.1831219512195122,
          0.25165853658536586,
          0.3050731707317073,
          0.35173170731707315,
          0.3889268292682927,
          0.41929268292682925,
          0.44582926829268293,
          0.47104878048780485,
          0.4930731707317073,
          0.5127317073170732,
          0.5295365853658537,
          0.5440975609756098,
          0.5573658536585366,
          0.5694146341463414,
          0.5805853658536585,
          0.5915121951219512,
          0.6010731707317073,
          0.6100975609756097,
          0.618390243902439,
          0.6263414634146341,
          0.6333658536585366,
          0.6395121951219512,
          0.6462926829268293,
          0.6528048780487805,
          0.6588780487804878,
          0.6643414634146342,
          0.669609756097561,
          0.6756585365853659,
          0.6809512195121952,
          0.6859024390243903,
          0.690170731707317,
          0.6952682926829268,
          0.6996829268292682,
          0.7034878048780487,
          0.7076585365853658,
          0.7110975609756097,
          0.714390243902439,
          0.7177560975609756,
          0.721390243902439,
          0.7252439024390244,
          0.7284146341463414,
          0.7317560975609756,
          0.7351707317073171,
          0.7378536585365854,
          0.7401951219512195,
          0.7428292682926829,
          0.7459512195121951,
          0.7487560975609756
         ],
         "yaxis": "y"
        },
        {
         "hovertemplate": "variable=0.20<br>index=%{x}<br>value=%{y}<extra></extra>",
         "legendgroup": "0.20",
         "line": {
          "color": "#00cc96",
          "dash": "solid"
         },
         "marker": {
          "symbol": "circle"
         },
         "mode": "lines",
         "name": "0.20",
         "orientation": "v",
         "showlegend": true,
         "type": "scatter",
         "x": [
          0,
          1,
          2,
          3,
          4,
          5,
          6,
          7,
          8,
          9,
          10,
          11,
          12,
          13,
          14,
          15,
          16,
          17,
          18,
          19,
          20,
          21,
          22,
          23,
          24,
          25,
          26,
          27,
          28,
          29,
          30,
          31,
          32,
          33,
          34,
          35,
          36,
          37,
          38,
          39,
          40,
          41,
          42,
          43,
          44,
          45,
          46,
          47,
          48,
          49
         ],
         "xaxis": "x",
         "y": [
          0.08102439024390244,
          0.18829268292682927,
          0.20412195121951218,
          0.2589268292682927,
          0.2843170731707317,
          0.31470731707317073,
          0.34114634146341466,
          0.3643658536585366,
          0.38746341463414635,
          0.4089512195121951,
          0.4304878048780488,
          0.4534146341463415,
          0.4757073170731707,
          0.4980731707317073,
          0.5201463414634147,
          0.5428536585365854,
          0.563170731707317,
          0.5819024390243902,
          0.6005609756097561,
          0.6167317073170732,
          0.6308292682926829,
          0.6434390243902439,
          0.6544634146341464,
          0.6648536585365854,
          0.6730975609756098,
          0.679829268292683,
          0.6866585365853659,
          0.6928780487804878,
          0.6991951219512195,
          0.7047317073170731,
          0.7093170731707317,
          0.7143170731707317,
          0.7195609756097561,
          0.7240243902439024,
          0.7279268292682927,
          0.7317073170731707,
          0.7352439024390244,
          0.7390243902439024,
          0.7429512195121951,
          0.7463414634146341,
          0.749609756097561,
          0.752780487804878,
          0.7560731707317073,
          0.7589268292682927,
          0.7611707317073171,
          0.7632926829268293,
          0.766219512195122,
          0.7683414634146342,
          0.7709756097560976,
          0.7730975609756098
         ],
         "yaxis": "y"
        },
        {
         "hovertemplate": "variable=0.25<br>index=%{x}<br>value=%{y}<extra></extra>",
         "legendgroup": "0.25",
         "line": {
          "color": "#ab63fa",
          "dash": "solid"
         },
         "marker": {
          "symbol": "circle"
         },
         "mode": "lines",
         "name": "0.25",
         "orientation": "v",
         "showlegend": true,
         "type": "scatter",
         "x": [
          0,
          1,
          2,
          3,
          4,
          5,
          6,
          7,
          8,
          9,
          10,
          11,
          12,
          13,
          14,
          15,
          16,
          17,
          18,
          19,
          20,
          21,
          22,
          23,
          24,
          25,
          26,
          27,
          28,
          29,
          30,
          31,
          32,
          33,
          34,
          35,
          36,
          37,
          38,
          39,
          40,
          41,
          42,
          43,
          44,
          45,
          46,
          47,
          48,
          49
         ],
         "xaxis": "x",
         "y": [
          0.10441463414634146,
          0.2094390243902439,
          0.28436585365853656,
          0.36197560975609755,
          0.4262439024390244,
          0.5086829268292683,
          0.5445609756097561,
          0.5730975609756097,
          0.5975365853658536,
          0.6181463414634146,
          0.6360243902439024,
          0.6501463414634147,
          0.6639268292682927,
          0.6752926829268293,
          0.6852926829268293,
          0.6956585365853658,
          0.7048292682926829,
          0.7129268292682926,
          0.7201951219512195,
          0.7270731707317073,
          0.7339024390243902,
          0.7392195121951219,
          0.7447560975609756,
          0.7495853658536585,
          0.7550243902439024,
          0.7597560975609756,
          0.7635853658536585,
          0.767609756097561,
          0.7720975609756098,
          0.7750243902439025,
          0.7784634146341464,
          0.7821463414634147,
          0.7852682926829269,
          0.7879268292682927,
          0.7911951219512195,
          0.7934390243902439,
          0.7960975609756098,
          0.798609756097561,
          0.8011707317073171,
          0.8033658536585366,
          0.8054634146341464,
          0.8076585365853659,
          0.8095609756097562,
          0.8117317073170732,
          0.8133170731707317,
          0.8153658536585365,
          0.817170731707317,
          0.8186585365853658,
          0.8200975609756097,
          0.8216341463414634
         ],
         "yaxis": "y"
        },
        {
         "hovertemplate": "variable=0.30<br>index=%{x}<br>value=%{y}<extra></extra>",
         "legendgroup": "0.30",
         "line": {
          "color": "#FFA15A",
          "dash": "solid"
         },
         "marker": {
          "symbol": "circle"
         },
         "mode": "lines",
         "name": "0.30",
         "orientation": "v",
         "showlegend": true,
         "type": "scatter",
         "x": [
          0,
          1,
          2,
          3,
          4,
          5,
          6,
          7,
          8,
          9,
          10,
          11,
          12,
          13,
          14,
          15,
          16,
          17,
          18,
          19,
          20,
          21,
          22,
          23,
          24,
          25,
          26,
          27,
          28,
          29,
          30,
          31,
          32,
          33,
          34,
          35,
          36,
          37,
          38,
          39,
          40,
          41,
          42,
          43,
          44,
          45,
          46,
          47,
          48,
          49
         ],
         "xaxis": "x",
         "y": [
          0.09863414634146342,
          0.1916829268292683,
          0.2792439024390244,
          0.37570731707317073,
          0.3940975609756098,
          0.4112682926829268,
          0.42697560975609755,
          0.4432926829268293,
          0.4573170731707317,
          0.4707560975609756,
          0.4844390243902439,
          0.49709756097560975,
          0.5090975609756098,
          0.5213414634146342,
          0.5318536585365854,
          0.5434390243902439,
          0.5550731707317074,
          0.5664390243902439,
          0.5779268292682926,
          0.5911219512195122,
          0.6033170731707317,
          0.6160243902439024,
          0.6295853658536585,
          0.642,
          0.6533414634146342,
          0.6625853658536586,
          0.6702682926829269,
          0.6775365853658537,
          0.6845121951219513,
          0.6922682926829268,
          0.6980975609756097,
          0.7035365853658536,
          0.7091463414634146,
          0.7148048780487805,
          0.7200731707317073,
          0.7247560975609756,
          0.7297560975609756,
          0.7341707317073171,
          0.7384390243902439,
          0.7429268292682927,
          0.7467073170731707,
          0.7501707317073171,
          0.7532682926829268,
          0.7560975609756098,
          0.7598048780487805,
          0.7624634146341464,
          0.7655121951219512,
          0.7678536585365854,
          0.7700731707317073,
          0.7724146341463415
         ],
         "yaxis": "y"
        },
        {
         "hovertemplate": "variable=0.35<br>index=%{x}<br>value=%{y}<extra></extra>",
         "legendgroup": "0.35",
         "line": {
          "color": "#19d3f3",
          "dash": "solid"
         },
         "marker": {
          "symbol": "circle"
         },
         "mode": "lines",
         "name": "0.35",
         "orientation": "v",
         "showlegend": true,
         "type": "scatter",
         "x": [
          0,
          1,
          2,
          3,
          4,
          5,
          6,
          7,
          8,
          9,
          10,
          11,
          12,
          13,
          14,
          15,
          16,
          17,
          18,
          19,
          20,
          21,
          22,
          23,
          24,
          25,
          26,
          27,
          28,
          29,
          30,
          31,
          32,
          33,
          34,
          35,
          36,
          37,
          38,
          39,
          40,
          41,
          42,
          43,
          44,
          45,
          46,
          47,
          48,
          49
         ],
         "xaxis": "x",
         "y": [
          0.06592682926829269,
          0.1634878048780488,
          0.21134146341463414,
          0.32,
          0.38990243902439026,
          0.44558536585365854,
          0.485390243902439,
          0.5190243902439025,
          0.5477560975609757,
          0.5745121951219512,
          0.5975365853658536,
          0.6199024390243902,
          0.6382439024390244,
          0.6552926829268293,
          0.6699024390243903,
          0.6834878048780488,
          0.6956341463414634,
          0.7057073170731707,
          0.7160487804878048,
          0.7248780487804878,
          0.7323170731707317,
          0.7393414634146341,
          0.7461707317073171,
          0.7527560975609756,
          0.7584390243902439,
          0.7640487804878049,
          0.7694878048780488,
          0.7745365853658537,
          0.7785609756097561,
          0.7827560975609756,
          0.7866341463414634,
          0.7903414634146342,
          0.793829268292683,
          0.7972439024390244,
          0.7999756097560976,
          0.8028780487804879,
          0.8061219512195122,
          0.809,
          0.8118048780487805,
          0.8141463414634146,
          0.816560975609756,
          0.8190731707317073,
          0.8214634146341463,
          0.8236341463414634,
          0.8255853658536585,
          0.8278292682926829,
          0.8300243902439024,
          0.8320243902439024,
          0.8339024390243902,
          0.8353170731707317
         ],
         "yaxis": "y"
        },
        {
         "hovertemplate": "variable=0.40<br>index=%{x}<br>value=%{y}<extra></extra>",
         "legendgroup": "0.40",
         "line": {
          "color": "#FF6692",
          "dash": "solid"
         },
         "marker": {
          "symbol": "circle"
         },
         "mode": "lines",
         "name": "0.40",
         "orientation": "v",
         "showlegend": true,
         "type": "scatter",
         "x": [
          0,
          1,
          2,
          3,
          4,
          5,
          6,
          7,
          8,
          9,
          10,
          11,
          12,
          13,
          14,
          15,
          16,
          17,
          18,
          19,
          20,
          21,
          22,
          23,
          24,
          25,
          26,
          27,
          28,
          29,
          30,
          31,
          32,
          33,
          34,
          35,
          36,
          37,
          38,
          39,
          40,
          41,
          42,
          43,
          44,
          45,
          46,
          47,
          48,
          49
         ],
         "xaxis": "x",
         "y": [
          0.11358536585365854,
          0.18602439024390244,
          0.2569268292682927,
          0.3267560975609756,
          0.36685365853658536,
          0.40358536585365856,
          0.4425121951219512,
          0.47948780487804876,
          0.5150243902439025,
          0.5475609756097561,
          0.5743414634146341,
          0.5945121951219512,
          0.6134146341463415,
          0.6293658536585366,
          0.6449024390243903,
          0.6587317073170732,
          0.6715365853658537,
          0.6831951219512196,
          0.6934634146341463,
          0.7043170731707317,
          0.7133170731707317,
          0.7220731707317073,
          0.7298292682926829,
          0.7364878048780488,
          0.7437317073170732,
          0.7494390243902439,
          0.7551219512195122,
          0.7604634146341464,
          0.7644878048780488,
          0.7691951219512195,
          0.7739268292682927,
          0.7772926829268293,
          0.7808780487804878,
          0.7842926829268293,
          0.7884634146341464,
          0.7921463414634147,
          0.795219512195122,
          0.7984878048780488,
          0.801219512195122,
          0.8039512195121952,
          0.8065609756097561,
          0.8090975609756098,
          0.8112926829268293,
          0.813780487804878,
          0.8160975609756097,
          0.8184878048780487,
          0.8205365853658536,
          0.8221219512195121,
          0.8239756097560975,
          0.8254878048780487
         ],
         "yaxis": "y"
        },
        {
         "hovertemplate": "variable=0.45<br>index=%{x}<br>value=%{y}<extra></extra>",
         "legendgroup": "0.45",
         "line": {
          "color": "#B6E880",
          "dash": "solid"
         },
         "marker": {
          "symbol": "circle"
         },
         "mode": "lines",
         "name": "0.45",
         "orientation": "v",
         "showlegend": true,
         "type": "scatter",
         "x": [
          0,
          1,
          2,
          3,
          4,
          5,
          6,
          7,
          8,
          9,
          10,
          11,
          12,
          13,
          14,
          15,
          16,
          17,
          18,
          19,
          20,
          21,
          22,
          23,
          24,
          25,
          26,
          27,
          28,
          29,
          30,
          31,
          32,
          33,
          34,
          35,
          36,
          37,
          38,
          39,
          40,
          41,
          42,
          43,
          44,
          45,
          46,
          47,
          48,
          49
         ],
         "xaxis": "x",
         "y": [
          0.09539024390243903,
          0.14417073170731706,
          0.22475609756097562,
          0.22817073170731708,
          0.2431219512195122,
          0.25978048780487806,
          0.27687804878048783,
          0.29492682926829267,
          0.31073170731707317,
          0.3281951219512195,
          0.34773170731707315,
          0.36665853658536585,
          0.3873170731707317,
          0.40824390243902436,
          0.42941463414634146,
          0.4539756097560976,
          0.4805853658536585,
          0.5088536585365854,
          0.5406585365853659,
          0.5691951219512195,
          0.5933414634146341,
          0.6153170731707317,
          0.6337317073170732,
          0.6501463414634147,
          0.665,
          0.6776829268292683,
          0.6898536585365853,
          0.7017317073170731,
          0.7115609756097561,
          0.72,
          0.7276341463414634,
          0.734609756097561,
          0.7411707317073171,
          0.7483658536585366,
          0.7546585365853659,
          0.7608780487804878,
          0.7659268292682927,
          0.7702682926829268,
          0.7746585365853659,
          0.7789024390243903,
          0.7825853658536586,
          0.7861951219512195,
          0.7892926829268293,
          0.7922439024390244,
          0.7951707317073171,
          0.7980243902439025,
          0.8008780487804879,
          0.8030243902439025,
          0.8054146341463415,
          0.8080975609756098
         ],
         "yaxis": "y"
        },
        {
         "hovertemplate": "variable=0.50<br>index=%{x}<br>value=%{y}<extra></extra>",
         "legendgroup": "0.50",
         "line": {
          "color": "#FF97FF",
          "dash": "solid"
         },
         "marker": {
          "symbol": "circle"
         },
         "mode": "lines",
         "name": "0.50",
         "orientation": "v",
         "showlegend": true,
         "type": "scatter",
         "x": [
          0,
          1,
          2,
          3,
          4,
          5,
          6,
          7,
          8,
          9,
          10,
          11,
          12,
          13,
          14,
          15,
          16,
          17,
          18,
          19,
          20,
          21,
          22,
          23,
          24,
          25,
          26,
          27,
          28,
          29,
          30,
          31,
          32,
          33,
          34,
          35,
          36,
          37,
          38,
          39,
          40,
          41,
          42,
          43,
          44,
          45,
          46,
          47,
          48,
          49
         ],
         "xaxis": "x",
         "y": [
          0.09434146341463415,
          0.20726829268292682,
          0.2730487804878049,
          0.29921951219512194,
          0.34936585365853656,
          0.40070731707317075,
          0.4546829268292683,
          0.5039756097560976,
          0.5480731707317074,
          0.5863658536585366,
          0.6160487804878049,
          0.6402682926829268,
          0.6597560975609756,
          0.6756341463414635,
          0.6896585365853658,
          0.7027560975609756,
          0.7135121951219512,
          0.7222195121951219,
          0.7313170731707317,
          0.7395365853658536,
          0.7469268292682927,
          0.7524146341463415,
          0.7591219512195122,
          0.7655121951219512,
          0.7709268292682927,
          0.7764878048780488,
          0.781219512195122,
          0.7859268292682927,
          0.7899024390243903,
          0.7939756097560976,
          0.7974878048780488,
          0.8004634146341464,
          0.8039512195121952,
          0.8076341463414635,
          0.8101219512195122,
          0.8130731707317073,
          0.8158780487804878,
          0.8186097560975609,
          0.8211463414634146,
          0.8237317073170731,
          0.8262195121951219,
          0.8282195121951219,
          0.8302682926829268,
          0.8320731707317073,
          0.8340243902439024,
          0.8362439024390244,
          0.8382439024390244,
          0.8399024390243902,
          0.8413414634146341,
          0.8425609756097561
         ],
         "yaxis": "y"
        },
        {
         "hovertemplate": "variable=0.55<br>index=%{x}<br>value=%{y}<extra></extra>",
         "legendgroup": "0.55",
         "line": {
          "color": "#FECB52",
          "dash": "solid"
         },
         "marker": {
          "symbol": "circle"
         },
         "mode": "lines",
         "name": "0.55",
         "orientation": "v",
         "showlegend": true,
         "type": "scatter",
         "x": [
          0,
          1,
          2,
          3,
          4,
          5,
          6,
          7,
          8,
          9,
          10,
          11,
          12,
          13,
          14,
          15,
          16,
          17,
          18,
          19,
          20,
          21,
          22,
          23,
          24,
          25,
          26,
          27,
          28,
          29,
          30,
          31,
          32,
          33,
          34,
          35,
          36,
          37,
          38,
          39,
          40,
          41,
          42,
          43,
          44,
          45,
          46,
          47,
          48,
          49
         ],
         "xaxis": "x",
         "y": [
          0.1095609756097561,
          0.3108048780487805,
          0.33695121951219514,
          0.31697560975609756,
          0.3324146341463415,
          0.34729268292682924,
          0.36373170731707316,
          0.3837317073170732,
          0.4049756097560976,
          0.4257560975609756,
          0.4455609756097561,
          0.4645365853658537,
          0.4827560975609756,
          0.5025853658536585,
          0.5229024390243903,
          0.5436341463414635,
          0.565170731707317,
          0.5862439024390244,
          0.6048536585365853,
          0.6206585365853658,
          0.633390243902439,
          0.6428780487804878,
          0.6505365853658537,
          0.6577804878048781,
          0.6625365853658537,
          0.6676829268292683,
          0.6725609756097561,
          0.6775121951219513,
          0.6821219512195122,
          0.686829268292683,
          0.690390243902439,
          0.6943170731707317,
          0.6984634146341463,
          0.7089024390243902,
          0.7171951219512195,
          0.73,
          0.7415121951219512,
          0.749219512195122,
          0.7541951219512195,
          0.7580487804878049,
          0.7633658536585366,
          0.7673170731707317,
          0.7711951219512195,
          0.7749756097560976,
          0.7791951219512195,
          0.7827317073170732,
          0.7857560975609756,
          0.7891951219512195,
          0.7917560975609756,
          0.794219512195122
         ],
         "yaxis": "y"
        },
        {
         "hovertemplate": "variable=0.60<br>index=%{x}<br>value=%{y}<extra></extra>",
         "legendgroup": "0.60",
         "line": {
          "color": "#636efa",
          "dash": "solid"
         },
         "marker": {
          "symbol": "circle"
         },
         "mode": "lines",
         "name": "0.60",
         "orientation": "v",
         "showlegend": true,
         "type": "scatter",
         "x": [
          0,
          1,
          2,
          3,
          4,
          5,
          6,
          7,
          8,
          9,
          10,
          11,
          12,
          13,
          14,
          15,
          16,
          17,
          18,
          19,
          20,
          21,
          22,
          23,
          24,
          25,
          26,
          27,
          28,
          29,
          30,
          31,
          32,
          33,
          34,
          35,
          36,
          37,
          38,
          39,
          40,
          41,
          42,
          43,
          44,
          45,
          46,
          47,
          48,
          49
         ],
         "xaxis": "x",
         "y": [
          0.09151219512195122,
          0.2493170731707317,
          0.23758536585365853,
          0.3005121951219512,
          0.3451463414634146,
          0.37902439024390244,
          0.41024390243902437,
          0.4425121951219512,
          0.475780487804878,
          0.5047560975609756,
          0.5263170731707317,
          0.5469268292682927,
          0.5629024390243902,
          0.5769756097560975,
          0.589780487804878,
          0.602390243902439,
          0.6128536585365854,
          0.6227317073170732,
          0.630609756097561,
          0.6397560975609756,
          0.6501463414634147,
          0.6610243902439025,
          0.6727804878048781,
          0.684609756097561,
          0.6947073170731707,
          0.7033170731707317,
          0.7109756097560975,
          0.718170731707317,
          0.724780487804878,
          0.7307317073170732,
          0.7364390243902439,
          0.7417317073170732,
          0.7465609756097561,
          0.7516829268292683,
          0.7565121951219512,
          0.7605853658536585,
          0.7653658536585366,
          0.769609756097561,
          0.7743414634146342,
          0.7782926829268293,
          0.7827317073170732,
          0.7866585365853659,
          0.7898536585365854,
          0.7931951219512196,
          0.797,
          0.8005121951219513,
          0.8039024390243903,
          0.8068536585365854,
          0.8100731707317074,
          0.8126341463414634
         ],
         "yaxis": "y"
        },
        {
         "hovertemplate": "variable=0.65<br>index=%{x}<br>value=%{y}<extra></extra>",
         "legendgroup": "0.65",
         "line": {
          "color": "#EF553B",
          "dash": "solid"
         },
         "marker": {
          "symbol": "circle"
         },
         "mode": "lines",
         "name": "0.65",
         "orientation": "v",
         "showlegend": true,
         "type": "scatter",
         "x": [
          0,
          1,
          2,
          3,
          4,
          5,
          6,
          7,
          8,
          9,
          10,
          11,
          12,
          13,
          14,
          15,
          16,
          17,
          18,
          19,
          20,
          21,
          22,
          23,
          24,
          25,
          26,
          27,
          28,
          29,
          30,
          31,
          32,
          33,
          34,
          35,
          36,
          37,
          38,
          39,
          40,
          41,
          42,
          43,
          44,
          45,
          46,
          47,
          48,
          49
         ],
         "xaxis": "x",
         "y": [
          0.13865853658536587,
          0.3193170731707317,
          0.34014634146341466,
          0.35717073170731706,
          0.3907560975609756,
          0.41948780487804876,
          0.4458780487804878,
          0.4691463414634146,
          0.4881951219512195,
          0.5087317073170732,
          0.5272682926829269,
          0.545219512195122,
          0.5619024390243903,
          0.578390243902439,
          0.5944634146341463,
          0.6091951219512195,
          0.622390243902439,
          0.6365609756097561,
          0.6501951219512195,
          0.6666585365853659,
          0.6841219512195122,
          0.7008780487804878,
          0.7168780487804878,
          0.7297317073170732,
          0.7375121951219512,
          0.7464878048780488,
          0.7534634146341463,
          0.7587804878048781,
          0.764390243902439,
          0.7694878048780488,
          0.7751463414634147,
          0.7803658536585366,
          0.7854634146341464,
          0.7890975609756098,
          0.7933414634146342,
          0.7969268292682927,
          0.7999024390243903,
          0.8031219512195122,
          0.8063902439024391,
          0.8093658536585366,
          0.8122439024390244,
          0.8144390243902438,
          0.8175121951219512,
          0.8196341463414634,
          0.8219512195121951,
          0.8234634146341463,
          0.8252439024390243,
          0.8239024390243902,
          0.8211463414634146,
          0.8060487804878049
         ],
         "yaxis": "y"
        }
       ],
       "layout": {
        "legend": {
         "title": {
          "text": "variable"
         },
         "tracegroupgap": 0
        },
        "margin": {
         "t": 60
        },
        "template": {
         "data": {
          "bar": [
           {
            "error_x": {
             "color": "#2a3f5f"
            },
            "error_y": {
             "color": "#2a3f5f"
            },
            "marker": {
             "line": {
              "color": "#E5ECF6",
              "width": 0.5
             },
             "pattern": {
              "fillmode": "overlay",
              "size": 10,
              "solidity": 0.2
             }
            },
            "type": "bar"
           }
          ],
          "barpolar": [
           {
            "marker": {
             "line": {
              "color": "#E5ECF6",
              "width": 0.5
             },
             "pattern": {
              "fillmode": "overlay",
              "size": 10,
              "solidity": 0.2
             }
            },
            "type": "barpolar"
           }
          ],
          "carpet": [
           {
            "aaxis": {
             "endlinecolor": "#2a3f5f",
             "gridcolor": "white",
             "linecolor": "white",
             "minorgridcolor": "white",
             "startlinecolor": "#2a3f5f"
            },
            "baxis": {
             "endlinecolor": "#2a3f5f",
             "gridcolor": "white",
             "linecolor": "white",
             "minorgridcolor": "white",
             "startlinecolor": "#2a3f5f"
            },
            "type": "carpet"
           }
          ],
          "choropleth": [
           {
            "colorbar": {
             "outlinewidth": 0,
             "ticks": ""
            },
            "type": "choropleth"
           }
          ],
          "contour": [
           {
            "colorbar": {
             "outlinewidth": 0,
             "ticks": ""
            },
            "colorscale": [
             [
              0,
              "#0d0887"
             ],
             [
              0.1111111111111111,
              "#46039f"
             ],
             [
              0.2222222222222222,
              "#7201a8"
             ],
             [
              0.3333333333333333,
              "#9c179e"
             ],
             [
              0.4444444444444444,
              "#bd3786"
             ],
             [
              0.5555555555555556,
              "#d8576b"
             ],
             [
              0.6666666666666666,
              "#ed7953"
             ],
             [
              0.7777777777777778,
              "#fb9f3a"
             ],
             [
              0.8888888888888888,
              "#fdca26"
             ],
             [
              1,
              "#f0f921"
             ]
            ],
            "type": "contour"
           }
          ],
          "contourcarpet": [
           {
            "colorbar": {
             "outlinewidth": 0,
             "ticks": ""
            },
            "type": "contourcarpet"
           }
          ],
          "heatmap": [
           {
            "colorbar": {
             "outlinewidth": 0,
             "ticks": ""
            },
            "colorscale": [
             [
              0,
              "#0d0887"
             ],
             [
              0.1111111111111111,
              "#46039f"
             ],
             [
              0.2222222222222222,
              "#7201a8"
             ],
             [
              0.3333333333333333,
              "#9c179e"
             ],
             [
              0.4444444444444444,
              "#bd3786"
             ],
             [
              0.5555555555555556,
              "#d8576b"
             ],
             [
              0.6666666666666666,
              "#ed7953"
             ],
             [
              0.7777777777777778,
              "#fb9f3a"
             ],
             [
              0.8888888888888888,
              "#fdca26"
             ],
             [
              1,
              "#f0f921"
             ]
            ],
            "type": "heatmap"
           }
          ],
          "heatmapgl": [
           {
            "colorbar": {
             "outlinewidth": 0,
             "ticks": ""
            },
            "colorscale": [
             [
              0,
              "#0d0887"
             ],
             [
              0.1111111111111111,
              "#46039f"
             ],
             [
              0.2222222222222222,
              "#7201a8"
             ],
             [
              0.3333333333333333,
              "#9c179e"
             ],
             [
              0.4444444444444444,
              "#bd3786"
             ],
             [
              0.5555555555555556,
              "#d8576b"
             ],
             [
              0.6666666666666666,
              "#ed7953"
             ],
             [
              0.7777777777777778,
              "#fb9f3a"
             ],
             [
              0.8888888888888888,
              "#fdca26"
             ],
             [
              1,
              "#f0f921"
             ]
            ],
            "type": "heatmapgl"
           }
          ],
          "histogram": [
           {
            "marker": {
             "pattern": {
              "fillmode": "overlay",
              "size": 10,
              "solidity": 0.2
             }
            },
            "type": "histogram"
           }
          ],
          "histogram2d": [
           {
            "colorbar": {
             "outlinewidth": 0,
             "ticks": ""
            },
            "colorscale": [
             [
              0,
              "#0d0887"
             ],
             [
              0.1111111111111111,
              "#46039f"
             ],
             [
              0.2222222222222222,
              "#7201a8"
             ],
             [
              0.3333333333333333,
              "#9c179e"
             ],
             [
              0.4444444444444444,
              "#bd3786"
             ],
             [
              0.5555555555555556,
              "#d8576b"
             ],
             [
              0.6666666666666666,
              "#ed7953"
             ],
             [
              0.7777777777777778,
              "#fb9f3a"
             ],
             [
              0.8888888888888888,
              "#fdca26"
             ],
             [
              1,
              "#f0f921"
             ]
            ],
            "type": "histogram2d"
           }
          ],
          "histogram2dcontour": [
           {
            "colorbar": {
             "outlinewidth": 0,
             "ticks": ""
            },
            "colorscale": [
             [
              0,
              "#0d0887"
             ],
             [
              0.1111111111111111,
              "#46039f"
             ],
             [
              0.2222222222222222,
              "#7201a8"
             ],
             [
              0.3333333333333333,
              "#9c179e"
             ],
             [
              0.4444444444444444,
              "#bd3786"
             ],
             [
              0.5555555555555556,
              "#d8576b"
             ],
             [
              0.6666666666666666,
              "#ed7953"
             ],
             [
              0.7777777777777778,
              "#fb9f3a"
             ],
             [
              0.8888888888888888,
              "#fdca26"
             ],
             [
              1,
              "#f0f921"
             ]
            ],
            "type": "histogram2dcontour"
           }
          ],
          "mesh3d": [
           {
            "colorbar": {
             "outlinewidth": 0,
             "ticks": ""
            },
            "type": "mesh3d"
           }
          ],
          "parcoords": [
           {
            "line": {
             "colorbar": {
              "outlinewidth": 0,
              "ticks": ""
             }
            },
            "type": "parcoords"
           }
          ],
          "pie": [
           {
            "automargin": true,
            "type": "pie"
           }
          ],
          "scatter": [
           {
            "marker": {
             "colorbar": {
              "outlinewidth": 0,
              "ticks": ""
             }
            },
            "type": "scatter"
           }
          ],
          "scatter3d": [
           {
            "line": {
             "colorbar": {
              "outlinewidth": 0,
              "ticks": ""
             }
            },
            "marker": {
             "colorbar": {
              "outlinewidth": 0,
              "ticks": ""
             }
            },
            "type": "scatter3d"
           }
          ],
          "scattercarpet": [
           {
            "marker": {
             "colorbar": {
              "outlinewidth": 0,
              "ticks": ""
             }
            },
            "type": "scattercarpet"
           }
          ],
          "scattergeo": [
           {
            "marker": {
             "colorbar": {
              "outlinewidth": 0,
              "ticks": ""
             }
            },
            "type": "scattergeo"
           }
          ],
          "scattergl": [
           {
            "marker": {
             "colorbar": {
              "outlinewidth": 0,
              "ticks": ""
             }
            },
            "type": "scattergl"
           }
          ],
          "scattermapbox": [
           {
            "marker": {
             "colorbar": {
              "outlinewidth": 0,
              "ticks": ""
             }
            },
            "type": "scattermapbox"
           }
          ],
          "scatterpolar": [
           {
            "marker": {
             "colorbar": {
              "outlinewidth": 0,
              "ticks": ""
             }
            },
            "type": "scatterpolar"
           }
          ],
          "scatterpolargl": [
           {
            "marker": {
             "colorbar": {
              "outlinewidth": 0,
              "ticks": ""
             }
            },
            "type": "scatterpolargl"
           }
          ],
          "scatterternary": [
           {
            "marker": {
             "colorbar": {
              "outlinewidth": 0,
              "ticks": ""
             }
            },
            "type": "scatterternary"
           }
          ],
          "surface": [
           {
            "colorbar": {
             "outlinewidth": 0,
             "ticks": ""
            },
            "colorscale": [
             [
              0,
              "#0d0887"
             ],
             [
              0.1111111111111111,
              "#46039f"
             ],
             [
              0.2222222222222222,
              "#7201a8"
             ],
             [
              0.3333333333333333,
              "#9c179e"
             ],
             [
              0.4444444444444444,
              "#bd3786"
             ],
             [
              0.5555555555555556,
              "#d8576b"
             ],
             [
              0.6666666666666666,
              "#ed7953"
             ],
             [
              0.7777777777777778,
              "#fb9f3a"
             ],
             [
              0.8888888888888888,
              "#fdca26"
             ],
             [
              1,
              "#f0f921"
             ]
            ],
            "type": "surface"
           }
          ],
          "table": [
           {
            "cells": {
             "fill": {
              "color": "#EBF0F8"
             },
             "line": {
              "color": "white"
             }
            },
            "header": {
             "fill": {
              "color": "#C8D4E3"
             },
             "line": {
              "color": "white"
             }
            },
            "type": "table"
           }
          ]
         },
         "layout": {
          "annotationdefaults": {
           "arrowcolor": "#2a3f5f",
           "arrowhead": 0,
           "arrowwidth": 1
          },
          "autotypenumbers": "strict",
          "coloraxis": {
           "colorbar": {
            "outlinewidth": 0,
            "ticks": ""
           }
          },
          "colorscale": {
           "diverging": [
            [
             0,
             "#8e0152"
            ],
            [
             0.1,
             "#c51b7d"
            ],
            [
             0.2,
             "#de77ae"
            ],
            [
             0.3,
             "#f1b6da"
            ],
            [
             0.4,
             "#fde0ef"
            ],
            [
             0.5,
             "#f7f7f7"
            ],
            [
             0.6,
             "#e6f5d0"
            ],
            [
             0.7,
             "#b8e186"
            ],
            [
             0.8,
             "#7fbc41"
            ],
            [
             0.9,
             "#4d9221"
            ],
            [
             1,
             "#276419"
            ]
           ],
           "sequential": [
            [
             0,
             "#0d0887"
            ],
            [
             0.1111111111111111,
             "#46039f"
            ],
            [
             0.2222222222222222,
             "#7201a8"
            ],
            [
             0.3333333333333333,
             "#9c179e"
            ],
            [
             0.4444444444444444,
             "#bd3786"
            ],
            [
             0.5555555555555556,
             "#d8576b"
            ],
            [
             0.6666666666666666,
             "#ed7953"
            ],
            [
             0.7777777777777778,
             "#fb9f3a"
            ],
            [
             0.8888888888888888,
             "#fdca26"
            ],
            [
             1,
             "#f0f921"
            ]
           ],
           "sequentialminus": [
            [
             0,
             "#0d0887"
            ],
            [
             0.1111111111111111,
             "#46039f"
            ],
            [
             0.2222222222222222,
             "#7201a8"
            ],
            [
             0.3333333333333333,
             "#9c179e"
            ],
            [
             0.4444444444444444,
             "#bd3786"
            ],
            [
             0.5555555555555556,
             "#d8576b"
            ],
            [
             0.6666666666666666,
             "#ed7953"
            ],
            [
             0.7777777777777778,
             "#fb9f3a"
            ],
            [
             0.8888888888888888,
             "#fdca26"
            ],
            [
             1,
             "#f0f921"
            ]
           ]
          },
          "colorway": [
           "#636efa",
           "#EF553B",
           "#00cc96",
           "#ab63fa",
           "#FFA15A",
           "#19d3f3",
           "#FF6692",
           "#B6E880",
           "#FF97FF",
           "#FECB52"
          ],
          "font": {
           "color": "#2a3f5f"
          },
          "geo": {
           "bgcolor": "white",
           "lakecolor": "white",
           "landcolor": "#E5ECF6",
           "showlakes": true,
           "showland": true,
           "subunitcolor": "white"
          },
          "hoverlabel": {
           "align": "left"
          },
          "hovermode": "closest",
          "mapbox": {
           "style": "light"
          },
          "paper_bgcolor": "white",
          "plot_bgcolor": "#E5ECF6",
          "polar": {
           "angularaxis": {
            "gridcolor": "white",
            "linecolor": "white",
            "ticks": ""
           },
           "bgcolor": "#E5ECF6",
           "radialaxis": {
            "gridcolor": "white",
            "linecolor": "white",
            "ticks": ""
           }
          },
          "scene": {
           "xaxis": {
            "backgroundcolor": "#E5ECF6",
            "gridcolor": "white",
            "gridwidth": 2,
            "linecolor": "white",
            "showbackground": true,
            "ticks": "",
            "zerolinecolor": "white"
           },
           "yaxis": {
            "backgroundcolor": "#E5ECF6",
            "gridcolor": "white",
            "gridwidth": 2,
            "linecolor": "white",
            "showbackground": true,
            "ticks": "",
            "zerolinecolor": "white"
           },
           "zaxis": {
            "backgroundcolor": "#E5ECF6",
            "gridcolor": "white",
            "gridwidth": 2,
            "linecolor": "white",
            "showbackground": true,
            "ticks": "",
            "zerolinecolor": "white"
           }
          },
          "shapedefaults": {
           "line": {
            "color": "#2a3f5f"
           }
          },
          "ternary": {
           "aaxis": {
            "gridcolor": "white",
            "linecolor": "white",
            "ticks": ""
           },
           "baxis": {
            "gridcolor": "white",
            "linecolor": "white",
            "ticks": ""
           },
           "bgcolor": "#E5ECF6",
           "caxis": {
            "gridcolor": "white",
            "linecolor": "white",
            "ticks": ""
           }
          },
          "title": {
           "x": 0.05
          },
          "xaxis": {
           "automargin": true,
           "gridcolor": "white",
           "linecolor": "white",
           "ticks": "",
           "title": {
            "standoff": 15
           },
           "zerolinecolor": "white",
           "zerolinewidth": 2
          },
          "yaxis": {
           "automargin": true,
           "gridcolor": "white",
           "linecolor": "white",
           "ticks": "",
           "title": {
            "standoff": 15
           },
           "zerolinecolor": "white",
           "zerolinewidth": 2
          }
         }
        },
        "xaxis": {
         "anchor": "y",
         "domain": [
          0,
          1
         ],
         "title": {
          "text": "index"
         }
        },
        "yaxis": {
         "anchor": "x",
         "domain": [
          0,
          1
         ],
         "title": {
          "text": "value"
         }
        }
       }
      },
      "text/html": [
       "<div>                            <div id=\"3a718b95-bd53-4398-a546-2f942db9d70b\" class=\"plotly-graph-div\" style=\"height:525px; width:100%;\"></div>            <script type=\"text/javascript\">                require([\"plotly\"], function(Plotly) {                    window.PLOTLYENV=window.PLOTLYENV || {};                                    if (document.getElementById(\"3a718b95-bd53-4398-a546-2f942db9d70b\")) {                    Plotly.newPlot(                        \"3a718b95-bd53-4398-a546-2f942db9d70b\",                        [{\"hovertemplate\":\"variable=0.10<br>index=%{x}<br>value=%{y}<extra></extra>\",\"legendgroup\":\"0.10\",\"line\":{\"color\":\"#636efa\",\"dash\":\"solid\"},\"marker\":{\"symbol\":\"circle\"},\"mode\":\"lines\",\"name\":\"0.10\",\"orientation\":\"v\",\"showlegend\":true,\"x\":[0,1,2,3,4,5,6,7,8,9,10,11,12,13,14,15,16,17,18,19,20,21,22,23,24,25,26,27,28,29,30,31,32,33,34,35,36,37,38,39,40,41,42,43,44,45,46,47,48,49],\"xaxis\":\"x\",\"y\":[0.12295121951219512,0.1691219512195122,0.19002439024390244,0.25390243902439025,0.30053658536585365,0.33946341463414637,0.372390243902439,0.40190243902439027,0.42897560975609755,0.4522439024390244,0.4740243902439024,0.4943658536585366,0.5124390243902439,0.5287804878048781,0.5442926829268293,0.5576341463414635,0.5704146341463414,0.5825121951219512,0.5934390243902439,0.6040731707317073,0.6131951219512195,0.6218780487804878,0.6296829268292683,0.6373658536585366,0.6441951219512195,0.650609756097561,0.656829268292683,0.6633902439024391,0.669219512195122,0.6750487804878049,0.6806585365853659,0.6854878048780488,0.6898536585365853,0.6946097560975609,0.6984634146341463,0.7023414634146341,0.7063170731707317,0.7104390243902439,0.714,0.7174146341463414,0.7202926829268292,0.723609756097561,0.7266829268292683,0.7293170731707317,0.7323658536585366,0.7349756097560975,0.7381463414634146,0.7401951219512195,0.7421951219512195,0.7443658536585366],\"yaxis\":\"y\",\"type\":\"scatter\"},{\"hovertemplate\":\"variable=0.15<br>index=%{x}<br>value=%{y}<extra></extra>\",\"legendgroup\":\"0.15\",\"line\":{\"color\":\"#EF553B\",\"dash\":\"solid\"},\"marker\":{\"symbol\":\"circle\"},\"mode\":\"lines\",\"name\":\"0.15\",\"orientation\":\"v\",\"showlegend\":true,\"x\":[0,1,2,3,4,5,6,7,8,9,10,11,12,13,14,15,16,17,18,19,20,21,22,23,24,25,26,27,28,29,30,31,32,33,34,35,36,37,38,39,40,41,42,43,44,45,46,47,48,49],\"xaxis\":\"x\",\"y\":[0.11721951219512194,0.14392682926829267,0.1831219512195122,0.25165853658536586,0.3050731707317073,0.35173170731707315,0.3889268292682927,0.41929268292682925,0.44582926829268293,0.47104878048780485,0.4930731707317073,0.5127317073170732,0.5295365853658537,0.5440975609756098,0.5573658536585366,0.5694146341463414,0.5805853658536585,0.5915121951219512,0.6010731707317073,0.6100975609756097,0.618390243902439,0.6263414634146341,0.6333658536585366,0.6395121951219512,0.6462926829268293,0.6528048780487805,0.6588780487804878,0.6643414634146342,0.669609756097561,0.6756585365853659,0.6809512195121952,0.6859024390243903,0.690170731707317,0.6952682926829268,0.6996829268292682,0.7034878048780487,0.7076585365853658,0.7110975609756097,0.714390243902439,0.7177560975609756,0.721390243902439,0.7252439024390244,0.7284146341463414,0.7317560975609756,0.7351707317073171,0.7378536585365854,0.7401951219512195,0.7428292682926829,0.7459512195121951,0.7487560975609756],\"yaxis\":\"y\",\"type\":\"scatter\"},{\"hovertemplate\":\"variable=0.20<br>index=%{x}<br>value=%{y}<extra></extra>\",\"legendgroup\":\"0.20\",\"line\":{\"color\":\"#00cc96\",\"dash\":\"solid\"},\"marker\":{\"symbol\":\"circle\"},\"mode\":\"lines\",\"name\":\"0.20\",\"orientation\":\"v\",\"showlegend\":true,\"x\":[0,1,2,3,4,5,6,7,8,9,10,11,12,13,14,15,16,17,18,19,20,21,22,23,24,25,26,27,28,29,30,31,32,33,34,35,36,37,38,39,40,41,42,43,44,45,46,47,48,49],\"xaxis\":\"x\",\"y\":[0.08102439024390244,0.18829268292682927,0.20412195121951218,0.2589268292682927,0.2843170731707317,0.31470731707317073,0.34114634146341466,0.3643658536585366,0.38746341463414635,0.4089512195121951,0.4304878048780488,0.4534146341463415,0.4757073170731707,0.4980731707317073,0.5201463414634147,0.5428536585365854,0.563170731707317,0.5819024390243902,0.6005609756097561,0.6167317073170732,0.6308292682926829,0.6434390243902439,0.6544634146341464,0.6648536585365854,0.6730975609756098,0.679829268292683,0.6866585365853659,0.6928780487804878,0.6991951219512195,0.7047317073170731,0.7093170731707317,0.7143170731707317,0.7195609756097561,0.7240243902439024,0.7279268292682927,0.7317073170731707,0.7352439024390244,0.7390243902439024,0.7429512195121951,0.7463414634146341,0.749609756097561,0.752780487804878,0.7560731707317073,0.7589268292682927,0.7611707317073171,0.7632926829268293,0.766219512195122,0.7683414634146342,0.7709756097560976,0.7730975609756098],\"yaxis\":\"y\",\"type\":\"scatter\"},{\"hovertemplate\":\"variable=0.25<br>index=%{x}<br>value=%{y}<extra></extra>\",\"legendgroup\":\"0.25\",\"line\":{\"color\":\"#ab63fa\",\"dash\":\"solid\"},\"marker\":{\"symbol\":\"circle\"},\"mode\":\"lines\",\"name\":\"0.25\",\"orientation\":\"v\",\"showlegend\":true,\"x\":[0,1,2,3,4,5,6,7,8,9,10,11,12,13,14,15,16,17,18,19,20,21,22,23,24,25,26,27,28,29,30,31,32,33,34,35,36,37,38,39,40,41,42,43,44,45,46,47,48,49],\"xaxis\":\"x\",\"y\":[0.10441463414634146,0.2094390243902439,0.28436585365853656,0.36197560975609755,0.4262439024390244,0.5086829268292683,0.5445609756097561,0.5730975609756097,0.5975365853658536,0.6181463414634146,0.6360243902439024,0.6501463414634147,0.6639268292682927,0.6752926829268293,0.6852926829268293,0.6956585365853658,0.7048292682926829,0.7129268292682926,0.7201951219512195,0.7270731707317073,0.7339024390243902,0.7392195121951219,0.7447560975609756,0.7495853658536585,0.7550243902439024,0.7597560975609756,0.7635853658536585,0.767609756097561,0.7720975609756098,0.7750243902439025,0.7784634146341464,0.7821463414634147,0.7852682926829269,0.7879268292682927,0.7911951219512195,0.7934390243902439,0.7960975609756098,0.798609756097561,0.8011707317073171,0.8033658536585366,0.8054634146341464,0.8076585365853659,0.8095609756097562,0.8117317073170732,0.8133170731707317,0.8153658536585365,0.817170731707317,0.8186585365853658,0.8200975609756097,0.8216341463414634],\"yaxis\":\"y\",\"type\":\"scatter\"},{\"hovertemplate\":\"variable=0.30<br>index=%{x}<br>value=%{y}<extra></extra>\",\"legendgroup\":\"0.30\",\"line\":{\"color\":\"#FFA15A\",\"dash\":\"solid\"},\"marker\":{\"symbol\":\"circle\"},\"mode\":\"lines\",\"name\":\"0.30\",\"orientation\":\"v\",\"showlegend\":true,\"x\":[0,1,2,3,4,5,6,7,8,9,10,11,12,13,14,15,16,17,18,19,20,21,22,23,24,25,26,27,28,29,30,31,32,33,34,35,36,37,38,39,40,41,42,43,44,45,46,47,48,49],\"xaxis\":\"x\",\"y\":[0.09863414634146342,0.1916829268292683,0.2792439024390244,0.37570731707317073,0.3940975609756098,0.4112682926829268,0.42697560975609755,0.4432926829268293,0.4573170731707317,0.4707560975609756,0.4844390243902439,0.49709756097560975,0.5090975609756098,0.5213414634146342,0.5318536585365854,0.5434390243902439,0.5550731707317074,0.5664390243902439,0.5779268292682926,0.5911219512195122,0.6033170731707317,0.6160243902439024,0.6295853658536585,0.642,0.6533414634146342,0.6625853658536586,0.6702682926829269,0.6775365853658537,0.6845121951219513,0.6922682926829268,0.6980975609756097,0.7035365853658536,0.7091463414634146,0.7148048780487805,0.7200731707317073,0.7247560975609756,0.7297560975609756,0.7341707317073171,0.7384390243902439,0.7429268292682927,0.7467073170731707,0.7501707317073171,0.7532682926829268,0.7560975609756098,0.7598048780487805,0.7624634146341464,0.7655121951219512,0.7678536585365854,0.7700731707317073,0.7724146341463415],\"yaxis\":\"y\",\"type\":\"scatter\"},{\"hovertemplate\":\"variable=0.35<br>index=%{x}<br>value=%{y}<extra></extra>\",\"legendgroup\":\"0.35\",\"line\":{\"color\":\"#19d3f3\",\"dash\":\"solid\"},\"marker\":{\"symbol\":\"circle\"},\"mode\":\"lines\",\"name\":\"0.35\",\"orientation\":\"v\",\"showlegend\":true,\"x\":[0,1,2,3,4,5,6,7,8,9,10,11,12,13,14,15,16,17,18,19,20,21,22,23,24,25,26,27,28,29,30,31,32,33,34,35,36,37,38,39,40,41,42,43,44,45,46,47,48,49],\"xaxis\":\"x\",\"y\":[0.06592682926829269,0.1634878048780488,0.21134146341463414,0.32,0.38990243902439026,0.44558536585365854,0.485390243902439,0.5190243902439025,0.5477560975609757,0.5745121951219512,0.5975365853658536,0.6199024390243902,0.6382439024390244,0.6552926829268293,0.6699024390243903,0.6834878048780488,0.6956341463414634,0.7057073170731707,0.7160487804878048,0.7248780487804878,0.7323170731707317,0.7393414634146341,0.7461707317073171,0.7527560975609756,0.7584390243902439,0.7640487804878049,0.7694878048780488,0.7745365853658537,0.7785609756097561,0.7827560975609756,0.7866341463414634,0.7903414634146342,0.793829268292683,0.7972439024390244,0.7999756097560976,0.8028780487804879,0.8061219512195122,0.809,0.8118048780487805,0.8141463414634146,0.816560975609756,0.8190731707317073,0.8214634146341463,0.8236341463414634,0.8255853658536585,0.8278292682926829,0.8300243902439024,0.8320243902439024,0.8339024390243902,0.8353170731707317],\"yaxis\":\"y\",\"type\":\"scatter\"},{\"hovertemplate\":\"variable=0.40<br>index=%{x}<br>value=%{y}<extra></extra>\",\"legendgroup\":\"0.40\",\"line\":{\"color\":\"#FF6692\",\"dash\":\"solid\"},\"marker\":{\"symbol\":\"circle\"},\"mode\":\"lines\",\"name\":\"0.40\",\"orientation\":\"v\",\"showlegend\":true,\"x\":[0,1,2,3,4,5,6,7,8,9,10,11,12,13,14,15,16,17,18,19,20,21,22,23,24,25,26,27,28,29,30,31,32,33,34,35,36,37,38,39,40,41,42,43,44,45,46,47,48,49],\"xaxis\":\"x\",\"y\":[0.11358536585365854,0.18602439024390244,0.2569268292682927,0.3267560975609756,0.36685365853658536,0.40358536585365856,0.4425121951219512,0.47948780487804876,0.5150243902439025,0.5475609756097561,0.5743414634146341,0.5945121951219512,0.6134146341463415,0.6293658536585366,0.6449024390243903,0.6587317073170732,0.6715365853658537,0.6831951219512196,0.6934634146341463,0.7043170731707317,0.7133170731707317,0.7220731707317073,0.7298292682926829,0.7364878048780488,0.7437317073170732,0.7494390243902439,0.7551219512195122,0.7604634146341464,0.7644878048780488,0.7691951219512195,0.7739268292682927,0.7772926829268293,0.7808780487804878,0.7842926829268293,0.7884634146341464,0.7921463414634147,0.795219512195122,0.7984878048780488,0.801219512195122,0.8039512195121952,0.8065609756097561,0.8090975609756098,0.8112926829268293,0.813780487804878,0.8160975609756097,0.8184878048780487,0.8205365853658536,0.8221219512195121,0.8239756097560975,0.8254878048780487],\"yaxis\":\"y\",\"type\":\"scatter\"},{\"hovertemplate\":\"variable=0.45<br>index=%{x}<br>value=%{y}<extra></extra>\",\"legendgroup\":\"0.45\",\"line\":{\"color\":\"#B6E880\",\"dash\":\"solid\"},\"marker\":{\"symbol\":\"circle\"},\"mode\":\"lines\",\"name\":\"0.45\",\"orientation\":\"v\",\"showlegend\":true,\"x\":[0,1,2,3,4,5,6,7,8,9,10,11,12,13,14,15,16,17,18,19,20,21,22,23,24,25,26,27,28,29,30,31,32,33,34,35,36,37,38,39,40,41,42,43,44,45,46,47,48,49],\"xaxis\":\"x\",\"y\":[0.09539024390243903,0.14417073170731706,0.22475609756097562,0.22817073170731708,0.2431219512195122,0.25978048780487806,0.27687804878048783,0.29492682926829267,0.31073170731707317,0.3281951219512195,0.34773170731707315,0.36665853658536585,0.3873170731707317,0.40824390243902436,0.42941463414634146,0.4539756097560976,0.4805853658536585,0.5088536585365854,0.5406585365853659,0.5691951219512195,0.5933414634146341,0.6153170731707317,0.6337317073170732,0.6501463414634147,0.665,0.6776829268292683,0.6898536585365853,0.7017317073170731,0.7115609756097561,0.72,0.7276341463414634,0.734609756097561,0.7411707317073171,0.7483658536585366,0.7546585365853659,0.7608780487804878,0.7659268292682927,0.7702682926829268,0.7746585365853659,0.7789024390243903,0.7825853658536586,0.7861951219512195,0.7892926829268293,0.7922439024390244,0.7951707317073171,0.7980243902439025,0.8008780487804879,0.8030243902439025,0.8054146341463415,0.8080975609756098],\"yaxis\":\"y\",\"type\":\"scatter\"},{\"hovertemplate\":\"variable=0.50<br>index=%{x}<br>value=%{y}<extra></extra>\",\"legendgroup\":\"0.50\",\"line\":{\"color\":\"#FF97FF\",\"dash\":\"solid\"},\"marker\":{\"symbol\":\"circle\"},\"mode\":\"lines\",\"name\":\"0.50\",\"orientation\":\"v\",\"showlegend\":true,\"x\":[0,1,2,3,4,5,6,7,8,9,10,11,12,13,14,15,16,17,18,19,20,21,22,23,24,25,26,27,28,29,30,31,32,33,34,35,36,37,38,39,40,41,42,43,44,45,46,47,48,49],\"xaxis\":\"x\",\"y\":[0.09434146341463415,0.20726829268292682,0.2730487804878049,0.29921951219512194,0.34936585365853656,0.40070731707317075,0.4546829268292683,0.5039756097560976,0.5480731707317074,0.5863658536585366,0.6160487804878049,0.6402682926829268,0.6597560975609756,0.6756341463414635,0.6896585365853658,0.7027560975609756,0.7135121951219512,0.7222195121951219,0.7313170731707317,0.7395365853658536,0.7469268292682927,0.7524146341463415,0.7591219512195122,0.7655121951219512,0.7709268292682927,0.7764878048780488,0.781219512195122,0.7859268292682927,0.7899024390243903,0.7939756097560976,0.7974878048780488,0.8004634146341464,0.8039512195121952,0.8076341463414635,0.8101219512195122,0.8130731707317073,0.8158780487804878,0.8186097560975609,0.8211463414634146,0.8237317073170731,0.8262195121951219,0.8282195121951219,0.8302682926829268,0.8320731707317073,0.8340243902439024,0.8362439024390244,0.8382439024390244,0.8399024390243902,0.8413414634146341,0.8425609756097561],\"yaxis\":\"y\",\"type\":\"scatter\"},{\"hovertemplate\":\"variable=0.55<br>index=%{x}<br>value=%{y}<extra></extra>\",\"legendgroup\":\"0.55\",\"line\":{\"color\":\"#FECB52\",\"dash\":\"solid\"},\"marker\":{\"symbol\":\"circle\"},\"mode\":\"lines\",\"name\":\"0.55\",\"orientation\":\"v\",\"showlegend\":true,\"x\":[0,1,2,3,4,5,6,7,8,9,10,11,12,13,14,15,16,17,18,19,20,21,22,23,24,25,26,27,28,29,30,31,32,33,34,35,36,37,38,39,40,41,42,43,44,45,46,47,48,49],\"xaxis\":\"x\",\"y\":[0.1095609756097561,0.3108048780487805,0.33695121951219514,0.31697560975609756,0.3324146341463415,0.34729268292682924,0.36373170731707316,0.3837317073170732,0.4049756097560976,0.4257560975609756,0.4455609756097561,0.4645365853658537,0.4827560975609756,0.5025853658536585,0.5229024390243903,0.5436341463414635,0.565170731707317,0.5862439024390244,0.6048536585365853,0.6206585365853658,0.633390243902439,0.6428780487804878,0.6505365853658537,0.6577804878048781,0.6625365853658537,0.6676829268292683,0.6725609756097561,0.6775121951219513,0.6821219512195122,0.686829268292683,0.690390243902439,0.6943170731707317,0.6984634146341463,0.7089024390243902,0.7171951219512195,0.73,0.7415121951219512,0.749219512195122,0.7541951219512195,0.7580487804878049,0.7633658536585366,0.7673170731707317,0.7711951219512195,0.7749756097560976,0.7791951219512195,0.7827317073170732,0.7857560975609756,0.7891951219512195,0.7917560975609756,0.794219512195122],\"yaxis\":\"y\",\"type\":\"scatter\"},{\"hovertemplate\":\"variable=0.60<br>index=%{x}<br>value=%{y}<extra></extra>\",\"legendgroup\":\"0.60\",\"line\":{\"color\":\"#636efa\",\"dash\":\"solid\"},\"marker\":{\"symbol\":\"circle\"},\"mode\":\"lines\",\"name\":\"0.60\",\"orientation\":\"v\",\"showlegend\":true,\"x\":[0,1,2,3,4,5,6,7,8,9,10,11,12,13,14,15,16,17,18,19,20,21,22,23,24,25,26,27,28,29,30,31,32,33,34,35,36,37,38,39,40,41,42,43,44,45,46,47,48,49],\"xaxis\":\"x\",\"y\":[0.09151219512195122,0.2493170731707317,0.23758536585365853,0.3005121951219512,0.3451463414634146,0.37902439024390244,0.41024390243902437,0.4425121951219512,0.475780487804878,0.5047560975609756,0.5263170731707317,0.5469268292682927,0.5629024390243902,0.5769756097560975,0.589780487804878,0.602390243902439,0.6128536585365854,0.6227317073170732,0.630609756097561,0.6397560975609756,0.6501463414634147,0.6610243902439025,0.6727804878048781,0.684609756097561,0.6947073170731707,0.7033170731707317,0.7109756097560975,0.718170731707317,0.724780487804878,0.7307317073170732,0.7364390243902439,0.7417317073170732,0.7465609756097561,0.7516829268292683,0.7565121951219512,0.7605853658536585,0.7653658536585366,0.769609756097561,0.7743414634146342,0.7782926829268293,0.7827317073170732,0.7866585365853659,0.7898536585365854,0.7931951219512196,0.797,0.8005121951219513,0.8039024390243903,0.8068536585365854,0.8100731707317074,0.8126341463414634],\"yaxis\":\"y\",\"type\":\"scatter\"},{\"hovertemplate\":\"variable=0.65<br>index=%{x}<br>value=%{y}<extra></extra>\",\"legendgroup\":\"0.65\",\"line\":{\"color\":\"#EF553B\",\"dash\":\"solid\"},\"marker\":{\"symbol\":\"circle\"},\"mode\":\"lines\",\"name\":\"0.65\",\"orientation\":\"v\",\"showlegend\":true,\"x\":[0,1,2,3,4,5,6,7,8,9,10,11,12,13,14,15,16,17,18,19,20,21,22,23,24,25,26,27,28,29,30,31,32,33,34,35,36,37,38,39,40,41,42,43,44,45,46,47,48,49],\"xaxis\":\"x\",\"y\":[0.13865853658536587,0.3193170731707317,0.34014634146341466,0.35717073170731706,0.3907560975609756,0.41948780487804876,0.4458780487804878,0.4691463414634146,0.4881951219512195,0.5087317073170732,0.5272682926829269,0.545219512195122,0.5619024390243903,0.578390243902439,0.5944634146341463,0.6091951219512195,0.622390243902439,0.6365609756097561,0.6501951219512195,0.6666585365853659,0.6841219512195122,0.7008780487804878,0.7168780487804878,0.7297317073170732,0.7375121951219512,0.7464878048780488,0.7534634146341463,0.7587804878048781,0.764390243902439,0.7694878048780488,0.7751463414634147,0.7803658536585366,0.7854634146341464,0.7890975609756098,0.7933414634146342,0.7969268292682927,0.7999024390243903,0.8031219512195122,0.8063902439024391,0.8093658536585366,0.8122439024390244,0.8144390243902438,0.8175121951219512,0.8196341463414634,0.8219512195121951,0.8234634146341463,0.8252439024390243,0.8239024390243902,0.8211463414634146,0.8060487804878049],\"yaxis\":\"y\",\"type\":\"scatter\"}],                        {\"template\":{\"data\":{\"bar\":[{\"error_x\":{\"color\":\"#2a3f5f\"},\"error_y\":{\"color\":\"#2a3f5f\"},\"marker\":{\"line\":{\"color\":\"#E5ECF6\",\"width\":0.5},\"pattern\":{\"fillmode\":\"overlay\",\"size\":10,\"solidity\":0.2}},\"type\":\"bar\"}],\"barpolar\":[{\"marker\":{\"line\":{\"color\":\"#E5ECF6\",\"width\":0.5},\"pattern\":{\"fillmode\":\"overlay\",\"size\":10,\"solidity\":0.2}},\"type\":\"barpolar\"}],\"carpet\":[{\"aaxis\":{\"endlinecolor\":\"#2a3f5f\",\"gridcolor\":\"white\",\"linecolor\":\"white\",\"minorgridcolor\":\"white\",\"startlinecolor\":\"#2a3f5f\"},\"baxis\":{\"endlinecolor\":\"#2a3f5f\",\"gridcolor\":\"white\",\"linecolor\":\"white\",\"minorgridcolor\":\"white\",\"startlinecolor\":\"#2a3f5f\"},\"type\":\"carpet\"}],\"choropleth\":[{\"colorbar\":{\"outlinewidth\":0,\"ticks\":\"\"},\"type\":\"choropleth\"}],\"contour\":[{\"colorbar\":{\"outlinewidth\":0,\"ticks\":\"\"},\"colorscale\":[[0.0,\"#0d0887\"],[0.1111111111111111,\"#46039f\"],[0.2222222222222222,\"#7201a8\"],[0.3333333333333333,\"#9c179e\"],[0.4444444444444444,\"#bd3786\"],[0.5555555555555556,\"#d8576b\"],[0.6666666666666666,\"#ed7953\"],[0.7777777777777778,\"#fb9f3a\"],[0.8888888888888888,\"#fdca26\"],[1.0,\"#f0f921\"]],\"type\":\"contour\"}],\"contourcarpet\":[{\"colorbar\":{\"outlinewidth\":0,\"ticks\":\"\"},\"type\":\"contourcarpet\"}],\"heatmap\":[{\"colorbar\":{\"outlinewidth\":0,\"ticks\":\"\"},\"colorscale\":[[0.0,\"#0d0887\"],[0.1111111111111111,\"#46039f\"],[0.2222222222222222,\"#7201a8\"],[0.3333333333333333,\"#9c179e\"],[0.4444444444444444,\"#bd3786\"],[0.5555555555555556,\"#d8576b\"],[0.6666666666666666,\"#ed7953\"],[0.7777777777777778,\"#fb9f3a\"],[0.8888888888888888,\"#fdca26\"],[1.0,\"#f0f921\"]],\"type\":\"heatmap\"}],\"heatmapgl\":[{\"colorbar\":{\"outlinewidth\":0,\"ticks\":\"\"},\"colorscale\":[[0.0,\"#0d0887\"],[0.1111111111111111,\"#46039f\"],[0.2222222222222222,\"#7201a8\"],[0.3333333333333333,\"#9c179e\"],[0.4444444444444444,\"#bd3786\"],[0.5555555555555556,\"#d8576b\"],[0.6666666666666666,\"#ed7953\"],[0.7777777777777778,\"#fb9f3a\"],[0.8888888888888888,\"#fdca26\"],[1.0,\"#f0f921\"]],\"type\":\"heatmapgl\"}],\"histogram\":[{\"marker\":{\"pattern\":{\"fillmode\":\"overlay\",\"size\":10,\"solidity\":0.2}},\"type\":\"histogram\"}],\"histogram2d\":[{\"colorbar\":{\"outlinewidth\":0,\"ticks\":\"\"},\"colorscale\":[[0.0,\"#0d0887\"],[0.1111111111111111,\"#46039f\"],[0.2222222222222222,\"#7201a8\"],[0.3333333333333333,\"#9c179e\"],[0.4444444444444444,\"#bd3786\"],[0.5555555555555556,\"#d8576b\"],[0.6666666666666666,\"#ed7953\"],[0.7777777777777778,\"#fb9f3a\"],[0.8888888888888888,\"#fdca26\"],[1.0,\"#f0f921\"]],\"type\":\"histogram2d\"}],\"histogram2dcontour\":[{\"colorbar\":{\"outlinewidth\":0,\"ticks\":\"\"},\"colorscale\":[[0.0,\"#0d0887\"],[0.1111111111111111,\"#46039f\"],[0.2222222222222222,\"#7201a8\"],[0.3333333333333333,\"#9c179e\"],[0.4444444444444444,\"#bd3786\"],[0.5555555555555556,\"#d8576b\"],[0.6666666666666666,\"#ed7953\"],[0.7777777777777778,\"#fb9f3a\"],[0.8888888888888888,\"#fdca26\"],[1.0,\"#f0f921\"]],\"type\":\"histogram2dcontour\"}],\"mesh3d\":[{\"colorbar\":{\"outlinewidth\":0,\"ticks\":\"\"},\"type\":\"mesh3d\"}],\"parcoords\":[{\"line\":{\"colorbar\":{\"outlinewidth\":0,\"ticks\":\"\"}},\"type\":\"parcoords\"}],\"pie\":[{\"automargin\":true,\"type\":\"pie\"}],\"scatter\":[{\"marker\":{\"colorbar\":{\"outlinewidth\":0,\"ticks\":\"\"}},\"type\":\"scatter\"}],\"scatter3d\":[{\"line\":{\"colorbar\":{\"outlinewidth\":0,\"ticks\":\"\"}},\"marker\":{\"colorbar\":{\"outlinewidth\":0,\"ticks\":\"\"}},\"type\":\"scatter3d\"}],\"scattercarpet\":[{\"marker\":{\"colorbar\":{\"outlinewidth\":0,\"ticks\":\"\"}},\"type\":\"scattercarpet\"}],\"scattergeo\":[{\"marker\":{\"colorbar\":{\"outlinewidth\":0,\"ticks\":\"\"}},\"type\":\"scattergeo\"}],\"scattergl\":[{\"marker\":{\"colorbar\":{\"outlinewidth\":0,\"ticks\":\"\"}},\"type\":\"scattergl\"}],\"scattermapbox\":[{\"marker\":{\"colorbar\":{\"outlinewidth\":0,\"ticks\":\"\"}},\"type\":\"scattermapbox\"}],\"scatterpolar\":[{\"marker\":{\"colorbar\":{\"outlinewidth\":0,\"ticks\":\"\"}},\"type\":\"scatterpolar\"}],\"scatterpolargl\":[{\"marker\":{\"colorbar\":{\"outlinewidth\":0,\"ticks\":\"\"}},\"type\":\"scatterpolargl\"}],\"scatterternary\":[{\"marker\":{\"colorbar\":{\"outlinewidth\":0,\"ticks\":\"\"}},\"type\":\"scatterternary\"}],\"surface\":[{\"colorbar\":{\"outlinewidth\":0,\"ticks\":\"\"},\"colorscale\":[[0.0,\"#0d0887\"],[0.1111111111111111,\"#46039f\"],[0.2222222222222222,\"#7201a8\"],[0.3333333333333333,\"#9c179e\"],[0.4444444444444444,\"#bd3786\"],[0.5555555555555556,\"#d8576b\"],[0.6666666666666666,\"#ed7953\"],[0.7777777777777778,\"#fb9f3a\"],[0.8888888888888888,\"#fdca26\"],[1.0,\"#f0f921\"]],\"type\":\"surface\"}],\"table\":[{\"cells\":{\"fill\":{\"color\":\"#EBF0F8\"},\"line\":{\"color\":\"white\"}},\"header\":{\"fill\":{\"color\":\"#C8D4E3\"},\"line\":{\"color\":\"white\"}},\"type\":\"table\"}]},\"layout\":{\"annotationdefaults\":{\"arrowcolor\":\"#2a3f5f\",\"arrowhead\":0,\"arrowwidth\":1},\"autotypenumbers\":\"strict\",\"coloraxis\":{\"colorbar\":{\"outlinewidth\":0,\"ticks\":\"\"}},\"colorscale\":{\"diverging\":[[0,\"#8e0152\"],[0.1,\"#c51b7d\"],[0.2,\"#de77ae\"],[0.3,\"#f1b6da\"],[0.4,\"#fde0ef\"],[0.5,\"#f7f7f7\"],[0.6,\"#e6f5d0\"],[0.7,\"#b8e186\"],[0.8,\"#7fbc41\"],[0.9,\"#4d9221\"],[1,\"#276419\"]],\"sequential\":[[0.0,\"#0d0887\"],[0.1111111111111111,\"#46039f\"],[0.2222222222222222,\"#7201a8\"],[0.3333333333333333,\"#9c179e\"],[0.4444444444444444,\"#bd3786\"],[0.5555555555555556,\"#d8576b\"],[0.6666666666666666,\"#ed7953\"],[0.7777777777777778,\"#fb9f3a\"],[0.8888888888888888,\"#fdca26\"],[1.0,\"#f0f921\"]],\"sequentialminus\":[[0.0,\"#0d0887\"],[0.1111111111111111,\"#46039f\"],[0.2222222222222222,\"#7201a8\"],[0.3333333333333333,\"#9c179e\"],[0.4444444444444444,\"#bd3786\"],[0.5555555555555556,\"#d8576b\"],[0.6666666666666666,\"#ed7953\"],[0.7777777777777778,\"#fb9f3a\"],[0.8888888888888888,\"#fdca26\"],[1.0,\"#f0f921\"]]},\"colorway\":[\"#636efa\",\"#EF553B\",\"#00cc96\",\"#ab63fa\",\"#FFA15A\",\"#19d3f3\",\"#FF6692\",\"#B6E880\",\"#FF97FF\",\"#FECB52\"],\"font\":{\"color\":\"#2a3f5f\"},\"geo\":{\"bgcolor\":\"white\",\"lakecolor\":\"white\",\"landcolor\":\"#E5ECF6\",\"showlakes\":true,\"showland\":true,\"subunitcolor\":\"white\"},\"hoverlabel\":{\"align\":\"left\"},\"hovermode\":\"closest\",\"mapbox\":{\"style\":\"light\"},\"paper_bgcolor\":\"white\",\"plot_bgcolor\":\"#E5ECF6\",\"polar\":{\"angularaxis\":{\"gridcolor\":\"white\",\"linecolor\":\"white\",\"ticks\":\"\"},\"bgcolor\":\"#E5ECF6\",\"radialaxis\":{\"gridcolor\":\"white\",\"linecolor\":\"white\",\"ticks\":\"\"}},\"scene\":{\"xaxis\":{\"backgroundcolor\":\"#E5ECF6\",\"gridcolor\":\"white\",\"gridwidth\":2,\"linecolor\":\"white\",\"showbackground\":true,\"ticks\":\"\",\"zerolinecolor\":\"white\"},\"yaxis\":{\"backgroundcolor\":\"#E5ECF6\",\"gridcolor\":\"white\",\"gridwidth\":2,\"linecolor\":\"white\",\"showbackground\":true,\"ticks\":\"\",\"zerolinecolor\":\"white\"},\"zaxis\":{\"backgroundcolor\":\"#E5ECF6\",\"gridcolor\":\"white\",\"gridwidth\":2,\"linecolor\":\"white\",\"showbackground\":true,\"ticks\":\"\",\"zerolinecolor\":\"white\"}},\"shapedefaults\":{\"line\":{\"color\":\"#2a3f5f\"}},\"ternary\":{\"aaxis\":{\"gridcolor\":\"white\",\"linecolor\":\"white\",\"ticks\":\"\"},\"baxis\":{\"gridcolor\":\"white\",\"linecolor\":\"white\",\"ticks\":\"\"},\"bgcolor\":\"#E5ECF6\",\"caxis\":{\"gridcolor\":\"white\",\"linecolor\":\"white\",\"ticks\":\"\"}},\"title\":{\"x\":0.05},\"xaxis\":{\"automargin\":true,\"gridcolor\":\"white\",\"linecolor\":\"white\",\"ticks\":\"\",\"title\":{\"standoff\":15},\"zerolinecolor\":\"white\",\"zerolinewidth\":2},\"yaxis\":{\"automargin\":true,\"gridcolor\":\"white\",\"linecolor\":\"white\",\"ticks\":\"\",\"title\":{\"standoff\":15},\"zerolinecolor\":\"white\",\"zerolinewidth\":2}}},\"xaxis\":{\"anchor\":\"y\",\"domain\":[0.0,1.0],\"title\":{\"text\":\"index\"}},\"yaxis\":{\"anchor\":\"x\",\"domain\":[0.0,1.0],\"title\":{\"text\":\"value\"}},\"legend\":{\"title\":{\"text\":\"variable\"},\"tracegroupgap\":0},\"margin\":{\"t\":60}},                        {\"responsive\": true}                    ).then(function(){\n",
       "                            \n",
       "var gd = document.getElementById('3a718b95-bd53-4398-a546-2f942db9d70b');\n",
       "var x = new MutationObserver(function (mutations, observer) {{\n",
       "        var display = window.getComputedStyle(gd).display;\n",
       "        if (!display || display === 'none') {{\n",
       "            console.log([gd, 'removed!']);\n",
       "            Plotly.purge(gd);\n",
       "            observer.disconnect();\n",
       "        }}\n",
       "}});\n",
       "\n",
       "// Listen for the removal of the full notebook cells\n",
       "var notebookContainer = gd.closest('#notebook-container');\n",
       "if (notebookContainer) {{\n",
       "    x.observe(notebookContainer, {childList: true});\n",
       "}}\n",
       "\n",
       "// Listen for the clearing of the current output cell\n",
       "var outputEl = gd.closest('.output');\n",
       "if (outputEl) {{\n",
       "    x.observe(outputEl, {childList: true});\n",
       "}}\n",
       "\n",
       "                        })                };                });            </script>        </div>"
      ]
     },
     "metadata": {},
     "output_type": "display_data"
    }
   ],
   "source": [
    "fig = px.line(df, y=['0.10', '0.15','0.20', '0.25','0.30', '0.35', '0.40', '0.45' ,'0.50','0.55','0.60','0.65'])\n",
    "fig.show()"
   ]
  },
  {
   "cell_type": "code",
   "execution_count": null,
   "id": "42801a29",
   "metadata": {},
   "outputs": [],
   "source": []
  },
  {
   "cell_type": "code",
   "execution_count": 26,
   "id": "ca8a29ab",
   "metadata": {},
   "outputs": [],
   "source": [
    "W1, b1, W2, b2, Accu, Alph, Time = gradient_descent(X_train, Y_train, 0.10, 100)\n",
    "W1, b1, W2, b2, Accu1, Alph1, Time1 = gradient_descent(X_train, Y_train, 0.15, 100)\n",
    "W1, b1, W2, b2, Accu2, Alph2, Time2 = gradient_descent(X_train, Y_train, 0.20, 100)\n",
    "W1, b1, W2, b2, Accu3, Alph3, Time3 = gradient_descent(X_train, Y_train, 0.25, 100)\n",
    "W1, b1, W2, b2, Accu4, Alph4, Time4 = gradient_descent(X_train, Y_train, 0.30, 100)\n",
    "W1, b1, W2, b2, Accu5, Alph5, Time5 = gradient_descent(X_train, Y_train, 0.35, 100)\n",
    "W1, b1, W2, b2, Accu6, Alph6, Time6 = gradient_descent(X_train, Y_train, 0.40, 100)\n",
    "W1, b1, W2, b2, Accu7, Alph7, Time7 = gradient_descent(X_train, Y_train, 0.45, 100)\n",
    "W1, b1, W2, b2, Accu8, Alph8, Time8 = gradient_descent(X_train, Y_train, 0.50, 100)\n",
    "W1, b1, W2, b2, Accu9, Alph9, Time9 = gradient_descent(X_train, Y_train, 0.55, 100)\n",
    "W1, b1, W2, b2, Accu10, Alph10, Time10 = gradient_descent(X_train, Y_train, 0.60, 100)\n",
    "W1, b1, W2, b2, Accu11, Alph11, Time11 = gradient_descent(X_train, Y_train, 0.65, 100)"
   ]
  },
  {
   "cell_type": "code",
   "execution_count": 27,
   "id": "037ecf95",
   "metadata": {},
   "outputs": [
    {
     "data": {
      "text/plain": [
       "(61.795324087142944,\n",
       " 58.640737771987915,\n",
       " 54.36292481422424,\n",
       " 58.602182149887085,\n",
       " 53.85718822479248,\n",
       " 57.561288595199585,\n",
       " 75.30334424972534,\n",
       " 72.31293106079102,\n",
       " 72.61633706092834,\n",
       " 71.98581290245056,\n",
       " 52.4975860118866,\n",
       " 51.70767116546631)"
      ]
     },
     "execution_count": 27,
     "metadata": {},
     "output_type": "execute_result"
    }
   ],
   "source": [
    "Time, Time1, Time2, Time3, Time4, Time5, Time6, Time7, Time8, Time9, Time10, Time11"
   ]
  },
  {
   "cell_type": "code",
   "execution_count": 28,
   "id": "743f5928",
   "metadata": {},
   "outputs": [
    {
     "data": {
      "text/plain": [
       "[<matplotlib.lines.Line2D at 0x7f6a37a75160>]"
      ]
     },
     "execution_count": 28,
     "metadata": {},
     "output_type": "execute_result"
    },
    {
     "data": {
      "image/png": "[encoded data removed]",
      "text/plain": [
       "<Figure size 1296x576 with 1 Axes>"
      ]
     },
     "metadata": {
      "needs_background": "light"
     },
     "output_type": "display_data"
    }
   ],
   "source": [
    "import plotly.graph_objects as go\n",
    "\n",
    "plt.figure(figsize=(18, 8))\n",
    "plt.plot(Accu,label=Alph) # plotting by columns\n",
    "plt.plot(Accu1,label=Alph1)\n",
    "plt.plot(Accu2,label=Alph2)\n",
    "plt.plot(Accu3,label=Alph3)\n",
    "plt.plot(Accu4,label=Alph4)\n",
    "plt.plot(Accu5,label=Alph5)\n",
    "plt.plot(Accu6,label=Alph6)\n",
    "plt.plot(Accu7,label=Alph7)\n",
    "plt.plot(Accu8,label=Alph8)\n",
    "plt.plot(Accu9,label=Alph9)\n",
    "plt.plot(Accu10,label=Alph10)\n",
    "plt.plot(Accu11,label=Alph11)\n"
   ]
  },
  {
   "cell_type": "code",
   "execution_count": null,
   "id": "67a025a8",
   "metadata": {},
   "outputs": [],
   "source": []
  },
  {
   "cell_type": "code",
   "execution_count": 29,
   "id": "bb182e7a",
   "metadata": {},
   "outputs": [],
   "source": [
    "numbersList = []\n",
    "numbersList.append(Accu)\n",
    "numbersList.append(Accu1)\n",
    "numbersList.append(Accu2)\n",
    "numbersList.append(Accu3)\n",
    "numbersList.append(Accu4)\n",
    "numbersList.append(Accu5)\n",
    "numbersList.append(Accu6)\n",
    "numbersList.append(Accu7)\n",
    "numbersList.append(Accu8)\n",
    "numbersList.append(Accu9)\n",
    "numbersList.append(Accu10)\n",
    "numbersList.append(Accu11)\n",
    "\n",
    "# creating a list of index names\n",
    "index_values = list(range(0, 100))\n",
    "# creating a list of column names\n",
    "column_values  = ['0.10', '0.15','0.20', '0.25','0.30', '0.35', '0.40', '0.45' ,'0.50','0.55','0.60','0.65']\n",
    "# creating the dataframe\n",
    "df = pd.DataFrame(data = np.transpose(numbersList),index = index_values,columns = column_values)\n",
    "# displaying the dataframe\n",
    "#df\n",
    "#df.iloc[300:500]"
   ]
  },
  {
   "cell_type": "code",
   "execution_count": 30,
   "id": "87c062ec",
   "metadata": {},
   "outputs": [
    {
     "data": {
      "application/vnd.plotly.v1+json": {
       "config": {
        "plotlyServerURL": "https://plot.ly"
       },
       "data": [
        {
         "hovertemplate": "variable=0<br>index=%{x}<br>value=%{y}<extra></extra>",
         "legendgroup": "0",
         "line": {
          "color": "#636efa",
          "dash": "solid"
         },
         "marker": {
          "symbol": "circle"
         },
         "mode": "lines",
         "name": "0",
         "orientation": "v",
         "showlegend": true,
         "type": "scatter",
         "x": [
          0,
          1,
          2,
          3,
          4,
          5,
          6,
          7,
          8,
          9,
          10,
          11,
          12,
          13,
          14,
          15,
          16,
          17,
          18,
          19,
          20,
          21,
          22,
          23,
          24,
          25,
          26,
          27,
          28,
          29,
          30,
          31,
          32,
          33,
          34,
          35,
          36,
          37,
          38,
          39,
          40,
          41,
          42,
          43,
          44,
          45,
          46,
          47,
          48,
          49,
          50,
          51,
          52,
          53,
          54,
          55,
          56,
          57,
          58,
          59,
          60,
          61,
          62,
          63,
          64,
          65,
          66,
          67,
          68,
          69,
          70,
          71,
          72,
          73,
          74,
          75,
          76,
          77,
          78,
          79,
          80,
          81,
          82,
          83,
          84,
          85,
          86,
          87,
          88,
          89,
          90,
          91,
          92,
          93,
          94,
          95,
          96,
          97,
          98,
          99
         ],
         "xaxis": "x",
         "y": [
          0.08543902439024391,
          0.12209756097560975,
          0.25102439024390244,
          0.3420975609756098,
          0.4039756097560976,
          0.45514634146341465,
          0.49629268292682926,
          0.529829268292683,
          0.5583170731707318,
          0.5822682926829268,
          0.6036585365853658,
          0.6215121951219512,
          0.6371707317073171,
          0.652829268292683,
          0.6661951219512195,
          0.6775121951219513,
          0.6883658536585365,
          0.6985121951219512,
          0.7067317073170731,
          0.7159512195121951,
          0.7226585365853658,
          0.728780487804878,
          0.7355121951219512,
          0.7406829268292683,
          0.7464634146341463,
          0.7514146341463415,
          0.755609756097561,
          0.7606341463414634,
          0.7657073170731707,
          0.7697804878048781,
          0.7733414634146342,
          0.7774146341463415,
          0.781,
          0.7846341463414634,
          0.7873658536585366,
          0.7906829268292683,
          0.7938536585365854,
          0.7970731707317074,
          0.8006829268292683,
          0.8034634146341464,
          0.805829268292683,
          0.8082926829268293,
          0.8100487804878049,
          0.8116829268292683,
          0.8140243902439024,
          0.8159512195121951,
          0.8179512195121951,
          0.8199268292682926,
          0.821780487804878,
          0.823780487804878,
          0.8250487804878048,
          0.8268048780487804,
          0.8286097560975609,
          0.8305609756097561,
          0.8321463414634146,
          0.8337073170731707,
          0.8354146341463414,
          0.8366829268292683,
          0.8382195121951219,
          0.8395609756097561,
          0.8409756097560975,
          0.8423414634146341,
          0.8437560975609756,
          0.8450731707317073,
          0.8464390243902439,
          0.8475853658536585,
          0.8490975609756097,
          0.8500243902439024,
          0.8512682926829268,
          0.8522195121951219,
          0.8529024390243902,
          0.8542439024390244,
          0.8552926829268293,
          0.856390243902439,
          0.857,
          0.8578536585365854,
          0.8588048780487805,
          0.859780487804878,
          0.8608048780487805,
          0.8615853658536585,
          0.8623658536585366,
          0.8633658536585366,
          0.8641219512195122,
          0.8649756097560976,
          0.8657560975609756,
          0.8666341463414634,
          0.8671707317073171,
          0.8679024390243902,
          0.8686341463414634,
          0.8691463414634146,
          0.8698536585365854,
          0.8705121951219512,
          0.8711463414634146,
          0.871780487804878,
          0.8724634146341463,
          0.8730731707317073,
          0.8734878048780488,
          0.8739512195121951,
          0.8742682926829268,
          0.875219512195122
         ],
         "yaxis": "y"
        }
       ],
       "layout": {
        "legend": {
         "title": {
          "text": "variable"
         },
         "tracegroupgap": 0
        },
        "margin": {
         "t": 60
        },
        "template": {
         "data": {
          "bar": [
           {
            "error_x": {
             "color": "#2a3f5f"
            },
            "error_y": {
             "color": "#2a3f5f"
            },
            "marker": {
             "line": {
              "color": "#E5ECF6",
              "width": 0.5
             },
             "pattern": {
              "fillmode": "overlay",
              "size": 10,
              "solidity": 0.2
             }
            },
            "type": "bar"
           }
          ],
          "barpolar": [
           {
            "marker": {
             "line": {
              "color": "#E5ECF6",
              "width": 0.5
             },
             "pattern": {
              "fillmode": "overlay",
              "size": 10,
              "solidity": 0.2
             }
            },
            "type": "barpolar"
           }
          ],
          "carpet": [
           {
            "aaxis": {
             "endlinecolor": "#2a3f5f",
             "gridcolor": "white",
             "linecolor": "white",
             "minorgridcolor": "white",
             "startlinecolor": "#2a3f5f"
            },
            "baxis": {
             "endlinecolor": "#2a3f5f",
             "gridcolor": "white",
             "linecolor": "white",
             "minorgridcolor": "white",
             "startlinecolor": "#2a3f5f"
            },
            "type": "carpet"
           }
          ],
          "choropleth": [
           {
            "colorbar": {
             "outlinewidth": 0,
             "ticks": ""
            },
            "type": "choropleth"
           }
          ],
          "contour": [
           {
            "colorbar": {
             "outlinewidth": 0,
             "ticks": ""
            },
            "colorscale": [
             [
              0,
              "#0d0887"
             ],
             [
              0.1111111111111111,
              "#46039f"
             ],
             [
              0.2222222222222222,
              "#7201a8"
             ],
             [
              0.3333333333333333,
              "#9c179e"
             ],
             [
              0.4444444444444444,
              "#bd3786"
             ],
             [
              0.5555555555555556,
              "#d8576b"
             ],
             [
              0.6666666666666666,
              "#ed7953"
             ],
             [
              0.7777777777777778,
              "#fb9f3a"
             ],
             [
              0.8888888888888888,
              "#fdca26"
             ],
             [
              1,
              "#f0f921"
             ]
            ],
            "type": "contour"
           }
          ],
          "contourcarpet": [
           {
            "colorbar": {
             "outlinewidth": 0,
             "ticks": ""
            },
            "type": "contourcarpet"
           }
          ],
          "heatmap": [
           {
            "colorbar": {
             "outlinewidth": 0,
             "ticks": ""
            },
            "colorscale": [
             [
              0,
              "#0d0887"
             ],
             [
              0.1111111111111111,
              "#46039f"
             ],
             [
              0.2222222222222222,
              "#7201a8"
             ],
             [
              0.3333333333333333,
              "#9c179e"
             ],
             [
              0.4444444444444444,
              "#bd3786"
             ],
             [
              0.5555555555555556,
              "#d8576b"
             ],
             [
              0.6666666666666666,
              "#ed7953"
             ],
             [
              0.7777777777777778,
              "#fb9f3a"
             ],
             [
              0.8888888888888888,
              "#fdca26"
             ],
             [
              1,
              "#f0f921"
             ]
            ],
            "type": "heatmap"
           }
          ],
          "heatmapgl": [
           {
            "colorbar": {
             "outlinewidth": 0,
             "ticks": ""
            },
            "colorscale": [
             [
              0,
              "#0d0887"
             ],
             [
              0.1111111111111111,
              "#46039f"
             ],
             [
              0.2222222222222222,
              "#7201a8"
             ],
             [
              0.3333333333333333,
              "#9c179e"
             ],
             [
              0.4444444444444444,
              "#bd3786"
             ],
             [
              0.5555555555555556,
              "#d8576b"
             ],
             [
              0.6666666666666666,
              "#ed7953"
             ],
             [
              0.7777777777777778,
              "#fb9f3a"
             ],
             [
              0.8888888888888888,
              "#fdca26"
             ],
             [
              1,
              "#f0f921"
             ]
            ],
            "type": "heatmapgl"
           }
          ],
          "histogram": [
           {
            "marker": {
             "pattern": {
              "fillmode": "overlay",
              "size": 10,
              "solidity": 0.2
             }
            },
            "type": "histogram"
           }
          ],
          "histogram2d": [
           {
            "colorbar": {
             "outlinewidth": 0,
             "ticks": ""
            },
            "colorscale": [
             [
              0,
              "#0d0887"
             ],
             [
              0.1111111111111111,
              "#46039f"
             ],
             [
              0.2222222222222222,
              "#7201a8"
             ],
             [
              0.3333333333333333,
              "#9c179e"
             ],
             [
              0.4444444444444444,
              "#bd3786"
             ],
             [
              0.5555555555555556,
              "#d8576b"
             ],
             [
              0.6666666666666666,
              "#ed7953"
             ],
             [
              0.7777777777777778,
              "#fb9f3a"
             ],
             [
              0.8888888888888888,
              "#fdca26"
             ],
             [
              1,
              "#f0f921"
             ]
            ],
            "type": "histogram2d"
           }
          ],
          "histogram2dcontour": [
           {
            "colorbar": {
             "outlinewidth": 0,
             "ticks": ""
            },
            "colorscale": [
             [
              0,
              "#0d0887"
             ],
             [
              0.1111111111111111,
              "#46039f"
             ],
             [
              0.2222222222222222,
              "#7201a8"
             ],
             [
              0.3333333333333333,
              "#9c179e"
             ],
             [
              0.4444444444444444,
              "#bd3786"
             ],
             [
              0.5555555555555556,
              "#d8576b"
             ],
             [
              0.6666666666666666,
              "#ed7953"
             ],
             [
              0.7777777777777778,
              "#fb9f3a"
             ],
             [
              0.8888888888888888,
              "#fdca26"
             ],
             [
              1,
              "#f0f921"
             ]
            ],
            "type": "histogram2dcontour"
           }
          ],
          "mesh3d": [
           {
            "colorbar": {
             "outlinewidth": 0,
             "ticks": ""
            },
            "type": "mesh3d"
           }
          ],
          "parcoords": [
           {
            "line": {
             "colorbar": {
              "outlinewidth": 0,
              "ticks": ""
             }
            },
            "type": "parcoords"
           }
          ],
          "pie": [
           {
            "automargin": true,
            "type": "pie"
           }
          ],
          "scatter": [
           {
            "marker": {
             "colorbar": {
              "outlinewidth": 0,
              "ticks": ""
             }
            },
            "type": "scatter"
           }
          ],
          "scatter3d": [
           {
            "line": {
             "colorbar": {
              "outlinewidth": 0,
              "ticks": ""
             }
            },
            "marker": {
             "colorbar": {
              "outlinewidth": 0,
              "ticks": ""
             }
            },
            "type": "scatter3d"
           }
          ],
          "scattercarpet": [
           {
            "marker": {
             "colorbar": {
              "outlinewidth": 0,
              "ticks": ""
             }
            },
            "type": "scattercarpet"
           }
          ],
          "scattergeo": [
           {
            "marker": {
             "colorbar": {
              "outlinewidth": 0,
              "ticks": ""
             }
            },
            "type": "scattergeo"
           }
          ],
          "scattergl": [
           {
            "marker": {
             "colorbar": {
              "outlinewidth": 0,
              "ticks": ""
             }
            },
            "type": "scattergl"
           }
          ],
          "scattermapbox": [
           {
            "marker": {
             "colorbar": {
              "outlinewidth": 0,
              "ticks": ""
             }
            },
            "type": "scattermapbox"
           }
          ],
          "scatterpolar": [
           {
            "marker": {
             "colorbar": {
              "outlinewidth": 0,
              "ticks": ""
             }
            },
            "type": "scatterpolar"
           }
          ],
          "scatterpolargl": [
           {
            "marker": {
             "colorbar": {
              "outlinewidth": 0,
              "ticks": ""
             }
            },
            "type": "scatterpolargl"
           }
          ],
          "scatterternary": [
           {
            "marker": {
             "colorbar": {
              "outlinewidth": 0,
              "ticks": ""
             }
            },
            "type": "scatterternary"
           }
          ],
          "surface": [
           {
            "colorbar": {
             "outlinewidth": 0,
             "ticks": ""
            },
            "colorscale": [
             [
              0,
              "#0d0887"
             ],
             [
              0.1111111111111111,
              "#46039f"
             ],
             [
              0.2222222222222222,
              "#7201a8"
             ],
             [
              0.3333333333333333,
              "#9c179e"
             ],
             [
              0.4444444444444444,
              "#bd3786"
             ],
             [
              0.5555555555555556,
              "#d8576b"
             ],
             [
              0.6666666666666666,
              "#ed7953"
             ],
             [
              0.7777777777777778,
              "#fb9f3a"
             ],
             [
              0.8888888888888888,
              "#fdca26"
             ],
             [
              1,
              "#f0f921"
             ]
            ],
            "type": "surface"
           }
          ],
          "table": [
           {
            "cells": {
             "fill": {
              "color": "#EBF0F8"
             },
             "line": {
              "color": "white"
             }
            },
            "header": {
             "fill": {
              "color": "#C8D4E3"
             },
             "line": {
              "color": "white"
             }
            },
            "type": "table"
           }
          ]
         },
         "layout": {
          "annotationdefaults": {
           "arrowcolor": "#2a3f5f",
           "arrowhead": 0,
           "arrowwidth": 1
          },
          "autotypenumbers": "strict",
          "coloraxis": {
           "colorbar": {
            "outlinewidth": 0,
            "ticks": ""
           }
          },
          "colorscale": {
           "diverging": [
            [
             0,
             "#8e0152"
            ],
            [
             0.1,
             "#c51b7d"
            ],
            [
             0.2,
             "#de77ae"
            ],
            [
             0.3,
             "#f1b6da"
            ],
            [
             0.4,
             "#fde0ef"
            ],
            [
             0.5,
             "#f7f7f7"
            ],
            [
             0.6,
             "#e6f5d0"
            ],
            [
             0.7,
             "#b8e186"
            ],
            [
             0.8,
             "#7fbc41"
            ],
            [
             0.9,
             "#4d9221"
            ],
            [
             1,
             "#276419"
            ]
           ],
           "sequential": [
            [
             0,
             "#0d0887"
            ],
            [
             0.1111111111111111,
             "#46039f"
            ],
            [
             0.2222222222222222,
             "#7201a8"
            ],
            [
             0.3333333333333333,
             "#9c179e"
            ],
            [
             0.4444444444444444,
             "#bd3786"
            ],
            [
             0.5555555555555556,
             "#d8576b"
            ],
            [
             0.6666666666666666,
             "#ed7953"
            ],
            [
             0.7777777777777778,
             "#fb9f3a"
            ],
            [
             0.8888888888888888,
             "#fdca26"
            ],
            [
             1,
             "#f0f921"
            ]
           ],
           "sequentialminus": [
            [
             0,
             "#0d0887"
            ],
            [
             0.1111111111111111,
             "#46039f"
            ],
            [
             0.2222222222222222,
             "#7201a8"
            ],
            [
             0.3333333333333333,
             "#9c179e"
            ],
            [
             0.4444444444444444,
             "#bd3786"
            ],
            [
             0.5555555555555556,
             "#d8576b"
            ],
            [
             0.6666666666666666,
             "#ed7953"
            ],
            [
             0.7777777777777778,
             "#fb9f3a"
            ],
            [
             0.8888888888888888,
             "#fdca26"
            ],
            [
             1,
             "#f0f921"
            ]
           ]
          },
          "colorway": [
           "#636efa",
           "#EF553B",
           "#00cc96",
           "#ab63fa",
           "#FFA15A",
           "#19d3f3",
           "#FF6692",
           "#B6E880",
           "#FF97FF",
           "#FECB52"
          ],
          "font": {
           "color": "#2a3f5f"
          },
          "geo": {
           "bgcolor": "white",
           "lakecolor": "white",
           "landcolor": "#E5ECF6",
           "showlakes": true,
           "showland": true,
           "subunitcolor": "white"
          },
          "hoverlabel": {
           "align": "left"
          },
          "hovermode": "closest",
          "mapbox": {
           "style": "light"
          },
          "paper_bgcolor": "white",
          "plot_bgcolor": "#E5ECF6",
          "polar": {
           "angularaxis": {
            "gridcolor": "white",
            "linecolor": "white",
            "ticks": ""
           },
           "bgcolor": "#E5ECF6",
           "radialaxis": {
            "gridcolor": "white",
            "linecolor": "white",
            "ticks": ""
           }
          },
          "scene": {
           "xaxis": {
            "backgroundcolor": "#E5ECF6",
            "gridcolor": "white",
            "gridwidth": 2,
            "linecolor": "white",
            "showbackground": true,
            "ticks": "",
            "zerolinecolor": "white"
           },
           "yaxis": {
            "backgroundcolor": "#E5ECF6",
            "gridcolor": "white",
            "gridwidth": 2,
            "linecolor": "white",
            "showbackground": true,
            "ticks": "",
            "zerolinecolor": "white"
           },
           "zaxis": {
            "backgroundcolor": "#E5ECF6",
            "gridcolor": "white",
            "gridwidth": 2,
            "linecolor": "white",
            "showbackground": true,
            "ticks": "",
            "zerolinecolor": "white"
           }
          },
          "shapedefaults": {
           "line": {
            "color": "#2a3f5f"
           }
          },
          "ternary": {
           "aaxis": {
            "gridcolor": "white",
            "linecolor": "white",
            "ticks": ""
           },
           "baxis": {
            "gridcolor": "white",
            "linecolor": "white",
            "ticks": ""
           },
           "bgcolor": "#E5ECF6",
           "caxis": {
            "gridcolor": "white",
            "linecolor": "white",
            "ticks": ""
           }
          },
          "title": {
           "x": 0.05
          },
          "xaxis": {
           "automargin": true,
           "gridcolor": "white",
           "linecolor": "white",
           "ticks": "",
           "title": {
            "standoff": 15
           },
           "zerolinecolor": "white",
           "zerolinewidth": 2
          },
          "yaxis": {
           "automargin": true,
           "gridcolor": "white",
           "linecolor": "white",
           "ticks": "",
           "title": {
            "standoff": 15
           },
           "zerolinecolor": "white",
           "zerolinewidth": 2
          }
         }
        },
        "xaxis": {
         "anchor": "y",
         "domain": [
          0,
          1
         ],
         "title": {
          "text": "index"
         }
        },
        "yaxis": {
         "anchor": "x",
         "domain": [
          0,
          1
         ],
         "title": {
          "text": "value"
         }
        }
       }
      },
      "text/html": [
       "<div>                            <div id=\"b55a21cc-bf3c-44f3-9ed3-5e73c1efca96\" class=\"plotly-graph-div\" style=\"height:525px; width:100%;\"></div>            <script type=\"text/javascript\">                require([\"plotly\"], function(Plotly) {                    window.PLOTLYENV=window.PLOTLYENV || {};                                    if (document.getElementById(\"b55a21cc-bf3c-44f3-9ed3-5e73c1efca96\")) {                    Plotly.newPlot(                        \"b55a21cc-bf3c-44f3-9ed3-5e73c1efca96\",                        [{\"hovertemplate\":\"variable=0<br>index=%{x}<br>value=%{y}<extra></extra>\",\"legendgroup\":\"0\",\"line\":{\"color\":\"#636efa\",\"dash\":\"solid\"},\"marker\":{\"symbol\":\"circle\"},\"mode\":\"lines\",\"name\":\"0\",\"orientation\":\"v\",\"showlegend\":true,\"x\":[0,1,2,3,4,5,6,7,8,9,10,11,12,13,14,15,16,17,18,19,20,21,22,23,24,25,26,27,28,29,30,31,32,33,34,35,36,37,38,39,40,41,42,43,44,45,46,47,48,49,50,51,52,53,54,55,56,57,58,59,60,61,62,63,64,65,66,67,68,69,70,71,72,73,74,75,76,77,78,79,80,81,82,83,84,85,86,87,88,89,90,91,92,93,94,95,96,97,98,99],\"xaxis\":\"x\",\"y\":[0.08543902439024391,0.12209756097560975,0.25102439024390244,0.3420975609756098,0.4039756097560976,0.45514634146341465,0.49629268292682926,0.529829268292683,0.5583170731707318,0.5822682926829268,0.6036585365853658,0.6215121951219512,0.6371707317073171,0.652829268292683,0.6661951219512195,0.6775121951219513,0.6883658536585365,0.6985121951219512,0.7067317073170731,0.7159512195121951,0.7226585365853658,0.728780487804878,0.7355121951219512,0.7406829268292683,0.7464634146341463,0.7514146341463415,0.755609756097561,0.7606341463414634,0.7657073170731707,0.7697804878048781,0.7733414634146342,0.7774146341463415,0.781,0.7846341463414634,0.7873658536585366,0.7906829268292683,0.7938536585365854,0.7970731707317074,0.8006829268292683,0.8034634146341464,0.805829268292683,0.8082926829268293,0.8100487804878049,0.8116829268292683,0.8140243902439024,0.8159512195121951,0.8179512195121951,0.8199268292682926,0.821780487804878,0.823780487804878,0.8250487804878048,0.8268048780487804,0.8286097560975609,0.8305609756097561,0.8321463414634146,0.8337073170731707,0.8354146341463414,0.8366829268292683,0.8382195121951219,0.8395609756097561,0.8409756097560975,0.8423414634146341,0.8437560975609756,0.8450731707317073,0.8464390243902439,0.8475853658536585,0.8490975609756097,0.8500243902439024,0.8512682926829268,0.8522195121951219,0.8529024390243902,0.8542439024390244,0.8552926829268293,0.856390243902439,0.857,0.8578536585365854,0.8588048780487805,0.859780487804878,0.8608048780487805,0.8615853658536585,0.8623658536585366,0.8633658536585366,0.8641219512195122,0.8649756097560976,0.8657560975609756,0.8666341463414634,0.8671707317073171,0.8679024390243902,0.8686341463414634,0.8691463414634146,0.8698536585365854,0.8705121951219512,0.8711463414634146,0.871780487804878,0.8724634146341463,0.8730731707317073,0.8734878048780488,0.8739512195121951,0.8742682926829268,0.875219512195122],\"yaxis\":\"y\",\"type\":\"scatter\"}],                        {\"template\":{\"data\":{\"bar\":[{\"error_x\":{\"color\":\"#2a3f5f\"},\"error_y\":{\"color\":\"#2a3f5f\"},\"marker\":{\"line\":{\"color\":\"#E5ECF6\",\"width\":0.5},\"pattern\":{\"fillmode\":\"overlay\",\"size\":10,\"solidity\":0.2}},\"type\":\"bar\"}],\"barpolar\":[{\"marker\":{\"line\":{\"color\":\"#E5ECF6\",\"width\":0.5},\"pattern\":{\"fillmode\":\"overlay\",\"size\":10,\"solidity\":0.2}},\"type\":\"barpolar\"}],\"carpet\":[{\"aaxis\":{\"endlinecolor\":\"#2a3f5f\",\"gridcolor\":\"white\",\"linecolor\":\"white\",\"minorgridcolor\":\"white\",\"startlinecolor\":\"#2a3f5f\"},\"baxis\":{\"endlinecolor\":\"#2a3f5f\",\"gridcolor\":\"white\",\"linecolor\":\"white\",\"minorgridcolor\":\"white\",\"startlinecolor\":\"#2a3f5f\"},\"type\":\"carpet\"}],\"choropleth\":[{\"colorbar\":{\"outlinewidth\":0,\"ticks\":\"\"},\"type\":\"choropleth\"}],\"contour\":[{\"colorbar\":{\"outlinewidth\":0,\"ticks\":\"\"},\"colorscale\":[[0.0,\"#0d0887\"],[0.1111111111111111,\"#46039f\"],[0.2222222222222222,\"#7201a8\"],[0.3333333333333333,\"#9c179e\"],[0.4444444444444444,\"#bd3786\"],[0.5555555555555556,\"#d8576b\"],[0.6666666666666666,\"#ed7953\"],[0.7777777777777778,\"#fb9f3a\"],[0.8888888888888888,\"#fdca26\"],[1.0,\"#f0f921\"]],\"type\":\"contour\"}],\"contourcarpet\":[{\"colorbar\":{\"outlinewidth\":0,\"ticks\":\"\"},\"type\":\"contourcarpet\"}],\"heatmap\":[{\"colorbar\":{\"outlinewidth\":0,\"ticks\":\"\"},\"colorscale\":[[0.0,\"#0d0887\"],[0.1111111111111111,\"#46039f\"],[0.2222222222222222,\"#7201a8\"],[0.3333333333333333,\"#9c179e\"],[0.4444444444444444,\"#bd3786\"],[0.5555555555555556,\"#d8576b\"],[0.6666666666666666,\"#ed7953\"],[0.7777777777777778,\"#fb9f3a\"],[0.8888888888888888,\"#fdca26\"],[1.0,\"#f0f921\"]],\"type\":\"heatmap\"}],\"heatmapgl\":[{\"colorbar\":{\"outlinewidth\":0,\"ticks\":\"\"},\"colorscale\":[[0.0,\"#0d0887\"],[0.1111111111111111,\"#46039f\"],[0.2222222222222222,\"#7201a8\"],[0.3333333333333333,\"#9c179e\"],[0.4444444444444444,\"#bd3786\"],[0.5555555555555556,\"#d8576b\"],[0.6666666666666666,\"#ed7953\"],[0.7777777777777778,\"#fb9f3a\"],[0.8888888888888888,\"#fdca26\"],[1.0,\"#f0f921\"]],\"type\":\"heatmapgl\"}],\"histogram\":[{\"marker\":{\"pattern\":{\"fillmode\":\"overlay\",\"size\":10,\"solidity\":0.2}},\"type\":\"histogram\"}],\"histogram2d\":[{\"colorbar\":{\"outlinewidth\":0,\"ticks\":\"\"},\"colorscale\":[[0.0,\"#0d0887\"],[0.1111111111111111,\"#46039f\"],[0.2222222222222222,\"#7201a8\"],[0.3333333333333333,\"#9c179e\"],[0.4444444444444444,\"#bd3786\"],[0.5555555555555556,\"#d8576b\"],[0.6666666666666666,\"#ed7953\"],[0.7777777777777778,\"#fb9f3a\"],[0.8888888888888888,\"#fdca26\"],[1.0,\"#f0f921\"]],\"type\":\"histogram2d\"}],\"histogram2dcontour\":[{\"colorbar\":{\"outlinewidth\":0,\"ticks\":\"\"},\"colorscale\":[[0.0,\"#0d0887\"],[0.1111111111111111,\"#46039f\"],[0.2222222222222222,\"#7201a8\"],[0.3333333333333333,\"#9c179e\"],[0.4444444444444444,\"#bd3786\"],[0.5555555555555556,\"#d8576b\"],[0.6666666666666666,\"#ed7953\"],[0.7777777777777778,\"#fb9f3a\"],[0.8888888888888888,\"#fdca26\"],[1.0,\"#f0f921\"]],\"type\":\"histogram2dcontour\"}],\"mesh3d\":[{\"colorbar\":{\"outlinewidth\":0,\"ticks\":\"\"},\"type\":\"mesh3d\"}],\"parcoords\":[{\"line\":{\"colorbar\":{\"outlinewidth\":0,\"ticks\":\"\"}},\"type\":\"parcoords\"}],\"pie\":[{\"automargin\":true,\"type\":\"pie\"}],\"scatter\":[{\"marker\":{\"colorbar\":{\"outlinewidth\":0,\"ticks\":\"\"}},\"type\":\"scatter\"}],\"scatter3d\":[{\"line\":{\"colorbar\":{\"outlinewidth\":0,\"ticks\":\"\"}},\"marker\":{\"colorbar\":{\"outlinewidth\":0,\"ticks\":\"\"}},\"type\":\"scatter3d\"}],\"scattercarpet\":[{\"marker\":{\"colorbar\":{\"outlinewidth\":0,\"ticks\":\"\"}},\"type\":\"scattercarpet\"}],\"scattergeo\":[{\"marker\":{\"colorbar\":{\"outlinewidth\":0,\"ticks\":\"\"}},\"type\":\"scattergeo\"}],\"scattergl\":[{\"marker\":{\"colorbar\":{\"outlinewidth\":0,\"ticks\":\"\"}},\"type\":\"scattergl\"}],\"scattermapbox\":[{\"marker\":{\"colorbar\":{\"outlinewidth\":0,\"ticks\":\"\"}},\"type\":\"scattermapbox\"}],\"scatterpolar\":[{\"marker\":{\"colorbar\":{\"outlinewidth\":0,\"ticks\":\"\"}},\"type\":\"scatterpolar\"}],\"scatterpolargl\":[{\"marker\":{\"colorbar\":{\"outlinewidth\":0,\"ticks\":\"\"}},\"type\":\"scatterpolargl\"}],\"scatterternary\":[{\"marker\":{\"colorbar\":{\"outlinewidth\":0,\"ticks\":\"\"}},\"type\":\"scatterternary\"}],\"surface\":[{\"colorbar\":{\"outlinewidth\":0,\"ticks\":\"\"},\"colorscale\":[[0.0,\"#0d0887\"],[0.1111111111111111,\"#46039f\"],[0.2222222222222222,\"#7201a8\"],[0.3333333333333333,\"#9c179e\"],[0.4444444444444444,\"#bd3786\"],[0.5555555555555556,\"#d8576b\"],[0.6666666666666666,\"#ed7953\"],[0.7777777777777778,\"#fb9f3a\"],[0.8888888888888888,\"#fdca26\"],[1.0,\"#f0f921\"]],\"type\":\"surface\"}],\"table\":[{\"cells\":{\"fill\":{\"color\":\"#EBF0F8\"},\"line\":{\"color\":\"white\"}},\"header\":{\"fill\":{\"color\":\"#C8D4E3\"},\"line\":{\"color\":\"white\"}},\"type\":\"table\"}]},\"layout\":{\"annotationdefaults\":{\"arrowcolor\":\"#2a3f5f\",\"arrowhead\":0,\"arrowwidth\":1},\"autotypenumbers\":\"strict\",\"coloraxis\":{\"colorbar\":{\"outlinewidth\":0,\"ticks\":\"\"}},\"colorscale\":{\"diverging\":[[0,\"#8e0152\"],[0.1,\"#c51b7d\"],[0.2,\"#de77ae\"],[0.3,\"#f1b6da\"],[0.4,\"#fde0ef\"],[0.5,\"#f7f7f7\"],[0.6,\"#e6f5d0\"],[0.7,\"#b8e186\"],[0.8,\"#7fbc41\"],[0.9,\"#4d9221\"],[1,\"#276419\"]],\"sequential\":[[0.0,\"#0d0887\"],[0.1111111111111111,\"#46039f\"],[0.2222222222222222,\"#7201a8\"],[0.3333333333333333,\"#9c179e\"],[0.4444444444444444,\"#bd3786\"],[0.5555555555555556,\"#d8576b\"],[0.6666666666666666,\"#ed7953\"],[0.7777777777777778,\"#fb9f3a\"],[0.8888888888888888,\"#fdca26\"],[1.0,\"#f0f921\"]],\"sequentialminus\":[[0.0,\"#0d0887\"],[0.1111111111111111,\"#46039f\"],[0.2222222222222222,\"#7201a8\"],[0.3333333333333333,\"#9c179e\"],[0.4444444444444444,\"#bd3786\"],[0.5555555555555556,\"#d8576b\"],[0.6666666666666666,\"#ed7953\"],[0.7777777777777778,\"#fb9f3a\"],[0.8888888888888888,\"#fdca26\"],[1.0,\"#f0f921\"]]},\"colorway\":[\"#636efa\",\"#EF553B\",\"#00cc96\",\"#ab63fa\",\"#FFA15A\",\"#19d3f3\",\"#FF6692\",\"#B6E880\",\"#FF97FF\",\"#FECB52\"],\"font\":{\"color\":\"#2a3f5f\"},\"geo\":{\"bgcolor\":\"white\",\"lakecolor\":\"white\",\"landcolor\":\"#E5ECF6\",\"showlakes\":true,\"showland\":true,\"subunitcolor\":\"white\"},\"hoverlabel\":{\"align\":\"left\"},\"hovermode\":\"closest\",\"mapbox\":{\"style\":\"light\"},\"paper_bgcolor\":\"white\",\"plot_bgcolor\":\"#E5ECF6\",\"polar\":{\"angularaxis\":{\"gridcolor\":\"white\",\"linecolor\":\"white\",\"ticks\":\"\"},\"bgcolor\":\"#E5ECF6\",\"radialaxis\":{\"gridcolor\":\"white\",\"linecolor\":\"white\",\"ticks\":\"\"}},\"scene\":{\"xaxis\":{\"backgroundcolor\":\"#E5ECF6\",\"gridcolor\":\"white\",\"gridwidth\":2,\"linecolor\":\"white\",\"showbackground\":true,\"ticks\":\"\",\"zerolinecolor\":\"white\"},\"yaxis\":{\"backgroundcolor\":\"#E5ECF6\",\"gridcolor\":\"white\",\"gridwidth\":2,\"linecolor\":\"white\",\"showbackground\":true,\"ticks\":\"\",\"zerolinecolor\":\"white\"},\"zaxis\":{\"backgroundcolor\":\"#E5ECF6\",\"gridcolor\":\"white\",\"gridwidth\":2,\"linecolor\":\"white\",\"showbackground\":true,\"ticks\":\"\",\"zerolinecolor\":\"white\"}},\"shapedefaults\":{\"line\":{\"color\":\"#2a3f5f\"}},\"ternary\":{\"aaxis\":{\"gridcolor\":\"white\",\"linecolor\":\"white\",\"ticks\":\"\"},\"baxis\":{\"gridcolor\":\"white\",\"linecolor\":\"white\",\"ticks\":\"\"},\"bgcolor\":\"#E5ECF6\",\"caxis\":{\"gridcolor\":\"white\",\"linecolor\":\"white\",\"ticks\":\"\"}},\"title\":{\"x\":0.05},\"xaxis\":{\"automargin\":true,\"gridcolor\":\"white\",\"linecolor\":\"white\",\"ticks\":\"\",\"title\":{\"standoff\":15},\"zerolinecolor\":\"white\",\"zerolinewidth\":2},\"yaxis\":{\"automargin\":true,\"gridcolor\":\"white\",\"linecolor\":\"white\",\"ticks\":\"\",\"title\":{\"standoff\":15},\"zerolinecolor\":\"white\",\"zerolinewidth\":2}}},\"xaxis\":{\"anchor\":\"y\",\"domain\":[0.0,1.0],\"title\":{\"text\":\"index\"}},\"yaxis\":{\"anchor\":\"x\",\"domain\":[0.0,1.0],\"title\":{\"text\":\"value\"}},\"legend\":{\"title\":{\"text\":\"variable\"},\"tracegroupgap\":0},\"margin\":{\"t\":60}},                        {\"responsive\": true}                    ).then(function(){\n",
       "                            \n",
       "var gd = document.getElementById('b55a21cc-bf3c-44f3-9ed3-5e73c1efca96');\n",
       "var x = new MutationObserver(function (mutations, observer) {{\n",
       "        var display = window.getComputedStyle(gd).display;\n",
       "        if (!display || display === 'none') {{\n",
       "            console.log([gd, 'removed!']);\n",
       "            Plotly.purge(gd);\n",
       "            observer.disconnect();\n",
       "        }}\n",
       "}});\n",
       "\n",
       "// Listen for the removal of the full notebook cells\n",
       "var notebookContainer = gd.closest('#notebook-container');\n",
       "if (notebookContainer) {{\n",
       "    x.observe(notebookContainer, {childList: true});\n",
       "}}\n",
       "\n",
       "// Listen for the clearing of the current output cell\n",
       "var outputEl = gd.closest('.output');\n",
       "if (outputEl) {{\n",
       "    x.observe(outputEl, {childList: true});\n",
       "}}\n",
       "\n",
       "                        })                };                });            </script>        </div>"
      ]
     },
     "metadata": {},
     "output_type": "display_data"
    }
   ],
   "source": [
    "import plotly.express as px\n",
    "fig = px.line(Accu5)\n",
    "fig.show()"
   ]
  },
  {
   "cell_type": "code",
   "execution_count": 31,
   "id": "b5183f96",
   "metadata": {},
   "outputs": [
    {
     "data": {
      "application/vnd.plotly.v1+json": {
       "config": {
        "plotlyServerURL": "https://plot.ly"
       },
       "data": [
        {
         "hovertemplate": "variable=0.10<br>index=%{x}<br>value=%{y}<extra></extra>",
         "legendgroup": "0.10",
         "line": {
          "color": "#636efa",
          "dash": "solid"
         },
         "marker": {
          "symbol": "circle"
         },
         "mode": "lines",
         "name": "0.10",
         "showlegend": true,
         "type": "scattergl",
         "x": [
          0,
          1,
          2,
          3,
          4,
          5,
          6,
          7,
          8,
          9,
          10,
          11,
          12,
          13,
          14,
          15,
          16,
          17,
          18,
          19,
          20,
          21,
          22,
          23,
          24,
          25,
          26,
          27,
          28,
          29,
          30,
          31,
          32,
          33,
          34,
          35,
          36,
          37,
          38,
          39,
          40,
          41,
          42,
          43,
          44,
          45,
          46,
          47,
          48,
          49,
          50,
          51,
          52,
          53,
          54,
          55,
          56,
          57,
          58,
          59,
          60,
          61,
          62,
          63,
          64,
          65,
          66,
          67,
          68,
          69,
          70,
          71,
          72,
          73,
          74,
          75,
          76,
          77,
          78,
          79,
          80,
          81,
          82,
          83,
          84,
          85,
          86,
          87,
          88,
          89,
          90,
          91,
          92,
          93,
          94,
          95,
          96,
          97,
          98,
          99
         ],
         "xaxis": "x",
         "y": [
          0.11814634146341463,
          0.1425121951219512,
          0.1871951219512195,
          0.22404878048780488,
          0.27563414634146344,
          0.31558536585365854,
          0.3541219512195122,
          0.38565853658536586,
          0.41604878048780486,
          0.44214634146341464,
          0.46546341463414637,
          0.4860243902439024,
          0.505,
          0.5217804878048781,
          0.5367073170731708,
          0.5515121951219513,
          0.5652195121951219,
          0.577,
          0.5879268292682926,
          0.5980731707317073,
          0.6076585365853658,
          0.6158536585365854,
          0.6248780487804878,
          0.6326829268292683,
          0.6404634146341464,
          0.6472439024390244,
          0.6537804878048781,
          0.6598780487804878,
          0.6662439024390244,
          0.6714878048780488,
          0.6764146341463415,
          0.6805853658536586,
          0.685439024390244,
          0.69,
          0.6946585365853658,
          0.6992926829268292,
          0.7029268292682926,
          0.7068292682926829,
          0.7103658536585366,
          0.7139756097560975,
          0.7175853658536585,
          0.7209024390243902,
          0.724,
          0.7270487804878049,
          0.7299268292682927,
          0.732609756097561,
          0.7351951219512195,
          0.7379024390243902,
          0.7402195121951219,
          0.7421463414634146,
          0.7445853658536585,
          0.7468780487804878,
          0.7494146341463415,
          0.7515365853658537,
          0.7531219512195122,
          0.7554634146341463,
          0.7572439024390244,
          0.759219512195122,
          0.7610487804878049,
          0.7629268292682927,
          0.7646829268292683,
          0.7667073170731707,
          0.7687073170731707,
          0.770219512195122,
          0.7719756097560976,
          0.7735853658536586,
          0.7748780487804878,
          0.7763658536585366,
          0.7778536585365854,
          0.7790487804878049,
          0.781,
          0.7824878048780488,
          0.7840487804878049,
          0.7855121951219513,
          0.7868536585365854,
          0.7877560975609756,
          0.7886585365853659,
          0.7902439024390244,
          0.7914634146341464,
          0.7924390243902439,
          0.7934146341463415,
          0.7942439024390244,
          0.7953902439024391,
          0.7962926829268293,
          0.7973658536585366,
          0.798439024390244,
          0.7992439024390244,
          0.8002926829268293,
          0.8013658536585366,
          0.8023170731707318,
          0.8033170731707318,
          0.804439024390244,
          0.8057804878048781,
          0.806439024390244,
          0.8073658536585366,
          0.8082682926829269,
          0.8090487804878049,
          0.8100487804878049,
          0.811,
          0.8119268292682927
         ],
         "yaxis": "y"
        },
        {
         "hovertemplate": "variable=0.15<br>index=%{x}<br>value=%{y}<extra></extra>",
         "legendgroup": "0.15",
         "line": {
          "color": "#EF553B",
          "dash": "solid"
         },
         "marker": {
          "symbol": "circle"
         },
         "mode": "lines",
         "name": "0.15",
         "showlegend": true,
         "type": "scattergl",
         "x": [
          0,
          1,
          2,
          3,
          4,
          5,
          6,
          7,
          8,
          9,
          10,
          11,
          12,
          13,
          14,
          15,
          16,
          17,
          18,
          19,
          20,
          21,
          22,
          23,
          24,
          25,
          26,
          27,
          28,
          29,
          30,
          31,
          32,
          33,
          34,
          35,
          36,
          37,
          38,
          39,
          40,
          41,
          42,
          43,
          44,
          45,
          46,
          47,
          48,
          49,
          50,
          51,
          52,
          53,
          54,
          55,
          56,
          57,
          58,
          59,
          60,
          61,
          62,
          63,
          64,
          65,
          66,
          67,
          68,
          69,
          70,
          71,
          72,
          73,
          74,
          75,
          76,
          77,
          78,
          79,
          80,
          81,
          82,
          83,
          84,
          85,
          86,
          87,
          88,
          89,
          90,
          91,
          92,
          93,
          94,
          95,
          96,
          97,
          98,
          99
         ],
         "xaxis": "x",
         "y": [
          0.12214634146341463,
          0.18678048780487805,
          0.23034146341463416,
          0.2738780487804878,
          0.36009756097560974,
          0.38690243902439025,
          0.4358048780487805,
          0.46,
          0.4934390243902439,
          0.5129756097560976,
          0.5352682926829269,
          0.5525853658536586,
          0.5692439024390243,
          0.5854878048780487,
          0.5984878048780488,
          0.6109512195121951,
          0.6220487804878049,
          0.6328780487804878,
          0.6429756097560976,
          0.6512439024390244,
          0.6589512195121952,
          0.6662926829268293,
          0.6733170731707318,
          0.6804146341463415,
          0.6864878048780488,
          0.6916829268292682,
          0.6974146341463414,
          0.702390243902439,
          0.7072682926829268,
          0.7115121951219512,
          0.7160487804878048,
          0.7204146341463414,
          0.7243414634146341,
          0.7279268292682927,
          0.7314146341463414,
          0.7349756097560975,
          0.7375853658536585,
          0.7405853658536585,
          0.7437317073170732,
          0.746219512195122,
          0.7491707317073171,
          0.752,
          0.7542682926829268,
          0.7572439024390244,
          0.7597560975609756,
          0.7620731707317073,
          0.7641707317073171,
          0.7664634146341464,
          0.7683170731707317,
          0.7703170731707317,
          0.7721707317073171,
          0.7738780487804878,
          0.7757317073170732,
          0.7776341463414634,
          0.7797073170731708,
          0.7812926829268293,
          0.7828536585365854,
          0.7842439024390244,
          0.7857560975609756,
          0.7876585365853659,
          0.7893658536585366,
          0.791,
          0.792609756097561,
          0.7938536585365854,
          0.7954390243902439,
          0.7970731707317074,
          0.7981707317073171,
          0.7991463414634147,
          0.8002926829268293,
          0.8013902439024391,
          0.8029268292682927,
          0.8045365853658537,
          0.8057560975609757,
          0.8070243902439025,
          0.8081463414634147,
          0.8091219512195122,
          0.8100975609756098,
          0.8115121951219513,
          0.8124634146341464,
          0.8133414634146341,
          0.8142439024390243,
          0.8150487804878048,
          0.8160487804878048,
          0.8168292682926829,
          0.8179268292682926,
          0.819,
          0.8198292682926829,
          0.8206585365853658,
          0.8215853658536585,
          0.8225121951219512,
          0.8234390243902439,
          0.8240487804878048,
          0.8249756097560975,
          0.8258048780487804,
          0.8267073170731707,
          0.827390243902439,
          0.8281463414634146,
          0.8287073170731707,
          0.8293658536585365,
          0.8302195121951219
         ],
         "yaxis": "y"
        },
        {
         "hovertemplate": "variable=0.20<br>index=%{x}<br>value=%{y}<extra></extra>",
         "legendgroup": "0.20",
         "line": {
          "color": "#00cc96",
          "dash": "solid"
         },
         "marker": {
          "symbol": "circle"
         },
         "mode": "lines",
         "name": "0.20",
         "showlegend": true,
         "type": "scattergl",
         "x": [
          0,
          1,
          2,
          3,
          4,
          5,
          6,
          7,
          8,
          9,
          10,
          11,
          12,
          13,
          14,
          15,
          16,
          17,
          18,
          19,
          20,
          21,
          22,
          23,
          24,
          25,
          26,
          27,
          28,
          29,
          30,
          31,
          32,
          33,
          34,
          35,
          36,
          37,
          38,
          39,
          40,
          41,
          42,
          43,
          44,
          45,
          46,
          47,
          48,
          49,
          50,
          51,
          52,
          53,
          54,
          55,
          56,
          57,
          58,
          59,
          60,
          61,
          62,
          63,
          64,
          65,
          66,
          67,
          68,
          69,
          70,
          71,
          72,
          73,
          74,
          75,
          76,
          77,
          78,
          79,
          80,
          81,
          82,
          83,
          84,
          85,
          86,
          87,
          88,
          89,
          90,
          91,
          92,
          93,
          94,
          95,
          96,
          97,
          98,
          99
         ],
         "xaxis": "x",
         "y": [
          0.1372439024390244,
          0.14465853658536584,
          0.29678048780487803,
          0.32078048780487806,
          0.4282439024390244,
          0.47253658536585363,
          0.5106585365853659,
          0.5380731707317074,
          0.5629756097560975,
          0.583390243902439,
          0.6015121951219512,
          0.6175609756097561,
          0.6307560975609756,
          0.6438048780487805,
          0.6570243902439025,
          0.6678536585365854,
          0.6787804878048781,
          0.6884390243902438,
          0.6970243902439024,
          0.7050975609756097,
          0.7122682926829268,
          0.7198292682926829,
          0.7258536585365853,
          0.731609756097561,
          0.736609756097561,
          0.7423658536585366,
          0.7469756097560976,
          0.7519756097560976,
          0.755780487804878,
          0.7599024390243903,
          0.7631219512195122,
          0.7664878048780488,
          0.7698048780487805,
          0.7731219512195122,
          0.776609756097561,
          0.7798048780487805,
          0.782829268292683,
          0.7854634146341464,
          0.7879756097560976,
          0.7903658536585366,
          0.7929024390243903,
          0.7950975609756098,
          0.7972439024390244,
          0.7994634146341464,
          0.8013170731707318,
          0.8032926829268293,
          0.8058780487804879,
          0.8076341463414635,
          0.809609756097561,
          0.8114878048780488,
          0.813170731707317,
          0.8150731707317073,
          0.8169512195121951,
          0.8184878048780487,
          0.8199024390243902,
          0.8215121951219512,
          0.8231951219512195,
          0.8242926829268292,
          0.8256341463414634,
          0.8271463414634146,
          0.8285121951219512,
          0.8298780487804878,
          0.8311219512195122,
          0.8322682926829268,
          0.8332439024390244,
          0.8344146341463414,
          0.8355609756097561,
          0.8369024390243902,
          0.8376097560975609,
          0.8387317073170731,
          0.8398048780487805,
          0.8405609756097561,
          0.8414634146341463,
          0.842170731707317,
          0.8428536585365853,
          0.8437560975609756,
          0.8444390243902439,
          0.8453170731707317,
          0.8463658536585366,
          0.8472926829268292,
          0.8479512195121951,
          0.8489268292682927,
          0.8496585365853658,
          0.8503414634146341,
          0.851,
          0.851780487804878,
          0.8526341463414634,
          0.8534878048780488,
          0.8539756097560975,
          0.8547317073170732,
          0.8554878048780488,
          0.8560487804878049,
          0.8564390243902439,
          0.8569756097560975,
          0.8574390243902439,
          0.8580243902439024,
          0.8586829268292683,
          0.8594390243902439,
          0.8600731707317073,
          0.8607073170731707
         ],
         "yaxis": "y"
        },
        {
         "hovertemplate": "variable=0.25<br>index=%{x}<br>value=%{y}<extra></extra>",
         "legendgroup": "0.25",
         "line": {
          "color": "#ab63fa",
          "dash": "solid"
         },
         "marker": {
          "symbol": "circle"
         },
         "mode": "lines",
         "name": "0.25",
         "showlegend": true,
         "type": "scattergl",
         "x": [
          0,
          1,
          2,
          3,
          4,
          5,
          6,
          7,
          8,
          9,
          10,
          11,
          12,
          13,
          14,
          15,
          16,
          17,
          18,
          19,
          20,
          21,
          22,
          23,
          24,
          25,
          26,
          27,
          28,
          29,
          30,
          31,
          32,
          33,
          34,
          35,
          36,
          37,
          38,
          39,
          40,
          41,
          42,
          43,
          44,
          45,
          46,
          47,
          48,
          49,
          50,
          51,
          52,
          53,
          54,
          55,
          56,
          57,
          58,
          59,
          60,
          61,
          62,
          63,
          64,
          65,
          66,
          67,
          68,
          69,
          70,
          71,
          72,
          73,
          74,
          75,
          76,
          77,
          78,
          79,
          80,
          81,
          82,
          83,
          84,
          85,
          86,
          87,
          88,
          89,
          90,
          91,
          92,
          93,
          94,
          95,
          96,
          97,
          98,
          99
         ],
         "xaxis": "x",
         "y": [
          0.10370731707317073,
          0.20317073170731706,
          0.23753658536585365,
          0.28629268292682925,
          0.3307317073170732,
          0.3648780487804878,
          0.3898536585365854,
          0.4125609756097561,
          0.4358780487804878,
          0.45834146341463416,
          0.4801463414634146,
          0.5023170731707317,
          0.5258048780487805,
          0.5464146341463415,
          0.5640487804878048,
          0.5794390243902439,
          0.5944634146341463,
          0.6071951219512195,
          0.6186829268292683,
          0.6298536585365854,
          0.6408536585365854,
          0.6509512195121951,
          0.6601951219512195,
          0.668609756097561,
          0.6772682926829269,
          0.6842926829268293,
          0.6914146341463414,
          0.6980975609756097,
          0.7045853658536585,
          0.7113414634146341,
          0.7172682926829268,
          0.722170731707317,
          0.7272682926829268,
          0.7321219512195122,
          0.7369268292682927,
          0.7415853658536585,
          0.7455853658536585,
          0.7495609756097561,
          0.7538780487804878,
          0.7577560975609756,
          0.7615121951219512,
          0.7647317073170732,
          0.7678048780487805,
          0.7707317073170732,
          0.7737804878048781,
          0.7765853658536586,
          0.7794878048780488,
          0.7819756097560976,
          0.7848780487804878,
          0.7871707317073171,
          0.7894146341463415,
          0.7914146341463415,
          0.7935609756097561,
          0.7957560975609757,
          0.7980731707317074,
          0.8000731707317074,
          0.8017560975609757,
          0.8037317073170732,
          0.8051463414634147,
          0.807,
          0.8085365853658537,
          0.8100731707317074,
          0.8112926829268293,
          0.8128780487804877,
          0.8144878048780487,
          0.8158048780487804,
          0.8177073170731707,
          0.8191463414634146,
          0.8205853658536585,
          0.8216585365853658,
          0.8227560975609756,
          0.8242195121951219,
          0.8258536585365853,
          0.8270975609756097,
          0.8281951219512195,
          0.829170731707317,
          0.8304146341463414,
          0.8316341463414634,
          0.8327317073170731,
          0.8336097560975609,
          0.8350243902439024,
          0.8361219512195122,
          0.837390243902439,
          0.8382926829268292,
          0.8393658536585366,
          0.8403414634146341,
          0.8412682926829268,
          0.8424390243902439,
          0.8432926829268292,
          0.8440487804878049,
          0.8452439024390244,
          0.8461951219512195,
          0.8470731707317073,
          0.8478292682926829,
          0.8485609756097561,
          0.8495853658536585,
          0.8505609756097561,
          0.8510975609756097,
          0.8517560975609756,
          0.852780487804878
         ],
         "yaxis": "y"
        },
        {
         "hovertemplate": "variable=0.30<br>index=%{x}<br>value=%{y}<extra></extra>",
         "legendgroup": "0.30",
         "line": {
          "color": "#FFA15A",
          "dash": "solid"
         },
         "marker": {
          "symbol": "circle"
         },
         "mode": "lines",
         "name": "0.30",
         "showlegend": true,
         "type": "scattergl",
         "x": [
          0,
          1,
          2,
          3,
          4,
          5,
          6,
          7,
          8,
          9,
          10,
          11,
          12,
          13,
          14,
          15,
          16,
          17,
          18,
          19,
          20,
          21,
          22,
          23,
          24,
          25,
          26,
          27,
          28,
          29,
          30,
          31,
          32,
          33,
          34,
          35,
          36,
          37,
          38,
          39,
          40,
          41,
          42,
          43,
          44,
          45,
          46,
          47,
          48,
          49,
          50,
          51,
          52,
          53,
          54,
          55,
          56,
          57,
          58,
          59,
          60,
          61,
          62,
          63,
          64,
          65,
          66,
          67,
          68,
          69,
          70,
          71,
          72,
          73,
          74,
          75,
          76,
          77,
          78,
          79,
          80,
          81,
          82,
          83,
          84,
          85,
          86,
          87,
          88,
          89,
          90,
          91,
          92,
          93,
          94,
          95,
          96,
          97,
          98,
          99
         ],
         "xaxis": "x",
         "y": [
          0.12697560975609756,
          0.16278048780487805,
          0.19207317073170732,
          0.2428780487804878,
          0.3057560975609756,
          0.3578780487804878,
          0.40741463414634144,
          0.45526829268292685,
          0.4956341463414634,
          0.5277560975609756,
          0.5533170731707318,
          0.575780487804878,
          0.5944878048780488,
          0.6119024390243902,
          0.6263658536585366,
          0.6389756097560976,
          0.6520487804878049,
          0.6627804878048781,
          0.672609756097561,
          0.6825365853658537,
          0.6908536585365853,
          0.6990975609756097,
          0.7057317073170731,
          0.7133170731707317,
          0.7200487804878049,
          0.7255609756097561,
          0.7319512195121951,
          0.7375853658536585,
          0.7427317073170732,
          0.7470975609756098,
          0.7518536585365854,
          0.756780487804878,
          0.76,
          0.7637317073170732,
          0.7673170731707317,
          0.7708536585365854,
          0.774219512195122,
          0.7772926829268293,
          0.7796829268292683,
          0.7830487804878049,
          0.7863170731707317,
          0.7887560975609756,
          0.7914390243902439,
          0.7937317073170732,
          0.7963658536585366,
          0.7983658536585366,
          0.8005365853658537,
          0.8022439024390244,
          0.8042439024390244,
          0.8062682926829269,
          0.8083170731707318,
          0.8103902439024391,
          0.8123658536585366,
          0.8140975609756097,
          0.8159024390243902,
          0.8174634146341463,
          0.8189268292682926,
          0.8205121951219512,
          0.8216829268292682,
          0.8233658536585365,
          0.824780487804878,
          0.8261463414634146,
          0.827390243902439,
          0.8286097560975609,
          0.8302195121951219,
          0.8311463414634146,
          0.8322439024390244,
          0.8334146341463414,
          0.8348048780487805,
          0.8361219512195122,
          0.8373658536585366,
          0.8385853658536585,
          0.8394390243902439,
          0.8403414634146341,
          0.8416585365853658,
          0.8427560975609756,
          0.8437073170731707,
          0.8447317073170731,
          0.8456585365853658,
          0.8465853658536585,
          0.8474390243902439,
          0.8484634146341463,
          0.8492439024390244,
          0.8500487804878049,
          0.8505365853658536,
          0.8512682926829268,
          0.8519756097560975,
          0.8527560975609756,
          0.8534878048780488,
          0.8543658536585366,
          0.8551707317073171,
          0.8558292682926829,
          0.8565365853658536,
          0.8571707317073171,
          0.8578292682926829,
          0.8585121951219512,
          0.8593170731707317,
          0.8599024390243902,
          0.860390243902439,
          0.861
         ],
         "yaxis": "y"
        },
        {
         "hovertemplate": "variable=0.35<br>index=%{x}<br>value=%{y}<extra></extra>",
         "legendgroup": "0.35",
         "line": {
          "color": "#19d3f3",
          "dash": "solid"
         },
         "marker": {
          "symbol": "circle"
         },
         "mode": "lines",
         "name": "0.35",
         "showlegend": true,
         "type": "scattergl",
         "x": [
          0,
          1,
          2,
          3,
          4,
          5,
          6,
          7,
          8,
          9,
          10,
          11,
          12,
          13,
          14,
          15,
          16,
          17,
          18,
          19,
          20,
          21,
          22,
          23,
          24,
          25,
          26,
          27,
          28,
          29,
          30,
          31,
          32,
          33,
          34,
          35,
          36,
          37,
          38,
          39,
          40,
          41,
          42,
          43,
          44,
          45,
          46,
          47,
          48,
          49,
          50,
          51,
          52,
          53,
          54,
          55,
          56,
          57,
          58,
          59,
          60,
          61,
          62,
          63,
          64,
          65,
          66,
          67,
          68,
          69,
          70,
          71,
          72,
          73,
          74,
          75,
          76,
          77,
          78,
          79,
          80,
          81,
          82,
          83,
          84,
          85,
          86,
          87,
          88,
          89,
          90,
          91,
          92,
          93,
          94,
          95,
          96,
          97,
          98,
          99
         ],
         "xaxis": "x",
         "y": [
          0.08543902439024391,
          0.12209756097560975,
          0.25102439024390244,
          0.3420975609756098,
          0.4039756097560976,
          0.45514634146341465,
          0.49629268292682926,
          0.529829268292683,
          0.5583170731707318,
          0.5822682926829268,
          0.6036585365853658,
          0.6215121951219512,
          0.6371707317073171,
          0.652829268292683,
          0.6661951219512195,
          0.6775121951219513,
          0.6883658536585365,
          0.6985121951219512,
          0.7067317073170731,
          0.7159512195121951,
          0.7226585365853658,
          0.728780487804878,
          0.7355121951219512,
          0.7406829268292683,
          0.7464634146341463,
          0.7514146341463415,
          0.755609756097561,
          0.7606341463414634,
          0.7657073170731707,
          0.7697804878048781,
          0.7733414634146342,
          0.7774146341463415,
          0.781,
          0.7846341463414634,
          0.7873658536585366,
          0.7906829268292683,
          0.7938536585365854,
          0.7970731707317074,
          0.8006829268292683,
          0.8034634146341464,
          0.805829268292683,
          0.8082926829268293,
          0.8100487804878049,
          0.8116829268292683,
          0.8140243902439024,
          0.8159512195121951,
          0.8179512195121951,
          0.8199268292682926,
          0.821780487804878,
          0.823780487804878,
          0.8250487804878048,
          0.8268048780487804,
          0.8286097560975609,
          0.8305609756097561,
          0.8321463414634146,
          0.8337073170731707,
          0.8354146341463414,
          0.8366829268292683,
          0.8382195121951219,
          0.8395609756097561,
          0.8409756097560975,
          0.8423414634146341,
          0.8437560975609756,
          0.8450731707317073,
          0.8464390243902439,
          0.8475853658536585,
          0.8490975609756097,
          0.8500243902439024,
          0.8512682926829268,
          0.8522195121951219,
          0.8529024390243902,
          0.8542439024390244,
          0.8552926829268293,
          0.856390243902439,
          0.857,
          0.8578536585365854,
          0.8588048780487805,
          0.859780487804878,
          0.8608048780487805,
          0.8615853658536585,
          0.8623658536585366,
          0.8633658536585366,
          0.8641219512195122,
          0.8649756097560976,
          0.8657560975609756,
          0.8666341463414634,
          0.8671707317073171,
          0.8679024390243902,
          0.8686341463414634,
          0.8691463414634146,
          0.8698536585365854,
          0.8705121951219512,
          0.8711463414634146,
          0.871780487804878,
          0.8724634146341463,
          0.8730731707317073,
          0.8734878048780488,
          0.8739512195121951,
          0.8742682926829268,
          0.875219512195122
         ],
         "yaxis": "y"
        },
        {
         "hovertemplate": "variable=0.40<br>index=%{x}<br>value=%{y}<extra></extra>",
         "legendgroup": "0.40",
         "line": {
          "color": "#FF6692",
          "dash": "solid"
         },
         "marker": {
          "symbol": "circle"
         },
         "mode": "lines",
         "name": "0.40",
         "showlegend": true,
         "type": "scattergl",
         "x": [
          0,
          1,
          2,
          3,
          4,
          5,
          6,
          7,
          8,
          9,
          10,
          11,
          12,
          13,
          14,
          15,
          16,
          17,
          18,
          19,
          20,
          21,
          22,
          23,
          24,
          25,
          26,
          27,
          28,
          29,
          30,
          31,
          32,
          33,
          34,
          35,
          36,
          37,
          38,
          39,
          40,
          41,
          42,
          43,
          44,
          45,
          46,
          47,
          48,
          49,
          50,
          51,
          52,
          53,
          54,
          55,
          56,
          57,
          58,
          59,
          60,
          61,
          62,
          63,
          64,
          65,
          66,
          67,
          68,
          69,
          70,
          71,
          72,
          73,
          74,
          75,
          76,
          77,
          78,
          79,
          80,
          81,
          82,
          83,
          84,
          85,
          86,
          87,
          88,
          89,
          90,
          91,
          92,
          93,
          94,
          95,
          96,
          97,
          98,
          99
         ],
         "xaxis": "x",
         "y": [
          0.11202439024390244,
          0.16407317073170732,
          0.20748780487804877,
          0.2839024390243902,
          0.3065609756097561,
          0.33482926829268295,
          0.36160975609756096,
          0.38714634146341464,
          0.41104878048780485,
          0.4338048780487805,
          0.45639024390243904,
          0.4747073170731707,
          0.4918780487804878,
          0.507219512195122,
          0.5205609756097561,
          0.5343170731707317,
          0.5452926829268293,
          0.5566829268292683,
          0.5669512195121951,
          0.5777560975609756,
          0.588170731707317,
          0.5978292682926829,
          0.6071219512195122,
          0.6164878048780488,
          0.626609756097561,
          0.6363658536585366,
          0.6476585365853659,
          0.658390243902439,
          0.669829268292683,
          0.6807804878048781,
          0.6912439024390243,
          0.7011463414634146,
          0.7106585365853658,
          0.7183658536585366,
          0.7259268292682927,
          0.7323414634146341,
          0.7390731707317073,
          0.7449024390243902,
          0.7497560975609756,
          0.7555121951219512,
          0.7601951219512195,
          0.7646829268292683,
          0.7689024390243903,
          0.7727073170731708,
          0.7765609756097561,
          0.780219512195122,
          0.783829268292683,
          0.7870731707317074,
          0.790219512195122,
          0.7927073170731708,
          0.7954146341463415,
          0.7978048780487805,
          0.8003658536585366,
          0.8033170731707318,
          0.805439024390244,
          0.8073902439024391,
          0.8097804878048781,
          0.8113658536585366,
          0.8134390243902438,
          0.8153658536585365,
          0.8166341463414634,
          0.8188536585365853,
          0.8204390243902439,
          0.8218048780487804,
          0.8233414634146341,
          0.824780487804878,
          0.8262926829268292,
          0.8272926829268292,
          0.8286097560975609,
          0.8298536585365853,
          0.8308048780487804,
          0.8323170731707317,
          0.8336341463414634,
          0.8345609756097561,
          0.8355853658536585,
          0.8364390243902439,
          0.8374878048780487,
          0.8385609756097561,
          0.8399756097560975,
          0.8411463414634146,
          0.8422195121951219,
          0.8431463414634146,
          0.844,
          0.8450731707317073,
          0.8456341463414634,
          0.8464390243902439,
          0.8475853658536585,
          0.8481951219512195,
          0.8488048780487805,
          0.8493658536585366,
          0.8501219512195122,
          0.8507073170731707,
          0.8514390243902439,
          0.8521463414634146,
          0.853,
          0.8539268292682927,
          0.8545121951219512,
          0.8552195121951219,
          0.8556829268292683,
          0.8562926829268293
         ],
         "yaxis": "y"
        },
        {
         "hovertemplate": "variable=0.45<br>index=%{x}<br>value=%{y}<extra></extra>",
         "legendgroup": "0.45",
         "line": {
          "color": "#B6E880",
          "dash": "solid"
         },
         "marker": {
          "symbol": "circle"
         },
         "mode": "lines",
         "name": "0.45",
         "showlegend": true,
         "type": "scattergl",
         "x": [
          0,
          1,
          2,
          3,
          4,
          5,
          6,
          7,
          8,
          9,
          10,
          11,
          12,
          13,
          14,
          15,
          16,
          17,
          18,
          19,
          20,
          21,
          22,
          23,
          24,
          25,
          26,
          27,
          28,
          29,
          30,
          31,
          32,
          33,
          34,
          35,
          36,
          37,
          38,
          39,
          40,
          41,
          42,
          43,
          44,
          45,
          46,
          47,
          48,
          49,
          50,
          51,
          52,
          53,
          54,
          55,
          56,
          57,
          58,
          59,
          60,
          61,
          62,
          63,
          64,
          65,
          66,
          67,
          68,
          69,
          70,
          71,
          72,
          73,
          74,
          75,
          76,
          77,
          78,
          79,
          80,
          81,
          82,
          83,
          84,
          85,
          86,
          87,
          88,
          89,
          90,
          91,
          92,
          93,
          94,
          95,
          96,
          97,
          98,
          99
         ],
         "xaxis": "x",
         "y": [
          0.0755609756097561,
          0.15663414634146341,
          0.21746341463414634,
          0.28409756097560973,
          0.3157560975609756,
          0.34709756097560973,
          0.3762439024390244,
          0.4048048780487805,
          0.4299512195121951,
          0.45326829268292684,
          0.4748780487804878,
          0.49570731707317073,
          0.5145365853658537,
          0.5324878048780488,
          0.5498780487804878,
          0.5676585365853658,
          0.5849756097560975,
          0.6043658536585366,
          0.6239512195121951,
          0.6402682926829268,
          0.6558536585365854,
          0.6707317073170732,
          0.6831951219512196,
          0.6944878048780487,
          0.7059512195121951,
          0.7157073170731707,
          0.7246829268292683,
          0.7334146341463414,
          0.7394878048780488,
          0.7466341463414634,
          0.7534390243902439,
          0.7587804878048781,
          0.7639756097560976,
          0.7681707317073171,
          0.7722926829268293,
          0.7762439024390244,
          0.7809512195121951,
          0.7850487804878049,
          0.7884878048780488,
          0.7920975609756098,
          0.7955121951219513,
          0.7986341463414635,
          0.8011219512195122,
          0.8043902439024391,
          0.806829268292683,
          0.809,
          0.8115121951219513,
          0.8142439024390243,
          0.8168292682926829,
          0.8193414634146341,
          0.8210243902439024,
          0.822780487804878,
          0.8247560975609756,
          0.8262682926829268,
          0.8276341463414634,
          0.8293414634146341,
          0.8312195121951219,
          0.8331219512195122,
          0.8348292682926829,
          0.8366341463414634,
          0.8381219512195122,
          0.839390243902439,
          0.8412926829268292,
          0.8431463414634146,
          0.8443170731707317,
          0.8459512195121951,
          0.8478048780487805,
          0.849,
          0.8501219512195122,
          0.8512926829268292,
          0.8522195121951219,
          0.8529512195121951,
          0.8541463414634146,
          0.8553414634146341,
          0.8564878048780488,
          0.857390243902439,
          0.8582926829268293,
          0.8592439024390244,
          0.8600975609756097,
          0.8609268292682927,
          0.8617560975609756,
          0.8626829268292683,
          0.8637317073170732,
          0.8646585365853658,
          0.865609756097561,
          0.8665121951219512,
          0.8674146341463415,
          0.8680975609756097,
          0.8688292682926829,
          0.8697073170731707,
          0.8704390243902439,
          0.8710243902439024,
          0.8717073170731707,
          0.8724390243902439,
          0.8730975609756098,
          0.874,
          0.8746341463414634,
          0.8750487804878049,
          0.8757073170731707,
          0.876390243902439
         ],
         "yaxis": "y"
        },
        {
         "hovertemplate": "variable=0.50<br>index=%{x}<br>value=%{y}<extra></extra>",
         "legendgroup": "0.50",
         "line": {
          "color": "#FF97FF",
          "dash": "solid"
         },
         "marker": {
          "symbol": "circle"
         },
         "mode": "lines",
         "name": "0.50",
         "showlegend": true,
         "type": "scattergl",
         "x": [
          0,
          1,
          2,
          3,
          4,
          5,
          6,
          7,
          8,
          9,
          10,
          11,
          12,
          13,
          14,
          15,
          16,
          17,
          18,
          19,
          20,
          21,
          22,
          23,
          24,
          25,
          26,
          27,
          28,
          29,
          30,
          31,
          32,
          33,
          34,
          35,
          36,
          37,
          38,
          39,
          40,
          41,
          42,
          43,
          44,
          45,
          46,
          47,
          48,
          49,
          50,
          51,
          52,
          53,
          54,
          55,
          56,
          57,
          58,
          59,
          60,
          61,
          62,
          63,
          64,
          65,
          66,
          67,
          68,
          69,
          70,
          71,
          72,
          73,
          74,
          75,
          76,
          77,
          78,
          79,
          80,
          81,
          82,
          83,
          84,
          85,
          86,
          87,
          88,
          89,
          90,
          91,
          92,
          93,
          94,
          95,
          96,
          97,
          98,
          99
         ],
         "xaxis": "x",
         "y": [
          0.11090243902439025,
          0.1769512195121951,
          0.26578048780487806,
          0.3793658536585366,
          0.4333658536585366,
          0.4922439024390244,
          0.5493658536585366,
          0.5959268292682927,
          0.6326585365853659,
          0.6602682926829269,
          0.683,
          0.701390243902439,
          0.7163414634146341,
          0.7286829268292683,
          0.7391951219512195,
          0.7491707317073171,
          0.7578780487804878,
          0.7655609756097561,
          0.772829268292683,
          0.7786585365853659,
          0.7850731707317073,
          0.7896585365853659,
          0.7946829268292683,
          0.7993658536585366,
          0.8040487804878049,
          0.8075609756097561,
          0.8106829268292683,
          0.8142439024390243,
          0.8169756097560975,
          0.8196585365853658,
          0.8224146341463414,
          0.8251951219512195,
          0.8281951219512195,
          0.8299024390243902,
          0.8327317073170731,
          0.834,
          0.8366097560975609,
          0.8385365853658536,
          0.8400243902439024,
          0.8420487804878048,
          0.8431219512195122,
          0.8447317073170731,
          0.846170731707317,
          0.8474390243902439,
          0.8481463414634146,
          0.8492195121951219,
          0.850609756097561,
          0.8488780487804878,
          0.8494146341463414,
          0.8461463414634146,
          0.8452926829268292,
          0.8378780487804878,
          0.836,
          0.8240731707317073,
          0.8264390243902439,
          0.820170731707317,
          0.8332682926829268,
          0.8359268292682926,
          0.8519024390243902,
          0.8549268292682927,
          0.8624146341463415,
          0.8638780487804878,
          0.8675609756097561,
          0.8680243902439024,
          0.870219512195122,
          0.8704878048780488,
          0.8723170731707317,
          0.8725609756097561,
          0.8745365853658537,
          0.8744634146341463,
          0.8760731707317073,
          0.8759756097560976,
          0.8771707317073171,
          0.8777560975609756,
          0.878780487804878,
          0.8790731707317073,
          0.8799024390243902,
          0.8807317073170732,
          0.8811463414634146,
          0.8817560975609756,
          0.8821463414634146,
          0.8829512195121951,
          0.8831219512195122,
          0.8838780487804878,
          0.8841463414634146,
          0.8849512195121951,
          0.8851463414634146,
          0.8859756097560976,
          0.8863658536585366,
          0.8870243902439024,
          0.8873414634146342,
          0.8880975609756098,
          0.8884390243902439,
          0.8891219512195122,
          0.8893170731707317,
          0.8901707317073171,
          0.8901463414634146,
          0.8909512195121951,
          0.8909756097560976,
          0.891609756097561
         ],
         "yaxis": "y"
        },
        {
         "hovertemplate": "variable=0.55<br>index=%{x}<br>value=%{y}<extra></extra>",
         "legendgroup": "0.55",
         "line": {
          "color": "#FECB52",
          "dash": "solid"
         },
         "marker": {
          "symbol": "circle"
         },
         "mode": "lines",
         "name": "0.55",
         "showlegend": true,
         "type": "scattergl",
         "x": [
          0,
          1,
          2,
          3,
          4,
          5,
          6,
          7,
          8,
          9,
          10,
          11,
          12,
          13,
          14,
          15,
          16,
          17,
          18,
          19,
          20,
          21,
          22,
          23,
          24,
          25,
          26,
          27,
          28,
          29,
          30,
          31,
          32,
          33,
          34,
          35,
          36,
          37,
          38,
          39,
          40,
          41,
          42,
          43,
          44,
          45,
          46,
          47,
          48,
          49,
          50,
          51,
          52,
          53,
          54,
          55,
          56,
          57,
          58,
          59,
          60,
          61,
          62,
          63,
          64,
          65,
          66,
          67,
          68,
          69,
          70,
          71,
          72,
          73,
          74,
          75,
          76,
          77,
          78,
          79,
          80,
          81,
          82,
          83,
          84,
          85,
          86,
          87,
          88,
          89,
          90,
          91,
          92,
          93,
          94,
          95,
          96,
          97,
          98,
          99
         ],
         "xaxis": "x",
         "y": [
          0.09609756097560976,
          0.2878292682926829,
          0.2348292682926829,
          0.2981219512195122,
          0.3344390243902439,
          0.36873170731707317,
          0.4027317073170732,
          0.4329512195121951,
          0.45539024390243904,
          0.47673170731707315,
          0.49785365853658536,
          0.5161463414634146,
          0.532219512195122,
          0.5463170731707317,
          0.5593658536585366,
          0.5724878048780487,
          0.5835853658536585,
          0.5939268292682927,
          0.603390243902439,
          0.6125121951219512,
          0.620780487804878,
          0.6286585365853659,
          0.6370975609756098,
          0.6454878048780488,
          0.653219512195122,
          0.6603170731707317,
          0.6654634146341464,
          0.6718048780487805,
          0.6771951219512196,
          0.6831463414634147,
          0.6888536585365853,
          0.6941463414634146,
          0.6986341463414634,
          0.7049024390243902,
          0.7130975609756097,
          0.7254146341463414,
          0.7424146341463415,
          0.7530731707317073,
          0.7604146341463415,
          0.7683658536585366,
          0.7741707317073171,
          0.7789756097560976,
          0.7839268292682927,
          0.7889512195121952,
          0.7932926829268293,
          0.7973658536585366,
          0.801,
          0.8050487804878049,
          0.8082439024390244,
          0.8114634146341464,
          0.8143170731707317,
          0.8177317073170731,
          0.8204634146341463,
          0.8237073170731707,
          0.826390243902439,
          0.8287317073170731,
          0.8313658536585365,
          0.8333658536585365,
          0.8354878048780487,
          0.8373170731707317,
          0.8394634146341463,
          0.8413170731707317,
          0.8429024390243902,
          0.8448780487804878,
          0.8466585365853658,
          0.8482195121951219,
          0.8492439024390244,
          0.8504878048780488,
          0.8521219512195122,
          0.8532926829268292,
          0.8542926829268292,
          0.8552195121951219,
          0.8561951219512195,
          0.8574878048780488,
          0.858609756097561,
          0.8597317073170732,
          0.8606829268292683,
          0.8616585365853658,
          0.8627560975609756,
          0.863609756097561,
          0.8643658536585366,
          0.865,
          0.8659512195121951,
          0.8669024390243902,
          0.8677073170731707,
          0.8684634146341463,
          0.8688048780487805,
          0.8698048780487805,
          0.8704390243902439,
          0.8711219512195122,
          0.8719756097560976,
          0.8727073170731707,
          0.8733414634146341,
          0.8740975609756098,
          0.8747317073170732,
          0.875390243902439,
          0.8761707317073171,
          0.8767317073170732,
          0.8772682926829268,
          0.878
         ],
         "yaxis": "y"
        },
        {
         "hovertemplate": "variable=0.60<br>index=%{x}<br>value=%{y}<extra></extra>",
         "legendgroup": "0.60",
         "line": {
          "color": "#636efa",
          "dash": "solid"
         },
         "marker": {
          "symbol": "circle"
         },
         "mode": "lines",
         "name": "0.60",
         "showlegend": true,
         "type": "scattergl",
         "x": [
          0,
          1,
          2,
          3,
          4,
          5,
          6,
          7,
          8,
          9,
          10,
          11,
          12,
          13,
          14,
          15,
          16,
          17,
          18,
          19,
          20,
          21,
          22,
          23,
          24,
          25,
          26,
          27,
          28,
          29,
          30,
          31,
          32,
          33,
          34,
          35,
          36,
          37,
          38,
          39,
          40,
          41,
          42,
          43,
          44,
          45,
          46,
          47,
          48,
          49,
          50,
          51,
          52,
          53,
          54,
          55,
          56,
          57,
          58,
          59,
          60,
          61,
          62,
          63,
          64,
          65,
          66,
          67,
          68,
          69,
          70,
          71,
          72,
          73,
          74,
          75,
          76,
          77,
          78,
          79,
          80,
          81,
          82,
          83,
          84,
          85,
          86,
          87,
          88,
          89,
          90,
          91,
          92,
          93,
          94,
          95,
          96,
          97,
          98,
          99
         ],
         "xaxis": "x",
         "y": [
          0.0873170731707317,
          0.19092682926829269,
          0.22702439024390245,
          0.24148780487804877,
          0.2860243902439024,
          0.32770731707317075,
          0.3686341463414634,
          0.40390243902439027,
          0.4389512195121951,
          0.47409756097560973,
          0.5066341463414634,
          0.5375853658536586,
          0.5713414634146341,
          0.6039268292682927,
          0.633,
          0.6534146341463415,
          0.6717804878048781,
          0.6882195121951219,
          0.7046829268292683,
          0.7188292682926829,
          0.7296585365853658,
          0.7405853658536585,
          0.749219512195122,
          0.7573170731707317,
          0.7639024390243903,
          0.7705121951219512,
          0.7758048780487805,
          0.7808780487804878,
          0.7854390243902439,
          0.7893902439024391,
          0.7930731707317074,
          0.7969024390243903,
          0.8009268292682927,
          0.8041951219512196,
          0.8072439024390244,
          0.810439024390244,
          0.8126097560975609,
          0.8146585365853658,
          0.8167317073170731,
          0.8168292682926829,
          0.810609756097561,
          0.7935365853658537,
          0.7419268292682927,
          0.7383170731707317,
          0.7497073170731707,
          0.8173414634146341,
          0.826,
          0.8302439024390244,
          0.8338292682926829,
          0.8356097560975609,
          0.8387073170731707,
          0.8397560975609756,
          0.842780487804878,
          0.8434390243902439,
          0.8457317073170731,
          0.8462439024390244,
          0.8488536585365853,
          0.8481219512195122,
          0.8507560975609756,
          0.850170731707317,
          0.8523170731707317,
          0.8512926829268292,
          0.8534390243902439,
          0.8518536585365853,
          0.8520975609756097,
          0.8510731707317073,
          0.8511951219512195,
          0.8506341463414634,
          0.8502926829268292,
          0.8513414634146341,
          0.8523170731707317,
          0.8540975609756097,
          0.8565609756097561,
          0.8589024390243902,
          0.8619512195121951,
          0.8629268292682927,
          0.866,
          0.8658048780487805,
          0.8684390243902439,
          0.8675853658536585,
          0.8698048780487805,
          0.869,
          0.8705853658536585,
          0.8698780487804878,
          0.8709268292682927,
          0.8700975609756098,
          0.8711463414634146,
          0.8698048780487805,
          0.8713170731707317,
          0.8703414634146341,
          0.8727073170731707,
          0.8718048780487805,
          0.8743170731707317,
          0.8741951219512195,
          0.8768292682926829,
          0.8768536585365854,
          0.8790975609756098,
          0.8800731707317073,
          0.882,
          0.8820975609756098
         ],
         "yaxis": "y"
        },
        {
         "hovertemplate": "variable=0.65<br>index=%{x}<br>value=%{y}<extra></extra>",
         "legendgroup": "0.65",
         "line": {
          "color": "#EF553B",
          "dash": "solid"
         },
         "marker": {
          "symbol": "circle"
         },
         "mode": "lines",
         "name": "0.65",
         "showlegend": true,
         "type": "scattergl",
         "x": [
          0,
          1,
          2,
          3,
          4,
          5,
          6,
          7,
          8,
          9,
          10,
          11,
          12,
          13,
          14,
          15,
          16,
          17,
          18,
          19,
          20,
          21,
          22,
          23,
          24,
          25,
          26,
          27,
          28,
          29,
          30,
          31,
          32,
          33,
          34,
          35,
          36,
          37,
          38,
          39,
          40,
          41,
          42,
          43,
          44,
          45,
          46,
          47,
          48,
          49,
          50,
          51,
          52,
          53,
          54,
          55,
          56,
          57,
          58,
          59,
          60,
          61,
          62,
          63,
          64,
          65,
          66,
          67,
          68,
          69,
          70,
          71,
          72,
          73,
          74,
          75,
          76,
          77,
          78,
          79,
          80,
          81,
          82,
          83,
          84,
          85,
          86,
          87,
          88,
          89,
          90,
          91,
          92,
          93,
          94,
          95,
          96,
          97,
          98,
          99
         ],
         "xaxis": "x",
         "y": [
          0.11363414634146342,
          0.18526829268292683,
          0.22714634146341464,
          0.21434146341463414,
          0.26626829268292684,
          0.3232926829268293,
          0.37753658536585366,
          0.42009756097560974,
          0.4538536585365854,
          0.4838780487804878,
          0.509609756097561,
          0.5325609756097561,
          0.5537073170731708,
          0.5739512195121951,
          0.5924634146341463,
          0.6096829268292683,
          0.6288048780487805,
          0.6465609756097561,
          0.6625121951219513,
          0.6761951219512196,
          0.6915853658536585,
          0.7049756097560975,
          0.7178780487804878,
          0.7286829268292683,
          0.7390731707317073,
          0.7481707317073171,
          0.7563658536585366,
          0.7645853658536585,
          0.7714390243902439,
          0.7771951219512195,
          0.7833170731707317,
          0.7895121951219513,
          0.7944878048780488,
          0.7987317073170732,
          0.8034146341463415,
          0.8071463414634147,
          0.8110975609756098,
          0.8138780487804878,
          0.8177560975609756,
          0.8202682926829268,
          0.8239024390243902,
          0.8255853658536585,
          0.8292926829268292,
          0.8301951219512195,
          0.8331951219512195,
          0.8325121951219512,
          0.8358292682926829,
          0.8315121951219512,
          0.8298780487804878,
          0.8229024390243902,
          0.814560975609756,
          0.813,
          0.8097317073170732,
          0.8284390243902439,
          0.8369756097560975,
          0.8472195121951219,
          0.8524390243902439,
          0.8546585365853658,
          0.8577073170731707,
          0.8588292682926829,
          0.8610975609756097,
          0.8620487804878049,
          0.8640487804878049,
          0.8650731707317073,
          0.8665121951219512,
          0.8678536585365854,
          0.8683170731707317,
          0.8700243902439024,
          0.870390243902439,
          0.8722682926829268,
          0.8719268292682927,
          0.873780487804878,
          0.8734878048780488,
          0.8752926829268293,
          0.8745853658536585,
          0.8768292682926829,
          0.8762926829268293,
          0.8784878048780488,
          0.8780487804878049,
          0.8801219512195122,
          0.879219512195122,
          0.8815121951219512,
          0.8804146341463415,
          0.8829512195121951,
          0.8816829268292683,
          0.883609756097561,
          0.8822439024390244,
          0.8846585365853659,
          0.8826341463414634,
          0.8848292682926829,
          0.8825121951219512,
          0.8844390243902439,
          0.8821707317073171,
          0.8844390243902439,
          0.8820975609756098,
          0.8839268292682927,
          0.881609756097561,
          0.8836829268292683,
          0.882,
          0.8843414634146342
         ],
         "yaxis": "y"
        }
       ],
       "layout": {
        "legend": {
         "title": {
          "text": "variable"
         },
         "tracegroupgap": 0
        },
        "margin": {
         "t": 60
        },
        "template": {
         "data": {
          "bar": [
           {
            "error_x": {
             "color": "#2a3f5f"
            },
            "error_y": {
             "color": "#2a3f5f"
            },
            "marker": {
             "line": {
              "color": "#E5ECF6",
              "width": 0.5
             },
             "pattern": {
              "fillmode": "overlay",
              "size": 10,
              "solidity": 0.2
             }
            },
            "type": "bar"
           }
          ],
          "barpolar": [
           {
            "marker": {
             "line": {
              "color": "#E5ECF6",
              "width": 0.5
             },
             "pattern": {
              "fillmode": "overlay",
              "size": 10,
              "solidity": 0.2
             }
            },
            "type": "barpolar"
           }
          ],
          "carpet": [
           {
            "aaxis": {
             "endlinecolor": "#2a3f5f",
             "gridcolor": "white",
             "linecolor": "white",
             "minorgridcolor": "white",
             "startlinecolor": "#2a3f5f"
            },
            "baxis": {
             "endlinecolor": "#2a3f5f",
             "gridcolor": "white",
             "linecolor": "white",
             "minorgridcolor": "white",
             "startlinecolor": "#2a3f5f"
            },
            "type": "carpet"
           }
          ],
          "choropleth": [
           {
            "colorbar": {
             "outlinewidth": 0,
             "ticks": ""
            },
            "type": "choropleth"
           }
          ],
          "contour": [
           {
            "colorbar": {
             "outlinewidth": 0,
             "ticks": ""
            },
            "colorscale": [
             [
              0,
              "#0d0887"
             ],
             [
              0.1111111111111111,
              "#46039f"
             ],
             [
              0.2222222222222222,
              "#7201a8"
             ],
             [
              0.3333333333333333,
              "#9c179e"
             ],
             [
              0.4444444444444444,
              "#bd3786"
             ],
             [
              0.5555555555555556,
              "#d8576b"
             ],
             [
              0.6666666666666666,
              "#ed7953"
             ],
             [
              0.7777777777777778,
              "#fb9f3a"
             ],
             [
              0.8888888888888888,
              "#fdca26"
             ],
             [
              1,
              "#f0f921"
             ]
            ],
            "type": "contour"
           }
          ],
          "contourcarpet": [
           {
            "colorbar": {
             "outlinewidth": 0,
             "ticks": ""
            },
            "type": "contourcarpet"
           }
          ],
          "heatmap": [
           {
            "colorbar": {
             "outlinewidth": 0,
             "ticks": ""
            },
            "colorscale": [
             [
              0,
              "#0d0887"
             ],
             [
              0.1111111111111111,
              "#46039f"
             ],
             [
              0.2222222222222222,
              "#7201a8"
             ],
             [
              0.3333333333333333,
              "#9c179e"
             ],
             [
              0.4444444444444444,
              "#bd3786"
             ],
             [
              0.5555555555555556,
              "#d8576b"
             ],
             [
              0.6666666666666666,
              "#ed7953"
             ],
             [
              0.7777777777777778,
              "#fb9f3a"
             ],
             [
              0.8888888888888888,
              "#fdca26"
             ],
             [
              1,
              "#f0f921"
             ]
            ],
            "type": "heatmap"
           }
          ],
          "heatmapgl": [
           {
            "colorbar": {
             "outlinewidth": 0,
             "ticks": ""
            },
            "colorscale": [
             [
              0,
              "#0d0887"
             ],
             [
              0.1111111111111111,
              "#46039f"
             ],
             [
              0.2222222222222222,
              "#7201a8"
             ],
             [
              0.3333333333333333,
              "#9c179e"
             ],
             [
              0.4444444444444444,
              "#bd3786"
             ],
             [
              0.5555555555555556,
              "#d8576b"
             ],
             [
              0.6666666666666666,
              "#ed7953"
             ],
             [
              0.7777777777777778,
              "#fb9f3a"
             ],
             [
              0.8888888888888888,
              "#fdca26"
             ],
             [
              1,
              "#f0f921"
             ]
            ],
            "type": "heatmapgl"
           }
          ],
          "histogram": [
           {
            "marker": {
             "pattern": {
              "fillmode": "overlay",
              "size": 10,
              "solidity": 0.2
             }
            },
            "type": "histogram"
           }
          ],
          "histogram2d": [
           {
            "colorbar": {
             "outlinewidth": 0,
             "ticks": ""
            },
            "colorscale": [
             [
              0,
              "#0d0887"
             ],
             [
              0.1111111111111111,
              "#46039f"
             ],
             [
              0.2222222222222222,
              "#7201a8"
             ],
             [
              0.3333333333333333,
              "#9c179e"
             ],
             [
              0.4444444444444444,
              "#bd3786"
             ],
             [
              0.5555555555555556,
              "#d8576b"
             ],
             [
              0.6666666666666666,
              "#ed7953"
             ],
             [
              0.7777777777777778,
              "#fb9f3a"
             ],
             [
              0.8888888888888888,
              "#fdca26"
             ],
             [
              1,
              "#f0f921"
             ]
            ],
            "type": "histogram2d"
           }
          ],
          "histogram2dcontour": [
           {
            "colorbar": {
             "outlinewidth": 0,
             "ticks": ""
            },
            "colorscale": [
             [
              0,
              "#0d0887"
             ],
             [
              0.1111111111111111,
              "#46039f"
             ],
             [
              0.2222222222222222,
              "#7201a8"
             ],
             [
              0.3333333333333333,
              "#9c179e"
             ],
             [
              0.4444444444444444,
              "#bd3786"
             ],
             [
              0.5555555555555556,
              "#d8576b"
             ],
             [
              0.6666666666666666,
              "#ed7953"
             ],
             [
              0.7777777777777778,
              "#fb9f3a"
             ],
             [
              0.8888888888888888,
              "#fdca26"
             ],
             [
              1,
              "#f0f921"
             ]
            ],
            "type": "histogram2dcontour"
           }
          ],
          "mesh3d": [
           {
            "colorbar": {
             "outlinewidth": 0,
             "ticks": ""
            },
            "type": "mesh3d"
           }
          ],
          "parcoords": [
           {
            "line": {
             "colorbar": {
              "outlinewidth": 0,
              "ticks": ""
             }
            },
            "type": "parcoords"
           }
          ],
          "pie": [
           {
            "automargin": true,
            "type": "pie"
           }
          ],
          "scatter": [
           {
            "marker": {
             "colorbar": {
              "outlinewidth": 0,
              "ticks": ""
             }
            },
            "type": "scatter"
           }
          ],
          "scatter3d": [
           {
            "line": {
             "colorbar": {
              "outlinewidth": 0,
              "ticks": ""
             }
            },
            "marker": {
             "colorbar": {
              "outlinewidth": 0,
              "ticks": ""
             }
            },
            "type": "scatter3d"
           }
          ],
          "scattercarpet": [
           {
            "marker": {
             "colorbar": {
              "outlinewidth": 0,
              "ticks": ""
             }
            },
            "type": "scattercarpet"
           }
          ],
          "scattergeo": [
           {
            "marker": {
             "colorbar": {
              "outlinewidth": 0,
              "ticks": ""
             }
            },
            "type": "scattergeo"
           }
          ],
          "scattergl": [
           {
            "marker": {
             "colorbar": {
              "outlinewidth": 0,
              "ticks": ""
             }
            },
            "type": "scattergl"
           }
          ],
          "scattermapbox": [
           {
            "marker": {
             "colorbar": {
              "outlinewidth": 0,
              "ticks": ""
             }
            },
            "type": "scattermapbox"
           }
          ],
          "scatterpolar": [
           {
            "marker": {
             "colorbar": {
              "outlinewidth": 0,
              "ticks": ""
             }
            },
            "type": "scatterpolar"
           }
          ],
          "scatterpolargl": [
           {
            "marker": {
             "colorbar": {
              "outlinewidth": 0,
              "ticks": ""
             }
            },
            "type": "scatterpolargl"
           }
          ],
          "scatterternary": [
           {
            "marker": {
             "colorbar": {
              "outlinewidth": 0,
              "ticks": ""
             }
            },
            "type": "scatterternary"
           }
          ],
          "surface": [
           {
            "colorbar": {
             "outlinewidth": 0,
             "ticks": ""
            },
            "colorscale": [
             [
              0,
              "#0d0887"
             ],
             [
              0.1111111111111111,
              "#46039f"
             ],
             [
              0.2222222222222222,
              "#7201a8"
             ],
             [
              0.3333333333333333,
              "#9c179e"
             ],
             [
              0.4444444444444444,
              "#bd3786"
             ],
             [
              0.5555555555555556,
              "#d8576b"
             ],
             [
              0.6666666666666666,
              "#ed7953"
             ],
             [
              0.7777777777777778,
              "#fb9f3a"
             ],
             [
              0.8888888888888888,
              "#fdca26"
             ],
             [
              1,
              "#f0f921"
             ]
            ],
            "type": "surface"
           }
          ],
          "table": [
           {
            "cells": {
             "fill": {
              "color": "#EBF0F8"
             },
             "line": {
              "color": "white"
             }
            },
            "header": {
             "fill": {
              "color": "#C8D4E3"
             },
             "line": {
              "color": "white"
             }
            },
            "type": "table"
           }
          ]
         },
         "layout": {
          "annotationdefaults": {
           "arrowcolor": "#2a3f5f",
           "arrowhead": 0,
           "arrowwidth": 1
          },
          "autotypenumbers": "strict",
          "coloraxis": {
           "colorbar": {
            "outlinewidth": 0,
            "ticks": ""
           }
          },
          "colorscale": {
           "diverging": [
            [
             0,
             "#8e0152"
            ],
            [
             0.1,
             "#c51b7d"
            ],
            [
             0.2,
             "#de77ae"
            ],
            [
             0.3,
             "#f1b6da"
            ],
            [
             0.4,
             "#fde0ef"
            ],
            [
             0.5,
             "#f7f7f7"
            ],
            [
             0.6,
             "#e6f5d0"
            ],
            [
             0.7,
             "#b8e186"
            ],
            [
             0.8,
             "#7fbc41"
            ],
            [
             0.9,
             "#4d9221"
            ],
            [
             1,
             "#276419"
            ]
           ],
           "sequential": [
            [
             0,
             "#0d0887"
            ],
            [
             0.1111111111111111,
             "#46039f"
            ],
            [
             0.2222222222222222,
             "#7201a8"
            ],
            [
             0.3333333333333333,
             "#9c179e"
            ],
            [
             0.4444444444444444,
             "#bd3786"
            ],
            [
             0.5555555555555556,
             "#d8576b"
            ],
            [
             0.6666666666666666,
             "#ed7953"
            ],
            [
             0.7777777777777778,
             "#fb9f3a"
            ],
            [
             0.8888888888888888,
             "#fdca26"
            ],
            [
             1,
             "#f0f921"
            ]
           ],
           "sequentialminus": [
            [
             0,
             "#0d0887"
            ],
            [
             0.1111111111111111,
             "#46039f"
            ],
            [
             0.2222222222222222,
             "#7201a8"
            ],
            [
             0.3333333333333333,
             "#9c179e"
            ],
            [
             0.4444444444444444,
             "#bd3786"
            ],
            [
             0.5555555555555556,
             "#d8576b"
            ],
            [
             0.6666666666666666,
             "#ed7953"
            ],
            [
             0.7777777777777778,
             "#fb9f3a"
            ],
            [
             0.8888888888888888,
             "#fdca26"
            ],
            [
             1,
             "#f0f921"
            ]
           ]
          },
          "colorway": [
           "#636efa",
           "#EF553B",
           "#00cc96",
           "#ab63fa",
           "#FFA15A",
           "#19d3f3",
           "#FF6692",
           "#B6E880",
           "#FF97FF",
           "#FECB52"
          ],
          "font": {
           "color": "#2a3f5f"
          },
          "geo": {
           "bgcolor": "white",
           "lakecolor": "white",
           "landcolor": "#E5ECF6",
           "showlakes": true,
           "showland": true,
           "subunitcolor": "white"
          },
          "hoverlabel": {
           "align": "left"
          },
          "hovermode": "closest",
          "mapbox": {
           "style": "light"
          },
          "paper_bgcolor": "white",
          "plot_bgcolor": "#E5ECF6",
          "polar": {
           "angularaxis": {
            "gridcolor": "white",
            "linecolor": "white",
            "ticks": ""
           },
           "bgcolor": "#E5ECF6",
           "radialaxis": {
            "gridcolor": "white",
            "linecolor": "white",
            "ticks": ""
           }
          },
          "scene": {
           "xaxis": {
            "backgroundcolor": "#E5ECF6",
            "gridcolor": "white",
            "gridwidth": 2,
            "linecolor": "white",
            "showbackground": true,
            "ticks": "",
            "zerolinecolor": "white"
           },
           "yaxis": {
            "backgroundcolor": "#E5ECF6",
            "gridcolor": "white",
            "gridwidth": 2,
            "linecolor": "white",
            "showbackground": true,
            "ticks": "",
            "zerolinecolor": "white"
           },
           "zaxis": {
            "backgroundcolor": "#E5ECF6",
            "gridcolor": "white",
            "gridwidth": 2,
            "linecolor": "white",
            "showbackground": true,
            "ticks": "",
            "zerolinecolor": "white"
           }
          },
          "shapedefaults": {
           "line": {
            "color": "#2a3f5f"
           }
          },
          "ternary": {
           "aaxis": {
            "gridcolor": "white",
            "linecolor": "white",
            "ticks": ""
           },
           "baxis": {
            "gridcolor": "white",
            "linecolor": "white",
            "ticks": ""
           },
           "bgcolor": "#E5ECF6",
           "caxis": {
            "gridcolor": "white",
            "linecolor": "white",
            "ticks": ""
           }
          },
          "title": {
           "x": 0.05
          },
          "xaxis": {
           "automargin": true,
           "gridcolor": "white",
           "linecolor": "white",
           "ticks": "",
           "title": {
            "standoff": 15
           },
           "zerolinecolor": "white",
           "zerolinewidth": 2
          },
          "yaxis": {
           "automargin": true,
           "gridcolor": "white",
           "linecolor": "white",
           "ticks": "",
           "title": {
            "standoff": 15
           },
           "zerolinecolor": "white",
           "zerolinewidth": 2
          }
         }
        },
        "xaxis": {
         "anchor": "y",
         "domain": [
          0,
          1
         ],
         "title": {
          "text": "index"
         }
        },
        "yaxis": {
         "anchor": "x",
         "domain": [
          0,
          1
         ],
         "title": {
          "text": "value"
         }
        }
       }
      },
      "text/html": [
       "<div>                            <div id=\"dc089b85-064e-4930-b668-9b1bc50f817f\" class=\"plotly-graph-div\" style=\"height:525px; width:100%;\"></div>            <script type=\"text/javascript\">                require([\"plotly\"], function(Plotly) {                    window.PLOTLYENV=window.PLOTLYENV || {};                                    if (document.getElementById(\"dc089b85-064e-4930-b668-9b1bc50f817f\")) {                    Plotly.newPlot(                        \"dc089b85-064e-4930-b668-9b1bc50f817f\",                        [{\"hovertemplate\":\"variable=0.10<br>index=%{x}<br>value=%{y}<extra></extra>\",\"legendgroup\":\"0.10\",\"line\":{\"color\":\"#636efa\",\"dash\":\"solid\"},\"marker\":{\"symbol\":\"circle\"},\"mode\":\"lines\",\"name\":\"0.10\",\"showlegend\":true,\"x\":[0,1,2,3,4,5,6,7,8,9,10,11,12,13,14,15,16,17,18,19,20,21,22,23,24,25,26,27,28,29,30,31,32,33,34,35,36,37,38,39,40,41,42,43,44,45,46,47,48,49,50,51,52,53,54,55,56,57,58,59,60,61,62,63,64,65,66,67,68,69,70,71,72,73,74,75,76,77,78,79,80,81,82,83,84,85,86,87,88,89,90,91,92,93,94,95,96,97,98,99],\"xaxis\":\"x\",\"y\":[0.11814634146341463,0.1425121951219512,0.1871951219512195,0.22404878048780488,0.27563414634146344,0.31558536585365854,0.3541219512195122,0.38565853658536586,0.41604878048780486,0.44214634146341464,0.46546341463414637,0.4860243902439024,0.505,0.5217804878048781,0.5367073170731708,0.5515121951219513,0.5652195121951219,0.577,0.5879268292682926,0.5980731707317073,0.6076585365853658,0.6158536585365854,0.6248780487804878,0.6326829268292683,0.6404634146341464,0.6472439024390244,0.6537804878048781,0.6598780487804878,0.6662439024390244,0.6714878048780488,0.6764146341463415,0.6805853658536586,0.685439024390244,0.69,0.6946585365853658,0.6992926829268292,0.7029268292682926,0.7068292682926829,0.7103658536585366,0.7139756097560975,0.7175853658536585,0.7209024390243902,0.724,0.7270487804878049,0.7299268292682927,0.732609756097561,0.7351951219512195,0.7379024390243902,0.7402195121951219,0.7421463414634146,0.7445853658536585,0.7468780487804878,0.7494146341463415,0.7515365853658537,0.7531219512195122,0.7554634146341463,0.7572439024390244,0.759219512195122,0.7610487804878049,0.7629268292682927,0.7646829268292683,0.7667073170731707,0.7687073170731707,0.770219512195122,0.7719756097560976,0.7735853658536586,0.7748780487804878,0.7763658536585366,0.7778536585365854,0.7790487804878049,0.781,0.7824878048780488,0.7840487804878049,0.7855121951219513,0.7868536585365854,0.7877560975609756,0.7886585365853659,0.7902439024390244,0.7914634146341464,0.7924390243902439,0.7934146341463415,0.7942439024390244,0.7953902439024391,0.7962926829268293,0.7973658536585366,0.798439024390244,0.7992439024390244,0.8002926829268293,0.8013658536585366,0.8023170731707318,0.8033170731707318,0.804439024390244,0.8057804878048781,0.806439024390244,0.8073658536585366,0.8082682926829269,0.8090487804878049,0.8100487804878049,0.811,0.8119268292682927],\"yaxis\":\"y\",\"type\":\"scattergl\"},{\"hovertemplate\":\"variable=0.15<br>index=%{x}<br>value=%{y}<extra></extra>\",\"legendgroup\":\"0.15\",\"line\":{\"color\":\"#EF553B\",\"dash\":\"solid\"},\"marker\":{\"symbol\":\"circle\"},\"mode\":\"lines\",\"name\":\"0.15\",\"showlegend\":true,\"x\":[0,1,2,3,4,5,6,7,8,9,10,11,12,13,14,15,16,17,18,19,20,21,22,23,24,25,26,27,28,29,30,31,32,33,34,35,36,37,38,39,40,41,42,43,44,45,46,47,48,49,50,51,52,53,54,55,56,57,58,59,60,61,62,63,64,65,66,67,68,69,70,71,72,73,74,75,76,77,78,79,80,81,82,83,84,85,86,87,88,89,90,91,92,93,94,95,96,97,98,99],\"xaxis\":\"x\",\"y\":[0.12214634146341463,0.18678048780487805,0.23034146341463416,0.2738780487804878,0.36009756097560974,0.38690243902439025,0.4358048780487805,0.46,0.4934390243902439,0.5129756097560976,0.5352682926829269,0.5525853658536586,0.5692439024390243,0.5854878048780487,0.5984878048780488,0.6109512195121951,0.6220487804878049,0.6328780487804878,0.6429756097560976,0.6512439024390244,0.6589512195121952,0.6662926829268293,0.6733170731707318,0.6804146341463415,0.6864878048780488,0.6916829268292682,0.6974146341463414,0.702390243902439,0.7072682926829268,0.7115121951219512,0.7160487804878048,0.7204146341463414,0.7243414634146341,0.7279268292682927,0.7314146341463414,0.7349756097560975,0.7375853658536585,0.7405853658536585,0.7437317073170732,0.746219512195122,0.7491707317073171,0.752,0.7542682926829268,0.7572439024390244,0.7597560975609756,0.7620731707317073,0.7641707317073171,0.7664634146341464,0.7683170731707317,0.7703170731707317,0.7721707317073171,0.7738780487804878,0.7757317073170732,0.7776341463414634,0.7797073170731708,0.7812926829268293,0.7828536585365854,0.7842439024390244,0.7857560975609756,0.7876585365853659,0.7893658536585366,0.791,0.792609756097561,0.7938536585365854,0.7954390243902439,0.7970731707317074,0.7981707317073171,0.7991463414634147,0.8002926829268293,0.8013902439024391,0.8029268292682927,0.8045365853658537,0.8057560975609757,0.8070243902439025,0.8081463414634147,0.8091219512195122,0.8100975609756098,0.8115121951219513,0.8124634146341464,0.8133414634146341,0.8142439024390243,0.8150487804878048,0.8160487804878048,0.8168292682926829,0.8179268292682926,0.819,0.8198292682926829,0.8206585365853658,0.8215853658536585,0.8225121951219512,0.8234390243902439,0.8240487804878048,0.8249756097560975,0.8258048780487804,0.8267073170731707,0.827390243902439,0.8281463414634146,0.8287073170731707,0.8293658536585365,0.8302195121951219],\"yaxis\":\"y\",\"type\":\"scattergl\"},{\"hovertemplate\":\"variable=0.20<br>index=%{x}<br>value=%{y}<extra></extra>\",\"legendgroup\":\"0.20\",\"line\":{\"color\":\"#00cc96\",\"dash\":\"solid\"},\"marker\":{\"symbol\":\"circle\"},\"mode\":\"lines\",\"name\":\"0.20\",\"showlegend\":true,\"x\":[0,1,2,3,4,5,6,7,8,9,10,11,12,13,14,15,16,17,18,19,20,21,22,23,24,25,26,27,28,29,30,31,32,33,34,35,36,37,38,39,40,41,42,43,44,45,46,47,48,49,50,51,52,53,54,55,56,57,58,59,60,61,62,63,64,65,66,67,68,69,70,71,72,73,74,75,76,77,78,79,80,81,82,83,84,85,86,87,88,89,90,91,92,93,94,95,96,97,98,99],\"xaxis\":\"x\",\"y\":[0.1372439024390244,0.14465853658536584,0.29678048780487803,0.32078048780487806,0.4282439024390244,0.47253658536585363,0.5106585365853659,0.5380731707317074,0.5629756097560975,0.583390243902439,0.6015121951219512,0.6175609756097561,0.6307560975609756,0.6438048780487805,0.6570243902439025,0.6678536585365854,0.6787804878048781,0.6884390243902438,0.6970243902439024,0.7050975609756097,0.7122682926829268,0.7198292682926829,0.7258536585365853,0.731609756097561,0.736609756097561,0.7423658536585366,0.7469756097560976,0.7519756097560976,0.755780487804878,0.7599024390243903,0.7631219512195122,0.7664878048780488,0.7698048780487805,0.7731219512195122,0.776609756097561,0.7798048780487805,0.782829268292683,0.7854634146341464,0.7879756097560976,0.7903658536585366,0.7929024390243903,0.7950975609756098,0.7972439024390244,0.7994634146341464,0.8013170731707318,0.8032926829268293,0.8058780487804879,0.8076341463414635,0.809609756097561,0.8114878048780488,0.813170731707317,0.8150731707317073,0.8169512195121951,0.8184878048780487,0.8199024390243902,0.8215121951219512,0.8231951219512195,0.8242926829268292,0.8256341463414634,0.8271463414634146,0.8285121951219512,0.8298780487804878,0.8311219512195122,0.8322682926829268,0.8332439024390244,0.8344146341463414,0.8355609756097561,0.8369024390243902,0.8376097560975609,0.8387317073170731,0.8398048780487805,0.8405609756097561,0.8414634146341463,0.842170731707317,0.8428536585365853,0.8437560975609756,0.8444390243902439,0.8453170731707317,0.8463658536585366,0.8472926829268292,0.8479512195121951,0.8489268292682927,0.8496585365853658,0.8503414634146341,0.851,0.851780487804878,0.8526341463414634,0.8534878048780488,0.8539756097560975,0.8547317073170732,0.8554878048780488,0.8560487804878049,0.8564390243902439,0.8569756097560975,0.8574390243902439,0.8580243902439024,0.8586829268292683,0.8594390243902439,0.8600731707317073,0.8607073170731707],\"yaxis\":\"y\",\"type\":\"scattergl\"},{\"hovertemplate\":\"variable=0.25<br>index=%{x}<br>value=%{y}<extra></extra>\",\"legendgroup\":\"0.25\",\"line\":{\"color\":\"#ab63fa\",\"dash\":\"solid\"},\"marker\":{\"symbol\":\"circle\"},\"mode\":\"lines\",\"name\":\"0.25\",\"showlegend\":true,\"x\":[0,1,2,3,4,5,6,7,8,9,10,11,12,13,14,15,16,17,18,19,20,21,22,23,24,25,26,27,28,29,30,31,32,33,34,35,36,37,38,39,40,41,42,43,44,45,46,47,48,49,50,51,52,53,54,55,56,57,58,59,60,61,62,63,64,65,66,67,68,69,70,71,72,73,74,75,76,77,78,79,80,81,82,83,84,85,86,87,88,89,90,91,92,93,94,95,96,97,98,99],\"xaxis\":\"x\",\"y\":[0.10370731707317073,0.20317073170731706,0.23753658536585365,0.28629268292682925,0.3307317073170732,0.3648780487804878,0.3898536585365854,0.4125609756097561,0.4358780487804878,0.45834146341463416,0.4801463414634146,0.5023170731707317,0.5258048780487805,0.5464146341463415,0.5640487804878048,0.5794390243902439,0.5944634146341463,0.6071951219512195,0.6186829268292683,0.6298536585365854,0.6408536585365854,0.6509512195121951,0.6601951219512195,0.668609756097561,0.6772682926829269,0.6842926829268293,0.6914146341463414,0.6980975609756097,0.7045853658536585,0.7113414634146341,0.7172682926829268,0.722170731707317,0.7272682926829268,0.7321219512195122,0.7369268292682927,0.7415853658536585,0.7455853658536585,0.7495609756097561,0.7538780487804878,0.7577560975609756,0.7615121951219512,0.7647317073170732,0.7678048780487805,0.7707317073170732,0.7737804878048781,0.7765853658536586,0.7794878048780488,0.7819756097560976,0.7848780487804878,0.7871707317073171,0.7894146341463415,0.7914146341463415,0.7935609756097561,0.7957560975609757,0.7980731707317074,0.8000731707317074,0.8017560975609757,0.8037317073170732,0.8051463414634147,0.807,0.8085365853658537,0.8100731707317074,0.8112926829268293,0.8128780487804877,0.8144878048780487,0.8158048780487804,0.8177073170731707,0.8191463414634146,0.8205853658536585,0.8216585365853658,0.8227560975609756,0.8242195121951219,0.8258536585365853,0.8270975609756097,0.8281951219512195,0.829170731707317,0.8304146341463414,0.8316341463414634,0.8327317073170731,0.8336097560975609,0.8350243902439024,0.8361219512195122,0.837390243902439,0.8382926829268292,0.8393658536585366,0.8403414634146341,0.8412682926829268,0.8424390243902439,0.8432926829268292,0.8440487804878049,0.8452439024390244,0.8461951219512195,0.8470731707317073,0.8478292682926829,0.8485609756097561,0.8495853658536585,0.8505609756097561,0.8510975609756097,0.8517560975609756,0.852780487804878],\"yaxis\":\"y\",\"type\":\"scattergl\"},{\"hovertemplate\":\"variable=0.30<br>index=%{x}<br>value=%{y}<extra></extra>\",\"legendgroup\":\"0.30\",\"line\":{\"color\":\"#FFA15A\",\"dash\":\"solid\"},\"marker\":{\"symbol\":\"circle\"},\"mode\":\"lines\",\"name\":\"0.30\",\"showlegend\":true,\"x\":[0,1,2,3,4,5,6,7,8,9,10,11,12,13,14,15,16,17,18,19,20,21,22,23,24,25,26,27,28,29,30,31,32,33,34,35,36,37,38,39,40,41,42,43,44,45,46,47,48,49,50,51,52,53,54,55,56,57,58,59,60,61,62,63,64,65,66,67,68,69,70,71,72,73,74,75,76,77,78,79,80,81,82,83,84,85,86,87,88,89,90,91,92,93,94,95,96,97,98,99],\"xaxis\":\"x\",\"y\":[0.12697560975609756,0.16278048780487805,0.19207317073170732,0.2428780487804878,0.3057560975609756,0.3578780487804878,0.40741463414634144,0.45526829268292685,0.4956341463414634,0.5277560975609756,0.5533170731707318,0.575780487804878,0.5944878048780488,0.6119024390243902,0.6263658536585366,0.6389756097560976,0.6520487804878049,0.6627804878048781,0.672609756097561,0.6825365853658537,0.6908536585365853,0.6990975609756097,0.7057317073170731,0.7133170731707317,0.7200487804878049,0.7255609756097561,0.7319512195121951,0.7375853658536585,0.7427317073170732,0.7470975609756098,0.7518536585365854,0.756780487804878,0.76,0.7637317073170732,0.7673170731707317,0.7708536585365854,0.774219512195122,0.7772926829268293,0.7796829268292683,0.7830487804878049,0.7863170731707317,0.7887560975609756,0.7914390243902439,0.7937317073170732,0.7963658536585366,0.7983658536585366,0.8005365853658537,0.8022439024390244,0.8042439024390244,0.8062682926829269,0.8083170731707318,0.8103902439024391,0.8123658536585366,0.8140975609756097,0.8159024390243902,0.8174634146341463,0.8189268292682926,0.8205121951219512,0.8216829268292682,0.8233658536585365,0.824780487804878,0.8261463414634146,0.827390243902439,0.8286097560975609,0.8302195121951219,0.8311463414634146,0.8322439024390244,0.8334146341463414,0.8348048780487805,0.8361219512195122,0.8373658536585366,0.8385853658536585,0.8394390243902439,0.8403414634146341,0.8416585365853658,0.8427560975609756,0.8437073170731707,0.8447317073170731,0.8456585365853658,0.8465853658536585,0.8474390243902439,0.8484634146341463,0.8492439024390244,0.8500487804878049,0.8505365853658536,0.8512682926829268,0.8519756097560975,0.8527560975609756,0.8534878048780488,0.8543658536585366,0.8551707317073171,0.8558292682926829,0.8565365853658536,0.8571707317073171,0.8578292682926829,0.8585121951219512,0.8593170731707317,0.8599024390243902,0.860390243902439,0.861],\"yaxis\":\"y\",\"type\":\"scattergl\"},{\"hovertemplate\":\"variable=0.35<br>index=%{x}<br>value=%{y}<extra></extra>\",\"legendgroup\":\"0.35\",\"line\":{\"color\":\"#19d3f3\",\"dash\":\"solid\"},\"marker\":{\"symbol\":\"circle\"},\"mode\":\"lines\",\"name\":\"0.35\",\"showlegend\":true,\"x\":[0,1,2,3,4,5,6,7,8,9,10,11,12,13,14,15,16,17,18,19,20,21,22,23,24,25,26,27,28,29,30,31,32,33,34,35,36,37,38,39,40,41,42,43,44,45,46,47,48,49,50,51,52,53,54,55,56,57,58,59,60,61,62,63,64,65,66,67,68,69,70,71,72,73,74,75,76,77,78,79,80,81,82,83,84,85,86,87,88,89,90,91,92,93,94,95,96,97,98,99],\"xaxis\":\"x\",\"y\":[0.08543902439024391,0.12209756097560975,0.25102439024390244,0.3420975609756098,0.4039756097560976,0.45514634146341465,0.49629268292682926,0.529829268292683,0.5583170731707318,0.5822682926829268,0.6036585365853658,0.6215121951219512,0.6371707317073171,0.652829268292683,0.6661951219512195,0.6775121951219513,0.6883658536585365,0.6985121951219512,0.7067317073170731,0.7159512195121951,0.7226585365853658,0.728780487804878,0.7355121951219512,0.7406829268292683,0.7464634146341463,0.7514146341463415,0.755609756097561,0.7606341463414634,0.7657073170731707,0.7697804878048781,0.7733414634146342,0.7774146341463415,0.781,0.7846341463414634,0.7873658536585366,0.7906829268292683,0.7938536585365854,0.7970731707317074,0.8006829268292683,0.8034634146341464,0.805829268292683,0.8082926829268293,0.8100487804878049,0.8116829268292683,0.8140243902439024,0.8159512195121951,0.8179512195121951,0.8199268292682926,0.821780487804878,0.823780487804878,0.8250487804878048,0.8268048780487804,0.8286097560975609,0.8305609756097561,0.8321463414634146,0.8337073170731707,0.8354146341463414,0.8366829268292683,0.8382195121951219,0.8395609756097561,0.8409756097560975,0.8423414634146341,0.8437560975609756,0.8450731707317073,0.8464390243902439,0.8475853658536585,0.8490975609756097,0.8500243902439024,0.8512682926829268,0.8522195121951219,0.8529024390243902,0.8542439024390244,0.8552926829268293,0.856390243902439,0.857,0.8578536585365854,0.8588048780487805,0.859780487804878,0.8608048780487805,0.8615853658536585,0.8623658536585366,0.8633658536585366,0.8641219512195122,0.8649756097560976,0.8657560975609756,0.8666341463414634,0.8671707317073171,0.8679024390243902,0.8686341463414634,0.8691463414634146,0.8698536585365854,0.8705121951219512,0.8711463414634146,0.871780487804878,0.8724634146341463,0.8730731707317073,0.8734878048780488,0.8739512195121951,0.8742682926829268,0.875219512195122],\"yaxis\":\"y\",\"type\":\"scattergl\"},{\"hovertemplate\":\"variable=0.40<br>index=%{x}<br>value=%{y}<extra></extra>\",\"legendgroup\":\"0.40\",\"line\":{\"color\":\"#FF6692\",\"dash\":\"solid\"},\"marker\":{\"symbol\":\"circle\"},\"mode\":\"lines\",\"name\":\"0.40\",\"showlegend\":true,\"x\":[0,1,2,3,4,5,6,7,8,9,10,11,12,13,14,15,16,17,18,19,20,21,22,23,24,25,26,27,28,29,30,31,32,33,34,35,36,37,38,39,40,41,42,43,44,45,46,47,48,49,50,51,52,53,54,55,56,57,58,59,60,61,62,63,64,65,66,67,68,69,70,71,72,73,74,75,76,77,78,79,80,81,82,83,84,85,86,87,88,89,90,91,92,93,94,95,96,97,98,99],\"xaxis\":\"x\",\"y\":[0.11202439024390244,0.16407317073170732,0.20748780487804877,0.2839024390243902,0.3065609756097561,0.33482926829268295,0.36160975609756096,0.38714634146341464,0.41104878048780485,0.4338048780487805,0.45639024390243904,0.4747073170731707,0.4918780487804878,0.507219512195122,0.5205609756097561,0.5343170731707317,0.5452926829268293,0.5566829268292683,0.5669512195121951,0.5777560975609756,0.588170731707317,0.5978292682926829,0.6071219512195122,0.6164878048780488,0.626609756097561,0.6363658536585366,0.6476585365853659,0.658390243902439,0.669829268292683,0.6807804878048781,0.6912439024390243,0.7011463414634146,0.7106585365853658,0.7183658536585366,0.7259268292682927,0.7323414634146341,0.7390731707317073,0.7449024390243902,0.7497560975609756,0.7555121951219512,0.7601951219512195,0.7646829268292683,0.7689024390243903,0.7727073170731708,0.7765609756097561,0.780219512195122,0.783829268292683,0.7870731707317074,0.790219512195122,0.7927073170731708,0.7954146341463415,0.7978048780487805,0.8003658536585366,0.8033170731707318,0.805439024390244,0.8073902439024391,0.8097804878048781,0.8113658536585366,0.8134390243902438,0.8153658536585365,0.8166341463414634,0.8188536585365853,0.8204390243902439,0.8218048780487804,0.8233414634146341,0.824780487804878,0.8262926829268292,0.8272926829268292,0.8286097560975609,0.8298536585365853,0.8308048780487804,0.8323170731707317,0.8336341463414634,0.8345609756097561,0.8355853658536585,0.8364390243902439,0.8374878048780487,0.8385609756097561,0.8399756097560975,0.8411463414634146,0.8422195121951219,0.8431463414634146,0.844,0.8450731707317073,0.8456341463414634,0.8464390243902439,0.8475853658536585,0.8481951219512195,0.8488048780487805,0.8493658536585366,0.8501219512195122,0.8507073170731707,0.8514390243902439,0.8521463414634146,0.853,0.8539268292682927,0.8545121951219512,0.8552195121951219,0.8556829268292683,0.8562926829268293],\"yaxis\":\"y\",\"type\":\"scattergl\"},{\"hovertemplate\":\"variable=0.45<br>index=%{x}<br>value=%{y}<extra></extra>\",\"legendgroup\":\"0.45\",\"line\":{\"color\":\"#B6E880\",\"dash\":\"solid\"},\"marker\":{\"symbol\":\"circle\"},\"mode\":\"lines\",\"name\":\"0.45\",\"showlegend\":true,\"x\":[0,1,2,3,4,5,6,7,8,9,10,11,12,13,14,15,16,17,18,19,20,21,22,23,24,25,26,27,28,29,30,31,32,33,34,35,36,37,38,39,40,41,42,43,44,45,46,47,48,49,50,51,52,53,54,55,56,57,58,59,60,61,62,63,64,65,66,67,68,69,70,71,72,73,74,75,76,77,78,79,80,81,82,83,84,85,86,87,88,89,90,91,92,93,94,95,96,97,98,99],\"xaxis\":\"x\",\"y\":[0.0755609756097561,0.15663414634146341,0.21746341463414634,0.28409756097560973,0.3157560975609756,0.34709756097560973,0.3762439024390244,0.4048048780487805,0.4299512195121951,0.45326829268292684,0.4748780487804878,0.49570731707317073,0.5145365853658537,0.5324878048780488,0.5498780487804878,0.5676585365853658,0.5849756097560975,0.6043658536585366,0.6239512195121951,0.6402682926829268,0.6558536585365854,0.6707317073170732,0.6831951219512196,0.6944878048780487,0.7059512195121951,0.7157073170731707,0.7246829268292683,0.7334146341463414,0.7394878048780488,0.7466341463414634,0.7534390243902439,0.7587804878048781,0.7639756097560976,0.7681707317073171,0.7722926829268293,0.7762439024390244,0.7809512195121951,0.7850487804878049,0.7884878048780488,0.7920975609756098,0.7955121951219513,0.7986341463414635,0.8011219512195122,0.8043902439024391,0.806829268292683,0.809,0.8115121951219513,0.8142439024390243,0.8168292682926829,0.8193414634146341,0.8210243902439024,0.822780487804878,0.8247560975609756,0.8262682926829268,0.8276341463414634,0.8293414634146341,0.8312195121951219,0.8331219512195122,0.8348292682926829,0.8366341463414634,0.8381219512195122,0.839390243902439,0.8412926829268292,0.8431463414634146,0.8443170731707317,0.8459512195121951,0.8478048780487805,0.849,0.8501219512195122,0.8512926829268292,0.8522195121951219,0.8529512195121951,0.8541463414634146,0.8553414634146341,0.8564878048780488,0.857390243902439,0.8582926829268293,0.8592439024390244,0.8600975609756097,0.8609268292682927,0.8617560975609756,0.8626829268292683,0.8637317073170732,0.8646585365853658,0.865609756097561,0.8665121951219512,0.8674146341463415,0.8680975609756097,0.8688292682926829,0.8697073170731707,0.8704390243902439,0.8710243902439024,0.8717073170731707,0.8724390243902439,0.8730975609756098,0.874,0.8746341463414634,0.8750487804878049,0.8757073170731707,0.876390243902439],\"yaxis\":\"y\",\"type\":\"scattergl\"},{\"hovertemplate\":\"variable=0.50<br>index=%{x}<br>value=%{y}<extra></extra>\",\"legendgroup\":\"0.50\",\"line\":{\"color\":\"#FF97FF\",\"dash\":\"solid\"},\"marker\":{\"symbol\":\"circle\"},\"mode\":\"lines\",\"name\":\"0.50\",\"showlegend\":true,\"x\":[0,1,2,3,4,5,6,7,8,9,10,11,12,13,14,15,16,17,18,19,20,21,22,23,24,25,26,27,28,29,30,31,32,33,34,35,36,37,38,39,40,41,42,43,44,45,46,47,48,49,50,51,52,53,54,55,56,57,58,59,60,61,62,63,64,65,66,67,68,69,70,71,72,73,74,75,76,77,78,79,80,81,82,83,84,85,86,87,88,89,90,91,92,93,94,95,96,97,98,99],\"xaxis\":\"x\",\"y\":[0.11090243902439025,0.1769512195121951,0.26578048780487806,0.3793658536585366,0.4333658536585366,0.4922439024390244,0.5493658536585366,0.5959268292682927,0.6326585365853659,0.6602682926829269,0.683,0.701390243902439,0.7163414634146341,0.7286829268292683,0.7391951219512195,0.7491707317073171,0.7578780487804878,0.7655609756097561,0.772829268292683,0.7786585365853659,0.7850731707317073,0.7896585365853659,0.7946829268292683,0.7993658536585366,0.8040487804878049,0.8075609756097561,0.8106829268292683,0.8142439024390243,0.8169756097560975,0.8196585365853658,0.8224146341463414,0.8251951219512195,0.8281951219512195,0.8299024390243902,0.8327317073170731,0.834,0.8366097560975609,0.8385365853658536,0.8400243902439024,0.8420487804878048,0.8431219512195122,0.8447317073170731,0.846170731707317,0.8474390243902439,0.8481463414634146,0.8492195121951219,0.850609756097561,0.8488780487804878,0.8494146341463414,0.8461463414634146,0.8452926829268292,0.8378780487804878,0.836,0.8240731707317073,0.8264390243902439,0.820170731707317,0.8332682926829268,0.8359268292682926,0.8519024390243902,0.8549268292682927,0.8624146341463415,0.8638780487804878,0.8675609756097561,0.8680243902439024,0.870219512195122,0.8704878048780488,0.8723170731707317,0.8725609756097561,0.8745365853658537,0.8744634146341463,0.8760731707317073,0.8759756097560976,0.8771707317073171,0.8777560975609756,0.878780487804878,0.8790731707317073,0.8799024390243902,0.8807317073170732,0.8811463414634146,0.8817560975609756,0.8821463414634146,0.8829512195121951,0.8831219512195122,0.8838780487804878,0.8841463414634146,0.8849512195121951,0.8851463414634146,0.8859756097560976,0.8863658536585366,0.8870243902439024,0.8873414634146342,0.8880975609756098,0.8884390243902439,0.8891219512195122,0.8893170731707317,0.8901707317073171,0.8901463414634146,0.8909512195121951,0.8909756097560976,0.891609756097561],\"yaxis\":\"y\",\"type\":\"scattergl\"},{\"hovertemplate\":\"variable=0.55<br>index=%{x}<br>value=%{y}<extra></extra>\",\"legendgroup\":\"0.55\",\"line\":{\"color\":\"#FECB52\",\"dash\":\"solid\"},\"marker\":{\"symbol\":\"circle\"},\"mode\":\"lines\",\"name\":\"0.55\",\"showlegend\":true,\"x\":[0,1,2,3,4,5,6,7,8,9,10,11,12,13,14,15,16,17,18,19,20,21,22,23,24,25,26,27,28,29,30,31,32,33,34,35,36,37,38,39,40,41,42,43,44,45,46,47,48,49,50,51,52,53,54,55,56,57,58,59,60,61,62,63,64,65,66,67,68,69,70,71,72,73,74,75,76,77,78,79,80,81,82,83,84,85,86,87,88,89,90,91,92,93,94,95,96,97,98,99],\"xaxis\":\"x\",\"y\":[0.09609756097560976,0.2878292682926829,0.2348292682926829,0.2981219512195122,0.3344390243902439,0.36873170731707317,0.4027317073170732,0.4329512195121951,0.45539024390243904,0.47673170731707315,0.49785365853658536,0.5161463414634146,0.532219512195122,0.5463170731707317,0.5593658536585366,0.5724878048780487,0.5835853658536585,0.5939268292682927,0.603390243902439,0.6125121951219512,0.620780487804878,0.6286585365853659,0.6370975609756098,0.6454878048780488,0.653219512195122,0.6603170731707317,0.6654634146341464,0.6718048780487805,0.6771951219512196,0.6831463414634147,0.6888536585365853,0.6941463414634146,0.6986341463414634,0.7049024390243902,0.7130975609756097,0.7254146341463414,0.7424146341463415,0.7530731707317073,0.7604146341463415,0.7683658536585366,0.7741707317073171,0.7789756097560976,0.7839268292682927,0.7889512195121952,0.7932926829268293,0.7973658536585366,0.801,0.8050487804878049,0.8082439024390244,0.8114634146341464,0.8143170731707317,0.8177317073170731,0.8204634146341463,0.8237073170731707,0.826390243902439,0.8287317073170731,0.8313658536585365,0.8333658536585365,0.8354878048780487,0.8373170731707317,0.8394634146341463,0.8413170731707317,0.8429024390243902,0.8448780487804878,0.8466585365853658,0.8482195121951219,0.8492439024390244,0.8504878048780488,0.8521219512195122,0.8532926829268292,0.8542926829268292,0.8552195121951219,0.8561951219512195,0.8574878048780488,0.858609756097561,0.8597317073170732,0.8606829268292683,0.8616585365853658,0.8627560975609756,0.863609756097561,0.8643658536585366,0.865,0.8659512195121951,0.8669024390243902,0.8677073170731707,0.8684634146341463,0.8688048780487805,0.8698048780487805,0.8704390243902439,0.8711219512195122,0.8719756097560976,0.8727073170731707,0.8733414634146341,0.8740975609756098,0.8747317073170732,0.875390243902439,0.8761707317073171,0.8767317073170732,0.8772682926829268,0.878],\"yaxis\":\"y\",\"type\":\"scattergl\"},{\"hovertemplate\":\"variable=0.60<br>index=%{x}<br>value=%{y}<extra></extra>\",\"legendgroup\":\"0.60\",\"line\":{\"color\":\"#636efa\",\"dash\":\"solid\"},\"marker\":{\"symbol\":\"circle\"},\"mode\":\"lines\",\"name\":\"0.60\",\"showlegend\":true,\"x\":[0,1,2,3,4,5,6,7,8,9,10,11,12,13,14,15,16,17,18,19,20,21,22,23,24,25,26,27,28,29,30,31,32,33,34,35,36,37,38,39,40,41,42,43,44,45,46,47,48,49,50,51,52,53,54,55,56,57,58,59,60,61,62,63,64,65,66,67,68,69,70,71,72,73,74,75,76,77,78,79,80,81,82,83,84,85,86,87,88,89,90,91,92,93,94,95,96,97,98,99],\"xaxis\":\"x\",\"y\":[0.0873170731707317,0.19092682926829269,0.22702439024390245,0.24148780487804877,0.2860243902439024,0.32770731707317075,0.3686341463414634,0.40390243902439027,0.4389512195121951,0.47409756097560973,0.5066341463414634,0.5375853658536586,0.5713414634146341,0.6039268292682927,0.633,0.6534146341463415,0.6717804878048781,0.6882195121951219,0.7046829268292683,0.7188292682926829,0.7296585365853658,0.7405853658536585,0.749219512195122,0.7573170731707317,0.7639024390243903,0.7705121951219512,0.7758048780487805,0.7808780487804878,0.7854390243902439,0.7893902439024391,0.7930731707317074,0.7969024390243903,0.8009268292682927,0.8041951219512196,0.8072439024390244,0.810439024390244,0.8126097560975609,0.8146585365853658,0.8167317073170731,0.8168292682926829,0.810609756097561,0.7935365853658537,0.7419268292682927,0.7383170731707317,0.7497073170731707,0.8173414634146341,0.826,0.8302439024390244,0.8338292682926829,0.8356097560975609,0.8387073170731707,0.8397560975609756,0.842780487804878,0.8434390243902439,0.8457317073170731,0.8462439024390244,0.8488536585365853,0.8481219512195122,0.8507560975609756,0.850170731707317,0.8523170731707317,0.8512926829268292,0.8534390243902439,0.8518536585365853,0.8520975609756097,0.8510731707317073,0.8511951219512195,0.8506341463414634,0.8502926829268292,0.8513414634146341,0.8523170731707317,0.8540975609756097,0.8565609756097561,0.8589024390243902,0.8619512195121951,0.8629268292682927,0.866,0.8658048780487805,0.8684390243902439,0.8675853658536585,0.8698048780487805,0.869,0.8705853658536585,0.8698780487804878,0.8709268292682927,0.8700975609756098,0.8711463414634146,0.8698048780487805,0.8713170731707317,0.8703414634146341,0.8727073170731707,0.8718048780487805,0.8743170731707317,0.8741951219512195,0.8768292682926829,0.8768536585365854,0.8790975609756098,0.8800731707317073,0.882,0.8820975609756098],\"yaxis\":\"y\",\"type\":\"scattergl\"},{\"hovertemplate\":\"variable=0.65<br>index=%{x}<br>value=%{y}<extra></extra>\",\"legendgroup\":\"0.65\",\"line\":{\"color\":\"#EF553B\",\"dash\":\"solid\"},\"marker\":{\"symbol\":\"circle\"},\"mode\":\"lines\",\"name\":\"0.65\",\"showlegend\":true,\"x\":[0,1,2,3,4,5,6,7,8,9,10,11,12,13,14,15,16,17,18,19,20,21,22,23,24,25,26,27,28,29,30,31,32,33,34,35,36,37,38,39,40,41,42,43,44,45,46,47,48,49,50,51,52,53,54,55,56,57,58,59,60,61,62,63,64,65,66,67,68,69,70,71,72,73,74,75,76,77,78,79,80,81,82,83,84,85,86,87,88,89,90,91,92,93,94,95,96,97,98,99],\"xaxis\":\"x\",\"y\":[0.11363414634146342,0.18526829268292683,0.22714634146341464,0.21434146341463414,0.26626829268292684,0.3232926829268293,0.37753658536585366,0.42009756097560974,0.4538536585365854,0.4838780487804878,0.509609756097561,0.5325609756097561,0.5537073170731708,0.5739512195121951,0.5924634146341463,0.6096829268292683,0.6288048780487805,0.6465609756097561,0.6625121951219513,0.6761951219512196,0.6915853658536585,0.7049756097560975,0.7178780487804878,0.7286829268292683,0.7390731707317073,0.7481707317073171,0.7563658536585366,0.7645853658536585,0.7714390243902439,0.7771951219512195,0.7833170731707317,0.7895121951219513,0.7944878048780488,0.7987317073170732,0.8034146341463415,0.8071463414634147,0.8110975609756098,0.8138780487804878,0.8177560975609756,0.8202682926829268,0.8239024390243902,0.8255853658536585,0.8292926829268292,0.8301951219512195,0.8331951219512195,0.8325121951219512,0.8358292682926829,0.8315121951219512,0.8298780487804878,0.8229024390243902,0.814560975609756,0.813,0.8097317073170732,0.8284390243902439,0.8369756097560975,0.8472195121951219,0.8524390243902439,0.8546585365853658,0.8577073170731707,0.8588292682926829,0.8610975609756097,0.8620487804878049,0.8640487804878049,0.8650731707317073,0.8665121951219512,0.8678536585365854,0.8683170731707317,0.8700243902439024,0.870390243902439,0.8722682926829268,0.8719268292682927,0.873780487804878,0.8734878048780488,0.8752926829268293,0.8745853658536585,0.8768292682926829,0.8762926829268293,0.8784878048780488,0.8780487804878049,0.8801219512195122,0.879219512195122,0.8815121951219512,0.8804146341463415,0.8829512195121951,0.8816829268292683,0.883609756097561,0.8822439024390244,0.8846585365853659,0.8826341463414634,0.8848292682926829,0.8825121951219512,0.8844390243902439,0.8821707317073171,0.8844390243902439,0.8820975609756098,0.8839268292682927,0.881609756097561,0.8836829268292683,0.882,0.8843414634146342],\"yaxis\":\"y\",\"type\":\"scattergl\"}],                        {\"template\":{\"data\":{\"bar\":[{\"error_x\":{\"color\":\"#2a3f5f\"},\"error_y\":{\"color\":\"#2a3f5f\"},\"marker\":{\"line\":{\"color\":\"#E5ECF6\",\"width\":0.5},\"pattern\":{\"fillmode\":\"overlay\",\"size\":10,\"solidity\":0.2}},\"type\":\"bar\"}],\"barpolar\":[{\"marker\":{\"line\":{\"color\":\"#E5ECF6\",\"width\":0.5},\"pattern\":{\"fillmode\":\"overlay\",\"size\":10,\"solidity\":0.2}},\"type\":\"barpolar\"}],\"carpet\":[{\"aaxis\":{\"endlinecolor\":\"#2a3f5f\",\"gridcolor\":\"white\",\"linecolor\":\"white\",\"minorgridcolor\":\"white\",\"startlinecolor\":\"#2a3f5f\"},\"baxis\":{\"endlinecolor\":\"#2a3f5f\",\"gridcolor\":\"white\",\"linecolor\":\"white\",\"minorgridcolor\":\"white\",\"startlinecolor\":\"#2a3f5f\"},\"type\":\"carpet\"}],\"choropleth\":[{\"colorbar\":{\"outlinewidth\":0,\"ticks\":\"\"},\"type\":\"choropleth\"}],\"contour\":[{\"colorbar\":{\"outlinewidth\":0,\"ticks\":\"\"},\"colorscale\":[[0.0,\"#0d0887\"],[0.1111111111111111,\"#46039f\"],[0.2222222222222222,\"#7201a8\"],[0.3333333333333333,\"#9c179e\"],[0.4444444444444444,\"#bd3786\"],[0.5555555555555556,\"#d8576b\"],[0.6666666666666666,\"#ed7953\"],[0.7777777777777778,\"#fb9f3a\"],[0.8888888888888888,\"#fdca26\"],[1.0,\"#f0f921\"]],\"type\":\"contour\"}],\"contourcarpet\":[{\"colorbar\":{\"outlinewidth\":0,\"ticks\":\"\"},\"type\":\"contourcarpet\"}],\"heatmap\":[{\"colorbar\":{\"outlinewidth\":0,\"ticks\":\"\"},\"colorscale\":[[0.0,\"#0d0887\"],[0.1111111111111111,\"#46039f\"],[0.2222222222222222,\"#7201a8\"],[0.3333333333333333,\"#9c179e\"],[0.4444444444444444,\"#bd3786\"],[0.5555555555555556,\"#d8576b\"],[0.6666666666666666,\"#ed7953\"],[0.7777777777777778,\"#fb9f3a\"],[0.8888888888888888,\"#fdca26\"],[1.0,\"#f0f921\"]],\"type\":\"heatmap\"}],\"heatmapgl\":[{\"colorbar\":{\"outlinewidth\":0,\"ticks\":\"\"},\"colorscale\":[[0.0,\"#0d0887\"],[0.1111111111111111,\"#46039f\"],[0.2222222222222222,\"#7201a8\"],[0.3333333333333333,\"#9c179e\"],[0.4444444444444444,\"#bd3786\"],[0.5555555555555556,\"#d8576b\"],[0.6666666666666666,\"#ed7953\"],[0.7777777777777778,\"#fb9f3a\"],[0.8888888888888888,\"#fdca26\"],[1.0,\"#f0f921\"]],\"type\":\"heatmapgl\"}],\"histogram\":[{\"marker\":{\"pattern\":{\"fillmode\":\"overlay\",\"size\":10,\"solidity\":0.2}},\"type\":\"histogram\"}],\"histogram2d\":[{\"colorbar\":{\"outlinewidth\":0,\"ticks\":\"\"},\"colorscale\":[[0.0,\"#0d0887\"],[0.1111111111111111,\"#46039f\"],[0.2222222222222222,\"#7201a8\"],[0.3333333333333333,\"#9c179e\"],[0.4444444444444444,\"#bd3786\"],[0.5555555555555556,\"#d8576b\"],[0.6666666666666666,\"#ed7953\"],[0.7777777777777778,\"#fb9f3a\"],[0.8888888888888888,\"#fdca26\"],[1.0,\"#f0f921\"]],\"type\":\"histogram2d\"}],\"histogram2dcontour\":[{\"colorbar\":{\"outlinewidth\":0,\"ticks\":\"\"},\"colorscale\":[[0.0,\"#0d0887\"],[0.1111111111111111,\"#46039f\"],[0.2222222222222222,\"#7201a8\"],[0.3333333333333333,\"#9c179e\"],[0.4444444444444444,\"#bd3786\"],[0.5555555555555556,\"#d8576b\"],[0.6666666666666666,\"#ed7953\"],[0.7777777777777778,\"#fb9f3a\"],[0.8888888888888888,\"#fdca26\"],[1.0,\"#f0f921\"]],\"type\":\"histogram2dcontour\"}],\"mesh3d\":[{\"colorbar\":{\"outlinewidth\":0,\"ticks\":\"\"},\"type\":\"mesh3d\"}],\"parcoords\":[{\"line\":{\"colorbar\":{\"outlinewidth\":0,\"ticks\":\"\"}},\"type\":\"parcoords\"}],\"pie\":[{\"automargin\":true,\"type\":\"pie\"}],\"scatter\":[{\"marker\":{\"colorbar\":{\"outlinewidth\":0,\"ticks\":\"\"}},\"type\":\"scatter\"}],\"scatter3d\":[{\"line\":{\"colorbar\":{\"outlinewidth\":0,\"ticks\":\"\"}},\"marker\":{\"colorbar\":{\"outlinewidth\":0,\"ticks\":\"\"}},\"type\":\"scatter3d\"}],\"scattercarpet\":[{\"marker\":{\"colorbar\":{\"outlinewidth\":0,\"ticks\":\"\"}},\"type\":\"scattercarpet\"}],\"scattergeo\":[{\"marker\":{\"colorbar\":{\"outlinewidth\":0,\"ticks\":\"\"}},\"type\":\"scattergeo\"}],\"scattergl\":[{\"marker\":{\"colorbar\":{\"outlinewidth\":0,\"ticks\":\"\"}},\"type\":\"scattergl\"}],\"scattermapbox\":[{\"marker\":{\"colorbar\":{\"outlinewidth\":0,\"ticks\":\"\"}},\"type\":\"scattermapbox\"}],\"scatterpolar\":[{\"marker\":{\"colorbar\":{\"outlinewidth\":0,\"ticks\":\"\"}},\"type\":\"scatterpolar\"}],\"scatterpolargl\":[{\"marker\":{\"colorbar\":{\"outlinewidth\":0,\"ticks\":\"\"}},\"type\":\"scatterpolargl\"}],\"scatterternary\":[{\"marker\":{\"colorbar\":{\"outlinewidth\":0,\"ticks\":\"\"}},\"type\":\"scatterternary\"}],\"surface\":[{\"colorbar\":{\"outlinewidth\":0,\"ticks\":\"\"},\"colorscale\":[[0.0,\"#0d0887\"],[0.1111111111111111,\"#46039f\"],[0.2222222222222222,\"#7201a8\"],[0.3333333333333333,\"#9c179e\"],[0.4444444444444444,\"#bd3786\"],[0.5555555555555556,\"#d8576b\"],[0.6666666666666666,\"#ed7953\"],[0.7777777777777778,\"#fb9f3a\"],[0.8888888888888888,\"#fdca26\"],[1.0,\"#f0f921\"]],\"type\":\"surface\"}],\"table\":[{\"cells\":{\"fill\":{\"color\":\"#EBF0F8\"},\"line\":{\"color\":\"white\"}},\"header\":{\"fill\":{\"color\":\"#C8D4E3\"},\"line\":{\"color\":\"white\"}},\"type\":\"table\"}]},\"layout\":{\"annotationdefaults\":{\"arrowcolor\":\"#2a3f5f\",\"arrowhead\":0,\"arrowwidth\":1},\"autotypenumbers\":\"strict\",\"coloraxis\":{\"colorbar\":{\"outlinewidth\":0,\"ticks\":\"\"}},\"colorscale\":{\"diverging\":[[0,\"#8e0152\"],[0.1,\"#c51b7d\"],[0.2,\"#de77ae\"],[0.3,\"#f1b6da\"],[0.4,\"#fde0ef\"],[0.5,\"#f7f7f7\"],[0.6,\"#e6f5d0\"],[0.7,\"#b8e186\"],[0.8,\"#7fbc41\"],[0.9,\"#4d9221\"],[1,\"#276419\"]],\"sequential\":[[0.0,\"#0d0887\"],[0.1111111111111111,\"#46039f\"],[0.2222222222222222,\"#7201a8\"],[0.3333333333333333,\"#9c179e\"],[0.4444444444444444,\"#bd3786\"],[0.5555555555555556,\"#d8576b\"],[0.6666666666666666,\"#ed7953\"],[0.7777777777777778,\"#fb9f3a\"],[0.8888888888888888,\"#fdca26\"],[1.0,\"#f0f921\"]],\"sequentialminus\":[[0.0,\"#0d0887\"],[0.1111111111111111,\"#46039f\"],[0.2222222222222222,\"#7201a8\"],[0.3333333333333333,\"#9c179e\"],[0.4444444444444444,\"#bd3786\"],[0.5555555555555556,\"#d8576b\"],[0.6666666666666666,\"#ed7953\"],[0.7777777777777778,\"#fb9f3a\"],[0.8888888888888888,\"#fdca26\"],[1.0,\"#f0f921\"]]},\"colorway\":[\"#636efa\",\"#EF553B\",\"#00cc96\",\"#ab63fa\",\"#FFA15A\",\"#19d3f3\",\"#FF6692\",\"#B6E880\",\"#FF97FF\",\"#FECB52\"],\"font\":{\"color\":\"#2a3f5f\"},\"geo\":{\"bgcolor\":\"white\",\"lakecolor\":\"white\",\"landcolor\":\"#E5ECF6\",\"showlakes\":true,\"showland\":true,\"subunitcolor\":\"white\"},\"hoverlabel\":{\"align\":\"left\"},\"hovermode\":\"closest\",\"mapbox\":{\"style\":\"light\"},\"paper_bgcolor\":\"white\",\"plot_bgcolor\":\"#E5ECF6\",\"polar\":{\"angularaxis\":{\"gridcolor\":\"white\",\"linecolor\":\"white\",\"ticks\":\"\"},\"bgcolor\":\"#E5ECF6\",\"radialaxis\":{\"gridcolor\":\"white\",\"linecolor\":\"white\",\"ticks\":\"\"}},\"scene\":{\"xaxis\":{\"backgroundcolor\":\"#E5ECF6\",\"gridcolor\":\"white\",\"gridwidth\":2,\"linecolor\":\"white\",\"showbackground\":true,\"ticks\":\"\",\"zerolinecolor\":\"white\"},\"yaxis\":{\"backgroundcolor\":\"#E5ECF6\",\"gridcolor\":\"white\",\"gridwidth\":2,\"linecolor\":\"white\",\"showbackground\":true,\"ticks\":\"\",\"zerolinecolor\":\"white\"},\"zaxis\":{\"backgroundcolor\":\"#E5ECF6\",\"gridcolor\":\"white\",\"gridwidth\":2,\"linecolor\":\"white\",\"showbackground\":true,\"ticks\":\"\",\"zerolinecolor\":\"white\"}},\"shapedefaults\":{\"line\":{\"color\":\"#2a3f5f\"}},\"ternary\":{\"aaxis\":{\"gridcolor\":\"white\",\"linecolor\":\"white\",\"ticks\":\"\"},\"baxis\":{\"gridcolor\":\"white\",\"linecolor\":\"white\",\"ticks\":\"\"},\"bgcolor\":\"#E5ECF6\",\"caxis\":{\"gridcolor\":\"white\",\"linecolor\":\"white\",\"ticks\":\"\"}},\"title\":{\"x\":0.05},\"xaxis\":{\"automargin\":true,\"gridcolor\":\"white\",\"linecolor\":\"white\",\"ticks\":\"\",\"title\":{\"standoff\":15},\"zerolinecolor\":\"white\",\"zerolinewidth\":2},\"yaxis\":{\"automargin\":true,\"gridcolor\":\"white\",\"linecolor\":\"white\",\"ticks\":\"\",\"title\":{\"standoff\":15},\"zerolinecolor\":\"white\",\"zerolinewidth\":2}}},\"xaxis\":{\"anchor\":\"y\",\"domain\":[0.0,1.0],\"title\":{\"text\":\"index\"}},\"yaxis\":{\"anchor\":\"x\",\"domain\":[0.0,1.0],\"title\":{\"text\":\"value\"}},\"legend\":{\"title\":{\"text\":\"variable\"},\"tracegroupgap\":0},\"margin\":{\"t\":60}},                        {\"responsive\": true}                    ).then(function(){\n",
       "                            \n",
       "var gd = document.getElementById('dc089b85-064e-4930-b668-9b1bc50f817f');\n",
       "var x = new MutationObserver(function (mutations, observer) {{\n",
       "        var display = window.getComputedStyle(gd).display;\n",
       "        if (!display || display === 'none') {{\n",
       "            console.log([gd, 'removed!']);\n",
       "            Plotly.purge(gd);\n",
       "            observer.disconnect();\n",
       "        }}\n",
       "}});\n",
       "\n",
       "// Listen for the removal of the full notebook cells\n",
       "var notebookContainer = gd.closest('#notebook-container');\n",
       "if (notebookContainer) {{\n",
       "    x.observe(notebookContainer, {childList: true});\n",
       "}}\n",
       "\n",
       "// Listen for the clearing of the current output cell\n",
       "var outputEl = gd.closest('.output');\n",
       "if (outputEl) {{\n",
       "    x.observe(outputEl, {childList: true});\n",
       "}}\n",
       "\n",
       "                        })                };                });            </script>        </div>"
      ]
     },
     "metadata": {},
     "output_type": "display_data"
    }
   ],
   "source": [
    "fig = px.line(df, y=['0.10', '0.15','0.20', '0.25','0.30', '0.35', '0.40', '0.45' ,'0.50','0.55','0.60','0.65'])\n",
    "fig.show()"
   ]
  },
  {
   "cell_type": "code",
   "execution_count": 32,
   "id": "428a4777",
   "metadata": {},
   "outputs": [
    {
     "data": {
      "application/vnd.plotly.v1+json": {
       "config": {
        "plotlyServerURL": "https://plot.ly"
       },
       "data": [
        {
         "hovertemplate": "variable=0.10<br>index=%{x}<br>value=%{y}<extra></extra>",
         "legendgroup": "0.10",
         "line": {
          "color": "#636efa",
          "dash": "solid"
         },
         "marker": {
          "symbol": "circle"
         },
         "mode": "lines",
         "name": "0.10",
         "showlegend": true,
         "type": "scattergl",
         "x": [
          0,
          1,
          2,
          3,
          4,
          5,
          6,
          7,
          8,
          9,
          10,
          11,
          12,
          13,
          14,
          15,
          16,
          17,
          18,
          19,
          20,
          21,
          22,
          23,
          24,
          25,
          26,
          27,
          28,
          29,
          30,
          31,
          32,
          33,
          34,
          35,
          36,
          37,
          38,
          39,
          40,
          41,
          42,
          43,
          44,
          45,
          46,
          47,
          48,
          49,
          50,
          51,
          52,
          53,
          54,
          55,
          56,
          57,
          58,
          59,
          60,
          61,
          62,
          63,
          64,
          65,
          66,
          67,
          68,
          69,
          70,
          71,
          72,
          73,
          74,
          75,
          76,
          77,
          78,
          79,
          80,
          81,
          82,
          83,
          84,
          85,
          86,
          87,
          88,
          89,
          90,
          91,
          92,
          93,
          94,
          95,
          96,
          97,
          98,
          99
         ],
         "xaxis": "x",
         "y": [
          0.11814634146341463,
          0.1425121951219512,
          0.1871951219512195,
          0.22404878048780488,
          0.27563414634146344,
          0.31558536585365854,
          0.3541219512195122,
          0.38565853658536586,
          0.41604878048780486,
          0.44214634146341464,
          0.46546341463414637,
          0.4860243902439024,
          0.505,
          0.5217804878048781,
          0.5367073170731708,
          0.5515121951219513,
          0.5652195121951219,
          0.577,
          0.5879268292682926,
          0.5980731707317073,
          0.6076585365853658,
          0.6158536585365854,
          0.6248780487804878,
          0.6326829268292683,
          0.6404634146341464,
          0.6472439024390244,
          0.6537804878048781,
          0.6598780487804878,
          0.6662439024390244,
          0.6714878048780488,
          0.6764146341463415,
          0.6805853658536586,
          0.685439024390244,
          0.69,
          0.6946585365853658,
          0.6992926829268292,
          0.7029268292682926,
          0.7068292682926829,
          0.7103658536585366,
          0.7139756097560975,
          0.7175853658536585,
          0.7209024390243902,
          0.724,
          0.7270487804878049,
          0.7299268292682927,
          0.732609756097561,
          0.7351951219512195,
          0.7379024390243902,
          0.7402195121951219,
          0.7421463414634146,
          0.7445853658536585,
          0.7468780487804878,
          0.7494146341463415,
          0.7515365853658537,
          0.7531219512195122,
          0.7554634146341463,
          0.7572439024390244,
          0.759219512195122,
          0.7610487804878049,
          0.7629268292682927,
          0.7646829268292683,
          0.7667073170731707,
          0.7687073170731707,
          0.770219512195122,
          0.7719756097560976,
          0.7735853658536586,
          0.7748780487804878,
          0.7763658536585366,
          0.7778536585365854,
          0.7790487804878049,
          0.781,
          0.7824878048780488,
          0.7840487804878049,
          0.7855121951219513,
          0.7868536585365854,
          0.7877560975609756,
          0.7886585365853659,
          0.7902439024390244,
          0.7914634146341464,
          0.7924390243902439,
          0.7934146341463415,
          0.7942439024390244,
          0.7953902439024391,
          0.7962926829268293,
          0.7973658536585366,
          0.798439024390244,
          0.7992439024390244,
          0.8002926829268293,
          0.8013658536585366,
          0.8023170731707318,
          0.8033170731707318,
          0.804439024390244,
          0.8057804878048781,
          0.806439024390244,
          0.8073658536585366,
          0.8082682926829269,
          0.8090487804878049,
          0.8100487804878049,
          0.811,
          0.8119268292682927
         ],
         "yaxis": "y"
        },
        {
         "hovertemplate": "variable=0.15<br>index=%{x}<br>value=%{y}<extra></extra>",
         "legendgroup": "0.15",
         "line": {
          "color": "#EF553B",
          "dash": "solid"
         },
         "marker": {
          "symbol": "circle"
         },
         "mode": "lines",
         "name": "0.15",
         "showlegend": true,
         "type": "scattergl",
         "x": [
          0,
          1,
          2,
          3,
          4,
          5,
          6,
          7,
          8,
          9,
          10,
          11,
          12,
          13,
          14,
          15,
          16,
          17,
          18,
          19,
          20,
          21,
          22,
          23,
          24,
          25,
          26,
          27,
          28,
          29,
          30,
          31,
          32,
          33,
          34,
          35,
          36,
          37,
          38,
          39,
          40,
          41,
          42,
          43,
          44,
          45,
          46,
          47,
          48,
          49,
          50,
          51,
          52,
          53,
          54,
          55,
          56,
          57,
          58,
          59,
          60,
          61,
          62,
          63,
          64,
          65,
          66,
          67,
          68,
          69,
          70,
          71,
          72,
          73,
          74,
          75,
          76,
          77,
          78,
          79,
          80,
          81,
          82,
          83,
          84,
          85,
          86,
          87,
          88,
          89,
          90,
          91,
          92,
          93,
          94,
          95,
          96,
          97,
          98,
          99
         ],
         "xaxis": "x",
         "y": [
          0.12214634146341463,
          0.18678048780487805,
          0.23034146341463416,
          0.2738780487804878,
          0.36009756097560974,
          0.38690243902439025,
          0.4358048780487805,
          0.46,
          0.4934390243902439,
          0.5129756097560976,
          0.5352682926829269,
          0.5525853658536586,
          0.5692439024390243,
          0.5854878048780487,
          0.5984878048780488,
          0.6109512195121951,
          0.6220487804878049,
          0.6328780487804878,
          0.6429756097560976,
          0.6512439024390244,
          0.6589512195121952,
          0.6662926829268293,
          0.6733170731707318,
          0.6804146341463415,
          0.6864878048780488,
          0.6916829268292682,
          0.6974146341463414,
          0.702390243902439,
          0.7072682926829268,
          0.7115121951219512,
          0.7160487804878048,
          0.7204146341463414,
          0.7243414634146341,
          0.7279268292682927,
          0.7314146341463414,
          0.7349756097560975,
          0.7375853658536585,
          0.7405853658536585,
          0.7437317073170732,
          0.746219512195122,
          0.7491707317073171,
          0.752,
          0.7542682926829268,
          0.7572439024390244,
          0.7597560975609756,
          0.7620731707317073,
          0.7641707317073171,
          0.7664634146341464,
          0.7683170731707317,
          0.7703170731707317,
          0.7721707317073171,
          0.7738780487804878,
          0.7757317073170732,
          0.7776341463414634,
          0.7797073170731708,
          0.7812926829268293,
          0.7828536585365854,
          0.7842439024390244,
          0.7857560975609756,
          0.7876585365853659,
          0.7893658536585366,
          0.791,
          0.792609756097561,
          0.7938536585365854,
          0.7954390243902439,
          0.7970731707317074,
          0.7981707317073171,
          0.7991463414634147,
          0.8002926829268293,
          0.8013902439024391,
          0.8029268292682927,
          0.8045365853658537,
          0.8057560975609757,
          0.8070243902439025,
          0.8081463414634147,
          0.8091219512195122,
          0.8100975609756098,
          0.8115121951219513,
          0.8124634146341464,
          0.8133414634146341,
          0.8142439024390243,
          0.8150487804878048,
          0.8160487804878048,
          0.8168292682926829,
          0.8179268292682926,
          0.819,
          0.8198292682926829,
          0.8206585365853658,
          0.8215853658536585,
          0.8225121951219512,
          0.8234390243902439,
          0.8240487804878048,
          0.8249756097560975,
          0.8258048780487804,
          0.8267073170731707,
          0.827390243902439,
          0.8281463414634146,
          0.8287073170731707,
          0.8293658536585365,
          0.8302195121951219
         ],
         "yaxis": "y"
        },
        {
         "hovertemplate": "variable=0.20<br>index=%{x}<br>value=%{y}<extra></extra>",
         "legendgroup": "0.20",
         "line": {
          "color": "#00cc96",
          "dash": "solid"
         },
         "marker": {
          "symbol": "circle"
         },
         "mode": "lines",
         "name": "0.20",
         "showlegend": true,
         "type": "scattergl",
         "x": [
          0,
          1,
          2,
          3,
          4,
          5,
          6,
          7,
          8,
          9,
          10,
          11,
          12,
          13,
          14,
          15,
          16,
          17,
          18,
          19,
          20,
          21,
          22,
          23,
          24,
          25,
          26,
          27,
          28,
          29,
          30,
          31,
          32,
          33,
          34,
          35,
          36,
          37,
          38,
          39,
          40,
          41,
          42,
          43,
          44,
          45,
          46,
          47,
          48,
          49,
          50,
          51,
          52,
          53,
          54,
          55,
          56,
          57,
          58,
          59,
          60,
          61,
          62,
          63,
          64,
          65,
          66,
          67,
          68,
          69,
          70,
          71,
          72,
          73,
          74,
          75,
          76,
          77,
          78,
          79,
          80,
          81,
          82,
          83,
          84,
          85,
          86,
          87,
          88,
          89,
          90,
          91,
          92,
          93,
          94,
          95,
          96,
          97,
          98,
          99
         ],
         "xaxis": "x",
         "y": [
          0.1372439024390244,
          0.14465853658536584,
          0.29678048780487803,
          0.32078048780487806,
          0.4282439024390244,
          0.47253658536585363,
          0.5106585365853659,
          0.5380731707317074,
          0.5629756097560975,
          0.583390243902439,
          0.6015121951219512,
          0.6175609756097561,
          0.6307560975609756,
          0.6438048780487805,
          0.6570243902439025,
          0.6678536585365854,
          0.6787804878048781,
          0.6884390243902438,
          0.6970243902439024,
          0.7050975609756097,
          0.7122682926829268,
          0.7198292682926829,
          0.7258536585365853,
          0.731609756097561,
          0.736609756097561,
          0.7423658536585366,
          0.7469756097560976,
          0.7519756097560976,
          0.755780487804878,
          0.7599024390243903,
          0.7631219512195122,
          0.7664878048780488,
          0.7698048780487805,
          0.7731219512195122,
          0.776609756097561,
          0.7798048780487805,
          0.782829268292683,
          0.7854634146341464,
          0.7879756097560976,
          0.7903658536585366,
          0.7929024390243903,
          0.7950975609756098,
          0.7972439024390244,
          0.7994634146341464,
          0.8013170731707318,
          0.8032926829268293,
          0.8058780487804879,
          0.8076341463414635,
          0.809609756097561,
          0.8114878048780488,
          0.813170731707317,
          0.8150731707317073,
          0.8169512195121951,
          0.8184878048780487,
          0.8199024390243902,
          0.8215121951219512,
          0.8231951219512195,
          0.8242926829268292,
          0.8256341463414634,
          0.8271463414634146,
          0.8285121951219512,
          0.8298780487804878,
          0.8311219512195122,
          0.8322682926829268,
          0.8332439024390244,
          0.8344146341463414,
          0.8355609756097561,
          0.8369024390243902,
          0.8376097560975609,
          0.8387317073170731,
          0.8398048780487805,
          0.8405609756097561,
          0.8414634146341463,
          0.842170731707317,
          0.8428536585365853,
          0.8437560975609756,
          0.8444390243902439,
          0.8453170731707317,
          0.8463658536585366,
          0.8472926829268292,
          0.8479512195121951,
          0.8489268292682927,
          0.8496585365853658,
          0.8503414634146341,
          0.851,
          0.851780487804878,
          0.8526341463414634,
          0.8534878048780488,
          0.8539756097560975,
          0.8547317073170732,
          0.8554878048780488,
          0.8560487804878049,
          0.8564390243902439,
          0.8569756097560975,
          0.8574390243902439,
          0.8580243902439024,
          0.8586829268292683,
          0.8594390243902439,
          0.8600731707317073,
          0.8607073170731707
         ],
         "yaxis": "y"
        },
        {
         "hovertemplate": "variable=0.25<br>index=%{x}<br>value=%{y}<extra></extra>",
         "legendgroup": "0.25",
         "line": {
          "color": "#ab63fa",
          "dash": "solid"
         },
         "marker": {
          "symbol": "circle"
         },
         "mode": "lines",
         "name": "0.25",
         "showlegend": true,
         "type": "scattergl",
         "x": [
          0,
          1,
          2,
          3,
          4,
          5,
          6,
          7,
          8,
          9,
          10,
          11,
          12,
          13,
          14,
          15,
          16,
          17,
          18,
          19,
          20,
          21,
          22,
          23,
          24,
          25,
          26,
          27,
          28,
          29,
          30,
          31,
          32,
          33,
          34,
          35,
          36,
          37,
          38,
          39,
          40,
          41,
          42,
          43,
          44,
          45,
          46,
          47,
          48,
          49,
          50,
          51,
          52,
          53,
          54,
          55,
          56,
          57,
          58,
          59,
          60,
          61,
          62,
          63,
          64,
          65,
          66,
          67,
          68,
          69,
          70,
          71,
          72,
          73,
          74,
          75,
          76,
          77,
          78,
          79,
          80,
          81,
          82,
          83,
          84,
          85,
          86,
          87,
          88,
          89,
          90,
          91,
          92,
          93,
          94,
          95,
          96,
          97,
          98,
          99
         ],
         "xaxis": "x",
         "y": [
          0.10370731707317073,
          0.20317073170731706,
          0.23753658536585365,
          0.28629268292682925,
          0.3307317073170732,
          0.3648780487804878,
          0.3898536585365854,
          0.4125609756097561,
          0.4358780487804878,
          0.45834146341463416,
          0.4801463414634146,
          0.5023170731707317,
          0.5258048780487805,
          0.5464146341463415,
          0.5640487804878048,
          0.5794390243902439,
          0.5944634146341463,
          0.6071951219512195,
          0.6186829268292683,
          0.6298536585365854,
          0.6408536585365854,
          0.6509512195121951,
          0.6601951219512195,
          0.668609756097561,
          0.6772682926829269,
          0.6842926829268293,
          0.6914146341463414,
          0.6980975609756097,
          0.7045853658536585,
          0.7113414634146341,
          0.7172682926829268,
          0.722170731707317,
          0.7272682926829268,
          0.7321219512195122,
          0.7369268292682927,
          0.7415853658536585,
          0.7455853658536585,
          0.7495609756097561,
          0.7538780487804878,
          0.7577560975609756,
          0.7615121951219512,
          0.7647317073170732,
          0.7678048780487805,
          0.7707317073170732,
          0.7737804878048781,
          0.7765853658536586,
          0.7794878048780488,
          0.7819756097560976,
          0.7848780487804878,
          0.7871707317073171,
          0.7894146341463415,
          0.7914146341463415,
          0.7935609756097561,
          0.7957560975609757,
          0.7980731707317074,
          0.8000731707317074,
          0.8017560975609757,
          0.8037317073170732,
          0.8051463414634147,
          0.807,
          0.8085365853658537,
          0.8100731707317074,
          0.8112926829268293,
          0.8128780487804877,
          0.8144878048780487,
          0.8158048780487804,
          0.8177073170731707,
          0.8191463414634146,
          0.8205853658536585,
          0.8216585365853658,
          0.8227560975609756,
          0.8242195121951219,
          0.8258536585365853,
          0.8270975609756097,
          0.8281951219512195,
          0.829170731707317,
          0.8304146341463414,
          0.8316341463414634,
          0.8327317073170731,
          0.8336097560975609,
          0.8350243902439024,
          0.8361219512195122,
          0.837390243902439,
          0.8382926829268292,
          0.8393658536585366,
          0.8403414634146341,
          0.8412682926829268,
          0.8424390243902439,
          0.8432926829268292,
          0.8440487804878049,
          0.8452439024390244,
          0.8461951219512195,
          0.8470731707317073,
          0.8478292682926829,
          0.8485609756097561,
          0.8495853658536585,
          0.8505609756097561,
          0.8510975609756097,
          0.8517560975609756,
          0.852780487804878
         ],
         "yaxis": "y"
        },
        {
         "hovertemplate": "variable=0.30<br>index=%{x}<br>value=%{y}<extra></extra>",
         "legendgroup": "0.30",
         "line": {
          "color": "#FFA15A",
          "dash": "solid"
         },
         "marker": {
          "symbol": "circle"
         },
         "mode": "lines",
         "name": "0.30",
         "showlegend": true,
         "type": "scattergl",
         "x": [
          0,
          1,
          2,
          3,
          4,
          5,
          6,
          7,
          8,
          9,
          10,
          11,
          12,
          13,
          14,
          15,
          16,
          17,
          18,
          19,
          20,
          21,
          22,
          23,
          24,
          25,
          26,
          27,
          28,
          29,
          30,
          31,
          32,
          33,
          34,
          35,
          36,
          37,
          38,
          39,
          40,
          41,
          42,
          43,
          44,
          45,
          46,
          47,
          48,
          49,
          50,
          51,
          52,
          53,
          54,
          55,
          56,
          57,
          58,
          59,
          60,
          61,
          62,
          63,
          64,
          65,
          66,
          67,
          68,
          69,
          70,
          71,
          72,
          73,
          74,
          75,
          76,
          77,
          78,
          79,
          80,
          81,
          82,
          83,
          84,
          85,
          86,
          87,
          88,
          89,
          90,
          91,
          92,
          93,
          94,
          95,
          96,
          97,
          98,
          99
         ],
         "xaxis": "x",
         "y": [
          0.12697560975609756,
          0.16278048780487805,
          0.19207317073170732,
          0.2428780487804878,
          0.3057560975609756,
          0.3578780487804878,
          0.40741463414634144,
          0.45526829268292685,
          0.4956341463414634,
          0.5277560975609756,
          0.5533170731707318,
          0.575780487804878,
          0.5944878048780488,
          0.6119024390243902,
          0.6263658536585366,
          0.6389756097560976,
          0.6520487804878049,
          0.6627804878048781,
          0.672609756097561,
          0.6825365853658537,
          0.6908536585365853,
          0.6990975609756097,
          0.7057317073170731,
          0.7133170731707317,
          0.7200487804878049,
          0.7255609756097561,
          0.7319512195121951,
          0.7375853658536585,
          0.7427317073170732,
          0.7470975609756098,
          0.7518536585365854,
          0.756780487804878,
          0.76,
          0.7637317073170732,
          0.7673170731707317,
          0.7708536585365854,
          0.774219512195122,
          0.7772926829268293,
          0.7796829268292683,
          0.7830487804878049,
          0.7863170731707317,
          0.7887560975609756,
          0.7914390243902439,
          0.7937317073170732,
          0.7963658536585366,
          0.7983658536585366,
          0.8005365853658537,
          0.8022439024390244,
          0.8042439024390244,
          0.8062682926829269,
          0.8083170731707318,
          0.8103902439024391,
          0.8123658536585366,
          0.8140975609756097,
          0.8159024390243902,
          0.8174634146341463,
          0.8189268292682926,
          0.8205121951219512,
          0.8216829268292682,
          0.8233658536585365,
          0.824780487804878,
          0.8261463414634146,
          0.827390243902439,
          0.8286097560975609,
          0.8302195121951219,
          0.8311463414634146,
          0.8322439024390244,
          0.8334146341463414,
          0.8348048780487805,
          0.8361219512195122,
          0.8373658536585366,
          0.8385853658536585,
          0.8394390243902439,
          0.8403414634146341,
          0.8416585365853658,
          0.8427560975609756,
          0.8437073170731707,
          0.8447317073170731,
          0.8456585365853658,
          0.8465853658536585,
          0.8474390243902439,
          0.8484634146341463,
          0.8492439024390244,
          0.8500487804878049,
          0.8505365853658536,
          0.8512682926829268,
          0.8519756097560975,
          0.8527560975609756,
          0.8534878048780488,
          0.8543658536585366,
          0.8551707317073171,
          0.8558292682926829,
          0.8565365853658536,
          0.8571707317073171,
          0.8578292682926829,
          0.8585121951219512,
          0.8593170731707317,
          0.8599024390243902,
          0.860390243902439,
          0.861
         ],
         "yaxis": "y"
        },
        {
         "hovertemplate": "variable=0.35<br>index=%{x}<br>value=%{y}<extra></extra>",
         "legendgroup": "0.35",
         "line": {
          "color": "#19d3f3",
          "dash": "solid"
         },
         "marker": {
          "symbol": "circle"
         },
         "mode": "lines",
         "name": "0.35",
         "showlegend": true,
         "type": "scattergl",
         "x": [
          0,
          1,
          2,
          3,
          4,
          5,
          6,
          7,
          8,
          9,
          10,
          11,
          12,
          13,
          14,
          15,
          16,
          17,
          18,
          19,
          20,
          21,
          22,
          23,
          24,
          25,
          26,
          27,
          28,
          29,
          30,
          31,
          32,
          33,
          34,
          35,
          36,
          37,
          38,
          39,
          40,
          41,
          42,
          43,
          44,
          45,
          46,
          47,
          48,
          49,
          50,
          51,
          52,
          53,
          54,
          55,
          56,
          57,
          58,
          59,
          60,
          61,
          62,
          63,
          64,
          65,
          66,
          67,
          68,
          69,
          70,
          71,
          72,
          73,
          74,
          75,
          76,
          77,
          78,
          79,
          80,
          81,
          82,
          83,
          84,
          85,
          86,
          87,
          88,
          89,
          90,
          91,
          92,
          93,
          94,
          95,
          96,
          97,
          98,
          99
         ],
         "xaxis": "x",
         "y": [
          0.08543902439024391,
          0.12209756097560975,
          0.25102439024390244,
          0.3420975609756098,
          0.4039756097560976,
          0.45514634146341465,
          0.49629268292682926,
          0.529829268292683,
          0.5583170731707318,
          0.5822682926829268,
          0.6036585365853658,
          0.6215121951219512,
          0.6371707317073171,
          0.652829268292683,
          0.6661951219512195,
          0.6775121951219513,
          0.6883658536585365,
          0.6985121951219512,
          0.7067317073170731,
          0.7159512195121951,
          0.7226585365853658,
          0.728780487804878,
          0.7355121951219512,
          0.7406829268292683,
          0.7464634146341463,
          0.7514146341463415,
          0.755609756097561,
          0.7606341463414634,
          0.7657073170731707,
          0.7697804878048781,
          0.7733414634146342,
          0.7774146341463415,
          0.781,
          0.7846341463414634,
          0.7873658536585366,
          0.7906829268292683,
          0.7938536585365854,
          0.7970731707317074,
          0.8006829268292683,
          0.8034634146341464,
          0.805829268292683,
          0.8082926829268293,
          0.8100487804878049,
          0.8116829268292683,
          0.8140243902439024,
          0.8159512195121951,
          0.8179512195121951,
          0.8199268292682926,
          0.821780487804878,
          0.823780487804878,
          0.8250487804878048,
          0.8268048780487804,
          0.8286097560975609,
          0.8305609756097561,
          0.8321463414634146,
          0.8337073170731707,
          0.8354146341463414,
          0.8366829268292683,
          0.8382195121951219,
          0.8395609756097561,
          0.8409756097560975,
          0.8423414634146341,
          0.8437560975609756,
          0.8450731707317073,
          0.8464390243902439,
          0.8475853658536585,
          0.8490975609756097,
          0.8500243902439024,
          0.8512682926829268,
          0.8522195121951219,
          0.8529024390243902,
          0.8542439024390244,
          0.8552926829268293,
          0.856390243902439,
          0.857,
          0.8578536585365854,
          0.8588048780487805,
          0.859780487804878,
          0.8608048780487805,
          0.8615853658536585,
          0.8623658536585366,
          0.8633658536585366,
          0.8641219512195122,
          0.8649756097560976,
          0.8657560975609756,
          0.8666341463414634,
          0.8671707317073171,
          0.8679024390243902,
          0.8686341463414634,
          0.8691463414634146,
          0.8698536585365854,
          0.8705121951219512,
          0.8711463414634146,
          0.871780487804878,
          0.8724634146341463,
          0.8730731707317073,
          0.8734878048780488,
          0.8739512195121951,
          0.8742682926829268,
          0.875219512195122
         ],
         "yaxis": "y"
        },
        {
         "hovertemplate": "variable=0.40<br>index=%{x}<br>value=%{y}<extra></extra>",
         "legendgroup": "0.40",
         "line": {
          "color": "#FF6692",
          "dash": "solid"
         },
         "marker": {
          "symbol": "circle"
         },
         "mode": "lines",
         "name": "0.40",
         "showlegend": true,
         "type": "scattergl",
         "x": [
          0,
          1,
          2,
          3,
          4,
          5,
          6,
          7,
          8,
          9,
          10,
          11,
          12,
          13,
          14,
          15,
          16,
          17,
          18,
          19,
          20,
          21,
          22,
          23,
          24,
          25,
          26,
          27,
          28,
          29,
          30,
          31,
          32,
          33,
          34,
          35,
          36,
          37,
          38,
          39,
          40,
          41,
          42,
          43,
          44,
          45,
          46,
          47,
          48,
          49,
          50,
          51,
          52,
          53,
          54,
          55,
          56,
          57,
          58,
          59,
          60,
          61,
          62,
          63,
          64,
          65,
          66,
          67,
          68,
          69,
          70,
          71,
          72,
          73,
          74,
          75,
          76,
          77,
          78,
          79,
          80,
          81,
          82,
          83,
          84,
          85,
          86,
          87,
          88,
          89,
          90,
          91,
          92,
          93,
          94,
          95,
          96,
          97,
          98,
          99
         ],
         "xaxis": "x",
         "y": [
          0.11202439024390244,
          0.16407317073170732,
          0.20748780487804877,
          0.2839024390243902,
          0.3065609756097561,
          0.33482926829268295,
          0.36160975609756096,
          0.38714634146341464,
          0.41104878048780485,
          0.4338048780487805,
          0.45639024390243904,
          0.4747073170731707,
          0.4918780487804878,
          0.507219512195122,
          0.5205609756097561,
          0.5343170731707317,
          0.5452926829268293,
          0.5566829268292683,
          0.5669512195121951,
          0.5777560975609756,
          0.588170731707317,
          0.5978292682926829,
          0.6071219512195122,
          0.6164878048780488,
          0.626609756097561,
          0.6363658536585366,
          0.6476585365853659,
          0.658390243902439,
          0.669829268292683,
          0.6807804878048781,
          0.6912439024390243,
          0.7011463414634146,
          0.7106585365853658,
          0.7183658536585366,
          0.7259268292682927,
          0.7323414634146341,
          0.7390731707317073,
          0.7449024390243902,
          0.7497560975609756,
          0.7555121951219512,
          0.7601951219512195,
          0.7646829268292683,
          0.7689024390243903,
          0.7727073170731708,
          0.7765609756097561,
          0.780219512195122,
          0.783829268292683,
          0.7870731707317074,
          0.790219512195122,
          0.7927073170731708,
          0.7954146341463415,
          0.7978048780487805,
          0.8003658536585366,
          0.8033170731707318,
          0.805439024390244,
          0.8073902439024391,
          0.8097804878048781,
          0.8113658536585366,
          0.8134390243902438,
          0.8153658536585365,
          0.8166341463414634,
          0.8188536585365853,
          0.8204390243902439,
          0.8218048780487804,
          0.8233414634146341,
          0.824780487804878,
          0.8262926829268292,
          0.8272926829268292,
          0.8286097560975609,
          0.8298536585365853,
          0.8308048780487804,
          0.8323170731707317,
          0.8336341463414634,
          0.8345609756097561,
          0.8355853658536585,
          0.8364390243902439,
          0.8374878048780487,
          0.8385609756097561,
          0.8399756097560975,
          0.8411463414634146,
          0.8422195121951219,
          0.8431463414634146,
          0.844,
          0.8450731707317073,
          0.8456341463414634,
          0.8464390243902439,
          0.8475853658536585,
          0.8481951219512195,
          0.8488048780487805,
          0.8493658536585366,
          0.8501219512195122,
          0.8507073170731707,
          0.8514390243902439,
          0.8521463414634146,
          0.853,
          0.8539268292682927,
          0.8545121951219512,
          0.8552195121951219,
          0.8556829268292683,
          0.8562926829268293
         ],
         "yaxis": "y"
        },
        {
         "hovertemplate": "variable=0.45<br>index=%{x}<br>value=%{y}<extra></extra>",
         "legendgroup": "0.45",
         "line": {
          "color": "#B6E880",
          "dash": "solid"
         },
         "marker": {
          "symbol": "circle"
         },
         "mode": "lines",
         "name": "0.45",
         "showlegend": true,
         "type": "scattergl",
         "x": [
          0,
          1,
          2,
          3,
          4,
          5,
          6,
          7,
          8,
          9,
          10,
          11,
          12,
          13,
          14,
          15,
          16,
          17,
          18,
          19,
          20,
          21,
          22,
          23,
          24,
          25,
          26,
          27,
          28,
          29,
          30,
          31,
          32,
          33,
          34,
          35,
          36,
          37,
          38,
          39,
          40,
          41,
          42,
          43,
          44,
          45,
          46,
          47,
          48,
          49,
          50,
          51,
          52,
          53,
          54,
          55,
          56,
          57,
          58,
          59,
          60,
          61,
          62,
          63,
          64,
          65,
          66,
          67,
          68,
          69,
          70,
          71,
          72,
          73,
          74,
          75,
          76,
          77,
          78,
          79,
          80,
          81,
          82,
          83,
          84,
          85,
          86,
          87,
          88,
          89,
          90,
          91,
          92,
          93,
          94,
          95,
          96,
          97,
          98,
          99
         ],
         "xaxis": "x",
         "y": [
          0.0755609756097561,
          0.15663414634146341,
          0.21746341463414634,
          0.28409756097560973,
          0.3157560975609756,
          0.34709756097560973,
          0.3762439024390244,
          0.4048048780487805,
          0.4299512195121951,
          0.45326829268292684,
          0.4748780487804878,
          0.49570731707317073,
          0.5145365853658537,
          0.5324878048780488,
          0.5498780487804878,
          0.5676585365853658,
          0.5849756097560975,
          0.6043658536585366,
          0.6239512195121951,
          0.6402682926829268,
          0.6558536585365854,
          0.6707317073170732,
          0.6831951219512196,
          0.6944878048780487,
          0.7059512195121951,
          0.7157073170731707,
          0.7246829268292683,
          0.7334146341463414,
          0.7394878048780488,
          0.7466341463414634,
          0.7534390243902439,
          0.7587804878048781,
          0.7639756097560976,
          0.7681707317073171,
          0.7722926829268293,
          0.7762439024390244,
          0.7809512195121951,
          0.7850487804878049,
          0.7884878048780488,
          0.7920975609756098,
          0.7955121951219513,
          0.7986341463414635,
          0.8011219512195122,
          0.8043902439024391,
          0.806829268292683,
          0.809,
          0.8115121951219513,
          0.8142439024390243,
          0.8168292682926829,
          0.8193414634146341,
          0.8210243902439024,
          0.822780487804878,
          0.8247560975609756,
          0.8262682926829268,
          0.8276341463414634,
          0.8293414634146341,
          0.8312195121951219,
          0.8331219512195122,
          0.8348292682926829,
          0.8366341463414634,
          0.8381219512195122,
          0.839390243902439,
          0.8412926829268292,
          0.8431463414634146,
          0.8443170731707317,
          0.8459512195121951,
          0.8478048780487805,
          0.849,
          0.8501219512195122,
          0.8512926829268292,
          0.8522195121951219,
          0.8529512195121951,
          0.8541463414634146,
          0.8553414634146341,
          0.8564878048780488,
          0.857390243902439,
          0.8582926829268293,
          0.8592439024390244,
          0.8600975609756097,
          0.8609268292682927,
          0.8617560975609756,
          0.8626829268292683,
          0.8637317073170732,
          0.8646585365853658,
          0.865609756097561,
          0.8665121951219512,
          0.8674146341463415,
          0.8680975609756097,
          0.8688292682926829,
          0.8697073170731707,
          0.8704390243902439,
          0.8710243902439024,
          0.8717073170731707,
          0.8724390243902439,
          0.8730975609756098,
          0.874,
          0.8746341463414634,
          0.8750487804878049,
          0.8757073170731707,
          0.876390243902439
         ],
         "yaxis": "y"
        },
        {
         "hovertemplate": "variable=0.50<br>index=%{x}<br>value=%{y}<extra></extra>",
         "legendgroup": "0.50",
         "line": {
          "color": "#FF97FF",
          "dash": "solid"
         },
         "marker": {
          "symbol": "circle"
         },
         "mode": "lines",
         "name": "0.50",
         "showlegend": true,
         "type": "scattergl",
         "x": [
          0,
          1,
          2,
          3,
          4,
          5,
          6,
          7,
          8,
          9,
          10,
          11,
          12,
          13,
          14,
          15,
          16,
          17,
          18,
          19,
          20,
          21,
          22,
          23,
          24,
          25,
          26,
          27,
          28,
          29,
          30,
          31,
          32,
          33,
          34,
          35,
          36,
          37,
          38,
          39,
          40,
          41,
          42,
          43,
          44,
          45,
          46,
          47,
          48,
          49,
          50,
          51,
          52,
          53,
          54,
          55,
          56,
          57,
          58,
          59,
          60,
          61,
          62,
          63,
          64,
          65,
          66,
          67,
          68,
          69,
          70,
          71,
          72,
          73,
          74,
          75,
          76,
          77,
          78,
          79,
          80,
          81,
          82,
          83,
          84,
          85,
          86,
          87,
          88,
          89,
          90,
          91,
          92,
          93,
          94,
          95,
          96,
          97,
          98,
          99
         ],
         "xaxis": "x",
         "y": [
          0.11090243902439025,
          0.1769512195121951,
          0.26578048780487806,
          0.3793658536585366,
          0.4333658536585366,
          0.4922439024390244,
          0.5493658536585366,
          0.5959268292682927,
          0.6326585365853659,
          0.6602682926829269,
          0.683,
          0.701390243902439,
          0.7163414634146341,
          0.7286829268292683,
          0.7391951219512195,
          0.7491707317073171,
          0.7578780487804878,
          0.7655609756097561,
          0.772829268292683,
          0.7786585365853659,
          0.7850731707317073,
          0.7896585365853659,
          0.7946829268292683,
          0.7993658536585366,
          0.8040487804878049,
          0.8075609756097561,
          0.8106829268292683,
          0.8142439024390243,
          0.8169756097560975,
          0.8196585365853658,
          0.8224146341463414,
          0.8251951219512195,
          0.8281951219512195,
          0.8299024390243902,
          0.8327317073170731,
          0.834,
          0.8366097560975609,
          0.8385365853658536,
          0.8400243902439024,
          0.8420487804878048,
          0.8431219512195122,
          0.8447317073170731,
          0.846170731707317,
          0.8474390243902439,
          0.8481463414634146,
          0.8492195121951219,
          0.850609756097561,
          0.8488780487804878,
          0.8494146341463414,
          0.8461463414634146,
          0.8452926829268292,
          0.8378780487804878,
          0.836,
          0.8240731707317073,
          0.8264390243902439,
          0.820170731707317,
          0.8332682926829268,
          0.8359268292682926,
          0.8519024390243902,
          0.8549268292682927,
          0.8624146341463415,
          0.8638780487804878,
          0.8675609756097561,
          0.8680243902439024,
          0.870219512195122,
          0.8704878048780488,
          0.8723170731707317,
          0.8725609756097561,
          0.8745365853658537,
          0.8744634146341463,
          0.8760731707317073,
          0.8759756097560976,
          0.8771707317073171,
          0.8777560975609756,
          0.878780487804878,
          0.8790731707317073,
          0.8799024390243902,
          0.8807317073170732,
          0.8811463414634146,
          0.8817560975609756,
          0.8821463414634146,
          0.8829512195121951,
          0.8831219512195122,
          0.8838780487804878,
          0.8841463414634146,
          0.8849512195121951,
          0.8851463414634146,
          0.8859756097560976,
          0.8863658536585366,
          0.8870243902439024,
          0.8873414634146342,
          0.8880975609756098,
          0.8884390243902439,
          0.8891219512195122,
          0.8893170731707317,
          0.8901707317073171,
          0.8901463414634146,
          0.8909512195121951,
          0.8909756097560976,
          0.891609756097561
         ],
         "yaxis": "y"
        },
        {
         "hovertemplate": "variable=0.55<br>index=%{x}<br>value=%{y}<extra></extra>",
         "legendgroup": "0.55",
         "line": {
          "color": "#FECB52",
          "dash": "solid"
         },
         "marker": {
          "symbol": "circle"
         },
         "mode": "lines",
         "name": "0.55",
         "showlegend": true,
         "type": "scattergl",
         "x": [
          0,
          1,
          2,
          3,
          4,
          5,
          6,
          7,
          8,
          9,
          10,
          11,
          12,
          13,
          14,
          15,
          16,
          17,
          18,
          19,
          20,
          21,
          22,
          23,
          24,
          25,
          26,
          27,
          28,
          29,
          30,
          31,
          32,
          33,
          34,
          35,
          36,
          37,
          38,
          39,
          40,
          41,
          42,
          43,
          44,
          45,
          46,
          47,
          48,
          49,
          50,
          51,
          52,
          53,
          54,
          55,
          56,
          57,
          58,
          59,
          60,
          61,
          62,
          63,
          64,
          65,
          66,
          67,
          68,
          69,
          70,
          71,
          72,
          73,
          74,
          75,
          76,
          77,
          78,
          79,
          80,
          81,
          82,
          83,
          84,
          85,
          86,
          87,
          88,
          89,
          90,
          91,
          92,
          93,
          94,
          95,
          96,
          97,
          98,
          99
         ],
         "xaxis": "x",
         "y": [
          0.09609756097560976,
          0.2878292682926829,
          0.2348292682926829,
          0.2981219512195122,
          0.3344390243902439,
          0.36873170731707317,
          0.4027317073170732,
          0.4329512195121951,
          0.45539024390243904,
          0.47673170731707315,
          0.49785365853658536,
          0.5161463414634146,
          0.532219512195122,
          0.5463170731707317,
          0.5593658536585366,
          0.5724878048780487,
          0.5835853658536585,
          0.5939268292682927,
          0.603390243902439,
          0.6125121951219512,
          0.620780487804878,
          0.6286585365853659,
          0.6370975609756098,
          0.6454878048780488,
          0.653219512195122,
          0.6603170731707317,
          0.6654634146341464,
          0.6718048780487805,
          0.6771951219512196,
          0.6831463414634147,
          0.6888536585365853,
          0.6941463414634146,
          0.6986341463414634,
          0.7049024390243902,
          0.7130975609756097,
          0.7254146341463414,
          0.7424146341463415,
          0.7530731707317073,
          0.7604146341463415,
          0.7683658536585366,
          0.7741707317073171,
          0.7789756097560976,
          0.7839268292682927,
          0.7889512195121952,
          0.7932926829268293,
          0.7973658536585366,
          0.801,
          0.8050487804878049,
          0.8082439024390244,
          0.8114634146341464,
          0.8143170731707317,
          0.8177317073170731,
          0.8204634146341463,
          0.8237073170731707,
          0.826390243902439,
          0.8287317073170731,
          0.8313658536585365,
          0.8333658536585365,
          0.8354878048780487,
          0.8373170731707317,
          0.8394634146341463,
          0.8413170731707317,
          0.8429024390243902,
          0.8448780487804878,
          0.8466585365853658,
          0.8482195121951219,
          0.8492439024390244,
          0.8504878048780488,
          0.8521219512195122,
          0.8532926829268292,
          0.8542926829268292,
          0.8552195121951219,
          0.8561951219512195,
          0.8574878048780488,
          0.858609756097561,
          0.8597317073170732,
          0.8606829268292683,
          0.8616585365853658,
          0.8627560975609756,
          0.863609756097561,
          0.8643658536585366,
          0.865,
          0.8659512195121951,
          0.8669024390243902,
          0.8677073170731707,
          0.8684634146341463,
          0.8688048780487805,
          0.8698048780487805,
          0.8704390243902439,
          0.8711219512195122,
          0.8719756097560976,
          0.8727073170731707,
          0.8733414634146341,
          0.8740975609756098,
          0.8747317073170732,
          0.875390243902439,
          0.8761707317073171,
          0.8767317073170732,
          0.8772682926829268,
          0.878
         ],
         "yaxis": "y"
        },
        {
         "hovertemplate": "variable=0.60<br>index=%{x}<br>value=%{y}<extra></extra>",
         "legendgroup": "0.60",
         "line": {
          "color": "#636efa",
          "dash": "solid"
         },
         "marker": {
          "symbol": "circle"
         },
         "mode": "lines",
         "name": "0.60",
         "showlegend": true,
         "type": "scattergl",
         "x": [
          0,
          1,
          2,
          3,
          4,
          5,
          6,
          7,
          8,
          9,
          10,
          11,
          12,
          13,
          14,
          15,
          16,
          17,
          18,
          19,
          20,
          21,
          22,
          23,
          24,
          25,
          26,
          27,
          28,
          29,
          30,
          31,
          32,
          33,
          34,
          35,
          36,
          37,
          38,
          39,
          40,
          41,
          42,
          43,
          44,
          45,
          46,
          47,
          48,
          49,
          50,
          51,
          52,
          53,
          54,
          55,
          56,
          57,
          58,
          59,
          60,
          61,
          62,
          63,
          64,
          65,
          66,
          67,
          68,
          69,
          70,
          71,
          72,
          73,
          74,
          75,
          76,
          77,
          78,
          79,
          80,
          81,
          82,
          83,
          84,
          85,
          86,
          87,
          88,
          89,
          90,
          91,
          92,
          93,
          94,
          95,
          96,
          97,
          98,
          99
         ],
         "xaxis": "x",
         "y": [
          0.0873170731707317,
          0.19092682926829269,
          0.22702439024390245,
          0.24148780487804877,
          0.2860243902439024,
          0.32770731707317075,
          0.3686341463414634,
          0.40390243902439027,
          0.4389512195121951,
          0.47409756097560973,
          0.5066341463414634,
          0.5375853658536586,
          0.5713414634146341,
          0.6039268292682927,
          0.633,
          0.6534146341463415,
          0.6717804878048781,
          0.6882195121951219,
          0.7046829268292683,
          0.7188292682926829,
          0.7296585365853658,
          0.7405853658536585,
          0.749219512195122,
          0.7573170731707317,
          0.7639024390243903,
          0.7705121951219512,
          0.7758048780487805,
          0.7808780487804878,
          0.7854390243902439,
          0.7893902439024391,
          0.7930731707317074,
          0.7969024390243903,
          0.8009268292682927,
          0.8041951219512196,
          0.8072439024390244,
          0.810439024390244,
          0.8126097560975609,
          0.8146585365853658,
          0.8167317073170731,
          0.8168292682926829,
          0.810609756097561,
          0.7935365853658537,
          0.7419268292682927,
          0.7383170731707317,
          0.7497073170731707,
          0.8173414634146341,
          0.826,
          0.8302439024390244,
          0.8338292682926829,
          0.8356097560975609,
          0.8387073170731707,
          0.8397560975609756,
          0.842780487804878,
          0.8434390243902439,
          0.8457317073170731,
          0.8462439024390244,
          0.8488536585365853,
          0.8481219512195122,
          0.8507560975609756,
          0.850170731707317,
          0.8523170731707317,
          0.8512926829268292,
          0.8534390243902439,
          0.8518536585365853,
          0.8520975609756097,
          0.8510731707317073,
          0.8511951219512195,
          0.8506341463414634,
          0.8502926829268292,
          0.8513414634146341,
          0.8523170731707317,
          0.8540975609756097,
          0.8565609756097561,
          0.8589024390243902,
          0.8619512195121951,
          0.8629268292682927,
          0.866,
          0.8658048780487805,
          0.8684390243902439,
          0.8675853658536585,
          0.8698048780487805,
          0.869,
          0.8705853658536585,
          0.8698780487804878,
          0.8709268292682927,
          0.8700975609756098,
          0.8711463414634146,
          0.8698048780487805,
          0.8713170731707317,
          0.8703414634146341,
          0.8727073170731707,
          0.8718048780487805,
          0.8743170731707317,
          0.8741951219512195,
          0.8768292682926829,
          0.8768536585365854,
          0.8790975609756098,
          0.8800731707317073,
          0.882,
          0.8820975609756098
         ],
         "yaxis": "y"
        },
        {
         "hovertemplate": "variable=0.65<br>index=%{x}<br>value=%{y}<extra></extra>",
         "legendgroup": "0.65",
         "line": {
          "color": "#EF553B",
          "dash": "solid"
         },
         "marker": {
          "symbol": "circle"
         },
         "mode": "lines",
         "name": "0.65",
         "showlegend": true,
         "type": "scattergl",
         "x": [
          0,
          1,
          2,
          3,
          4,
          5,
          6,
          7,
          8,
          9,
          10,
          11,
          12,
          13,
          14,
          15,
          16,
          17,
          18,
          19,
          20,
          21,
          22,
          23,
          24,
          25,
          26,
          27,
          28,
          29,
          30,
          31,
          32,
          33,
          34,
          35,
          36,
          37,
          38,
          39,
          40,
          41,
          42,
          43,
          44,
          45,
          46,
          47,
          48,
          49,
          50,
          51,
          52,
          53,
          54,
          55,
          56,
          57,
          58,
          59,
          60,
          61,
          62,
          63,
          64,
          65,
          66,
          67,
          68,
          69,
          70,
          71,
          72,
          73,
          74,
          75,
          76,
          77,
          78,
          79,
          80,
          81,
          82,
          83,
          84,
          85,
          86,
          87,
          88,
          89,
          90,
          91,
          92,
          93,
          94,
          95,
          96,
          97,
          98,
          99
         ],
         "xaxis": "x",
         "y": [
          0.11363414634146342,
          0.18526829268292683,
          0.22714634146341464,
          0.21434146341463414,
          0.26626829268292684,
          0.3232926829268293,
          0.37753658536585366,
          0.42009756097560974,
          0.4538536585365854,
          0.4838780487804878,
          0.509609756097561,
          0.5325609756097561,
          0.5537073170731708,
          0.5739512195121951,
          0.5924634146341463,
          0.6096829268292683,
          0.6288048780487805,
          0.6465609756097561,
          0.6625121951219513,
          0.6761951219512196,
          0.6915853658536585,
          0.7049756097560975,
          0.7178780487804878,
          0.7286829268292683,
          0.7390731707317073,
          0.7481707317073171,
          0.7563658536585366,
          0.7645853658536585,
          0.7714390243902439,
          0.7771951219512195,
          0.7833170731707317,
          0.7895121951219513,
          0.7944878048780488,
          0.7987317073170732,
          0.8034146341463415,
          0.8071463414634147,
          0.8110975609756098,
          0.8138780487804878,
          0.8177560975609756,
          0.8202682926829268,
          0.8239024390243902,
          0.8255853658536585,
          0.8292926829268292,
          0.8301951219512195,
          0.8331951219512195,
          0.8325121951219512,
          0.8358292682926829,
          0.8315121951219512,
          0.8298780487804878,
          0.8229024390243902,
          0.814560975609756,
          0.813,
          0.8097317073170732,
          0.8284390243902439,
          0.8369756097560975,
          0.8472195121951219,
          0.8524390243902439,
          0.8546585365853658,
          0.8577073170731707,
          0.8588292682926829,
          0.8610975609756097,
          0.8620487804878049,
          0.8640487804878049,
          0.8650731707317073,
          0.8665121951219512,
          0.8678536585365854,
          0.8683170731707317,
          0.8700243902439024,
          0.870390243902439,
          0.8722682926829268,
          0.8719268292682927,
          0.873780487804878,
          0.8734878048780488,
          0.8752926829268293,
          0.8745853658536585,
          0.8768292682926829,
          0.8762926829268293,
          0.8784878048780488,
          0.8780487804878049,
          0.8801219512195122,
          0.879219512195122,
          0.8815121951219512,
          0.8804146341463415,
          0.8829512195121951,
          0.8816829268292683,
          0.883609756097561,
          0.8822439024390244,
          0.8846585365853659,
          0.8826341463414634,
          0.8848292682926829,
          0.8825121951219512,
          0.8844390243902439,
          0.8821707317073171,
          0.8844390243902439,
          0.8820975609756098,
          0.8839268292682927,
          0.881609756097561,
          0.8836829268292683,
          0.882,
          0.8843414634146342
         ],
         "yaxis": "y"
        }
       ],
       "layout": {
        "legend": {
         "title": {
          "text": "variable"
         },
         "tracegroupgap": 0
        },
        "margin": {
         "t": 60
        },
        "template": {
         "data": {
          "bar": [
           {
            "error_x": {
             "color": "#2a3f5f"
            },
            "error_y": {
             "color": "#2a3f5f"
            },
            "marker": {
             "line": {
              "color": "#E5ECF6",
              "width": 0.5
             },
             "pattern": {
              "fillmode": "overlay",
              "size": 10,
              "solidity": 0.2
             }
            },
            "type": "bar"
           }
          ],
          "barpolar": [
           {
            "marker": {
             "line": {
              "color": "#E5ECF6",
              "width": 0.5
             },
             "pattern": {
              "fillmode": "overlay",
              "size": 10,
              "solidity": 0.2
             }
            },
            "type": "barpolar"
           }
          ],
          "carpet": [
           {
            "aaxis": {
             "endlinecolor": "#2a3f5f",
             "gridcolor": "white",
             "linecolor": "white",
             "minorgridcolor": "white",
             "startlinecolor": "#2a3f5f"
            },
            "baxis": {
             "endlinecolor": "#2a3f5f",
             "gridcolor": "white",
             "linecolor": "white",
             "minorgridcolor": "white",
             "startlinecolor": "#2a3f5f"
            },
            "type": "carpet"
           }
          ],
          "choropleth": [
           {
            "colorbar": {
             "outlinewidth": 0,
             "ticks": ""
            },
            "type": "choropleth"
           }
          ],
          "contour": [
           {
            "colorbar": {
             "outlinewidth": 0,
             "ticks": ""
            },
            "colorscale": [
             [
              0,
              "#0d0887"
             ],
             [
              0.1111111111111111,
              "#46039f"
             ],
             [
              0.2222222222222222,
              "#7201a8"
             ],
             [
              0.3333333333333333,
              "#9c179e"
             ],
             [
              0.4444444444444444,
              "#bd3786"
             ],
             [
              0.5555555555555556,
              "#d8576b"
             ],
             [
              0.6666666666666666,
              "#ed7953"
             ],
             [
              0.7777777777777778,
              "#fb9f3a"
             ],
             [
              0.8888888888888888,
              "#fdca26"
             ],
             [
              1,
              "#f0f921"
             ]
            ],
            "type": "contour"
           }
          ],
          "contourcarpet": [
           {
            "colorbar": {
             "outlinewidth": 0,
             "ticks": ""
            },
            "type": "contourcarpet"
           }
          ],
          "heatmap": [
           {
            "colorbar": {
             "outlinewidth": 0,
             "ticks": ""
            },
            "colorscale": [
             [
              0,
              "#0d0887"
             ],
             [
              0.1111111111111111,
              "#46039f"
             ],
             [
              0.2222222222222222,
              "#7201a8"
             ],
             [
              0.3333333333333333,
              "#9c179e"
             ],
             [
              0.4444444444444444,
              "#bd3786"
             ],
             [
              0.5555555555555556,
              "#d8576b"
             ],
             [
              0.6666666666666666,
              "#ed7953"
             ],
             [
              0.7777777777777778,
              "#fb9f3a"
             ],
             [
              0.8888888888888888,
              "#fdca26"
             ],
             [
              1,
              "#f0f921"
             ]
            ],
            "type": "heatmap"
           }
          ],
          "heatmapgl": [
           {
            "colorbar": {
             "outlinewidth": 0,
             "ticks": ""
            },
            "colorscale": [
             [
              0,
              "#0d0887"
             ],
             [
              0.1111111111111111,
              "#46039f"
             ],
             [
              0.2222222222222222,
              "#7201a8"
             ],
             [
              0.3333333333333333,
              "#9c179e"
             ],
             [
              0.4444444444444444,
              "#bd3786"
             ],
             [
              0.5555555555555556,
              "#d8576b"
             ],
             [
              0.6666666666666666,
              "#ed7953"
             ],
             [
              0.7777777777777778,
              "#fb9f3a"
             ],
             [
              0.8888888888888888,
              "#fdca26"
             ],
             [
              1,
              "#f0f921"
             ]
            ],
            "type": "heatmapgl"
           }
          ],
          "histogram": [
           {
            "marker": {
             "pattern": {
              "fillmode": "overlay",
              "size": 10,
              "solidity": 0.2
             }
            },
            "type": "histogram"
           }
          ],
          "histogram2d": [
           {
            "colorbar": {
             "outlinewidth": 0,
             "ticks": ""
            },
            "colorscale": [
             [
              0,
              "#0d0887"
             ],
             [
              0.1111111111111111,
              "#46039f"
             ],
             [
              0.2222222222222222,
              "#7201a8"
             ],
             [
              0.3333333333333333,
              "#9c179e"
             ],
             [
              0.4444444444444444,
              "#bd3786"
             ],
             [
              0.5555555555555556,
              "#d8576b"
             ],
             [
              0.6666666666666666,
              "#ed7953"
             ],
             [
              0.7777777777777778,
              "#fb9f3a"
             ],
             [
              0.8888888888888888,
              "#fdca26"
             ],
             [
              1,
              "#f0f921"
             ]
            ],
            "type": "histogram2d"
           }
          ],
          "histogram2dcontour": [
           {
            "colorbar": {
             "outlinewidth": 0,
             "ticks": ""
            },
            "colorscale": [
             [
              0,
              "#0d0887"
             ],
             [
              0.1111111111111111,
              "#46039f"
             ],
             [
              0.2222222222222222,
              "#7201a8"
             ],
             [
              0.3333333333333333,
              "#9c179e"
             ],
             [
              0.4444444444444444,
              "#bd3786"
             ],
             [
              0.5555555555555556,
              "#d8576b"
             ],
             [
              0.6666666666666666,
              "#ed7953"
             ],
             [
              0.7777777777777778,
              "#fb9f3a"
             ],
             [
              0.8888888888888888,
              "#fdca26"
             ],
             [
              1,
              "#f0f921"
             ]
            ],
            "type": "histogram2dcontour"
           }
          ],
          "mesh3d": [
           {
            "colorbar": {
             "outlinewidth": 0,
             "ticks": ""
            },
            "type": "mesh3d"
           }
          ],
          "parcoords": [
           {
            "line": {
             "colorbar": {
              "outlinewidth": 0,
              "ticks": ""
             }
            },
            "type": "parcoords"
           }
          ],
          "pie": [
           {
            "automargin": true,
            "type": "pie"
           }
          ],
          "scatter": [
           {
            "marker": {
             "colorbar": {
              "outlinewidth": 0,
              "ticks": ""
             }
            },
            "type": "scatter"
           }
          ],
          "scatter3d": [
           {
            "line": {
             "colorbar": {
              "outlinewidth": 0,
              "ticks": ""
             }
            },
            "marker": {
             "colorbar": {
              "outlinewidth": 0,
              "ticks": ""
             }
            },
            "type": "scatter3d"
           }
          ],
          "scattercarpet": [
           {
            "marker": {
             "colorbar": {
              "outlinewidth": 0,
              "ticks": ""
             }
            },
            "type": "scattercarpet"
           }
          ],
          "scattergeo": [
           {
            "marker": {
             "colorbar": {
              "outlinewidth": 0,
              "ticks": ""
             }
            },
            "type": "scattergeo"
           }
          ],
          "scattergl": [
           {
            "marker": {
             "colorbar": {
              "outlinewidth": 0,
              "ticks": ""
             }
            },
            "type": "scattergl"
           }
          ],
          "scattermapbox": [
           {
            "marker": {
             "colorbar": {
              "outlinewidth": 0,
              "ticks": ""
             }
            },
            "type": "scattermapbox"
           }
          ],
          "scatterpolar": [
           {
            "marker": {
             "colorbar": {
              "outlinewidth": 0,
              "ticks": ""
             }
            },
            "type": "scatterpolar"
           }
          ],
          "scatterpolargl": [
           {
            "marker": {
             "colorbar": {
              "outlinewidth": 0,
              "ticks": ""
             }
            },
            "type": "scatterpolargl"
           }
          ],
          "scatterternary": [
           {
            "marker": {
             "colorbar": {
              "outlinewidth": 0,
              "ticks": ""
             }
            },
            "type": "scatterternary"
           }
          ],
          "surface": [
           {
            "colorbar": {
             "outlinewidth": 0,
             "ticks": ""
            },
            "colorscale": [
             [
              0,
              "#0d0887"
             ],
             [
              0.1111111111111111,
              "#46039f"
             ],
             [
              0.2222222222222222,
              "#7201a8"
             ],
             [
              0.3333333333333333,
              "#9c179e"
             ],
             [
              0.4444444444444444,
              "#bd3786"
             ],
             [
              0.5555555555555556,
              "#d8576b"
             ],
             [
              0.6666666666666666,
              "#ed7953"
             ],
             [
              0.7777777777777778,
              "#fb9f3a"
             ],
             [
              0.8888888888888888,
              "#fdca26"
             ],
             [
              1,
              "#f0f921"
             ]
            ],
            "type": "surface"
           }
          ],
          "table": [
           {
            "cells": {
             "fill": {
              "color": "#EBF0F8"
             },
             "line": {
              "color": "white"
             }
            },
            "header": {
             "fill": {
              "color": "#C8D4E3"
             },
             "line": {
              "color": "white"
             }
            },
            "type": "table"
           }
          ]
         },
         "layout": {
          "annotationdefaults": {
           "arrowcolor": "#2a3f5f",
           "arrowhead": 0,
           "arrowwidth": 1
          },
          "autotypenumbers": "strict",
          "coloraxis": {
           "colorbar": {
            "outlinewidth": 0,
            "ticks": ""
           }
          },
          "colorscale": {
           "diverging": [
            [
             0,
             "#8e0152"
            ],
            [
             0.1,
             "#c51b7d"
            ],
            [
             0.2,
             "#de77ae"
            ],
            [
             0.3,
             "#f1b6da"
            ],
            [
             0.4,
             "#fde0ef"
            ],
            [
             0.5,
             "#f7f7f7"
            ],
            [
             0.6,
             "#e6f5d0"
            ],
            [
             0.7,
             "#b8e186"
            ],
            [
             0.8,
             "#7fbc41"
            ],
            [
             0.9,
             "#4d9221"
            ],
            [
             1,
             "#276419"
            ]
           ],
           "sequential": [
            [
             0,
             "#0d0887"
            ],
            [
             0.1111111111111111,
             "#46039f"
            ],
            [
             0.2222222222222222,
             "#7201a8"
            ],
            [
             0.3333333333333333,
             "#9c179e"
            ],
            [
             0.4444444444444444,
             "#bd3786"
            ],
            [
             0.5555555555555556,
             "#d8576b"
            ],
            [
             0.6666666666666666,
             "#ed7953"
            ],
            [
             0.7777777777777778,
             "#fb9f3a"
            ],
            [
             0.8888888888888888,
             "#fdca26"
            ],
            [
             1,
             "#f0f921"
            ]
           ],
           "sequentialminus": [
            [
             0,
             "#0d0887"
            ],
            [
             0.1111111111111111,
             "#46039f"
            ],
            [
             0.2222222222222222,
             "#7201a8"
            ],
            [
             0.3333333333333333,
             "#9c179e"
            ],
            [
             0.4444444444444444,
             "#bd3786"
            ],
            [
             0.5555555555555556,
             "#d8576b"
            ],
            [
             0.6666666666666666,
             "#ed7953"
            ],
            [
             0.7777777777777778,
             "#fb9f3a"
            ],
            [
             0.8888888888888888,
             "#fdca26"
            ],
            [
             1,
             "#f0f921"
            ]
           ]
          },
          "colorway": [
           "#636efa",
           "#EF553B",
           "#00cc96",
           "#ab63fa",
           "#FFA15A",
           "#19d3f3",
           "#FF6692",
           "#B6E880",
           "#FF97FF",
           "#FECB52"
          ],
          "font": {
           "color": "#2a3f5f"
          },
          "geo": {
           "bgcolor": "white",
           "lakecolor": "white",
           "landcolor": "#E5ECF6",
           "showlakes": true,
           "showland": true,
           "subunitcolor": "white"
          },
          "hoverlabel": {
           "align": "left"
          },
          "hovermode": "closest",
          "mapbox": {
           "style": "light"
          },
          "paper_bgcolor": "white",
          "plot_bgcolor": "#E5ECF6",
          "polar": {
           "angularaxis": {
            "gridcolor": "white",
            "linecolor": "white",
            "ticks": ""
           },
           "bgcolor": "#E5ECF6",
           "radialaxis": {
            "gridcolor": "white",
            "linecolor": "white",
            "ticks": ""
           }
          },
          "scene": {
           "xaxis": {
            "backgroundcolor": "#E5ECF6",
            "gridcolor": "white",
            "gridwidth": 2,
            "linecolor": "white",
            "showbackground": true,
            "ticks": "",
            "zerolinecolor": "white"
           },
           "yaxis": {
            "backgroundcolor": "#E5ECF6",
            "gridcolor": "white",
            "gridwidth": 2,
            "linecolor": "white",
            "showbackground": true,
            "ticks": "",
            "zerolinecolor": "white"
           },
           "zaxis": {
            "backgroundcolor": "#E5ECF6",
            "gridcolor": "white",
            "gridwidth": 2,
            "linecolor": "white",
            "showbackground": true,
            "ticks": "",
            "zerolinecolor": "white"
           }
          },
          "shapedefaults": {
           "line": {
            "color": "#2a3f5f"
           }
          },
          "ternary": {
           "aaxis": {
            "gridcolor": "white",
            "linecolor": "white",
            "ticks": ""
           },
           "baxis": {
            "gridcolor": "white",
            "linecolor": "white",
            "ticks": ""
           },
           "bgcolor": "#E5ECF6",
           "caxis": {
            "gridcolor": "white",
            "linecolor": "white",
            "ticks": ""
           }
          },
          "title": {
           "x": 0.05
          },
          "xaxis": {
           "automargin": true,
           "gridcolor": "white",
           "linecolor": "white",
           "ticks": "",
           "title": {
            "standoff": 15
           },
           "zerolinecolor": "white",
           "zerolinewidth": 2
          },
          "yaxis": {
           "automargin": true,
           "gridcolor": "white",
           "linecolor": "white",
           "ticks": "",
           "title": {
            "standoff": 15
           },
           "zerolinecolor": "white",
           "zerolinewidth": 2
          }
         }
        },
        "xaxis": {
         "anchor": "y",
         "domain": [
          0,
          1
         ],
         "title": {
          "text": "index"
         }
        },
        "yaxis": {
         "anchor": "x",
         "domain": [
          0,
          1
         ],
         "title": {
          "text": "value"
         }
        }
       }
      },
      "text/html": [
       "<div>                            <div id=\"29645a8b-9d03-4419-91fe-3e0b5dad8b70\" class=\"plotly-graph-div\" style=\"height:525px; width:100%;\"></div>            <script type=\"text/javascript\">                require([\"plotly\"], function(Plotly) {                    window.PLOTLYENV=window.PLOTLYENV || {};                                    if (document.getElementById(\"29645a8b-9d03-4419-91fe-3e0b5dad8b70\")) {                    Plotly.newPlot(                        \"29645a8b-9d03-4419-91fe-3e0b5dad8b70\",                        [{\"hovertemplate\":\"variable=0.10<br>index=%{x}<br>value=%{y}<extra></extra>\",\"legendgroup\":\"0.10\",\"line\":{\"color\":\"#636efa\",\"dash\":\"solid\"},\"marker\":{\"symbol\":\"circle\"},\"mode\":\"lines\",\"name\":\"0.10\",\"showlegend\":true,\"x\":[0,1,2,3,4,5,6,7,8,9,10,11,12,13,14,15,16,17,18,19,20,21,22,23,24,25,26,27,28,29,30,31,32,33,34,35,36,37,38,39,40,41,42,43,44,45,46,47,48,49,50,51,52,53,54,55,56,57,58,59,60,61,62,63,64,65,66,67,68,69,70,71,72,73,74,75,76,77,78,79,80,81,82,83,84,85,86,87,88,89,90,91,92,93,94,95,96,97,98,99],\"xaxis\":\"x\",\"y\":[0.11814634146341463,0.1425121951219512,0.1871951219512195,0.22404878048780488,0.27563414634146344,0.31558536585365854,0.3541219512195122,0.38565853658536586,0.41604878048780486,0.44214634146341464,0.46546341463414637,0.4860243902439024,0.505,0.5217804878048781,0.5367073170731708,0.5515121951219513,0.5652195121951219,0.577,0.5879268292682926,0.5980731707317073,0.6076585365853658,0.6158536585365854,0.6248780487804878,0.6326829268292683,0.6404634146341464,0.6472439024390244,0.6537804878048781,0.6598780487804878,0.6662439024390244,0.6714878048780488,0.6764146341463415,0.6805853658536586,0.685439024390244,0.69,0.6946585365853658,0.6992926829268292,0.7029268292682926,0.7068292682926829,0.7103658536585366,0.7139756097560975,0.7175853658536585,0.7209024390243902,0.724,0.7270487804878049,0.7299268292682927,0.732609756097561,0.7351951219512195,0.7379024390243902,0.7402195121951219,0.7421463414634146,0.7445853658536585,0.7468780487804878,0.7494146341463415,0.7515365853658537,0.7531219512195122,0.7554634146341463,0.7572439024390244,0.759219512195122,0.7610487804878049,0.7629268292682927,0.7646829268292683,0.7667073170731707,0.7687073170731707,0.770219512195122,0.7719756097560976,0.7735853658536586,0.7748780487804878,0.7763658536585366,0.7778536585365854,0.7790487804878049,0.781,0.7824878048780488,0.7840487804878049,0.7855121951219513,0.7868536585365854,0.7877560975609756,0.7886585365853659,0.7902439024390244,0.7914634146341464,0.7924390243902439,0.7934146341463415,0.7942439024390244,0.7953902439024391,0.7962926829268293,0.7973658536585366,0.798439024390244,0.7992439024390244,0.8002926829268293,0.8013658536585366,0.8023170731707318,0.8033170731707318,0.804439024390244,0.8057804878048781,0.806439024390244,0.8073658536585366,0.8082682926829269,0.8090487804878049,0.8100487804878049,0.811,0.8119268292682927],\"yaxis\":\"y\",\"type\":\"scattergl\"},{\"hovertemplate\":\"variable=0.15<br>index=%{x}<br>value=%{y}<extra></extra>\",\"legendgroup\":\"0.15\",\"line\":{\"color\":\"#EF553B\",\"dash\":\"solid\"},\"marker\":{\"symbol\":\"circle\"},\"mode\":\"lines\",\"name\":\"0.15\",\"showlegend\":true,\"x\":[0,1,2,3,4,5,6,7,8,9,10,11,12,13,14,15,16,17,18,19,20,21,22,23,24,25,26,27,28,29,30,31,32,33,34,35,36,37,38,39,40,41,42,43,44,45,46,47,48,49,50,51,52,53,54,55,56,57,58,59,60,61,62,63,64,65,66,67,68,69,70,71,72,73,74,75,76,77,78,79,80,81,82,83,84,85,86,87,88,89,90,91,92,93,94,95,96,97,98,99],\"xaxis\":\"x\",\"y\":[0.12214634146341463,0.18678048780487805,0.23034146341463416,0.2738780487804878,0.36009756097560974,0.38690243902439025,0.4358048780487805,0.46,0.4934390243902439,0.5129756097560976,0.5352682926829269,0.5525853658536586,0.5692439024390243,0.5854878048780487,0.5984878048780488,0.6109512195121951,0.6220487804878049,0.6328780487804878,0.6429756097560976,0.6512439024390244,0.6589512195121952,0.6662926829268293,0.6733170731707318,0.6804146341463415,0.6864878048780488,0.6916829268292682,0.6974146341463414,0.702390243902439,0.7072682926829268,0.7115121951219512,0.7160487804878048,0.7204146341463414,0.7243414634146341,0.7279268292682927,0.7314146341463414,0.7349756097560975,0.7375853658536585,0.7405853658536585,0.7437317073170732,0.746219512195122,0.7491707317073171,0.752,0.7542682926829268,0.7572439024390244,0.7597560975609756,0.7620731707317073,0.7641707317073171,0.7664634146341464,0.7683170731707317,0.7703170731707317,0.7721707317073171,0.7738780487804878,0.7757317073170732,0.7776341463414634,0.7797073170731708,0.7812926829268293,0.7828536585365854,0.7842439024390244,0.7857560975609756,0.7876585365853659,0.7893658536585366,0.791,0.792609756097561,0.7938536585365854,0.7954390243902439,0.7970731707317074,0.7981707317073171,0.7991463414634147,0.8002926829268293,0.8013902439024391,0.8029268292682927,0.8045365853658537,0.8057560975609757,0.8070243902439025,0.8081463414634147,0.8091219512195122,0.8100975609756098,0.8115121951219513,0.8124634146341464,0.8133414634146341,0.8142439024390243,0.8150487804878048,0.8160487804878048,0.8168292682926829,0.8179268292682926,0.819,0.8198292682926829,0.8206585365853658,0.8215853658536585,0.8225121951219512,0.8234390243902439,0.8240487804878048,0.8249756097560975,0.8258048780487804,0.8267073170731707,0.827390243902439,0.8281463414634146,0.8287073170731707,0.8293658536585365,0.8302195121951219],\"yaxis\":\"y\",\"type\":\"scattergl\"},{\"hovertemplate\":\"variable=0.20<br>index=%{x}<br>value=%{y}<extra></extra>\",\"legendgroup\":\"0.20\",\"line\":{\"color\":\"#00cc96\",\"dash\":\"solid\"},\"marker\":{\"symbol\":\"circle\"},\"mode\":\"lines\",\"name\":\"0.20\",\"showlegend\":true,\"x\":[0,1,2,3,4,5,6,7,8,9,10,11,12,13,14,15,16,17,18,19,20,21,22,23,24,25,26,27,28,29,30,31,32,33,34,35,36,37,38,39,40,41,42,43,44,45,46,47,48,49,50,51,52,53,54,55,56,57,58,59,60,61,62,63,64,65,66,67,68,69,70,71,72,73,74,75,76,77,78,79,80,81,82,83,84,85,86,87,88,89,90,91,92,93,94,95,96,97,98,99],\"xaxis\":\"x\",\"y\":[0.1372439024390244,0.14465853658536584,0.29678048780487803,0.32078048780487806,0.4282439024390244,0.47253658536585363,0.5106585365853659,0.5380731707317074,0.5629756097560975,0.583390243902439,0.6015121951219512,0.6175609756097561,0.6307560975609756,0.6438048780487805,0.6570243902439025,0.6678536585365854,0.6787804878048781,0.6884390243902438,0.6970243902439024,0.7050975609756097,0.7122682926829268,0.7198292682926829,0.7258536585365853,0.731609756097561,0.736609756097561,0.7423658536585366,0.7469756097560976,0.7519756097560976,0.755780487804878,0.7599024390243903,0.7631219512195122,0.7664878048780488,0.7698048780487805,0.7731219512195122,0.776609756097561,0.7798048780487805,0.782829268292683,0.7854634146341464,0.7879756097560976,0.7903658536585366,0.7929024390243903,0.7950975609756098,0.7972439024390244,0.7994634146341464,0.8013170731707318,0.8032926829268293,0.8058780487804879,0.8076341463414635,0.809609756097561,0.8114878048780488,0.813170731707317,0.8150731707317073,0.8169512195121951,0.8184878048780487,0.8199024390243902,0.8215121951219512,0.8231951219512195,0.8242926829268292,0.8256341463414634,0.8271463414634146,0.8285121951219512,0.8298780487804878,0.8311219512195122,0.8322682926829268,0.8332439024390244,0.8344146341463414,0.8355609756097561,0.8369024390243902,0.8376097560975609,0.8387317073170731,0.8398048780487805,0.8405609756097561,0.8414634146341463,0.842170731707317,0.8428536585365853,0.8437560975609756,0.8444390243902439,0.8453170731707317,0.8463658536585366,0.8472926829268292,0.8479512195121951,0.8489268292682927,0.8496585365853658,0.8503414634146341,0.851,0.851780487804878,0.8526341463414634,0.8534878048780488,0.8539756097560975,0.8547317073170732,0.8554878048780488,0.8560487804878049,0.8564390243902439,0.8569756097560975,0.8574390243902439,0.8580243902439024,0.8586829268292683,0.8594390243902439,0.8600731707317073,0.8607073170731707],\"yaxis\":\"y\",\"type\":\"scattergl\"},{\"hovertemplate\":\"variable=0.25<br>index=%{x}<br>value=%{y}<extra></extra>\",\"legendgroup\":\"0.25\",\"line\":{\"color\":\"#ab63fa\",\"dash\":\"solid\"},\"marker\":{\"symbol\":\"circle\"},\"mode\":\"lines\",\"name\":\"0.25\",\"showlegend\":true,\"x\":[0,1,2,3,4,5,6,7,8,9,10,11,12,13,14,15,16,17,18,19,20,21,22,23,24,25,26,27,28,29,30,31,32,33,34,35,36,37,38,39,40,41,42,43,44,45,46,47,48,49,50,51,52,53,54,55,56,57,58,59,60,61,62,63,64,65,66,67,68,69,70,71,72,73,74,75,76,77,78,79,80,81,82,83,84,85,86,87,88,89,90,91,92,93,94,95,96,97,98,99],\"xaxis\":\"x\",\"y\":[0.10370731707317073,0.20317073170731706,0.23753658536585365,0.28629268292682925,0.3307317073170732,0.3648780487804878,0.3898536585365854,0.4125609756097561,0.4358780487804878,0.45834146341463416,0.4801463414634146,0.5023170731707317,0.5258048780487805,0.5464146341463415,0.5640487804878048,0.5794390243902439,0.5944634146341463,0.6071951219512195,0.6186829268292683,0.6298536585365854,0.6408536585365854,0.6509512195121951,0.6601951219512195,0.668609756097561,0.6772682926829269,0.6842926829268293,0.6914146341463414,0.6980975609756097,0.7045853658536585,0.7113414634146341,0.7172682926829268,0.722170731707317,0.7272682926829268,0.7321219512195122,0.7369268292682927,0.7415853658536585,0.7455853658536585,0.7495609756097561,0.7538780487804878,0.7577560975609756,0.7615121951219512,0.7647317073170732,0.7678048780487805,0.7707317073170732,0.7737804878048781,0.7765853658536586,0.7794878048780488,0.7819756097560976,0.7848780487804878,0.7871707317073171,0.7894146341463415,0.7914146341463415,0.7935609756097561,0.7957560975609757,0.7980731707317074,0.8000731707317074,0.8017560975609757,0.8037317073170732,0.8051463414634147,0.807,0.8085365853658537,0.8100731707317074,0.8112926829268293,0.8128780487804877,0.8144878048780487,0.8158048780487804,0.8177073170731707,0.8191463414634146,0.8205853658536585,0.8216585365853658,0.8227560975609756,0.8242195121951219,0.8258536585365853,0.8270975609756097,0.8281951219512195,0.829170731707317,0.8304146341463414,0.8316341463414634,0.8327317073170731,0.8336097560975609,0.8350243902439024,0.8361219512195122,0.837390243902439,0.8382926829268292,0.8393658536585366,0.8403414634146341,0.8412682926829268,0.8424390243902439,0.8432926829268292,0.8440487804878049,0.8452439024390244,0.8461951219512195,0.8470731707317073,0.8478292682926829,0.8485609756097561,0.8495853658536585,0.8505609756097561,0.8510975609756097,0.8517560975609756,0.852780487804878],\"yaxis\":\"y\",\"type\":\"scattergl\"},{\"hovertemplate\":\"variable=0.30<br>index=%{x}<br>value=%{y}<extra></extra>\",\"legendgroup\":\"0.30\",\"line\":{\"color\":\"#FFA15A\",\"dash\":\"solid\"},\"marker\":{\"symbol\":\"circle\"},\"mode\":\"lines\",\"name\":\"0.30\",\"showlegend\":true,\"x\":[0,1,2,3,4,5,6,7,8,9,10,11,12,13,14,15,16,17,18,19,20,21,22,23,24,25,26,27,28,29,30,31,32,33,34,35,36,37,38,39,40,41,42,43,44,45,46,47,48,49,50,51,52,53,54,55,56,57,58,59,60,61,62,63,64,65,66,67,68,69,70,71,72,73,74,75,76,77,78,79,80,81,82,83,84,85,86,87,88,89,90,91,92,93,94,95,96,97,98,99],\"xaxis\":\"x\",\"y\":[0.12697560975609756,0.16278048780487805,0.19207317073170732,0.2428780487804878,0.3057560975609756,0.3578780487804878,0.40741463414634144,0.45526829268292685,0.4956341463414634,0.5277560975609756,0.5533170731707318,0.575780487804878,0.5944878048780488,0.6119024390243902,0.6263658536585366,0.6389756097560976,0.6520487804878049,0.6627804878048781,0.672609756097561,0.6825365853658537,0.6908536585365853,0.6990975609756097,0.7057317073170731,0.7133170731707317,0.7200487804878049,0.7255609756097561,0.7319512195121951,0.7375853658536585,0.7427317073170732,0.7470975609756098,0.7518536585365854,0.756780487804878,0.76,0.7637317073170732,0.7673170731707317,0.7708536585365854,0.774219512195122,0.7772926829268293,0.7796829268292683,0.7830487804878049,0.7863170731707317,0.7887560975609756,0.7914390243902439,0.7937317073170732,0.7963658536585366,0.7983658536585366,0.8005365853658537,0.8022439024390244,0.8042439024390244,0.8062682926829269,0.8083170731707318,0.8103902439024391,0.8123658536585366,0.8140975609756097,0.8159024390243902,0.8174634146341463,0.8189268292682926,0.8205121951219512,0.8216829268292682,0.8233658536585365,0.824780487804878,0.8261463414634146,0.827390243902439,0.8286097560975609,0.8302195121951219,0.8311463414634146,0.8322439024390244,0.8334146341463414,0.8348048780487805,0.8361219512195122,0.8373658536585366,0.8385853658536585,0.8394390243902439,0.8403414634146341,0.8416585365853658,0.8427560975609756,0.8437073170731707,0.8447317073170731,0.8456585365853658,0.8465853658536585,0.8474390243902439,0.8484634146341463,0.8492439024390244,0.8500487804878049,0.8505365853658536,0.8512682926829268,0.8519756097560975,0.8527560975609756,0.8534878048780488,0.8543658536585366,0.8551707317073171,0.8558292682926829,0.8565365853658536,0.8571707317073171,0.8578292682926829,0.8585121951219512,0.8593170731707317,0.8599024390243902,0.860390243902439,0.861],\"yaxis\":\"y\",\"type\":\"scattergl\"},{\"hovertemplate\":\"variable=0.35<br>index=%{x}<br>value=%{y}<extra></extra>\",\"legendgroup\":\"0.35\",\"line\":{\"color\":\"#19d3f3\",\"dash\":\"solid\"},\"marker\":{\"symbol\":\"circle\"},\"mode\":\"lines\",\"name\":\"0.35\",\"showlegend\":true,\"x\":[0,1,2,3,4,5,6,7,8,9,10,11,12,13,14,15,16,17,18,19,20,21,22,23,24,25,26,27,28,29,30,31,32,33,34,35,36,37,38,39,40,41,42,43,44,45,46,47,48,49,50,51,52,53,54,55,56,57,58,59,60,61,62,63,64,65,66,67,68,69,70,71,72,73,74,75,76,77,78,79,80,81,82,83,84,85,86,87,88,89,90,91,92,93,94,95,96,97,98,99],\"xaxis\":\"x\",\"y\":[0.08543902439024391,0.12209756097560975,0.25102439024390244,0.3420975609756098,0.4039756097560976,0.45514634146341465,0.49629268292682926,0.529829268292683,0.5583170731707318,0.5822682926829268,0.6036585365853658,0.6215121951219512,0.6371707317073171,0.652829268292683,0.6661951219512195,0.6775121951219513,0.6883658536585365,0.6985121951219512,0.7067317073170731,0.7159512195121951,0.7226585365853658,0.728780487804878,0.7355121951219512,0.7406829268292683,0.7464634146341463,0.7514146341463415,0.755609756097561,0.7606341463414634,0.7657073170731707,0.7697804878048781,0.7733414634146342,0.7774146341463415,0.781,0.7846341463414634,0.7873658536585366,0.7906829268292683,0.7938536585365854,0.7970731707317074,0.8006829268292683,0.8034634146341464,0.805829268292683,0.8082926829268293,0.8100487804878049,0.8116829268292683,0.8140243902439024,0.8159512195121951,0.8179512195121951,0.8199268292682926,0.821780487804878,0.823780487804878,0.8250487804878048,0.8268048780487804,0.8286097560975609,0.8305609756097561,0.8321463414634146,0.8337073170731707,0.8354146341463414,0.8366829268292683,0.8382195121951219,0.8395609756097561,0.8409756097560975,0.8423414634146341,0.8437560975609756,0.8450731707317073,0.8464390243902439,0.8475853658536585,0.8490975609756097,0.8500243902439024,0.8512682926829268,0.8522195121951219,0.8529024390243902,0.8542439024390244,0.8552926829268293,0.856390243902439,0.857,0.8578536585365854,0.8588048780487805,0.859780487804878,0.8608048780487805,0.8615853658536585,0.8623658536585366,0.8633658536585366,0.8641219512195122,0.8649756097560976,0.8657560975609756,0.8666341463414634,0.8671707317073171,0.8679024390243902,0.8686341463414634,0.8691463414634146,0.8698536585365854,0.8705121951219512,0.8711463414634146,0.871780487804878,0.8724634146341463,0.8730731707317073,0.8734878048780488,0.8739512195121951,0.8742682926829268,0.875219512195122],\"yaxis\":\"y\",\"type\":\"scattergl\"},{\"hovertemplate\":\"variable=0.40<br>index=%{x}<br>value=%{y}<extra></extra>\",\"legendgroup\":\"0.40\",\"line\":{\"color\":\"#FF6692\",\"dash\":\"solid\"},\"marker\":{\"symbol\":\"circle\"},\"mode\":\"lines\",\"name\":\"0.40\",\"showlegend\":true,\"x\":[0,1,2,3,4,5,6,7,8,9,10,11,12,13,14,15,16,17,18,19,20,21,22,23,24,25,26,27,28,29,30,31,32,33,34,35,36,37,38,39,40,41,42,43,44,45,46,47,48,49,50,51,52,53,54,55,56,57,58,59,60,61,62,63,64,65,66,67,68,69,70,71,72,73,74,75,76,77,78,79,80,81,82,83,84,85,86,87,88,89,90,91,92,93,94,95,96,97,98,99],\"xaxis\":\"x\",\"y\":[0.11202439024390244,0.16407317073170732,0.20748780487804877,0.2839024390243902,0.3065609756097561,0.33482926829268295,0.36160975609756096,0.38714634146341464,0.41104878048780485,0.4338048780487805,0.45639024390243904,0.4747073170731707,0.4918780487804878,0.507219512195122,0.5205609756097561,0.5343170731707317,0.5452926829268293,0.5566829268292683,0.5669512195121951,0.5777560975609756,0.588170731707317,0.5978292682926829,0.6071219512195122,0.6164878048780488,0.626609756097561,0.6363658536585366,0.6476585365853659,0.658390243902439,0.669829268292683,0.6807804878048781,0.6912439024390243,0.7011463414634146,0.7106585365853658,0.7183658536585366,0.7259268292682927,0.7323414634146341,0.7390731707317073,0.7449024390243902,0.7497560975609756,0.7555121951219512,0.7601951219512195,0.7646829268292683,0.7689024390243903,0.7727073170731708,0.7765609756097561,0.780219512195122,0.783829268292683,0.7870731707317074,0.790219512195122,0.7927073170731708,0.7954146341463415,0.7978048780487805,0.8003658536585366,0.8033170731707318,0.805439024390244,0.8073902439024391,0.8097804878048781,0.8113658536585366,0.8134390243902438,0.8153658536585365,0.8166341463414634,0.8188536585365853,0.8204390243902439,0.8218048780487804,0.8233414634146341,0.824780487804878,0.8262926829268292,0.8272926829268292,0.8286097560975609,0.8298536585365853,0.8308048780487804,0.8323170731707317,0.8336341463414634,0.8345609756097561,0.8355853658536585,0.8364390243902439,0.8374878048780487,0.8385609756097561,0.8399756097560975,0.8411463414634146,0.8422195121951219,0.8431463414634146,0.844,0.8450731707317073,0.8456341463414634,0.8464390243902439,0.8475853658536585,0.8481951219512195,0.8488048780487805,0.8493658536585366,0.8501219512195122,0.8507073170731707,0.8514390243902439,0.8521463414634146,0.853,0.8539268292682927,0.8545121951219512,0.8552195121951219,0.8556829268292683,0.8562926829268293],\"yaxis\":\"y\",\"type\":\"scattergl\"},{\"hovertemplate\":\"variable=0.45<br>index=%{x}<br>value=%{y}<extra></extra>\",\"legendgroup\":\"0.45\",\"line\":{\"color\":\"#B6E880\",\"dash\":\"solid\"},\"marker\":{\"symbol\":\"circle\"},\"mode\":\"lines\",\"name\":\"0.45\",\"showlegend\":true,\"x\":[0,1,2,3,4,5,6,7,8,9,10,11,12,13,14,15,16,17,18,19,20,21,22,23,24,25,26,27,28,29,30,31,32,33,34,35,36,37,38,39,40,41,42,43,44,45,46,47,48,49,50,51,52,53,54,55,56,57,58,59,60,61,62,63,64,65,66,67,68,69,70,71,72,73,74,75,76,77,78,79,80,81,82,83,84,85,86,87,88,89,90,91,92,93,94,95,96,97,98,99],\"xaxis\":\"x\",\"y\":[0.0755609756097561,0.15663414634146341,0.21746341463414634,0.28409756097560973,0.3157560975609756,0.34709756097560973,0.3762439024390244,0.4048048780487805,0.4299512195121951,0.45326829268292684,0.4748780487804878,0.49570731707317073,0.5145365853658537,0.5324878048780488,0.5498780487804878,0.5676585365853658,0.5849756097560975,0.6043658536585366,0.6239512195121951,0.6402682926829268,0.6558536585365854,0.6707317073170732,0.6831951219512196,0.6944878048780487,0.7059512195121951,0.7157073170731707,0.7246829268292683,0.7334146341463414,0.7394878048780488,0.7466341463414634,0.7534390243902439,0.7587804878048781,0.7639756097560976,0.7681707317073171,0.7722926829268293,0.7762439024390244,0.7809512195121951,0.7850487804878049,0.7884878048780488,0.7920975609756098,0.7955121951219513,0.7986341463414635,0.8011219512195122,0.8043902439024391,0.806829268292683,0.809,0.8115121951219513,0.8142439024390243,0.8168292682926829,0.8193414634146341,0.8210243902439024,0.822780487804878,0.8247560975609756,0.8262682926829268,0.8276341463414634,0.8293414634146341,0.8312195121951219,0.8331219512195122,0.8348292682926829,0.8366341463414634,0.8381219512195122,0.839390243902439,0.8412926829268292,0.8431463414634146,0.8443170731707317,0.8459512195121951,0.8478048780487805,0.849,0.8501219512195122,0.8512926829268292,0.8522195121951219,0.8529512195121951,0.8541463414634146,0.8553414634146341,0.8564878048780488,0.857390243902439,0.8582926829268293,0.8592439024390244,0.8600975609756097,0.8609268292682927,0.8617560975609756,0.8626829268292683,0.8637317073170732,0.8646585365853658,0.865609756097561,0.8665121951219512,0.8674146341463415,0.8680975609756097,0.8688292682926829,0.8697073170731707,0.8704390243902439,0.8710243902439024,0.8717073170731707,0.8724390243902439,0.8730975609756098,0.874,0.8746341463414634,0.8750487804878049,0.8757073170731707,0.876390243902439],\"yaxis\":\"y\",\"type\":\"scattergl\"},{\"hovertemplate\":\"variable=0.50<br>index=%{x}<br>value=%{y}<extra></extra>\",\"legendgroup\":\"0.50\",\"line\":{\"color\":\"#FF97FF\",\"dash\":\"solid\"},\"marker\":{\"symbol\":\"circle\"},\"mode\":\"lines\",\"name\":\"0.50\",\"showlegend\":true,\"x\":[0,1,2,3,4,5,6,7,8,9,10,11,12,13,14,15,16,17,18,19,20,21,22,23,24,25,26,27,28,29,30,31,32,33,34,35,36,37,38,39,40,41,42,43,44,45,46,47,48,49,50,51,52,53,54,55,56,57,58,59,60,61,62,63,64,65,66,67,68,69,70,71,72,73,74,75,76,77,78,79,80,81,82,83,84,85,86,87,88,89,90,91,92,93,94,95,96,97,98,99],\"xaxis\":\"x\",\"y\":[0.11090243902439025,0.1769512195121951,0.26578048780487806,0.3793658536585366,0.4333658536585366,0.4922439024390244,0.5493658536585366,0.5959268292682927,0.6326585365853659,0.6602682926829269,0.683,0.701390243902439,0.7163414634146341,0.7286829268292683,0.7391951219512195,0.7491707317073171,0.7578780487804878,0.7655609756097561,0.772829268292683,0.7786585365853659,0.7850731707317073,0.7896585365853659,0.7946829268292683,0.7993658536585366,0.8040487804878049,0.8075609756097561,0.8106829268292683,0.8142439024390243,0.8169756097560975,0.8196585365853658,0.8224146341463414,0.8251951219512195,0.8281951219512195,0.8299024390243902,0.8327317073170731,0.834,0.8366097560975609,0.8385365853658536,0.8400243902439024,0.8420487804878048,0.8431219512195122,0.8447317073170731,0.846170731707317,0.8474390243902439,0.8481463414634146,0.8492195121951219,0.850609756097561,0.8488780487804878,0.8494146341463414,0.8461463414634146,0.8452926829268292,0.8378780487804878,0.836,0.8240731707317073,0.8264390243902439,0.820170731707317,0.8332682926829268,0.8359268292682926,0.8519024390243902,0.8549268292682927,0.8624146341463415,0.8638780487804878,0.8675609756097561,0.8680243902439024,0.870219512195122,0.8704878048780488,0.8723170731707317,0.8725609756097561,0.8745365853658537,0.8744634146341463,0.8760731707317073,0.8759756097560976,0.8771707317073171,0.8777560975609756,0.878780487804878,0.8790731707317073,0.8799024390243902,0.8807317073170732,0.8811463414634146,0.8817560975609756,0.8821463414634146,0.8829512195121951,0.8831219512195122,0.8838780487804878,0.8841463414634146,0.8849512195121951,0.8851463414634146,0.8859756097560976,0.8863658536585366,0.8870243902439024,0.8873414634146342,0.8880975609756098,0.8884390243902439,0.8891219512195122,0.8893170731707317,0.8901707317073171,0.8901463414634146,0.8909512195121951,0.8909756097560976,0.891609756097561],\"yaxis\":\"y\",\"type\":\"scattergl\"},{\"hovertemplate\":\"variable=0.55<br>index=%{x}<br>value=%{y}<extra></extra>\",\"legendgroup\":\"0.55\",\"line\":{\"color\":\"#FECB52\",\"dash\":\"solid\"},\"marker\":{\"symbol\":\"circle\"},\"mode\":\"lines\",\"name\":\"0.55\",\"showlegend\":true,\"x\":[0,1,2,3,4,5,6,7,8,9,10,11,12,13,14,15,16,17,18,19,20,21,22,23,24,25,26,27,28,29,30,31,32,33,34,35,36,37,38,39,40,41,42,43,44,45,46,47,48,49,50,51,52,53,54,55,56,57,58,59,60,61,62,63,64,65,66,67,68,69,70,71,72,73,74,75,76,77,78,79,80,81,82,83,84,85,86,87,88,89,90,91,92,93,94,95,96,97,98,99],\"xaxis\":\"x\",\"y\":[0.09609756097560976,0.2878292682926829,0.2348292682926829,0.2981219512195122,0.3344390243902439,0.36873170731707317,0.4027317073170732,0.4329512195121951,0.45539024390243904,0.47673170731707315,0.49785365853658536,0.5161463414634146,0.532219512195122,0.5463170731707317,0.5593658536585366,0.5724878048780487,0.5835853658536585,0.5939268292682927,0.603390243902439,0.6125121951219512,0.620780487804878,0.6286585365853659,0.6370975609756098,0.6454878048780488,0.653219512195122,0.6603170731707317,0.6654634146341464,0.6718048780487805,0.6771951219512196,0.6831463414634147,0.6888536585365853,0.6941463414634146,0.6986341463414634,0.7049024390243902,0.7130975609756097,0.7254146341463414,0.7424146341463415,0.7530731707317073,0.7604146341463415,0.7683658536585366,0.7741707317073171,0.7789756097560976,0.7839268292682927,0.7889512195121952,0.7932926829268293,0.7973658536585366,0.801,0.8050487804878049,0.8082439024390244,0.8114634146341464,0.8143170731707317,0.8177317073170731,0.8204634146341463,0.8237073170731707,0.826390243902439,0.8287317073170731,0.8313658536585365,0.8333658536585365,0.8354878048780487,0.8373170731707317,0.8394634146341463,0.8413170731707317,0.8429024390243902,0.8448780487804878,0.8466585365853658,0.8482195121951219,0.8492439024390244,0.8504878048780488,0.8521219512195122,0.8532926829268292,0.8542926829268292,0.8552195121951219,0.8561951219512195,0.8574878048780488,0.858609756097561,0.8597317073170732,0.8606829268292683,0.8616585365853658,0.8627560975609756,0.863609756097561,0.8643658536585366,0.865,0.8659512195121951,0.8669024390243902,0.8677073170731707,0.8684634146341463,0.8688048780487805,0.8698048780487805,0.8704390243902439,0.8711219512195122,0.8719756097560976,0.8727073170731707,0.8733414634146341,0.8740975609756098,0.8747317073170732,0.875390243902439,0.8761707317073171,0.8767317073170732,0.8772682926829268,0.878],\"yaxis\":\"y\",\"type\":\"scattergl\"},{\"hovertemplate\":\"variable=0.60<br>index=%{x}<br>value=%{y}<extra></extra>\",\"legendgroup\":\"0.60\",\"line\":{\"color\":\"#636efa\",\"dash\":\"solid\"},\"marker\":{\"symbol\":\"circle\"},\"mode\":\"lines\",\"name\":\"0.60\",\"showlegend\":true,\"x\":[0,1,2,3,4,5,6,7,8,9,10,11,12,13,14,15,16,17,18,19,20,21,22,23,24,25,26,27,28,29,30,31,32,33,34,35,36,37,38,39,40,41,42,43,44,45,46,47,48,49,50,51,52,53,54,55,56,57,58,59,60,61,62,63,64,65,66,67,68,69,70,71,72,73,74,75,76,77,78,79,80,81,82,83,84,85,86,87,88,89,90,91,92,93,94,95,96,97,98,99],\"xaxis\":\"x\",\"y\":[0.0873170731707317,0.19092682926829269,0.22702439024390245,0.24148780487804877,0.2860243902439024,0.32770731707317075,0.3686341463414634,0.40390243902439027,0.4389512195121951,0.47409756097560973,0.5066341463414634,0.5375853658536586,0.5713414634146341,0.6039268292682927,0.633,0.6534146341463415,0.6717804878048781,0.6882195121951219,0.7046829268292683,0.7188292682926829,0.7296585365853658,0.7405853658536585,0.749219512195122,0.7573170731707317,0.7639024390243903,0.7705121951219512,0.7758048780487805,0.7808780487804878,0.7854390243902439,0.7893902439024391,0.7930731707317074,0.7969024390243903,0.8009268292682927,0.8041951219512196,0.8072439024390244,0.810439024390244,0.8126097560975609,0.8146585365853658,0.8167317073170731,0.8168292682926829,0.810609756097561,0.7935365853658537,0.7419268292682927,0.7383170731707317,0.7497073170731707,0.8173414634146341,0.826,0.8302439024390244,0.8338292682926829,0.8356097560975609,0.8387073170731707,0.8397560975609756,0.842780487804878,0.8434390243902439,0.8457317073170731,0.8462439024390244,0.8488536585365853,0.8481219512195122,0.8507560975609756,0.850170731707317,0.8523170731707317,0.8512926829268292,0.8534390243902439,0.8518536585365853,0.8520975609756097,0.8510731707317073,0.8511951219512195,0.8506341463414634,0.8502926829268292,0.8513414634146341,0.8523170731707317,0.8540975609756097,0.8565609756097561,0.8589024390243902,0.8619512195121951,0.8629268292682927,0.866,0.8658048780487805,0.8684390243902439,0.8675853658536585,0.8698048780487805,0.869,0.8705853658536585,0.8698780487804878,0.8709268292682927,0.8700975609756098,0.8711463414634146,0.8698048780487805,0.8713170731707317,0.8703414634146341,0.8727073170731707,0.8718048780487805,0.8743170731707317,0.8741951219512195,0.8768292682926829,0.8768536585365854,0.8790975609756098,0.8800731707317073,0.882,0.8820975609756098],\"yaxis\":\"y\",\"type\":\"scattergl\"},{\"hovertemplate\":\"variable=0.65<br>index=%{x}<br>value=%{y}<extra></extra>\",\"legendgroup\":\"0.65\",\"line\":{\"color\":\"#EF553B\",\"dash\":\"solid\"},\"marker\":{\"symbol\":\"circle\"},\"mode\":\"lines\",\"name\":\"0.65\",\"showlegend\":true,\"x\":[0,1,2,3,4,5,6,7,8,9,10,11,12,13,14,15,16,17,18,19,20,21,22,23,24,25,26,27,28,29,30,31,32,33,34,35,36,37,38,39,40,41,42,43,44,45,46,47,48,49,50,51,52,53,54,55,56,57,58,59,60,61,62,63,64,65,66,67,68,69,70,71,72,73,74,75,76,77,78,79,80,81,82,83,84,85,86,87,88,89,90,91,92,93,94,95,96,97,98,99],\"xaxis\":\"x\",\"y\":[0.11363414634146342,0.18526829268292683,0.22714634146341464,0.21434146341463414,0.26626829268292684,0.3232926829268293,0.37753658536585366,0.42009756097560974,0.4538536585365854,0.4838780487804878,0.509609756097561,0.5325609756097561,0.5537073170731708,0.5739512195121951,0.5924634146341463,0.6096829268292683,0.6288048780487805,0.6465609756097561,0.6625121951219513,0.6761951219512196,0.6915853658536585,0.7049756097560975,0.7178780487804878,0.7286829268292683,0.7390731707317073,0.7481707317073171,0.7563658536585366,0.7645853658536585,0.7714390243902439,0.7771951219512195,0.7833170731707317,0.7895121951219513,0.7944878048780488,0.7987317073170732,0.8034146341463415,0.8071463414634147,0.8110975609756098,0.8138780487804878,0.8177560975609756,0.8202682926829268,0.8239024390243902,0.8255853658536585,0.8292926829268292,0.8301951219512195,0.8331951219512195,0.8325121951219512,0.8358292682926829,0.8315121951219512,0.8298780487804878,0.8229024390243902,0.814560975609756,0.813,0.8097317073170732,0.8284390243902439,0.8369756097560975,0.8472195121951219,0.8524390243902439,0.8546585365853658,0.8577073170731707,0.8588292682926829,0.8610975609756097,0.8620487804878049,0.8640487804878049,0.8650731707317073,0.8665121951219512,0.8678536585365854,0.8683170731707317,0.8700243902439024,0.870390243902439,0.8722682926829268,0.8719268292682927,0.873780487804878,0.8734878048780488,0.8752926829268293,0.8745853658536585,0.8768292682926829,0.8762926829268293,0.8784878048780488,0.8780487804878049,0.8801219512195122,0.879219512195122,0.8815121951219512,0.8804146341463415,0.8829512195121951,0.8816829268292683,0.883609756097561,0.8822439024390244,0.8846585365853659,0.8826341463414634,0.8848292682926829,0.8825121951219512,0.8844390243902439,0.8821707317073171,0.8844390243902439,0.8820975609756098,0.8839268292682927,0.881609756097561,0.8836829268292683,0.882,0.8843414634146342],\"yaxis\":\"y\",\"type\":\"scattergl\"}],                        {\"template\":{\"data\":{\"bar\":[{\"error_x\":{\"color\":\"#2a3f5f\"},\"error_y\":{\"color\":\"#2a3f5f\"},\"marker\":{\"line\":{\"color\":\"#E5ECF6\",\"width\":0.5},\"pattern\":{\"fillmode\":\"overlay\",\"size\":10,\"solidity\":0.2}},\"type\":\"bar\"}],\"barpolar\":[{\"marker\":{\"line\":{\"color\":\"#E5ECF6\",\"width\":0.5},\"pattern\":{\"fillmode\":\"overlay\",\"size\":10,\"solidity\":0.2}},\"type\":\"barpolar\"}],\"carpet\":[{\"aaxis\":{\"endlinecolor\":\"#2a3f5f\",\"gridcolor\":\"white\",\"linecolor\":\"white\",\"minorgridcolor\":\"white\",\"startlinecolor\":\"#2a3f5f\"},\"baxis\":{\"endlinecolor\":\"#2a3f5f\",\"gridcolor\":\"white\",\"linecolor\":\"white\",\"minorgridcolor\":\"white\",\"startlinecolor\":\"#2a3f5f\"},\"type\":\"carpet\"}],\"choropleth\":[{\"colorbar\":{\"outlinewidth\":0,\"ticks\":\"\"},\"type\":\"choropleth\"}],\"contour\":[{\"colorbar\":{\"outlinewidth\":0,\"ticks\":\"\"},\"colorscale\":[[0.0,\"#0d0887\"],[0.1111111111111111,\"#46039f\"],[0.2222222222222222,\"#7201a8\"],[0.3333333333333333,\"#9c179e\"],[0.4444444444444444,\"#bd3786\"],[0.5555555555555556,\"#d8576b\"],[0.6666666666666666,\"#ed7953\"],[0.7777777777777778,\"#fb9f3a\"],[0.8888888888888888,\"#fdca26\"],[1.0,\"#f0f921\"]],\"type\":\"contour\"}],\"contourcarpet\":[{\"colorbar\":{\"outlinewidth\":0,\"ticks\":\"\"},\"type\":\"contourcarpet\"}],\"heatmap\":[{\"colorbar\":{\"outlinewidth\":0,\"ticks\":\"\"},\"colorscale\":[[0.0,\"#0d0887\"],[0.1111111111111111,\"#46039f\"],[0.2222222222222222,\"#7201a8\"],[0.3333333333333333,\"#9c179e\"],[0.4444444444444444,\"#bd3786\"],[0.5555555555555556,\"#d8576b\"],[0.6666666666666666,\"#ed7953\"],[0.7777777777777778,\"#fb9f3a\"],[0.8888888888888888,\"#fdca26\"],[1.0,\"#f0f921\"]],\"type\":\"heatmap\"}],\"heatmapgl\":[{\"colorbar\":{\"outlinewidth\":0,\"ticks\":\"\"},\"colorscale\":[[0.0,\"#0d0887\"],[0.1111111111111111,\"#46039f\"],[0.2222222222222222,\"#7201a8\"],[0.3333333333333333,\"#9c179e\"],[0.4444444444444444,\"#bd3786\"],[0.5555555555555556,\"#d8576b\"],[0.6666666666666666,\"#ed7953\"],[0.7777777777777778,\"#fb9f3a\"],[0.8888888888888888,\"#fdca26\"],[1.0,\"#f0f921\"]],\"type\":\"heatmapgl\"}],\"histogram\":[{\"marker\":{\"pattern\":{\"fillmode\":\"overlay\",\"size\":10,\"solidity\":0.2}},\"type\":\"histogram\"}],\"histogram2d\":[{\"colorbar\":{\"outlinewidth\":0,\"ticks\":\"\"},\"colorscale\":[[0.0,\"#0d0887\"],[0.1111111111111111,\"#46039f\"],[0.2222222222222222,\"#7201a8\"],[0.3333333333333333,\"#9c179e\"],[0.4444444444444444,\"#bd3786\"],[0.5555555555555556,\"#d8576b\"],[0.6666666666666666,\"#ed7953\"],[0.7777777777777778,\"#fb9f3a\"],[0.8888888888888888,\"#fdca26\"],[1.0,\"#f0f921\"]],\"type\":\"histogram2d\"}],\"histogram2dcontour\":[{\"colorbar\":{\"outlinewidth\":0,\"ticks\":\"\"},\"colorscale\":[[0.0,\"#0d0887\"],[0.1111111111111111,\"#46039f\"],[0.2222222222222222,\"#7201a8\"],[0.3333333333333333,\"#9c179e\"],[0.4444444444444444,\"#bd3786\"],[0.5555555555555556,\"#d8576b\"],[0.6666666666666666,\"#ed7953\"],[0.7777777777777778,\"#fb9f3a\"],[0.8888888888888888,\"#fdca26\"],[1.0,\"#f0f921\"]],\"type\":\"histogram2dcontour\"}],\"mesh3d\":[{\"colorbar\":{\"outlinewidth\":0,\"ticks\":\"\"},\"type\":\"mesh3d\"}],\"parcoords\":[{\"line\":{\"colorbar\":{\"outlinewidth\":0,\"ticks\":\"\"}},\"type\":\"parcoords\"}],\"pie\":[{\"automargin\":true,\"type\":\"pie\"}],\"scatter\":[{\"marker\":{\"colorbar\":{\"outlinewidth\":0,\"ticks\":\"\"}},\"type\":\"scatter\"}],\"scatter3d\":[{\"line\":{\"colorbar\":{\"outlinewidth\":0,\"ticks\":\"\"}},\"marker\":{\"colorbar\":{\"outlinewidth\":0,\"ticks\":\"\"}},\"type\":\"scatter3d\"}],\"scattercarpet\":[{\"marker\":{\"colorbar\":{\"outlinewidth\":0,\"ticks\":\"\"}},\"type\":\"scattercarpet\"}],\"scattergeo\":[{\"marker\":{\"colorbar\":{\"outlinewidth\":0,\"ticks\":\"\"}},\"type\":\"scattergeo\"}],\"scattergl\":[{\"marker\":{\"colorbar\":{\"outlinewidth\":0,\"ticks\":\"\"}},\"type\":\"scattergl\"}],\"scattermapbox\":[{\"marker\":{\"colorbar\":{\"outlinewidth\":0,\"ticks\":\"\"}},\"type\":\"scattermapbox\"}],\"scatterpolar\":[{\"marker\":{\"colorbar\":{\"outlinewidth\":0,\"ticks\":\"\"}},\"type\":\"scatterpolar\"}],\"scatterpolargl\":[{\"marker\":{\"colorbar\":{\"outlinewidth\":0,\"ticks\":\"\"}},\"type\":\"scatterpolargl\"}],\"scatterternary\":[{\"marker\":{\"colorbar\":{\"outlinewidth\":0,\"ticks\":\"\"}},\"type\":\"scatterternary\"}],\"surface\":[{\"colorbar\":{\"outlinewidth\":0,\"ticks\":\"\"},\"colorscale\":[[0.0,\"#0d0887\"],[0.1111111111111111,\"#46039f\"],[0.2222222222222222,\"#7201a8\"],[0.3333333333333333,\"#9c179e\"],[0.4444444444444444,\"#bd3786\"],[0.5555555555555556,\"#d8576b\"],[0.6666666666666666,\"#ed7953\"],[0.7777777777777778,\"#fb9f3a\"],[0.8888888888888888,\"#fdca26\"],[1.0,\"#f0f921\"]],\"type\":\"surface\"}],\"table\":[{\"cells\":{\"fill\":{\"color\":\"#EBF0F8\"},\"line\":{\"color\":\"white\"}},\"header\":{\"fill\":{\"color\":\"#C8D4E3\"},\"line\":{\"color\":\"white\"}},\"type\":\"table\"}]},\"layout\":{\"annotationdefaults\":{\"arrowcolor\":\"#2a3f5f\",\"arrowhead\":0,\"arrowwidth\":1},\"autotypenumbers\":\"strict\",\"coloraxis\":{\"colorbar\":{\"outlinewidth\":0,\"ticks\":\"\"}},\"colorscale\":{\"diverging\":[[0,\"#8e0152\"],[0.1,\"#c51b7d\"],[0.2,\"#de77ae\"],[0.3,\"#f1b6da\"],[0.4,\"#fde0ef\"],[0.5,\"#f7f7f7\"],[0.6,\"#e6f5d0\"],[0.7,\"#b8e186\"],[0.8,\"#7fbc41\"],[0.9,\"#4d9221\"],[1,\"#276419\"]],\"sequential\":[[0.0,\"#0d0887\"],[0.1111111111111111,\"#46039f\"],[0.2222222222222222,\"#7201a8\"],[0.3333333333333333,\"#9c179e\"],[0.4444444444444444,\"#bd3786\"],[0.5555555555555556,\"#d8576b\"],[0.6666666666666666,\"#ed7953\"],[0.7777777777777778,\"#fb9f3a\"],[0.8888888888888888,\"#fdca26\"],[1.0,\"#f0f921\"]],\"sequentialminus\":[[0.0,\"#0d0887\"],[0.1111111111111111,\"#46039f\"],[0.2222222222222222,\"#7201a8\"],[0.3333333333333333,\"#9c179e\"],[0.4444444444444444,\"#bd3786\"],[0.5555555555555556,\"#d8576b\"],[0.6666666666666666,\"#ed7953\"],[0.7777777777777778,\"#fb9f3a\"],[0.8888888888888888,\"#fdca26\"],[1.0,\"#f0f921\"]]},\"colorway\":[\"#636efa\",\"#EF553B\",\"#00cc96\",\"#ab63fa\",\"#FFA15A\",\"#19d3f3\",\"#FF6692\",\"#B6E880\",\"#FF97FF\",\"#FECB52\"],\"font\":{\"color\":\"#2a3f5f\"},\"geo\":{\"bgcolor\":\"white\",\"lakecolor\":\"white\",\"landcolor\":\"#E5ECF6\",\"showlakes\":true,\"showland\":true,\"subunitcolor\":\"white\"},\"hoverlabel\":{\"align\":\"left\"},\"hovermode\":\"closest\",\"mapbox\":{\"style\":\"light\"},\"paper_bgcolor\":\"white\",\"plot_bgcolor\":\"#E5ECF6\",\"polar\":{\"angularaxis\":{\"gridcolor\":\"white\",\"linecolor\":\"white\",\"ticks\":\"\"},\"bgcolor\":\"#E5ECF6\",\"radialaxis\":{\"gridcolor\":\"white\",\"linecolor\":\"white\",\"ticks\":\"\"}},\"scene\":{\"xaxis\":{\"backgroundcolor\":\"#E5ECF6\",\"gridcolor\":\"white\",\"gridwidth\":2,\"linecolor\":\"white\",\"showbackground\":true,\"ticks\":\"\",\"zerolinecolor\":\"white\"},\"yaxis\":{\"backgroundcolor\":\"#E5ECF6\",\"gridcolor\":\"white\",\"gridwidth\":2,\"linecolor\":\"white\",\"showbackground\":true,\"ticks\":\"\",\"zerolinecolor\":\"white\"},\"zaxis\":{\"backgroundcolor\":\"#E5ECF6\",\"gridcolor\":\"white\",\"gridwidth\":2,\"linecolor\":\"white\",\"showbackground\":true,\"ticks\":\"\",\"zerolinecolor\":\"white\"}},\"shapedefaults\":{\"line\":{\"color\":\"#2a3f5f\"}},\"ternary\":{\"aaxis\":{\"gridcolor\":\"white\",\"linecolor\":\"white\",\"ticks\":\"\"},\"baxis\":{\"gridcolor\":\"white\",\"linecolor\":\"white\",\"ticks\":\"\"},\"bgcolor\":\"#E5ECF6\",\"caxis\":{\"gridcolor\":\"white\",\"linecolor\":\"white\",\"ticks\":\"\"}},\"title\":{\"x\":0.05},\"xaxis\":{\"automargin\":true,\"gridcolor\":\"white\",\"linecolor\":\"white\",\"ticks\":\"\",\"title\":{\"standoff\":15},\"zerolinecolor\":\"white\",\"zerolinewidth\":2},\"yaxis\":{\"automargin\":true,\"gridcolor\":\"white\",\"linecolor\":\"white\",\"ticks\":\"\",\"title\":{\"standoff\":15},\"zerolinecolor\":\"white\",\"zerolinewidth\":2}}},\"xaxis\":{\"anchor\":\"y\",\"domain\":[0.0,1.0],\"title\":{\"text\":\"index\"}},\"yaxis\":{\"anchor\":\"x\",\"domain\":[0.0,1.0],\"title\":{\"text\":\"value\"}},\"legend\":{\"title\":{\"text\":\"variable\"},\"tracegroupgap\":0},\"margin\":{\"t\":60}},                        {\"responsive\": true}                    ).then(function(){\n",
       "                            \n",
       "var gd = document.getElementById('29645a8b-9d03-4419-91fe-3e0b5dad8b70');\n",
       "var x = new MutationObserver(function (mutations, observer) {{\n",
       "        var display = window.getComputedStyle(gd).display;\n",
       "        if (!display || display === 'none') {{\n",
       "            console.log([gd, 'removed!']);\n",
       "            Plotly.purge(gd);\n",
       "            observer.disconnect();\n",
       "        }}\n",
       "}});\n",
       "\n",
       "// Listen for the removal of the full notebook cells\n",
       "var notebookContainer = gd.closest('#notebook-container');\n",
       "if (notebookContainer) {{\n",
       "    x.observe(notebookContainer, {childList: true});\n",
       "}}\n",
       "\n",
       "// Listen for the clearing of the current output cell\n",
       "var outputEl = gd.closest('.output');\n",
       "if (outputEl) {{\n",
       "    x.observe(outputEl, {childList: true});\n",
       "}}\n",
       "\n",
       "                        })                };                });            </script>        </div>"
      ]
     },
     "metadata": {},
     "output_type": "display_data"
    }
   ],
   "source": [
    "fig = px.line(df.iloc[0:101], y=['0.10', '0.15','0.20', '0.25','0.30', '0.35', '0.40', '0.45' ,'0.50','0.55','0.60','0.65'])\n",
    "fig.show()"
   ]
  },
  {
   "cell_type": "code",
   "execution_count": 33,
   "id": "7cac5ada",
   "metadata": {},
   "outputs": [
    {
     "data": {
      "application/vnd.plotly.v1+json": {
       "config": {
        "plotlyServerURL": "https://plot.ly"
       },
       "data": [
        {
         "hovertemplate": "variable=0.10<br>index=%{x}<br>value=%{y}<extra></extra>",
         "legendgroup": "0.10",
         "line": {
          "color": "#636efa",
          "dash": "solid"
         },
         "marker": {
          "symbol": "circle"
         },
         "mode": "lines",
         "name": "0.10",
         "orientation": "v",
         "showlegend": true,
         "type": "scatter",
         "x": [
          75,
          76,
          77,
          78,
          79,
          80,
          81,
          82,
          83,
          84,
          85,
          86,
          87,
          88,
          89,
          90,
          91,
          92,
          93,
          94,
          95,
          96,
          97,
          98
         ],
         "xaxis": "x",
         "y": [
          0.7877560975609756,
          0.7886585365853659,
          0.7902439024390244,
          0.7914634146341464,
          0.7924390243902439,
          0.7934146341463415,
          0.7942439024390244,
          0.7953902439024391,
          0.7962926829268293,
          0.7973658536585366,
          0.798439024390244,
          0.7992439024390244,
          0.8002926829268293,
          0.8013658536585366,
          0.8023170731707318,
          0.8033170731707318,
          0.804439024390244,
          0.8057804878048781,
          0.806439024390244,
          0.8073658536585366,
          0.8082682926829269,
          0.8090487804878049,
          0.8100487804878049,
          0.811
         ],
         "yaxis": "y"
        },
        {
         "hovertemplate": "variable=0.15<br>index=%{x}<br>value=%{y}<extra></extra>",
         "legendgroup": "0.15",
         "line": {
          "color": "#EF553B",
          "dash": "solid"
         },
         "marker": {
          "symbol": "circle"
         },
         "mode": "lines",
         "name": "0.15",
         "orientation": "v",
         "showlegend": true,
         "type": "scatter",
         "x": [
          75,
          76,
          77,
          78,
          79,
          80,
          81,
          82,
          83,
          84,
          85,
          86,
          87,
          88,
          89,
          90,
          91,
          92,
          93,
          94,
          95,
          96,
          97,
          98
         ],
         "xaxis": "x",
         "y": [
          0.8091219512195122,
          0.8100975609756098,
          0.8115121951219513,
          0.8124634146341464,
          0.8133414634146341,
          0.8142439024390243,
          0.8150487804878048,
          0.8160487804878048,
          0.8168292682926829,
          0.8179268292682926,
          0.819,
          0.8198292682926829,
          0.8206585365853658,
          0.8215853658536585,
          0.8225121951219512,
          0.8234390243902439,
          0.8240487804878048,
          0.8249756097560975,
          0.8258048780487804,
          0.8267073170731707,
          0.827390243902439,
          0.8281463414634146,
          0.8287073170731707,
          0.8293658536585365
         ],
         "yaxis": "y"
        },
        {
         "hovertemplate": "variable=0.20<br>index=%{x}<br>value=%{y}<extra></extra>",
         "legendgroup": "0.20",
         "line": {
          "color": "#00cc96",
          "dash": "solid"
         },
         "marker": {
          "symbol": "circle"
         },
         "mode": "lines",
         "name": "0.20",
         "orientation": "v",
         "showlegend": true,
         "type": "scatter",
         "x": [
          75,
          76,
          77,
          78,
          79,
          80,
          81,
          82,
          83,
          84,
          85,
          86,
          87,
          88,
          89,
          90,
          91,
          92,
          93,
          94,
          95,
          96,
          97,
          98
         ],
         "xaxis": "x",
         "y": [
          0.8437560975609756,
          0.8444390243902439,
          0.8453170731707317,
          0.8463658536585366,
          0.8472926829268292,
          0.8479512195121951,
          0.8489268292682927,
          0.8496585365853658,
          0.8503414634146341,
          0.851,
          0.851780487804878,
          0.8526341463414634,
          0.8534878048780488,
          0.8539756097560975,
          0.8547317073170732,
          0.8554878048780488,
          0.8560487804878049,
          0.8564390243902439,
          0.8569756097560975,
          0.8574390243902439,
          0.8580243902439024,
          0.8586829268292683,
          0.8594390243902439,
          0.8600731707317073
         ],
         "yaxis": "y"
        },
        {
         "hovertemplate": "variable=0.25<br>index=%{x}<br>value=%{y}<extra></extra>",
         "legendgroup": "0.25",
         "line": {
          "color": "#ab63fa",
          "dash": "solid"
         },
         "marker": {
          "symbol": "circle"
         },
         "mode": "lines",
         "name": "0.25",
         "orientation": "v",
         "showlegend": true,
         "type": "scatter",
         "x": [
          75,
          76,
          77,
          78,
          79,
          80,
          81,
          82,
          83,
          84,
          85,
          86,
          87,
          88,
          89,
          90,
          91,
          92,
          93,
          94,
          95,
          96,
          97,
          98
         ],
         "xaxis": "x",
         "y": [
          0.829170731707317,
          0.8304146341463414,
          0.8316341463414634,
          0.8327317073170731,
          0.8336097560975609,
          0.8350243902439024,
          0.8361219512195122,
          0.837390243902439,
          0.8382926829268292,
          0.8393658536585366,
          0.8403414634146341,
          0.8412682926829268,
          0.8424390243902439,
          0.8432926829268292,
          0.8440487804878049,
          0.8452439024390244,
          0.8461951219512195,
          0.8470731707317073,
          0.8478292682926829,
          0.8485609756097561,
          0.8495853658536585,
          0.8505609756097561,
          0.8510975609756097,
          0.8517560975609756
         ],
         "yaxis": "y"
        },
        {
         "hovertemplate": "variable=0.30<br>index=%{x}<br>value=%{y}<extra></extra>",
         "legendgroup": "0.30",
         "line": {
          "color": "#FFA15A",
          "dash": "solid"
         },
         "marker": {
          "symbol": "circle"
         },
         "mode": "lines",
         "name": "0.30",
         "orientation": "v",
         "showlegend": true,
         "type": "scatter",
         "x": [
          75,
          76,
          77,
          78,
          79,
          80,
          81,
          82,
          83,
          84,
          85,
          86,
          87,
          88,
          89,
          90,
          91,
          92,
          93,
          94,
          95,
          96,
          97,
          98
         ],
         "xaxis": "x",
         "y": [
          0.8427560975609756,
          0.8437073170731707,
          0.8447317073170731,
          0.8456585365853658,
          0.8465853658536585,
          0.8474390243902439,
          0.8484634146341463,
          0.8492439024390244,
          0.8500487804878049,
          0.8505365853658536,
          0.8512682926829268,
          0.8519756097560975,
          0.8527560975609756,
          0.8534878048780488,
          0.8543658536585366,
          0.8551707317073171,
          0.8558292682926829,
          0.8565365853658536,
          0.8571707317073171,
          0.8578292682926829,
          0.8585121951219512,
          0.8593170731707317,
          0.8599024390243902,
          0.860390243902439
         ],
         "yaxis": "y"
        },
        {
         "hovertemplate": "variable=0.35<br>index=%{x}<br>value=%{y}<extra></extra>",
         "legendgroup": "0.35",
         "line": {
          "color": "#19d3f3",
          "dash": "solid"
         },
         "marker": {
          "symbol": "circle"
         },
         "mode": "lines",
         "name": "0.35",
         "orientation": "v",
         "showlegend": true,
         "type": "scatter",
         "x": [
          75,
          76,
          77,
          78,
          79,
          80,
          81,
          82,
          83,
          84,
          85,
          86,
          87,
          88,
          89,
          90,
          91,
          92,
          93,
          94,
          95,
          96,
          97,
          98
         ],
         "xaxis": "x",
         "y": [
          0.8578536585365854,
          0.8588048780487805,
          0.859780487804878,
          0.8608048780487805,
          0.8615853658536585,
          0.8623658536585366,
          0.8633658536585366,
          0.8641219512195122,
          0.8649756097560976,
          0.8657560975609756,
          0.8666341463414634,
          0.8671707317073171,
          0.8679024390243902,
          0.8686341463414634,
          0.8691463414634146,
          0.8698536585365854,
          0.8705121951219512,
          0.8711463414634146,
          0.871780487804878,
          0.8724634146341463,
          0.8730731707317073,
          0.8734878048780488,
          0.8739512195121951,
          0.8742682926829268
         ],
         "yaxis": "y"
        },
        {
         "hovertemplate": "variable=0.40<br>index=%{x}<br>value=%{y}<extra></extra>",
         "legendgroup": "0.40",
         "line": {
          "color": "#FF6692",
          "dash": "solid"
         },
         "marker": {
          "symbol": "circle"
         },
         "mode": "lines",
         "name": "0.40",
         "orientation": "v",
         "showlegend": true,
         "type": "scatter",
         "x": [
          75,
          76,
          77,
          78,
          79,
          80,
          81,
          82,
          83,
          84,
          85,
          86,
          87,
          88,
          89,
          90,
          91,
          92,
          93,
          94,
          95,
          96,
          97,
          98
         ],
         "xaxis": "x",
         "y": [
          0.8364390243902439,
          0.8374878048780487,
          0.8385609756097561,
          0.8399756097560975,
          0.8411463414634146,
          0.8422195121951219,
          0.8431463414634146,
          0.844,
          0.8450731707317073,
          0.8456341463414634,
          0.8464390243902439,
          0.8475853658536585,
          0.8481951219512195,
          0.8488048780487805,
          0.8493658536585366,
          0.8501219512195122,
          0.8507073170731707,
          0.8514390243902439,
          0.8521463414634146,
          0.853,
          0.8539268292682927,
          0.8545121951219512,
          0.8552195121951219,
          0.8556829268292683
         ],
         "yaxis": "y"
        },
        {
         "hovertemplate": "variable=0.45<br>index=%{x}<br>value=%{y}<extra></extra>",
         "legendgroup": "0.45",
         "line": {
          "color": "#B6E880",
          "dash": "solid"
         },
         "marker": {
          "symbol": "circle"
         },
         "mode": "lines",
         "name": "0.45",
         "orientation": "v",
         "showlegend": true,
         "type": "scatter",
         "x": [
          75,
          76,
          77,
          78,
          79,
          80,
          81,
          82,
          83,
          84,
          85,
          86,
          87,
          88,
          89,
          90,
          91,
          92,
          93,
          94,
          95,
          96,
          97,
          98
         ],
         "xaxis": "x",
         "y": [
          0.857390243902439,
          0.8582926829268293,
          0.8592439024390244,
          0.8600975609756097,
          0.8609268292682927,
          0.8617560975609756,
          0.8626829268292683,
          0.8637317073170732,
          0.8646585365853658,
          0.865609756097561,
          0.8665121951219512,
          0.8674146341463415,
          0.8680975609756097,
          0.8688292682926829,
          0.8697073170731707,
          0.8704390243902439,
          0.8710243902439024,
          0.8717073170731707,
          0.8724390243902439,
          0.8730975609756098,
          0.874,
          0.8746341463414634,
          0.8750487804878049,
          0.8757073170731707
         ],
         "yaxis": "y"
        },
        {
         "hovertemplate": "variable=0.50<br>index=%{x}<br>value=%{y}<extra></extra>",
         "legendgroup": "0.50",
         "line": {
          "color": "#FF97FF",
          "dash": "solid"
         },
         "marker": {
          "symbol": "circle"
         },
         "mode": "lines",
         "name": "0.50",
         "orientation": "v",
         "showlegend": true,
         "type": "scatter",
         "x": [
          75,
          76,
          77,
          78,
          79,
          80,
          81,
          82,
          83,
          84,
          85,
          86,
          87,
          88,
          89,
          90,
          91,
          92,
          93,
          94,
          95,
          96,
          97,
          98
         ],
         "xaxis": "x",
         "y": [
          0.8790731707317073,
          0.8799024390243902,
          0.8807317073170732,
          0.8811463414634146,
          0.8817560975609756,
          0.8821463414634146,
          0.8829512195121951,
          0.8831219512195122,
          0.8838780487804878,
          0.8841463414634146,
          0.8849512195121951,
          0.8851463414634146,
          0.8859756097560976,
          0.8863658536585366,
          0.8870243902439024,
          0.8873414634146342,
          0.8880975609756098,
          0.8884390243902439,
          0.8891219512195122,
          0.8893170731707317,
          0.8901707317073171,
          0.8901463414634146,
          0.8909512195121951,
          0.8909756097560976
         ],
         "yaxis": "y"
        },
        {
         "hovertemplate": "variable=0.55<br>index=%{x}<br>value=%{y}<extra></extra>",
         "legendgroup": "0.55",
         "line": {
          "color": "#FECB52",
          "dash": "solid"
         },
         "marker": {
          "symbol": "circle"
         },
         "mode": "lines",
         "name": "0.55",
         "orientation": "v",
         "showlegend": true,
         "type": "scatter",
         "x": [
          75,
          76,
          77,
          78,
          79,
          80,
          81,
          82,
          83,
          84,
          85,
          86,
          87,
          88,
          89,
          90,
          91,
          92,
          93,
          94,
          95,
          96,
          97,
          98
         ],
         "xaxis": "x",
         "y": [
          0.8597317073170732,
          0.8606829268292683,
          0.8616585365853658,
          0.8627560975609756,
          0.863609756097561,
          0.8643658536585366,
          0.865,
          0.8659512195121951,
          0.8669024390243902,
          0.8677073170731707,
          0.8684634146341463,
          0.8688048780487805,
          0.8698048780487805,
          0.8704390243902439,
          0.8711219512195122,
          0.8719756097560976,
          0.8727073170731707,
          0.8733414634146341,
          0.8740975609756098,
          0.8747317073170732,
          0.875390243902439,
          0.8761707317073171,
          0.8767317073170732,
          0.8772682926829268
         ],
         "yaxis": "y"
        },
        {
         "hovertemplate": "variable=0.60<br>index=%{x}<br>value=%{y}<extra></extra>",
         "legendgroup": "0.60",
         "line": {
          "color": "#636efa",
          "dash": "solid"
         },
         "marker": {
          "symbol": "circle"
         },
         "mode": "lines",
         "name": "0.60",
         "orientation": "v",
         "showlegend": true,
         "type": "scatter",
         "x": [
          75,
          76,
          77,
          78,
          79,
          80,
          81,
          82,
          83,
          84,
          85,
          86,
          87,
          88,
          89,
          90,
          91,
          92,
          93,
          94,
          95,
          96,
          97,
          98
         ],
         "xaxis": "x",
         "y": [
          0.8629268292682927,
          0.866,
          0.8658048780487805,
          0.8684390243902439,
          0.8675853658536585,
          0.8698048780487805,
          0.869,
          0.8705853658536585,
          0.8698780487804878,
          0.8709268292682927,
          0.8700975609756098,
          0.8711463414634146,
          0.8698048780487805,
          0.8713170731707317,
          0.8703414634146341,
          0.8727073170731707,
          0.8718048780487805,
          0.8743170731707317,
          0.8741951219512195,
          0.8768292682926829,
          0.8768536585365854,
          0.8790975609756098,
          0.8800731707317073,
          0.882
         ],
         "yaxis": "y"
        },
        {
         "hovertemplate": "variable=0.65<br>index=%{x}<br>value=%{y}<extra></extra>",
         "legendgroup": "0.65",
         "line": {
          "color": "#EF553B",
          "dash": "solid"
         },
         "marker": {
          "symbol": "circle"
         },
         "mode": "lines",
         "name": "0.65",
         "orientation": "v",
         "showlegend": true,
         "type": "scatter",
         "x": [
          75,
          76,
          77,
          78,
          79,
          80,
          81,
          82,
          83,
          84,
          85,
          86,
          87,
          88,
          89,
          90,
          91,
          92,
          93,
          94,
          95,
          96,
          97,
          98
         ],
         "xaxis": "x",
         "y": [
          0.8768292682926829,
          0.8762926829268293,
          0.8784878048780488,
          0.8780487804878049,
          0.8801219512195122,
          0.879219512195122,
          0.8815121951219512,
          0.8804146341463415,
          0.8829512195121951,
          0.8816829268292683,
          0.883609756097561,
          0.8822439024390244,
          0.8846585365853659,
          0.8826341463414634,
          0.8848292682926829,
          0.8825121951219512,
          0.8844390243902439,
          0.8821707317073171,
          0.8844390243902439,
          0.8820975609756098,
          0.8839268292682927,
          0.881609756097561,
          0.8836829268292683,
          0.882
         ],
         "yaxis": "y"
        }
       ],
       "layout": {
        "legend": {
         "title": {
          "text": "variable"
         },
         "tracegroupgap": 0
        },
        "margin": {
         "t": 60
        },
        "template": {
         "data": {
          "bar": [
           {
            "error_x": {
             "color": "#2a3f5f"
            },
            "error_y": {
             "color": "#2a3f5f"
            },
            "marker": {
             "line": {
              "color": "#E5ECF6",
              "width": 0.5
             },
             "pattern": {
              "fillmode": "overlay",
              "size": 10,
              "solidity": 0.2
             }
            },
            "type": "bar"
           }
          ],
          "barpolar": [
           {
            "marker": {
             "line": {
              "color": "#E5ECF6",
              "width": 0.5
             },
             "pattern": {
              "fillmode": "overlay",
              "size": 10,
              "solidity": 0.2
             }
            },
            "type": "barpolar"
           }
          ],
          "carpet": [
           {
            "aaxis": {
             "endlinecolor": "#2a3f5f",
             "gridcolor": "white",
             "linecolor": "white",
             "minorgridcolor": "white",
             "startlinecolor": "#2a3f5f"
            },
            "baxis": {
             "endlinecolor": "#2a3f5f",
             "gridcolor": "white",
             "linecolor": "white",
             "minorgridcolor": "white",
             "startlinecolor": "#2a3f5f"
            },
            "type": "carpet"
           }
          ],
          "choropleth": [
           {
            "colorbar": {
             "outlinewidth": 0,
             "ticks": ""
            },
            "type": "choropleth"
           }
          ],
          "contour": [
           {
            "colorbar": {
             "outlinewidth": 0,
             "ticks": ""
            },
            "colorscale": [
             [
              0,
              "#0d0887"
             ],
             [
              0.1111111111111111,
              "#46039f"
             ],
             [
              0.2222222222222222,
              "#7201a8"
             ],
             [
              0.3333333333333333,
              "#9c179e"
             ],
             [
              0.4444444444444444,
              "#bd3786"
             ],
             [
              0.5555555555555556,
              "#d8576b"
             ],
             [
              0.6666666666666666,
              "#ed7953"
             ],
             [
              0.7777777777777778,
              "#fb9f3a"
             ],
             [
              0.8888888888888888,
              "#fdca26"
             ],
             [
              1,
              "#f0f921"
             ]
            ],
            "type": "contour"
           }
          ],
          "contourcarpet": [
           {
            "colorbar": {
             "outlinewidth": 0,
             "ticks": ""
            },
            "type": "contourcarpet"
           }
          ],
          "heatmap": [
           {
            "colorbar": {
             "outlinewidth": 0,
             "ticks": ""
            },
            "colorscale": [
             [
              0,
              "#0d0887"
             ],
             [
              0.1111111111111111,
              "#46039f"
             ],
             [
              0.2222222222222222,
              "#7201a8"
             ],
             [
              0.3333333333333333,
              "#9c179e"
             ],
             [
              0.4444444444444444,
              "#bd3786"
             ],
             [
              0.5555555555555556,
              "#d8576b"
             ],
             [
              0.6666666666666666,
              "#ed7953"
             ],
             [
              0.7777777777777778,
              "#fb9f3a"
             ],
             [
              0.8888888888888888,
              "#fdca26"
             ],
             [
              1,
              "#f0f921"
             ]
            ],
            "type": "heatmap"
           }
          ],
          "heatmapgl": [
           {
            "colorbar": {
             "outlinewidth": 0,
             "ticks": ""
            },
            "colorscale": [
             [
              0,
              "#0d0887"
             ],
             [
              0.1111111111111111,
              "#46039f"
             ],
             [
              0.2222222222222222,
              "#7201a8"
             ],
             [
              0.3333333333333333,
              "#9c179e"
             ],
             [
              0.4444444444444444,
              "#bd3786"
             ],
             [
              0.5555555555555556,
              "#d8576b"
             ],
             [
              0.6666666666666666,
              "#ed7953"
             ],
             [
              0.7777777777777778,
              "#fb9f3a"
             ],
             [
              0.8888888888888888,
              "#fdca26"
             ],
             [
              1,
              "#f0f921"
             ]
            ],
            "type": "heatmapgl"
           }
          ],
          "histogram": [
           {
            "marker": {
             "pattern": {
              "fillmode": "overlay",
              "size": 10,
              "solidity": 0.2
             }
            },
            "type": "histogram"
           }
          ],
          "histogram2d": [
           {
            "colorbar": {
             "outlinewidth": 0,
             "ticks": ""
            },
            "colorscale": [
             [
              0,
              "#0d0887"
             ],
             [
              0.1111111111111111,
              "#46039f"
             ],
             [
              0.2222222222222222,
              "#7201a8"
             ],
             [
              0.3333333333333333,
              "#9c179e"
             ],
             [
              0.4444444444444444,
              "#bd3786"
             ],
             [
              0.5555555555555556,
              "#d8576b"
             ],
             [
              0.6666666666666666,
              "#ed7953"
             ],
             [
              0.7777777777777778,
              "#fb9f3a"
             ],
             [
              0.8888888888888888,
              "#fdca26"
             ],
             [
              1,
              "#f0f921"
             ]
            ],
            "type": "histogram2d"
           }
          ],
          "histogram2dcontour": [
           {
            "colorbar": {
             "outlinewidth": 0,
             "ticks": ""
            },
            "colorscale": [
             [
              0,
              "#0d0887"
             ],
             [
              0.1111111111111111,
              "#46039f"
             ],
             [
              0.2222222222222222,
              "#7201a8"
             ],
             [
              0.3333333333333333,
              "#9c179e"
             ],
             [
              0.4444444444444444,
              "#bd3786"
             ],
             [
              0.5555555555555556,
              "#d8576b"
             ],
             [
              0.6666666666666666,
              "#ed7953"
             ],
             [
              0.7777777777777778,
              "#fb9f3a"
             ],
             [
              0.8888888888888888,
              "#fdca26"
             ],
             [
              1,
              "#f0f921"
             ]
            ],
            "type": "histogram2dcontour"
           }
          ],
          "mesh3d": [
           {
            "colorbar": {
             "outlinewidth": 0,
             "ticks": ""
            },
            "type": "mesh3d"
           }
          ],
          "parcoords": [
           {
            "line": {
             "colorbar": {
              "outlinewidth": 0,
              "ticks": ""
             }
            },
            "type": "parcoords"
           }
          ],
          "pie": [
           {
            "automargin": true,
            "type": "pie"
           }
          ],
          "scatter": [
           {
            "marker": {
             "colorbar": {
              "outlinewidth": 0,
              "ticks": ""
             }
            },
            "type": "scatter"
           }
          ],
          "scatter3d": [
           {
            "line": {
             "colorbar": {
              "outlinewidth": 0,
              "ticks": ""
             }
            },
            "marker": {
             "colorbar": {
              "outlinewidth": 0,
              "ticks": ""
             }
            },
            "type": "scatter3d"
           }
          ],
          "scattercarpet": [
           {
            "marker": {
             "colorbar": {
              "outlinewidth": 0,
              "ticks": ""
             }
            },
            "type": "scattercarpet"
           }
          ],
          "scattergeo": [
           {
            "marker": {
             "colorbar": {
              "outlinewidth": 0,
              "ticks": ""
             }
            },
            "type": "scattergeo"
           }
          ],
          "scattergl": [
           {
            "marker": {
             "colorbar": {
              "outlinewidth": 0,
              "ticks": ""
             }
            },
            "type": "scattergl"
           }
          ],
          "scattermapbox": [
           {
            "marker": {
             "colorbar": {
              "outlinewidth": 0,
              "ticks": ""
             }
            },
            "type": "scattermapbox"
           }
          ],
          "scatterpolar": [
           {
            "marker": {
             "colorbar": {
              "outlinewidth": 0,
              "ticks": ""
             }
            },
            "type": "scatterpolar"
           }
          ],
          "scatterpolargl": [
           {
            "marker": {
             "colorbar": {
              "outlinewidth": 0,
              "ticks": ""
             }
            },
            "type": "scatterpolargl"
           }
          ],
          "scatterternary": [
           {
            "marker": {
             "colorbar": {
              "outlinewidth": 0,
              "ticks": ""
             }
            },
            "type": "scatterternary"
           }
          ],
          "surface": [
           {
            "colorbar": {
             "outlinewidth": 0,
             "ticks": ""
            },
            "colorscale": [
             [
              0,
              "#0d0887"
             ],
             [
              0.1111111111111111,
              "#46039f"
             ],
             [
              0.2222222222222222,
              "#7201a8"
             ],
             [
              0.3333333333333333,
              "#9c179e"
             ],
             [
              0.4444444444444444,
              "#bd3786"
             ],
             [
              0.5555555555555556,
              "#d8576b"
             ],
             [
              0.6666666666666666,
              "#ed7953"
             ],
             [
              0.7777777777777778,
              "#fb9f3a"
             ],
             [
              0.8888888888888888,
              "#fdca26"
             ],
             [
              1,
              "#f0f921"
             ]
            ],
            "type": "surface"
           }
          ],
          "table": [
           {
            "cells": {
             "fill": {
              "color": "#EBF0F8"
             },
             "line": {
              "color": "white"
             }
            },
            "header": {
             "fill": {
              "color": "#C8D4E3"
             },
             "line": {
              "color": "white"
             }
            },
            "type": "table"
           }
          ]
         },
         "layout": {
          "annotationdefaults": {
           "arrowcolor": "#2a3f5f",
           "arrowhead": 0,
           "arrowwidth": 1
          },
          "autotypenumbers": "strict",
          "coloraxis": {
           "colorbar": {
            "outlinewidth": 0,
            "ticks": ""
           }
          },
          "colorscale": {
           "diverging": [
            [
             0,
             "#8e0152"
            ],
            [
             0.1,
             "#c51b7d"
            ],
            [
             0.2,
             "#de77ae"
            ],
            [
             0.3,
             "#f1b6da"
            ],
            [
             0.4,
             "#fde0ef"
            ],
            [
             0.5,
             "#f7f7f7"
            ],
            [
             0.6,
             "#e6f5d0"
            ],
            [
             0.7,
             "#b8e186"
            ],
            [
             0.8,
             "#7fbc41"
            ],
            [
             0.9,
             "#4d9221"
            ],
            [
             1,
             "#276419"
            ]
           ],
           "sequential": [
            [
             0,
             "#0d0887"
            ],
            [
             0.1111111111111111,
             "#46039f"
            ],
            [
             0.2222222222222222,
             "#7201a8"
            ],
            [
             0.3333333333333333,
             "#9c179e"
            ],
            [
             0.4444444444444444,
             "#bd3786"
            ],
            [
             0.5555555555555556,
             "#d8576b"
            ],
            [
             0.6666666666666666,
             "#ed7953"
            ],
            [
             0.7777777777777778,
             "#fb9f3a"
            ],
            [
             0.8888888888888888,
             "#fdca26"
            ],
            [
             1,
             "#f0f921"
            ]
           ],
           "sequentialminus": [
            [
             0,
             "#0d0887"
            ],
            [
             0.1111111111111111,
             "#46039f"
            ],
            [
             0.2222222222222222,
             "#7201a8"
            ],
            [
             0.3333333333333333,
             "#9c179e"
            ],
            [
             0.4444444444444444,
             "#bd3786"
            ],
            [
             0.5555555555555556,
             "#d8576b"
            ],
            [
             0.6666666666666666,
             "#ed7953"
            ],
            [
             0.7777777777777778,
             "#fb9f3a"
            ],
            [
             0.8888888888888888,
             "#fdca26"
            ],
            [
             1,
             "#f0f921"
            ]
           ]
          },
          "colorway": [
           "#636efa",
           "#EF553B",
           "#00cc96",
           "#ab63fa",
           "#FFA15A",
           "#19d3f3",
           "#FF6692",
           "#B6E880",
           "#FF97FF",
           "#FECB52"
          ],
          "font": {
           "color": "#2a3f5f"
          },
          "geo": {
           "bgcolor": "white",
           "lakecolor": "white",
           "landcolor": "#E5ECF6",
           "showlakes": true,
           "showland": true,
           "subunitcolor": "white"
          },
          "hoverlabel": {
           "align": "left"
          },
          "hovermode": "closest",
          "mapbox": {
           "style": "light"
          },
          "paper_bgcolor": "white",
          "plot_bgcolor": "#E5ECF6",
          "polar": {
           "angularaxis": {
            "gridcolor": "white",
            "linecolor": "white",
            "ticks": ""
           },
           "bgcolor": "#E5ECF6",
           "radialaxis": {
            "gridcolor": "white",
            "linecolor": "white",
            "ticks": ""
           }
          },
          "scene": {
           "xaxis": {
            "backgroundcolor": "#E5ECF6",
            "gridcolor": "white",
            "gridwidth": 2,
            "linecolor": "white",
            "showbackground": true,
            "ticks": "",
            "zerolinecolor": "white"
           },
           "yaxis": {
            "backgroundcolor": "#E5ECF6",
            "gridcolor": "white",
            "gridwidth": 2,
            "linecolor": "white",
            "showbackground": true,
            "ticks": "",
            "zerolinecolor": "white"
           },
           "zaxis": {
            "backgroundcolor": "#E5ECF6",
            "gridcolor": "white",
            "gridwidth": 2,
            "linecolor": "white",
            "showbackground": true,
            "ticks": "",
            "zerolinecolor": "white"
           }
          },
          "shapedefaults": {
           "line": {
            "color": "#2a3f5f"
           }
          },
          "ternary": {
           "aaxis": {
            "gridcolor": "white",
            "linecolor": "white",
            "ticks": ""
           },
           "baxis": {
            "gridcolor": "white",
            "linecolor": "white",
            "ticks": ""
           },
           "bgcolor": "#E5ECF6",
           "caxis": {
            "gridcolor": "white",
            "linecolor": "white",
            "ticks": ""
           }
          },
          "title": {
           "x": 0.05
          },
          "xaxis": {
           "automargin": true,
           "gridcolor": "white",
           "linecolor": "white",
           "ticks": "",
           "title": {
            "standoff": 15
           },
           "zerolinecolor": "white",
           "zerolinewidth": 2
          },
          "yaxis": {
           "automargin": true,
           "gridcolor": "white",
           "linecolor": "white",
           "ticks": "",
           "title": {
            "standoff": 15
           },
           "zerolinecolor": "white",
           "zerolinewidth": 2
          }
         }
        },
        "xaxis": {
         "anchor": "y",
         "domain": [
          0,
          1
         ],
         "title": {
          "text": "index"
         }
        },
        "yaxis": {
         "anchor": "x",
         "domain": [
          0,
          1
         ],
         "title": {
          "text": "value"
         }
        }
       }
      },
      "text/html": [
       "<div>                            <div id=\"54ec8d00-9bc0-454e-9e28-2561b0ff6d92\" class=\"plotly-graph-div\" style=\"height:525px; width:100%;\"></div>            <script type=\"text/javascript\">                require([\"plotly\"], function(Plotly) {                    window.PLOTLYENV=window.PLOTLYENV || {};                                    if (document.getElementById(\"54ec8d00-9bc0-454e-9e28-2561b0ff6d92\")) {                    Plotly.newPlot(                        \"54ec8d00-9bc0-454e-9e28-2561b0ff6d92\",                        [{\"hovertemplate\":\"variable=0.10<br>index=%{x}<br>value=%{y}<extra></extra>\",\"legendgroup\":\"0.10\",\"line\":{\"color\":\"#636efa\",\"dash\":\"solid\"},\"marker\":{\"symbol\":\"circle\"},\"mode\":\"lines\",\"name\":\"0.10\",\"orientation\":\"v\",\"showlegend\":true,\"x\":[75,76,77,78,79,80,81,82,83,84,85,86,87,88,89,90,91,92,93,94,95,96,97,98],\"xaxis\":\"x\",\"y\":[0.7877560975609756,0.7886585365853659,0.7902439024390244,0.7914634146341464,0.7924390243902439,0.7934146341463415,0.7942439024390244,0.7953902439024391,0.7962926829268293,0.7973658536585366,0.798439024390244,0.7992439024390244,0.8002926829268293,0.8013658536585366,0.8023170731707318,0.8033170731707318,0.804439024390244,0.8057804878048781,0.806439024390244,0.8073658536585366,0.8082682926829269,0.8090487804878049,0.8100487804878049,0.811],\"yaxis\":\"y\",\"type\":\"scatter\"},{\"hovertemplate\":\"variable=0.15<br>index=%{x}<br>value=%{y}<extra></extra>\",\"legendgroup\":\"0.15\",\"line\":{\"color\":\"#EF553B\",\"dash\":\"solid\"},\"marker\":{\"symbol\":\"circle\"},\"mode\":\"lines\",\"name\":\"0.15\",\"orientation\":\"v\",\"showlegend\":true,\"x\":[75,76,77,78,79,80,81,82,83,84,85,86,87,88,89,90,91,92,93,94,95,96,97,98],\"xaxis\":\"x\",\"y\":[0.8091219512195122,0.8100975609756098,0.8115121951219513,0.8124634146341464,0.8133414634146341,0.8142439024390243,0.8150487804878048,0.8160487804878048,0.8168292682926829,0.8179268292682926,0.819,0.8198292682926829,0.8206585365853658,0.8215853658536585,0.8225121951219512,0.8234390243902439,0.8240487804878048,0.8249756097560975,0.8258048780487804,0.8267073170731707,0.827390243902439,0.8281463414634146,0.8287073170731707,0.8293658536585365],\"yaxis\":\"y\",\"type\":\"scatter\"},{\"hovertemplate\":\"variable=0.20<br>index=%{x}<br>value=%{y}<extra></extra>\",\"legendgroup\":\"0.20\",\"line\":{\"color\":\"#00cc96\",\"dash\":\"solid\"},\"marker\":{\"symbol\":\"circle\"},\"mode\":\"lines\",\"name\":\"0.20\",\"orientation\":\"v\",\"showlegend\":true,\"x\":[75,76,77,78,79,80,81,82,83,84,85,86,87,88,89,90,91,92,93,94,95,96,97,98],\"xaxis\":\"x\",\"y\":[0.8437560975609756,0.8444390243902439,0.8453170731707317,0.8463658536585366,0.8472926829268292,0.8479512195121951,0.8489268292682927,0.8496585365853658,0.8503414634146341,0.851,0.851780487804878,0.8526341463414634,0.8534878048780488,0.8539756097560975,0.8547317073170732,0.8554878048780488,0.8560487804878049,0.8564390243902439,0.8569756097560975,0.8574390243902439,0.8580243902439024,0.8586829268292683,0.8594390243902439,0.8600731707317073],\"yaxis\":\"y\",\"type\":\"scatter\"},{\"hovertemplate\":\"variable=0.25<br>index=%{x}<br>value=%{y}<extra></extra>\",\"legendgroup\":\"0.25\",\"line\":{\"color\":\"#ab63fa\",\"dash\":\"solid\"},\"marker\":{\"symbol\":\"circle\"},\"mode\":\"lines\",\"name\":\"0.25\",\"orientation\":\"v\",\"showlegend\":true,\"x\":[75,76,77,78,79,80,81,82,83,84,85,86,87,88,89,90,91,92,93,94,95,96,97,98],\"xaxis\":\"x\",\"y\":[0.829170731707317,0.8304146341463414,0.8316341463414634,0.8327317073170731,0.8336097560975609,0.8350243902439024,0.8361219512195122,0.837390243902439,0.8382926829268292,0.8393658536585366,0.8403414634146341,0.8412682926829268,0.8424390243902439,0.8432926829268292,0.8440487804878049,0.8452439024390244,0.8461951219512195,0.8470731707317073,0.8478292682926829,0.8485609756097561,0.8495853658536585,0.8505609756097561,0.8510975609756097,0.8517560975609756],\"yaxis\":\"y\",\"type\":\"scatter\"},{\"hovertemplate\":\"variable=0.30<br>index=%{x}<br>value=%{y}<extra></extra>\",\"legendgroup\":\"0.30\",\"line\":{\"color\":\"#FFA15A\",\"dash\":\"solid\"},\"marker\":{\"symbol\":\"circle\"},\"mode\":\"lines\",\"name\":\"0.30\",\"orientation\":\"v\",\"showlegend\":true,\"x\":[75,76,77,78,79,80,81,82,83,84,85,86,87,88,89,90,91,92,93,94,95,96,97,98],\"xaxis\":\"x\",\"y\":[0.8427560975609756,0.8437073170731707,0.8447317073170731,0.8456585365853658,0.8465853658536585,0.8474390243902439,0.8484634146341463,0.8492439024390244,0.8500487804878049,0.8505365853658536,0.8512682926829268,0.8519756097560975,0.8527560975609756,0.8534878048780488,0.8543658536585366,0.8551707317073171,0.8558292682926829,0.8565365853658536,0.8571707317073171,0.8578292682926829,0.8585121951219512,0.8593170731707317,0.8599024390243902,0.860390243902439],\"yaxis\":\"y\",\"type\":\"scatter\"},{\"hovertemplate\":\"variable=0.35<br>index=%{x}<br>value=%{y}<extra></extra>\",\"legendgroup\":\"0.35\",\"line\":{\"color\":\"#19d3f3\",\"dash\":\"solid\"},\"marker\":{\"symbol\":\"circle\"},\"mode\":\"lines\",\"name\":\"0.35\",\"orientation\":\"v\",\"showlegend\":true,\"x\":[75,76,77,78,79,80,81,82,83,84,85,86,87,88,89,90,91,92,93,94,95,96,97,98],\"xaxis\":\"x\",\"y\":[0.8578536585365854,0.8588048780487805,0.859780487804878,0.8608048780487805,0.8615853658536585,0.8623658536585366,0.8633658536585366,0.8641219512195122,0.8649756097560976,0.8657560975609756,0.8666341463414634,0.8671707317073171,0.8679024390243902,0.8686341463414634,0.8691463414634146,0.8698536585365854,0.8705121951219512,0.8711463414634146,0.871780487804878,0.8724634146341463,0.8730731707317073,0.8734878048780488,0.8739512195121951,0.8742682926829268],\"yaxis\":\"y\",\"type\":\"scatter\"},{\"hovertemplate\":\"variable=0.40<br>index=%{x}<br>value=%{y}<extra></extra>\",\"legendgroup\":\"0.40\",\"line\":{\"color\":\"#FF6692\",\"dash\":\"solid\"},\"marker\":{\"symbol\":\"circle\"},\"mode\":\"lines\",\"name\":\"0.40\",\"orientation\":\"v\",\"showlegend\":true,\"x\":[75,76,77,78,79,80,81,82,83,84,85,86,87,88,89,90,91,92,93,94,95,96,97,98],\"xaxis\":\"x\",\"y\":[0.8364390243902439,0.8374878048780487,0.8385609756097561,0.8399756097560975,0.8411463414634146,0.8422195121951219,0.8431463414634146,0.844,0.8450731707317073,0.8456341463414634,0.8464390243902439,0.8475853658536585,0.8481951219512195,0.8488048780487805,0.8493658536585366,0.8501219512195122,0.8507073170731707,0.8514390243902439,0.8521463414634146,0.853,0.8539268292682927,0.8545121951219512,0.8552195121951219,0.8556829268292683],\"yaxis\":\"y\",\"type\":\"scatter\"},{\"hovertemplate\":\"variable=0.45<br>index=%{x}<br>value=%{y}<extra></extra>\",\"legendgroup\":\"0.45\",\"line\":{\"color\":\"#B6E880\",\"dash\":\"solid\"},\"marker\":{\"symbol\":\"circle\"},\"mode\":\"lines\",\"name\":\"0.45\",\"orientation\":\"v\",\"showlegend\":true,\"x\":[75,76,77,78,79,80,81,82,83,84,85,86,87,88,89,90,91,92,93,94,95,96,97,98],\"xaxis\":\"x\",\"y\":[0.857390243902439,0.8582926829268293,0.8592439024390244,0.8600975609756097,0.8609268292682927,0.8617560975609756,0.8626829268292683,0.8637317073170732,0.8646585365853658,0.865609756097561,0.8665121951219512,0.8674146341463415,0.8680975609756097,0.8688292682926829,0.8697073170731707,0.8704390243902439,0.8710243902439024,0.8717073170731707,0.8724390243902439,0.8730975609756098,0.874,0.8746341463414634,0.8750487804878049,0.8757073170731707],\"yaxis\":\"y\",\"type\":\"scatter\"},{\"hovertemplate\":\"variable=0.50<br>index=%{x}<br>value=%{y}<extra></extra>\",\"legendgroup\":\"0.50\",\"line\":{\"color\":\"#FF97FF\",\"dash\":\"solid\"},\"marker\":{\"symbol\":\"circle\"},\"mode\":\"lines\",\"name\":\"0.50\",\"orientation\":\"v\",\"showlegend\":true,\"x\":[75,76,77,78,79,80,81,82,83,84,85,86,87,88,89,90,91,92,93,94,95,96,97,98],\"xaxis\":\"x\",\"y\":[0.8790731707317073,0.8799024390243902,0.8807317073170732,0.8811463414634146,0.8817560975609756,0.8821463414634146,0.8829512195121951,0.8831219512195122,0.8838780487804878,0.8841463414634146,0.8849512195121951,0.8851463414634146,0.8859756097560976,0.8863658536585366,0.8870243902439024,0.8873414634146342,0.8880975609756098,0.8884390243902439,0.8891219512195122,0.8893170731707317,0.8901707317073171,0.8901463414634146,0.8909512195121951,0.8909756097560976],\"yaxis\":\"y\",\"type\":\"scatter\"},{\"hovertemplate\":\"variable=0.55<br>index=%{x}<br>value=%{y}<extra></extra>\",\"legendgroup\":\"0.55\",\"line\":{\"color\":\"#FECB52\",\"dash\":\"solid\"},\"marker\":{\"symbol\":\"circle\"},\"mode\":\"lines\",\"name\":\"0.55\",\"orientation\":\"v\",\"showlegend\":true,\"x\":[75,76,77,78,79,80,81,82,83,84,85,86,87,88,89,90,91,92,93,94,95,96,97,98],\"xaxis\":\"x\",\"y\":[0.8597317073170732,0.8606829268292683,0.8616585365853658,0.8627560975609756,0.863609756097561,0.8643658536585366,0.865,0.8659512195121951,0.8669024390243902,0.8677073170731707,0.8684634146341463,0.8688048780487805,0.8698048780487805,0.8704390243902439,0.8711219512195122,0.8719756097560976,0.8727073170731707,0.8733414634146341,0.8740975609756098,0.8747317073170732,0.875390243902439,0.8761707317073171,0.8767317073170732,0.8772682926829268],\"yaxis\":\"y\",\"type\":\"scatter\"},{\"hovertemplate\":\"variable=0.60<br>index=%{x}<br>value=%{y}<extra></extra>\",\"legendgroup\":\"0.60\",\"line\":{\"color\":\"#636efa\",\"dash\":\"solid\"},\"marker\":{\"symbol\":\"circle\"},\"mode\":\"lines\",\"name\":\"0.60\",\"orientation\":\"v\",\"showlegend\":true,\"x\":[75,76,77,78,79,80,81,82,83,84,85,86,87,88,89,90,91,92,93,94,95,96,97,98],\"xaxis\":\"x\",\"y\":[0.8629268292682927,0.866,0.8658048780487805,0.8684390243902439,0.8675853658536585,0.8698048780487805,0.869,0.8705853658536585,0.8698780487804878,0.8709268292682927,0.8700975609756098,0.8711463414634146,0.8698048780487805,0.8713170731707317,0.8703414634146341,0.8727073170731707,0.8718048780487805,0.8743170731707317,0.8741951219512195,0.8768292682926829,0.8768536585365854,0.8790975609756098,0.8800731707317073,0.882],\"yaxis\":\"y\",\"type\":\"scatter\"},{\"hovertemplate\":\"variable=0.65<br>index=%{x}<br>value=%{y}<extra></extra>\",\"legendgroup\":\"0.65\",\"line\":{\"color\":\"#EF553B\",\"dash\":\"solid\"},\"marker\":{\"symbol\":\"circle\"},\"mode\":\"lines\",\"name\":\"0.65\",\"orientation\":\"v\",\"showlegend\":true,\"x\":[75,76,77,78,79,80,81,82,83,84,85,86,87,88,89,90,91,92,93,94,95,96,97,98],\"xaxis\":\"x\",\"y\":[0.8768292682926829,0.8762926829268293,0.8784878048780488,0.8780487804878049,0.8801219512195122,0.879219512195122,0.8815121951219512,0.8804146341463415,0.8829512195121951,0.8816829268292683,0.883609756097561,0.8822439024390244,0.8846585365853659,0.8826341463414634,0.8848292682926829,0.8825121951219512,0.8844390243902439,0.8821707317073171,0.8844390243902439,0.8820975609756098,0.8839268292682927,0.881609756097561,0.8836829268292683,0.882],\"yaxis\":\"y\",\"type\":\"scatter\"}],                        {\"template\":{\"data\":{\"bar\":[{\"error_x\":{\"color\":\"#2a3f5f\"},\"error_y\":{\"color\":\"#2a3f5f\"},\"marker\":{\"line\":{\"color\":\"#E5ECF6\",\"width\":0.5},\"pattern\":{\"fillmode\":\"overlay\",\"size\":10,\"solidity\":0.2}},\"type\":\"bar\"}],\"barpolar\":[{\"marker\":{\"line\":{\"color\":\"#E5ECF6\",\"width\":0.5},\"pattern\":{\"fillmode\":\"overlay\",\"size\":10,\"solidity\":0.2}},\"type\":\"barpolar\"}],\"carpet\":[{\"aaxis\":{\"endlinecolor\":\"#2a3f5f\",\"gridcolor\":\"white\",\"linecolor\":\"white\",\"minorgridcolor\":\"white\",\"startlinecolor\":\"#2a3f5f\"},\"baxis\":{\"endlinecolor\":\"#2a3f5f\",\"gridcolor\":\"white\",\"linecolor\":\"white\",\"minorgridcolor\":\"white\",\"startlinecolor\":\"#2a3f5f\"},\"type\":\"carpet\"}],\"choropleth\":[{\"colorbar\":{\"outlinewidth\":0,\"ticks\":\"\"},\"type\":\"choropleth\"}],\"contour\":[{\"colorbar\":{\"outlinewidth\":0,\"ticks\":\"\"},\"colorscale\":[[0.0,\"#0d0887\"],[0.1111111111111111,\"#46039f\"],[0.2222222222222222,\"#7201a8\"],[0.3333333333333333,\"#9c179e\"],[0.4444444444444444,\"#bd3786\"],[0.5555555555555556,\"#d8576b\"],[0.6666666666666666,\"#ed7953\"],[0.7777777777777778,\"#fb9f3a\"],[0.8888888888888888,\"#fdca26\"],[1.0,\"#f0f921\"]],\"type\":\"contour\"}],\"contourcarpet\":[{\"colorbar\":{\"outlinewidth\":0,\"ticks\":\"\"},\"type\":\"contourcarpet\"}],\"heatmap\":[{\"colorbar\":{\"outlinewidth\":0,\"ticks\":\"\"},\"colorscale\":[[0.0,\"#0d0887\"],[0.1111111111111111,\"#46039f\"],[0.2222222222222222,\"#7201a8\"],[0.3333333333333333,\"#9c179e\"],[0.4444444444444444,\"#bd3786\"],[0.5555555555555556,\"#d8576b\"],[0.6666666666666666,\"#ed7953\"],[0.7777777777777778,\"#fb9f3a\"],[0.8888888888888888,\"#fdca26\"],[1.0,\"#f0f921\"]],\"type\":\"heatmap\"}],\"heatmapgl\":[{\"colorbar\":{\"outlinewidth\":0,\"ticks\":\"\"},\"colorscale\":[[0.0,\"#0d0887\"],[0.1111111111111111,\"#46039f\"],[0.2222222222222222,\"#7201a8\"],[0.3333333333333333,\"#9c179e\"],[0.4444444444444444,\"#bd3786\"],[0.5555555555555556,\"#d8576b\"],[0.6666666666666666,\"#ed7953\"],[0.7777777777777778,\"#fb9f3a\"],[0.8888888888888888,\"#fdca26\"],[1.0,\"#f0f921\"]],\"type\":\"heatmapgl\"}],\"histogram\":[{\"marker\":{\"pattern\":{\"fillmode\":\"overlay\",\"size\":10,\"solidity\":0.2}},\"type\":\"histogram\"}],\"histogram2d\":[{\"colorbar\":{\"outlinewidth\":0,\"ticks\":\"\"},\"colorscale\":[[0.0,\"#0d0887\"],[0.1111111111111111,\"#46039f\"],[0.2222222222222222,\"#7201a8\"],[0.3333333333333333,\"#9c179e\"],[0.4444444444444444,\"#bd3786\"],[0.5555555555555556,\"#d8576b\"],[0.6666666666666666,\"#ed7953\"],[0.7777777777777778,\"#fb9f3a\"],[0.8888888888888888,\"#fdca26\"],[1.0,\"#f0f921\"]],\"type\":\"histogram2d\"}],\"histogram2dcontour\":[{\"colorbar\":{\"outlinewidth\":0,\"ticks\":\"\"},\"colorscale\":[[0.0,\"#0d0887\"],[0.1111111111111111,\"#46039f\"],[0.2222222222222222,\"#7201a8\"],[0.3333333333333333,\"#9c179e\"],[0.4444444444444444,\"#bd3786\"],[0.5555555555555556,\"#d8576b\"],[0.6666666666666666,\"#ed7953\"],[0.7777777777777778,\"#fb9f3a\"],[0.8888888888888888,\"#fdca26\"],[1.0,\"#f0f921\"]],\"type\":\"histogram2dcontour\"}],\"mesh3d\":[{\"colorbar\":{\"outlinewidth\":0,\"ticks\":\"\"},\"type\":\"mesh3d\"}],\"parcoords\":[{\"line\":{\"colorbar\":{\"outlinewidth\":0,\"ticks\":\"\"}},\"type\":\"parcoords\"}],\"pie\":[{\"automargin\":true,\"type\":\"pie\"}],\"scatter\":[{\"marker\":{\"colorbar\":{\"outlinewidth\":0,\"ticks\":\"\"}},\"type\":\"scatter\"}],\"scatter3d\":[{\"line\":{\"colorbar\":{\"outlinewidth\":0,\"ticks\":\"\"}},\"marker\":{\"colorbar\":{\"outlinewidth\":0,\"ticks\":\"\"}},\"type\":\"scatter3d\"}],\"scattercarpet\":[{\"marker\":{\"colorbar\":{\"outlinewidth\":0,\"ticks\":\"\"}},\"type\":\"scattercarpet\"}],\"scattergeo\":[{\"marker\":{\"colorbar\":{\"outlinewidth\":0,\"ticks\":\"\"}},\"type\":\"scattergeo\"}],\"scattergl\":[{\"marker\":{\"colorbar\":{\"outlinewidth\":0,\"ticks\":\"\"}},\"type\":\"scattergl\"}],\"scattermapbox\":[{\"marker\":{\"colorbar\":{\"outlinewidth\":0,\"ticks\":\"\"}},\"type\":\"scattermapbox\"}],\"scatterpolar\":[{\"marker\":{\"colorbar\":{\"outlinewidth\":0,\"ticks\":\"\"}},\"type\":\"scatterpolar\"}],\"scatterpolargl\":[{\"marker\":{\"colorbar\":{\"outlinewidth\":0,\"ticks\":\"\"}},\"type\":\"scatterpolargl\"}],\"scatterternary\":[{\"marker\":{\"colorbar\":{\"outlinewidth\":0,\"ticks\":\"\"}},\"type\":\"scatterternary\"}],\"surface\":[{\"colorbar\":{\"outlinewidth\":0,\"ticks\":\"\"},\"colorscale\":[[0.0,\"#0d0887\"],[0.1111111111111111,\"#46039f\"],[0.2222222222222222,\"#7201a8\"],[0.3333333333333333,\"#9c179e\"],[0.4444444444444444,\"#bd3786\"],[0.5555555555555556,\"#d8576b\"],[0.6666666666666666,\"#ed7953\"],[0.7777777777777778,\"#fb9f3a\"],[0.8888888888888888,\"#fdca26\"],[1.0,\"#f0f921\"]],\"type\":\"surface\"}],\"table\":[{\"cells\":{\"fill\":{\"color\":\"#EBF0F8\"},\"line\":{\"color\":\"white\"}},\"header\":{\"fill\":{\"color\":\"#C8D4E3\"},\"line\":{\"color\":\"white\"}},\"type\":\"table\"}]},\"layout\":{\"annotationdefaults\":{\"arrowcolor\":\"#2a3f5f\",\"arrowhead\":0,\"arrowwidth\":1},\"autotypenumbers\":\"strict\",\"coloraxis\":{\"colorbar\":{\"outlinewidth\":0,\"ticks\":\"\"}},\"colorscale\":{\"diverging\":[[0,\"#8e0152\"],[0.1,\"#c51b7d\"],[0.2,\"#de77ae\"],[0.3,\"#f1b6da\"],[0.4,\"#fde0ef\"],[0.5,\"#f7f7f7\"],[0.6,\"#e6f5d0\"],[0.7,\"#b8e186\"],[0.8,\"#7fbc41\"],[0.9,\"#4d9221\"],[1,\"#276419\"]],\"sequential\":[[0.0,\"#0d0887\"],[0.1111111111111111,\"#46039f\"],[0.2222222222222222,\"#7201a8\"],[0.3333333333333333,\"#9c179e\"],[0.4444444444444444,\"#bd3786\"],[0.5555555555555556,\"#d8576b\"],[0.6666666666666666,\"#ed7953\"],[0.7777777777777778,\"#fb9f3a\"],[0.8888888888888888,\"#fdca26\"],[1.0,\"#f0f921\"]],\"sequentialminus\":[[0.0,\"#0d0887\"],[0.1111111111111111,\"#46039f\"],[0.2222222222222222,\"#7201a8\"],[0.3333333333333333,\"#9c179e\"],[0.4444444444444444,\"#bd3786\"],[0.5555555555555556,\"#d8576b\"],[0.6666666666666666,\"#ed7953\"],[0.7777777777777778,\"#fb9f3a\"],[0.8888888888888888,\"#fdca26\"],[1.0,\"#f0f921\"]]},\"colorway\":[\"#636efa\",\"#EF553B\",\"#00cc96\",\"#ab63fa\",\"#FFA15A\",\"#19d3f3\",\"#FF6692\",\"#B6E880\",\"#FF97FF\",\"#FECB52\"],\"font\":{\"color\":\"#2a3f5f\"},\"geo\":{\"bgcolor\":\"white\",\"lakecolor\":\"white\",\"landcolor\":\"#E5ECF6\",\"showlakes\":true,\"showland\":true,\"subunitcolor\":\"white\"},\"hoverlabel\":{\"align\":\"left\"},\"hovermode\":\"closest\",\"mapbox\":{\"style\":\"light\"},\"paper_bgcolor\":\"white\",\"plot_bgcolor\":\"#E5ECF6\",\"polar\":{\"angularaxis\":{\"gridcolor\":\"white\",\"linecolor\":\"white\",\"ticks\":\"\"},\"bgcolor\":\"#E5ECF6\",\"radialaxis\":{\"gridcolor\":\"white\",\"linecolor\":\"white\",\"ticks\":\"\"}},\"scene\":{\"xaxis\":{\"backgroundcolor\":\"#E5ECF6\",\"gridcolor\":\"white\",\"gridwidth\":2,\"linecolor\":\"white\",\"showbackground\":true,\"ticks\":\"\",\"zerolinecolor\":\"white\"},\"yaxis\":{\"backgroundcolor\":\"#E5ECF6\",\"gridcolor\":\"white\",\"gridwidth\":2,\"linecolor\":\"white\",\"showbackground\":true,\"ticks\":\"\",\"zerolinecolor\":\"white\"},\"zaxis\":{\"backgroundcolor\":\"#E5ECF6\",\"gridcolor\":\"white\",\"gridwidth\":2,\"linecolor\":\"white\",\"showbackground\":true,\"ticks\":\"\",\"zerolinecolor\":\"white\"}},\"shapedefaults\":{\"line\":{\"color\":\"#2a3f5f\"}},\"ternary\":{\"aaxis\":{\"gridcolor\":\"white\",\"linecolor\":\"white\",\"ticks\":\"\"},\"baxis\":{\"gridcolor\":\"white\",\"linecolor\":\"white\",\"ticks\":\"\"},\"bgcolor\":\"#E5ECF6\",\"caxis\":{\"gridcolor\":\"white\",\"linecolor\":\"white\",\"ticks\":\"\"}},\"title\":{\"x\":0.05},\"xaxis\":{\"automargin\":true,\"gridcolor\":\"white\",\"linecolor\":\"white\",\"ticks\":\"\",\"title\":{\"standoff\":15},\"zerolinecolor\":\"white\",\"zerolinewidth\":2},\"yaxis\":{\"automargin\":true,\"gridcolor\":\"white\",\"linecolor\":\"white\",\"ticks\":\"\",\"title\":{\"standoff\":15},\"zerolinecolor\":\"white\",\"zerolinewidth\":2}}},\"xaxis\":{\"anchor\":\"y\",\"domain\":[0.0,1.0],\"title\":{\"text\":\"index\"}},\"yaxis\":{\"anchor\":\"x\",\"domain\":[0.0,1.0],\"title\":{\"text\":\"value\"}},\"legend\":{\"title\":{\"text\":\"variable\"},\"tracegroupgap\":0},\"margin\":{\"t\":60}},                        {\"responsive\": true}                    ).then(function(){\n",
       "                            \n",
       "var gd = document.getElementById('54ec8d00-9bc0-454e-9e28-2561b0ff6d92');\n",
       "var x = new MutationObserver(function (mutations, observer) {{\n",
       "        var display = window.getComputedStyle(gd).display;\n",
       "        if (!display || display === 'none') {{\n",
       "            console.log([gd, 'removed!']);\n",
       "            Plotly.purge(gd);\n",
       "            observer.disconnect();\n",
       "        }}\n",
       "}});\n",
       "\n",
       "// Listen for the removal of the full notebook cells\n",
       "var notebookContainer = gd.closest('#notebook-container');\n",
       "if (notebookContainer) {{\n",
       "    x.observe(notebookContainer, {childList: true});\n",
       "}}\n",
       "\n",
       "// Listen for the clearing of the current output cell\n",
       "var outputEl = gd.closest('.output');\n",
       "if (outputEl) {{\n",
       "    x.observe(outputEl, {childList: true});\n",
       "}}\n",
       "\n",
       "                        })                };                });            </script>        </div>"
      ]
     },
     "metadata": {},
     "output_type": "display_data"
    }
   ],
   "source": [
    "fig = px.line(df.iloc[75:99], y=['0.10', '0.15','0.20', '0.25','0.30', '0.35', '0.40', '0.45' ,'0.50','0.55','0.60','0.65'])\n",
    "fig.show()"
   ]
  },
  {
   "cell_type": "code",
   "execution_count": null,
   "id": "751fb877",
   "metadata": {},
   "outputs": [],
   "source": []
  },
  {
   "cell_type": "code",
   "execution_count": 34,
   "id": "16468140",
   "metadata": {},
   "outputs": [],
   "source": [
    "#with diferent initializars\n",
    "\n",
    "def gradient_descent(X, Y, alpha, iterations):\n",
    "    # starting time\n",
    "    start = time.time()\n",
    "    Accu=[]\n",
    "    W1, b1, W2, b2 = init_params2()\n",
    "    for i in range(iterations):\n",
    "        Z1, A1, Z2, A2 = forward_prop(W1, b1, W2, b2, X)\n",
    "        dW1, db1, dW2, db2 = backward_prop(Z1, A1, Z2, A2, W1, W2, X, Y)\n",
    "        W1, b1, W2, b2 = update_params(W1, b1, W2, b2, dW1, db1, dW2, db2, alpha)\n",
    "        if i % 1 == 0:\n",
    "            #print(\"Iteration: \", i)\n",
    "            predictions = get_predictions(A2)\n",
    "            temp=get_accuracy(predictions, Y)\n",
    "            temp1=float(temp)\n",
    "            Accu.append(temp1)\n",
    "            #print(temp)\n",
    "        # end time\n",
    "        end = time.time()\n",
    "    return W1, b1, W2, b2, Accu, alpha, (end-start)"
   ]
  },
  {
   "cell_type": "code",
   "execution_count": 35,
   "id": "97fcbf17",
   "metadata": {},
   "outputs": [],
   "source": [
    "W1, b1, W2, b2, Accu, Alph, Time = gradient_descent(X_train, Y_train, 0.10, 50)\n",
    "W1, b1, W2, b2, Accu1, Alph1, Time1 = gradient_descent(X_train, Y_train, 0.15, 50)\n",
    "W1, b1, W2, b2, Accu2, Alph2, Time2 = gradient_descent(X_train, Y_train, 0.20, 50)\n",
    "W1, b1, W2, b2, Accu3, Alph3, Time3 = gradient_descent(X_train, Y_train, 0.25, 50)\n",
    "W1, b1, W2, b2, Accu4, Alph4, Time4 = gradient_descent(X_train, Y_train, 0.30, 50)\n",
    "W1, b1, W2, b2, Accu5, Alph5, Time5 = gradient_descent(X_train, Y_train, 0.35, 50)\n",
    "W1, b1, W2, b2, Accu6, Alph6, Time6 = gradient_descent(X_train, Y_train, 0.40, 50)\n",
    "W1, b1, W2, b2, Accu7, Alph7, Time7 = gradient_descent(X_train, Y_train, 0.45, 50)\n",
    "W1, b1, W2, b2, Accu8, Alph8, Time8 = gradient_descent(X_train, Y_train, 0.50, 50)\n",
    "W1, b1, W2, b2, Accu9, Alph9, Time9 = gradient_descent(X_train, Y_train, 0.55, 50)\n",
    "W1, b1, W2, b2, Accu10, Alph10, Time10 = gradient_descent(X_train, Y_train, 0.60, 50)\n",
    "W1, b1, W2, b2, Accu11, Alph11, Time11 = gradient_descent(X_train, Y_train, 0.65, 50)"
   ]
  },
  {
   "cell_type": "code",
   "execution_count": 36,
   "id": "0bc9ada3",
   "metadata": {},
   "outputs": [
    {
     "data": {
      "text/plain": [
       "(10.916739702224731,\n",
       " 10.783221006393433,\n",
       " 10.086257934570312,\n",
       " 11.186949014663696,\n",
       " 10.953099250793457,\n",
       " 10.475159883499146,\n",
       " 10.284996271133423,\n",
       " 10.581537246704102,\n",
       " 10.473469257354736,\n",
       " 10.426627397537231,\n",
       " 10.407926321029663,\n",
       " 10.447568893432617)"
      ]
     },
     "execution_count": 36,
     "metadata": {},
     "output_type": "execute_result"
    }
   ],
   "source": [
    "Time, Time1, Time2, Time3, Time4, Time5, Time6, Time7, Time8, Time9, Time10, Time11"
   ]
  },
  {
   "cell_type": "code",
   "execution_count": 37,
   "id": "958b7cea",
   "metadata": {},
   "outputs": [],
   "source": [
    "numbersList = []\n",
    "numbersList.append(Accu)\n",
    "numbersList.append(Accu1)\n",
    "numbersList.append(Accu2)\n",
    "numbersList.append(Accu3)\n",
    "numbersList.append(Accu4)\n",
    "numbersList.append(Accu5)\n",
    "numbersList.append(Accu6)\n",
    "numbersList.append(Accu7)\n",
    "numbersList.append(Accu8)\n",
    "numbersList.append(Accu9)\n",
    "numbersList.append(Accu10)\n",
    "numbersList.append(Accu11)\n",
    "# creating a list of index names\n",
    "index_values = list(range(0, 50))\n",
    "# creating a list of column names\n",
    "column_values  = ['0.10', '0.15','0.20', '0.25','0.30', '0.35', '0.40', '0.45' ,'0.50','0.55','0.60','0.65']\n",
    "# creating the dataframe\n",
    "df = pd.DataFrame(data = np.transpose(numbersList),index = index_values,columns = column_values)\n",
    "# displaying the dataframe\n",
    "#df\n",
    "#df.iloc[300:500]"
   ]
  },
  {
   "cell_type": "code",
   "execution_count": 38,
   "id": "53163316",
   "metadata": {},
   "outputs": [
    {
     "data": {
      "application/vnd.plotly.v1+json": {
       "config": {
        "plotlyServerURL": "https://plot.ly"
       },
       "data": [
        {
         "hovertemplate": "variable=0.10<br>index=%{x}<br>value=%{y}<extra></extra>",
         "legendgroup": "0.10",
         "line": {
          "color": "#636efa",
          "dash": "solid"
         },
         "marker": {
          "symbol": "circle"
         },
         "mode": "lines",
         "name": "0.10",
         "orientation": "v",
         "showlegend": true,
         "type": "scatter",
         "x": [
          0,
          1,
          2,
          3,
          4,
          5,
          6,
          7,
          8,
          9,
          10,
          11,
          12,
          13,
          14,
          15,
          16,
          17,
          18,
          19,
          20,
          21,
          22,
          23,
          24,
          25,
          26,
          27,
          28,
          29,
          30,
          31,
          32,
          33,
          34,
          35,
          36,
          37,
          38,
          39,
          40,
          41,
          42,
          43,
          44,
          45,
          46,
          47,
          48,
          49
         ],
         "xaxis": "x",
         "y": [
          0.08878048780487804,
          0.09590243902439025,
          0.1038780487804878,
          0.11197560975609756,
          0.12078048780487805,
          0.13082926829268293,
          0.14109756097560974,
          0.15295121951219512,
          0.1634878048780488,
          0.1747560975609756,
          0.18548780487804878,
          0.19504878048780488,
          0.2033170731707317,
          0.21085365853658536,
          0.21792682926829268,
          0.2238780487804878,
          0.229,
          0.2320487804878049,
          0.23614634146341462,
          0.23924390243902438,
          0.24090243902439024,
          0.24236585365853658,
          0.24360975609756097,
          0.24453658536585365,
          0.24653658536585366,
          0.2498780487804878,
          0.2524878048780488,
          0.255,
          0.2580487804878049,
          0.2616829268292683,
          0.26495121951219514,
          0.26914634146341465,
          0.27351219512195124,
          0.2775609756097561,
          0.2825853658536585,
          0.2869024390243902,
          0.2912682926829268,
          0.2946829268292683,
          0.2984390243902439,
          0.3028292682926829,
          0.3061951219512195,
          0.31017073170731707,
          0.31378048780487805,
          0.31670731707317074,
          0.3205609756097561,
          0.3242439024390244,
          0.3277560975609756,
          0.33170731707317075,
          0.3357317073170732,
          0.3397804878048781
         ],
         "yaxis": "y"
        },
        {
         "hovertemplate": "variable=0.15<br>index=%{x}<br>value=%{y}<extra></extra>",
         "legendgroup": "0.15",
         "line": {
          "color": "#EF553B",
          "dash": "solid"
         },
         "marker": {
          "symbol": "circle"
         },
         "mode": "lines",
         "name": "0.15",
         "orientation": "v",
         "showlegend": true,
         "type": "scatter",
         "x": [
          0,
          1,
          2,
          3,
          4,
          5,
          6,
          7,
          8,
          9,
          10,
          11,
          12,
          13,
          14,
          15,
          16,
          17,
          18,
          19,
          20,
          21,
          22,
          23,
          24,
          25,
          26,
          27,
          28,
          29,
          30,
          31,
          32,
          33,
          34,
          35,
          36,
          37,
          38,
          39,
          40,
          41,
          42,
          43,
          44,
          45,
          46,
          47,
          48,
          49
         ],
         "xaxis": "x",
         "y": [
          0.08195121951219513,
          0.08614634146341463,
          0.09065853658536585,
          0.09531707317073171,
          0.10097560975609757,
          0.10704878048780488,
          0.1144390243902439,
          0.1224390243902439,
          0.13251219512195123,
          0.14385365853658535,
          0.15760975609756098,
          0.17304878048780487,
          0.18960975609756098,
          0.20692682926829267,
          0.22295121951219513,
          0.23690243902439023,
          0.24907317073170732,
          0.2606341463414634,
          0.2692926829268293,
          0.27870731707317076,
          0.29036585365853657,
          0.3055121951219512,
          0.32270731707317074,
          0.3384146341463415,
          0.3532682926829268,
          0.36685365853658536,
          0.3804390243902439,
          0.39434146341463416,
          0.40656097560975607,
          0.4181463414634146,
          0.4284390243902439,
          0.437609756097561,
          0.44570731707317074,
          0.4528536585365854,
          0.46019512195121953,
          0.4676585365853659,
          0.47509756097560973,
          0.48197560975609754,
          0.4895853658536585,
          0.49834146341463414,
          0.5090731707317073,
          0.5204634146341464,
          0.5337560975609756,
          0.5476585365853659,
          0.5616341463414635,
          0.5761219512195122,
          0.5918536585365853,
          0.6068292682926829,
          0.6217073170731707,
          0.634219512195122
         ],
         "yaxis": "y"
        },
        {
         "hovertemplate": "variable=0.20<br>index=%{x}<br>value=%{y}<extra></extra>",
         "legendgroup": "0.20",
         "line": {
          "color": "#00cc96",
          "dash": "solid"
         },
         "marker": {
          "symbol": "circle"
         },
         "mode": "lines",
         "name": "0.20",
         "orientation": "v",
         "showlegend": true,
         "type": "scatter",
         "x": [
          0,
          1,
          2,
          3,
          4,
          5,
          6,
          7,
          8,
          9,
          10,
          11,
          12,
          13,
          14,
          15,
          16,
          17,
          18,
          19,
          20,
          21,
          22,
          23,
          24,
          25,
          26,
          27,
          28,
          29,
          30,
          31,
          32,
          33,
          34,
          35,
          36,
          37,
          38,
          39,
          40,
          41,
          42,
          43,
          44,
          45,
          46,
          47,
          48,
          49
         ],
         "xaxis": "x",
         "y": [
          0.11339024390243903,
          0.1274390243902439,
          0.13814634146341465,
          0.1464390243902439,
          0.15378048780487805,
          0.16034146341463415,
          0.16829268292682928,
          0.17573170731707316,
          0.18314634146341463,
          0.18929268292682927,
          0.19060975609756098,
          0.18848780487804878,
          0.1858048780487805,
          0.18480487804878049,
          0.18773170731707317,
          0.19341463414634147,
          0.2021219512195122,
          0.2126829268292683,
          0.22714634146341464,
          0.24473170731707317,
          0.26434146341463416,
          0.28524390243902437,
          0.30941463414634146,
          0.3311219512195122,
          0.3520731707317073,
          0.37217073170731707,
          0.3912926829268293,
          0.4053658536585366,
          0.4172682926829268,
          0.4253170731707317,
          0.43721951219512195,
          0.4562439024390244,
          0.48236585365853657,
          0.5087073170731707,
          0.5307317073170732,
          0.5493658536585366,
          0.5640487804878048,
          0.5798780487804878,
          0.5924146341463414,
          0.6074634146341463,
          0.6208048780487805,
          0.6334390243902439,
          0.6448780487804878,
          0.654609756097561,
          0.6643902439024391,
          0.6717073170731708,
          0.6791463414634147,
          0.6854634146341464,
          0.6910731707317073,
          0.697
         ],
         "yaxis": "y"
        },
        {
         "hovertemplate": "variable=0.25<br>index=%{x}<br>value=%{y}<extra></extra>",
         "legendgroup": "0.25",
         "line": {
          "color": "#ab63fa",
          "dash": "solid"
         },
         "marker": {
          "symbol": "circle"
         },
         "mode": "lines",
         "name": "0.25",
         "orientation": "v",
         "showlegend": true,
         "type": "scatter",
         "x": [
          0,
          1,
          2,
          3,
          4,
          5,
          6,
          7,
          8,
          9,
          10,
          11,
          12,
          13,
          14,
          15,
          16,
          17,
          18,
          19,
          20,
          21,
          22,
          23,
          24,
          25,
          26,
          27,
          28,
          29,
          30,
          31,
          32,
          33,
          34,
          35,
          36,
          37,
          38,
          39,
          40,
          41,
          42,
          43,
          44,
          45,
          46,
          47,
          48,
          49
         ],
         "xaxis": "x",
         "y": [
          0.06978048780487806,
          0.09053658536585366,
          0.11487804878048781,
          0.1390487804878049,
          0.1618780487804878,
          0.18165853658536585,
          0.2022439024390244,
          0.23560975609756096,
          0.2735365853658537,
          0.29997560975609755,
          0.31382926829268293,
          0.3162439024390244,
          0.3176829268292683,
          0.32053658536585367,
          0.3274390243902439,
          0.33819512195121954,
          0.35060975609756095,
          0.36329268292682926,
          0.37709756097560976,
          0.3911219512195122,
          0.406780487804878,
          0.42197560975609755,
          0.4392439024390244,
          0.45651219512195124,
          0.4753414634146341,
          0.4937560975609756,
          0.5115121951219512,
          0.529609756097561,
          0.5462926829268293,
          0.5640975609756097,
          0.5827317073170731,
          0.602170731707317,
          0.6212926829268293,
          0.6408048780487805,
          0.6580975609756098,
          0.6741219512195122,
          0.6882195121951219,
          0.7010243902439024,
          0.7130487804878048,
          0.7235365853658536,
          0.7328536585365854,
          0.7422439024390244,
          0.75,
          0.7572926829268293,
          0.7640243902439025,
          0.7706341463414634,
          0.776609756097561,
          0.7811707317073171,
          0.7861707317073171,
          0.7903902439024391
         ],
         "yaxis": "y"
        },
        {
         "hovertemplate": "variable=0.30<br>index=%{x}<br>value=%{y}<extra></extra>",
         "legendgroup": "0.30",
         "line": {
          "color": "#FFA15A",
          "dash": "solid"
         },
         "marker": {
          "symbol": "circle"
         },
         "mode": "lines",
         "name": "0.30",
         "orientation": "v",
         "showlegend": true,
         "type": "scatter",
         "x": [
          0,
          1,
          2,
          3,
          4,
          5,
          6,
          7,
          8,
          9,
          10,
          11,
          12,
          13,
          14,
          15,
          16,
          17,
          18,
          19,
          20,
          21,
          22,
          23,
          24,
          25,
          26,
          27,
          28,
          29,
          30,
          31,
          32,
          33,
          34,
          35,
          36,
          37,
          38,
          39,
          40,
          41,
          42,
          43,
          44,
          45,
          46,
          47,
          48,
          49
         ],
         "xaxis": "x",
         "y": [
          0.09321951219512195,
          0.10678048780487805,
          0.13570731707317074,
          0.18151219512195121,
          0.24697560975609756,
          0.32141463414634147,
          0.3803170731707317,
          0.41360975609756095,
          0.42660975609756097,
          0.4338292682926829,
          0.43697560975609756,
          0.4412439024390244,
          0.44658536585365854,
          0.4498536585365854,
          0.4542439024390244,
          0.4608048780487805,
          0.4694390243902439,
          0.48060975609756096,
          0.49778048780487805,
          0.523609756097561,
          0.5537073170731708,
          0.5848292682926829,
          0.6134146341463415,
          0.6429024390243903,
          0.6664878048780488,
          0.6888780487804878,
          0.7058292682926829,
          0.7195853658536585,
          0.7307317073170732,
          0.7405609756097561,
          0.7485609756097561,
          0.7559024390243902,
          0.7618536585365854,
          0.7677560975609756,
          0.773219512195122,
          0.7775121951219512,
          0.7820487804878049,
          0.7862926829268293,
          0.7901951219512195,
          0.7935853658536586,
          0.7966829268292683,
          0.8003902439024391,
          0.8035609756097561,
          0.8067560975609757,
          0.8091951219512196,
          0.8119512195121952,
          0.8140731707317073,
          0.8162682926829268,
          0.8188780487804878,
          0.8215853658536585
         ],
         "yaxis": "y"
        },
        {
         "hovertemplate": "variable=0.35<br>index=%{x}<br>value=%{y}<extra></extra>",
         "legendgroup": "0.35",
         "line": {
          "color": "#19d3f3",
          "dash": "solid"
         },
         "marker": {
          "symbol": "circle"
         },
         "mode": "lines",
         "name": "0.35",
         "orientation": "v",
         "showlegend": true,
         "type": "scatter",
         "x": [
          0,
          1,
          2,
          3,
          4,
          5,
          6,
          7,
          8,
          9,
          10,
          11,
          12,
          13,
          14,
          15,
          16,
          17,
          18,
          19,
          20,
          21,
          22,
          23,
          24,
          25,
          26,
          27,
          28,
          29,
          30,
          31,
          32,
          33,
          34,
          35,
          36,
          37,
          38,
          39,
          40,
          41,
          42,
          43,
          44,
          45,
          46,
          47,
          48,
          49
         ],
         "xaxis": "x",
         "y": [
          0.1116829268292683,
          0.11173170731707317,
          0.11170731707317073,
          0.11170731707317073,
          0.11173170731707317,
          0.1121219512195122,
          0.11565853658536586,
          0.13634146341463416,
          0.1793170731707317,
          0.23378048780487806,
          0.2829512195121951,
          0.3158048780487805,
          0.3352439024390244,
          0.34187804878048783,
          0.3406829268292683,
          0.3368536585365854,
          0.33590243902439026,
          0.3387317073170732,
          0.34660975609756095,
          0.3598780487804878,
          0.3805609756097561,
          0.4071463414634146,
          0.4403658536585366,
          0.48160975609756096,
          0.5267804878048781,
          0.5711463414634146,
          0.6121463414634146,
          0.6461463414634147,
          0.6702682926829269,
          0.6899024390243902,
          0.7062439024390244,
          0.7207560975609756,
          0.7332682926829268,
          0.7457560975609756,
          0.756390243902439,
          0.7646829268292683,
          0.7712439024390244,
          0.777829268292683,
          0.783219512195122,
          0.7887073170731708,
          0.7929512195121952,
          0.7973902439024391,
          0.8011463414634147,
          0.8048780487804879,
          0.8080487804878049,
          0.8110975609756098,
          0.8141951219512195,
          0.8169024390243902,
          0.8194390243902439,
          0.8216585365853658
         ],
         "yaxis": "y"
        },
        {
         "hovertemplate": "variable=0.40<br>index=%{x}<br>value=%{y}<extra></extra>",
         "legendgroup": "0.40",
         "line": {
          "color": "#FF6692",
          "dash": "solid"
         },
         "marker": {
          "symbol": "circle"
         },
         "mode": "lines",
         "name": "0.40",
         "orientation": "v",
         "showlegend": true,
         "type": "scatter",
         "x": [
          0,
          1,
          2,
          3,
          4,
          5,
          6,
          7,
          8,
          9,
          10,
          11,
          12,
          13,
          14,
          15,
          16,
          17,
          18,
          19,
          20,
          21,
          22,
          23,
          24,
          25,
          26,
          27,
          28,
          29,
          30,
          31,
          32,
          33,
          34,
          35,
          36,
          37,
          38,
          39,
          40,
          41,
          42,
          43,
          44,
          45,
          46,
          47,
          48,
          49
         ],
         "xaxis": "x",
         "y": [
          0.08182926829268293,
          0.09302439024390244,
          0.11629268292682927,
          0.16975609756097562,
          0.23190243902439026,
          0.26270731707317074,
          0.24917073170731707,
          0.23221951219512196,
          0.2397560975609756,
          0.2740487804878049,
          0.3190487804878049,
          0.3632439024390244,
          0.39546341463414636,
          0.42078048780487803,
          0.45370731707317075,
          0.49204878048780487,
          0.5297073170731708,
          0.5609268292682927,
          0.5886829268292683,
          0.6133658536585366,
          0.6365121951219512,
          0.6591951219512195,
          0.6785853658536586,
          0.6962682926829268,
          0.7131951219512195,
          0.726780487804878,
          0.7378780487804878,
          0.7482439024390244,
          0.756390243902439,
          0.7633414634146342,
          0.7707317073170732,
          0.7768048780487805,
          0.7829024390243903,
          0.7866341463414634,
          0.7920487804878049,
          0.7936829268292683,
          0.8009268292682927,
          0.7901951219512195,
          0.7881463414634147,
          0.7216341463414634,
          0.6812439024390244,
          0.6093170731707317,
          0.6012682926829268,
          0.591170731707317,
          0.6841707317073171,
          0.7596829268292683,
          0.7983658536585366,
          0.802829268292683,
          0.8189268292682926,
          0.8156585365853658
         ],
         "yaxis": "y"
        },
        {
         "hovertemplate": "variable=0.45<br>index=%{x}<br>value=%{y}<extra></extra>",
         "legendgroup": "0.45",
         "line": {
          "color": "#B6E880",
          "dash": "solid"
         },
         "marker": {
          "symbol": "circle"
         },
         "mode": "lines",
         "name": "0.45",
         "orientation": "v",
         "showlegend": true,
         "type": "scatter",
         "x": [
          0,
          1,
          2,
          3,
          4,
          5,
          6,
          7,
          8,
          9,
          10,
          11,
          12,
          13,
          14,
          15,
          16,
          17,
          18,
          19,
          20,
          21,
          22,
          23,
          24,
          25,
          26,
          27,
          28,
          29,
          30,
          31,
          32,
          33,
          34,
          35,
          36,
          37,
          38,
          39,
          40,
          41,
          42,
          43,
          44,
          45,
          46,
          47,
          48,
          49
         ],
         "xaxis": "x",
         "y": [
          0.11278048780487805,
          0.15185365853658536,
          0.21229268292682926,
          0.271609756097561,
          0.32082926829268293,
          0.35997560975609755,
          0.3914878048780488,
          0.4134634146341463,
          0.4269268292682927,
          0.43534146341463414,
          0.4513170731707317,
          0.47185365853658534,
          0.4908780487804878,
          0.5101707317073171,
          0.5291707317073171,
          0.5487560975609757,
          0.5790975609756097,
          0.6374878048780488,
          0.6850487804878049,
          0.7152682926829268,
          0.7322439024390244,
          0.7468292682926829,
          0.7584146341463415,
          0.7661219512195122,
          0.7741707317073171,
          0.7818780487804878,
          0.787219512195122,
          0.7947317073170732,
          0.7978780487804878,
          0.8049024390243903,
          0.8025853658536586,
          0.8103658536585366,
          0.7707073170731708,
          0.743780487804878,
          0.6612439024390244,
          0.6525365853658537,
          0.6556829268292683,
          0.8034146341463415,
          0.7841219512195122,
          0.828170731707317,
          0.8129024390243902,
          0.8302439024390244,
          0.8078536585365854,
          0.8222682926829268,
          0.7755853658536586,
          0.7860731707317073,
          0.7175853658536585,
          0.7681463414634147,
          0.7328536585365854,
          0.8056341463414635
         ],
         "yaxis": "y"
        },
        {
         "hovertemplate": "variable=0.50<br>index=%{x}<br>value=%{y}<extra></extra>",
         "legendgroup": "0.50",
         "line": {
          "color": "#FF97FF",
          "dash": "solid"
         },
         "marker": {
          "symbol": "circle"
         },
         "mode": "lines",
         "name": "0.50",
         "orientation": "v",
         "showlegend": true,
         "type": "scatter",
         "x": [
          0,
          1,
          2,
          3,
          4,
          5,
          6,
          7,
          8,
          9,
          10,
          11,
          12,
          13,
          14,
          15,
          16,
          17,
          18,
          19,
          20,
          21,
          22,
          23,
          24,
          25,
          26,
          27,
          28,
          29,
          30,
          31,
          32,
          33,
          34,
          35,
          36,
          37,
          38,
          39,
          40,
          41,
          42,
          43,
          44,
          45,
          46,
          47,
          48,
          49
         ],
         "xaxis": "x",
         "y": [
          0.10873170731707317,
          0.14212195121951218,
          0.1945609756097561,
          0.2468780487804878,
          0.27719512195121954,
          0.281780487804878,
          0.276219512195122,
          0.27846341463414637,
          0.29421951219512193,
          0.3210487804878049,
          0.34953658536585364,
          0.3806341463414634,
          0.4125853658536585,
          0.44865853658536586,
          0.48846341463414633,
          0.5377804878048781,
          0.5811463414634146,
          0.6204878048780488,
          0.6520243902439025,
          0.6757073170731708,
          0.6962682926829268,
          0.7140975609756097,
          0.730390243902439,
          0.7440975609756098,
          0.7552926829268293,
          0.7653658536585366,
          0.774,
          0.7791219512195122,
          0.7828780487804878,
          0.7547317073170732,
          0.6490487804878049,
          0.5128780487804878,
          0.4880731707317073,
          0.5150975609756098,
          0.6825609756097561,
          0.7934634146341464,
          0.7865853658536586,
          0.8132195121951219,
          0.7932682926829269,
          0.8084634146341464,
          0.7691707317073171,
          0.7650487804878049,
          0.7065609756097561,
          0.7184634146341463,
          0.7006829268292682,
          0.7834146341463415,
          0.7793170731707317,
          0.8218048780487804,
          0.8078536585365854,
          0.8280975609756097
         ],
         "yaxis": "y"
        },
        {
         "hovertemplate": "variable=0.55<br>index=%{x}<br>value=%{y}<extra></extra>",
         "legendgroup": "0.55",
         "line": {
          "color": "#FECB52",
          "dash": "solid"
         },
         "marker": {
          "symbol": "circle"
         },
         "mode": "lines",
         "name": "0.55",
         "orientation": "v",
         "showlegend": true,
         "type": "scatter",
         "x": [
          0,
          1,
          2,
          3,
          4,
          5,
          6,
          7,
          8,
          9,
          10,
          11,
          12,
          13,
          14,
          15,
          16,
          17,
          18,
          19,
          20,
          21,
          22,
          23,
          24,
          25,
          26,
          27,
          28,
          29,
          30,
          31,
          32,
          33,
          34,
          35,
          36,
          37,
          38,
          39,
          40,
          41,
          42,
          43,
          44,
          45,
          46,
          47,
          48,
          49
         ],
         "xaxis": "x",
         "y": [
          0.09858536585365854,
          0.11007317073170732,
          0.13029268292682927,
          0.17785365853658536,
          0.24165853658536585,
          0.29817073170731706,
          0.33219512195121953,
          0.35517073170731706,
          0.3708048780487805,
          0.3793658536585366,
          0.3875609756097561,
          0.40551219512195125,
          0.4320487804878049,
          0.46358536585365856,
          0.49434146341463414,
          0.5314878048780488,
          0.5775121951219512,
          0.6286585365853659,
          0.6560975609756098,
          0.6771707317073171,
          0.6935365853658536,
          0.7129756097560975,
          0.7134390243902439,
          0.703780487804878,
          0.5401951219512195,
          0.42653658536585365,
          0.35573170731707315,
          0.520829268292683,
          0.6867804878048781,
          0.7362439024390244,
          0.7684390243902439,
          0.7792926829268293,
          0.7830975609756098,
          0.7781463414634147,
          0.7360731707317073,
          0.658829268292683,
          0.6249512195121951,
          0.6330243902439024,
          0.6589756097560976,
          0.7685121951219512,
          0.7485609756097561,
          0.7723658536585366,
          0.7368780487804878,
          0.7424634146341463,
          0.710390243902439,
          0.7253658536585366,
          0.7132195121951219,
          0.7509512195121951,
          0.7495853658536585,
          0.7865121951219513
         ],
         "yaxis": "y"
        },
        {
         "hovertemplate": "variable=0.60<br>index=%{x}<br>value=%{y}<extra></extra>",
         "legendgroup": "0.60",
         "line": {
          "color": "#636efa",
          "dash": "solid"
         },
         "marker": {
          "symbol": "circle"
         },
         "mode": "lines",
         "name": "0.60",
         "orientation": "v",
         "showlegend": true,
         "type": "scatter",
         "x": [
          0,
          1,
          2,
          3,
          4,
          5,
          6,
          7,
          8,
          9,
          10,
          11,
          12,
          13,
          14,
          15,
          16,
          17,
          18,
          19,
          20,
          21,
          22,
          23,
          24,
          25,
          26,
          27,
          28,
          29,
          30,
          31,
          32,
          33,
          34,
          35,
          36,
          37,
          38,
          39,
          40,
          41,
          42,
          43,
          44,
          45,
          46,
          47,
          48,
          49
         ],
         "xaxis": "x",
         "y": [
          0.1285609756097561,
          0.171609756097561,
          0.22095121951219512,
          0.2679268292682927,
          0.2928292682926829,
          0.31402439024390244,
          0.3545121951219512,
          0.42878048780487804,
          0.5095853658536585,
          0.5557317073170732,
          0.5974390243902439,
          0.6462682926829268,
          0.695170731707317,
          0.7275365853658536,
          0.7501219512195122,
          0.7665609756097561,
          0.7802682926829269,
          0.7904634146341464,
          0.7993170731707318,
          0.8050487804878049,
          0.8092682926829269,
          0.7996829268292683,
          0.6765365853658537,
          0.5230487804878049,
          0.4538536585365854,
          0.49841463414634146,
          0.556609756097561,
          0.6741219512195122,
          0.7477317073170732,
          0.7712682926829268,
          0.7626585365853659,
          0.7508780487804878,
          0.7270731707317073,
          0.7299024390243902,
          0.7128292682926829,
          0.7535365853658537,
          0.74,
          0.7645853658536585,
          0.7518536585365854,
          0.7816829268292683,
          0.7708048780487805,
          0.8079756097560976,
          0.7943414634146342,
          0.8265853658536585,
          0.8116341463414635,
          0.8375853658536585,
          0.8229024390243902,
          0.8438780487804878,
          0.8296341463414634,
          0.8498048780487805
         ],
         "yaxis": "y"
        },
        {
         "hovertemplate": "variable=0.65<br>index=%{x}<br>value=%{y}<extra></extra>",
         "legendgroup": "0.65",
         "line": {
          "color": "#EF553B",
          "dash": "solid"
         },
         "marker": {
          "symbol": "circle"
         },
         "mode": "lines",
         "name": "0.65",
         "orientation": "v",
         "showlegend": true,
         "type": "scatter",
         "x": [
          0,
          1,
          2,
          3,
          4,
          5,
          6,
          7,
          8,
          9,
          10,
          11,
          12,
          13,
          14,
          15,
          16,
          17,
          18,
          19,
          20,
          21,
          22,
          23,
          24,
          25,
          26,
          27,
          28,
          29,
          30,
          31,
          32,
          33,
          34,
          35,
          36,
          37,
          38,
          39,
          40,
          41,
          42,
          43,
          44,
          45,
          46,
          47,
          48,
          49
         ],
         "xaxis": "x",
         "y": [
          0.06997560975609757,
          0.12004878048780487,
          0.17017073170731709,
          0.18021951219512194,
          0.18265853658536585,
          0.19253658536585366,
          0.2183170731707317,
          0.2571951219512195,
          0.31465853658536586,
          0.41309756097560973,
          0.48304878048780486,
          0.5343414634146342,
          0.5848048780487805,
          0.6214878048780488,
          0.6455853658536586,
          0.6671219512195122,
          0.6919268292682926,
          0.679829268292683,
          0.606390243902439,
          0.3854878048780488,
          0.28736585365853656,
          0.289,
          0.39495121951219514,
          0.4994878048780488,
          0.624780487804878,
          0.7342682926829268,
          0.7659268292682927,
          0.7799512195121951,
          0.7885365853658537,
          0.791219512195122,
          0.7737073170731708,
          0.6998292682926829,
          0.5984146341463414,
          0.4988048780487805,
          0.5460487804878049,
          0.6536829268292683,
          0.8061707317073171,
          0.8259024390243902,
          0.8351219512195122,
          0.8402926829268292,
          0.8438048780487805,
          0.8498048780487805,
          0.8495853658536585,
          0.8529024390243902,
          0.8369268292682926,
          0.8018536585365854,
          0.6997073170731707,
          0.6482682926829268,
          0.6647804878048781,
          0.8174634146341463
         ],
         "yaxis": "y"
        }
       ],
       "layout": {
        "legend": {
         "title": {
          "text": "variable"
         },
         "tracegroupgap": 0
        },
        "margin": {
         "t": 60
        },
        "template": {
         "data": {
          "bar": [
           {
            "error_x": {
             "color": "#2a3f5f"
            },
            "error_y": {
             "color": "#2a3f5f"
            },
            "marker": {
             "line": {
              "color": "#E5ECF6",
              "width": 0.5
             },
             "pattern": {
              "fillmode": "overlay",
              "size": 10,
              "solidity": 0.2
             }
            },
            "type": "bar"
           }
          ],
          "barpolar": [
           {
            "marker": {
             "line": {
              "color": "#E5ECF6",
              "width": 0.5
             },
             "pattern": {
              "fillmode": "overlay",
              "size": 10,
              "solidity": 0.2
             }
            },
            "type": "barpolar"
           }
          ],
          "carpet": [
           {
            "aaxis": {
             "endlinecolor": "#2a3f5f",
             "gridcolor": "white",
             "linecolor": "white",
             "minorgridcolor": "white",
             "startlinecolor": "#2a3f5f"
            },
            "baxis": {
             "endlinecolor": "#2a3f5f",
             "gridcolor": "white",
             "linecolor": "white",
             "minorgridcolor": "white",
             "startlinecolor": "#2a3f5f"
            },
            "type": "carpet"
           }
          ],
          "choropleth": [
           {
            "colorbar": {
             "outlinewidth": 0,
             "ticks": ""
            },
            "type": "choropleth"
           }
          ],
          "contour": [
           {
            "colorbar": {
             "outlinewidth": 0,
             "ticks": ""
            },
            "colorscale": [
             [
              0,
              "#0d0887"
             ],
             [
              0.1111111111111111,
              "#46039f"
             ],
             [
              0.2222222222222222,
              "#7201a8"
             ],
             [
              0.3333333333333333,
              "#9c179e"
             ],
             [
              0.4444444444444444,
              "#bd3786"
             ],
             [
              0.5555555555555556,
              "#d8576b"
             ],
             [
              0.6666666666666666,
              "#ed7953"
             ],
             [
              0.7777777777777778,
              "#fb9f3a"
             ],
             [
              0.8888888888888888,
              "#fdca26"
             ],
             [
              1,
              "#f0f921"
             ]
            ],
            "type": "contour"
           }
          ],
          "contourcarpet": [
           {
            "colorbar": {
             "outlinewidth": 0,
             "ticks": ""
            },
            "type": "contourcarpet"
           }
          ],
          "heatmap": [
           {
            "colorbar": {
             "outlinewidth": 0,
             "ticks": ""
            },
            "colorscale": [
             [
              0,
              "#0d0887"
             ],
             [
              0.1111111111111111,
              "#46039f"
             ],
             [
              0.2222222222222222,
              "#7201a8"
             ],
             [
              0.3333333333333333,
              "#9c179e"
             ],
             [
              0.4444444444444444,
              "#bd3786"
             ],
             [
              0.5555555555555556,
              "#d8576b"
             ],
             [
              0.6666666666666666,
              "#ed7953"
             ],
             [
              0.7777777777777778,
              "#fb9f3a"
             ],
             [
              0.8888888888888888,
              "#fdca26"
             ],
             [
              1,
              "#f0f921"
             ]
            ],
            "type": "heatmap"
           }
          ],
          "heatmapgl": [
           {
            "colorbar": {
             "outlinewidth": 0,
             "ticks": ""
            },
            "colorscale": [
             [
              0,
              "#0d0887"
             ],
             [
              0.1111111111111111,
              "#46039f"
             ],
             [
              0.2222222222222222,
              "#7201a8"
             ],
             [
              0.3333333333333333,
              "#9c179e"
             ],
             [
              0.4444444444444444,
              "#bd3786"
             ],
             [
              0.5555555555555556,
              "#d8576b"
             ],
             [
              0.6666666666666666,
              "#ed7953"
             ],
             [
              0.7777777777777778,
              "#fb9f3a"
             ],
             [
              0.8888888888888888,
              "#fdca26"
             ],
             [
              1,
              "#f0f921"
             ]
            ],
            "type": "heatmapgl"
           }
          ],
          "histogram": [
           {
            "marker": {
             "pattern": {
              "fillmode": "overlay",
              "size": 10,
              "solidity": 0.2
             }
            },
            "type": "histogram"
           }
          ],
          "histogram2d": [
           {
            "colorbar": {
             "outlinewidth": 0,
             "ticks": ""
            },
            "colorscale": [
             [
              0,
              "#0d0887"
             ],
             [
              0.1111111111111111,
              "#46039f"
             ],
             [
              0.2222222222222222,
              "#7201a8"
             ],
             [
              0.3333333333333333,
              "#9c179e"
             ],
             [
              0.4444444444444444,
              "#bd3786"
             ],
             [
              0.5555555555555556,
              "#d8576b"
             ],
             [
              0.6666666666666666,
              "#ed7953"
             ],
             [
              0.7777777777777778,
              "#fb9f3a"
             ],
             [
              0.8888888888888888,
              "#fdca26"
             ],
             [
              1,
              "#f0f921"
             ]
            ],
            "type": "histogram2d"
           }
          ],
          "histogram2dcontour": [
           {
            "colorbar": {
             "outlinewidth": 0,
             "ticks": ""
            },
            "colorscale": [
             [
              0,
              "#0d0887"
             ],
             [
              0.1111111111111111,
              "#46039f"
             ],
             [
              0.2222222222222222,
              "#7201a8"
             ],
             [
              0.3333333333333333,
              "#9c179e"
             ],
             [
              0.4444444444444444,
              "#bd3786"
             ],
             [
              0.5555555555555556,
              "#d8576b"
             ],
             [
              0.6666666666666666,
              "#ed7953"
             ],
             [
              0.7777777777777778,
              "#fb9f3a"
             ],
             [
              0.8888888888888888,
              "#fdca26"
             ],
             [
              1,
              "#f0f921"
             ]
            ],
            "type": "histogram2dcontour"
           }
          ],
          "mesh3d": [
           {
            "colorbar": {
             "outlinewidth": 0,
             "ticks": ""
            },
            "type": "mesh3d"
           }
          ],
          "parcoords": [
           {
            "line": {
             "colorbar": {
              "outlinewidth": 0,
              "ticks": ""
             }
            },
            "type": "parcoords"
           }
          ],
          "pie": [
           {
            "automargin": true,
            "type": "pie"
           }
          ],
          "scatter": [
           {
            "marker": {
             "colorbar": {
              "outlinewidth": 0,
              "ticks": ""
             }
            },
            "type": "scatter"
           }
          ],
          "scatter3d": [
           {
            "line": {
             "colorbar": {
              "outlinewidth": 0,
              "ticks": ""
             }
            },
            "marker": {
             "colorbar": {
              "outlinewidth": 0,
              "ticks": ""
             }
            },
            "type": "scatter3d"
           }
          ],
          "scattercarpet": [
           {
            "marker": {
             "colorbar": {
              "outlinewidth": 0,
              "ticks": ""
             }
            },
            "type": "scattercarpet"
           }
          ],
          "scattergeo": [
           {
            "marker": {
             "colorbar": {
              "outlinewidth": 0,
              "ticks": ""
             }
            },
            "type": "scattergeo"
           }
          ],
          "scattergl": [
           {
            "marker": {
             "colorbar": {
              "outlinewidth": 0,
              "ticks": ""
             }
            },
            "type": "scattergl"
           }
          ],
          "scattermapbox": [
           {
            "marker": {
             "colorbar": {
              "outlinewidth": 0,
              "ticks": ""
             }
            },
            "type": "scattermapbox"
           }
          ],
          "scatterpolar": [
           {
            "marker": {
             "colorbar": {
              "outlinewidth": 0,
              "ticks": ""
             }
            },
            "type": "scatterpolar"
           }
          ],
          "scatterpolargl": [
           {
            "marker": {
             "colorbar": {
              "outlinewidth": 0,
              "ticks": ""
             }
            },
            "type": "scatterpolargl"
           }
          ],
          "scatterternary": [
           {
            "marker": {
             "colorbar": {
              "outlinewidth": 0,
              "ticks": ""
             }
            },
            "type": "scatterternary"
           }
          ],
          "surface": [
           {
            "colorbar": {
             "outlinewidth": 0,
             "ticks": ""
            },
            "colorscale": [
             [
              0,
              "#0d0887"
             ],
             [
              0.1111111111111111,
              "#46039f"
             ],
             [
              0.2222222222222222,
              "#7201a8"
             ],
             [
              0.3333333333333333,
              "#9c179e"
             ],
             [
              0.4444444444444444,
              "#bd3786"
             ],
             [
              0.5555555555555556,
              "#d8576b"
             ],
             [
              0.6666666666666666,
              "#ed7953"
             ],
             [
              0.7777777777777778,
              "#fb9f3a"
             ],
             [
              0.8888888888888888,
              "#fdca26"
             ],
             [
              1,
              "#f0f921"
             ]
            ],
            "type": "surface"
           }
          ],
          "table": [
           {
            "cells": {
             "fill": {
              "color": "#EBF0F8"
             },
             "line": {
              "color": "white"
             }
            },
            "header": {
             "fill": {
              "color": "#C8D4E3"
             },
             "line": {
              "color": "white"
             }
            },
            "type": "table"
           }
          ]
         },
         "layout": {
          "annotationdefaults": {
           "arrowcolor": "#2a3f5f",
           "arrowhead": 0,
           "arrowwidth": 1
          },
          "autotypenumbers": "strict",
          "coloraxis": {
           "colorbar": {
            "outlinewidth": 0,
            "ticks": ""
           }
          },
          "colorscale": {
           "diverging": [
            [
             0,
             "#8e0152"
            ],
            [
             0.1,
             "#c51b7d"
            ],
            [
             0.2,
             "#de77ae"
            ],
            [
             0.3,
             "#f1b6da"
            ],
            [
             0.4,
             "#fde0ef"
            ],
            [
             0.5,
             "#f7f7f7"
            ],
            [
             0.6,
             "#e6f5d0"
            ],
            [
             0.7,
             "#b8e186"
            ],
            [
             0.8,
             "#7fbc41"
            ],
            [
             0.9,
             "#4d9221"
            ],
            [
             1,
             "#276419"
            ]
           ],
           "sequential": [
            [
             0,
             "#0d0887"
            ],
            [
             0.1111111111111111,
             "#46039f"
            ],
            [
             0.2222222222222222,
             "#7201a8"
            ],
            [
             0.3333333333333333,
             "#9c179e"
            ],
            [
             0.4444444444444444,
             "#bd3786"
            ],
            [
             0.5555555555555556,
             "#d8576b"
            ],
            [
             0.6666666666666666,
             "#ed7953"
            ],
            [
             0.7777777777777778,
             "#fb9f3a"
            ],
            [
             0.8888888888888888,
             "#fdca26"
            ],
            [
             1,
             "#f0f921"
            ]
           ],
           "sequentialminus": [
            [
             0,
             "#0d0887"
            ],
            [
             0.1111111111111111,
             "#46039f"
            ],
            [
             0.2222222222222222,
             "#7201a8"
            ],
            [
             0.3333333333333333,
             "#9c179e"
            ],
            [
             0.4444444444444444,
             "#bd3786"
            ],
            [
             0.5555555555555556,
             "#d8576b"
            ],
            [
             0.6666666666666666,
             "#ed7953"
            ],
            [
             0.7777777777777778,
             "#fb9f3a"
            ],
            [
             0.8888888888888888,
             "#fdca26"
            ],
            [
             1,
             "#f0f921"
            ]
           ]
          },
          "colorway": [
           "#636efa",
           "#EF553B",
           "#00cc96",
           "#ab63fa",
           "#FFA15A",
           "#19d3f3",
           "#FF6692",
           "#B6E880",
           "#FF97FF",
           "#FECB52"
          ],
          "font": {
           "color": "#2a3f5f"
          },
          "geo": {
           "bgcolor": "white",
           "lakecolor": "white",
           "landcolor": "#E5ECF6",
           "showlakes": true,
           "showland": true,
           "subunitcolor": "white"
          },
          "hoverlabel": {
           "align": "left"
          },
          "hovermode": "closest",
          "mapbox": {
           "style": "light"
          },
          "paper_bgcolor": "white",
          "plot_bgcolor": "#E5ECF6",
          "polar": {
           "angularaxis": {
            "gridcolor": "white",
            "linecolor": "white",
            "ticks": ""
           },
           "bgcolor": "#E5ECF6",
           "radialaxis": {
            "gridcolor": "white",
            "linecolor": "white",
            "ticks": ""
           }
          },
          "scene": {
           "xaxis": {
            "backgroundcolor": "#E5ECF6",
            "gridcolor": "white",
            "gridwidth": 2,
            "linecolor": "white",
            "showbackground": true,
            "ticks": "",
            "zerolinecolor": "white"
           },
           "yaxis": {
            "backgroundcolor": "#E5ECF6",
            "gridcolor": "white",
            "gridwidth": 2,
            "linecolor": "white",
            "showbackground": true,
            "ticks": "",
            "zerolinecolor": "white"
           },
           "zaxis": {
            "backgroundcolor": "#E5ECF6",
            "gridcolor": "white",
            "gridwidth": 2,
            "linecolor": "white",
            "showbackground": true,
            "ticks": "",
            "zerolinecolor": "white"
           }
          },
          "shapedefaults": {
           "line": {
            "color": "#2a3f5f"
           }
          },
          "ternary": {
           "aaxis": {
            "gridcolor": "white",
            "linecolor": "white",
            "ticks": ""
           },
           "baxis": {
            "gridcolor": "white",
            "linecolor": "white",
            "ticks": ""
           },
           "bgcolor": "#E5ECF6",
           "caxis": {
            "gridcolor": "white",
            "linecolor": "white",
            "ticks": ""
           }
          },
          "title": {
           "x": 0.05
          },
          "xaxis": {
           "automargin": true,
           "gridcolor": "white",
           "linecolor": "white",
           "ticks": "",
           "title": {
            "standoff": 15
           },
           "zerolinecolor": "white",
           "zerolinewidth": 2
          },
          "yaxis": {
           "automargin": true,
           "gridcolor": "white",
           "linecolor": "white",
           "ticks": "",
           "title": {
            "standoff": 15
           },
           "zerolinecolor": "white",
           "zerolinewidth": 2
          }
         }
        },
        "xaxis": {
         "anchor": "y",
         "domain": [
          0,
          1
         ],
         "title": {
          "text": "index"
         }
        },
        "yaxis": {
         "anchor": "x",
         "domain": [
          0,
          1
         ],
         "title": {
          "text": "value"
         }
        }
       }
      },
      "text/html": [
       "<div>                            <div id=\"b24b0634-eb2d-4968-93f0-3c59ff54b32d\" class=\"plotly-graph-div\" style=\"height:525px; width:100%;\"></div>            <script type=\"text/javascript\">                require([\"plotly\"], function(Plotly) {                    window.PLOTLYENV=window.PLOTLYENV || {};                                    if (document.getElementById(\"b24b0634-eb2d-4968-93f0-3c59ff54b32d\")) {                    Plotly.newPlot(                        \"b24b0634-eb2d-4968-93f0-3c59ff54b32d\",                        [{\"hovertemplate\":\"variable=0.10<br>index=%{x}<br>value=%{y}<extra></extra>\",\"legendgroup\":\"0.10\",\"line\":{\"color\":\"#636efa\",\"dash\":\"solid\"},\"marker\":{\"symbol\":\"circle\"},\"mode\":\"lines\",\"name\":\"0.10\",\"orientation\":\"v\",\"showlegend\":true,\"x\":[0,1,2,3,4,5,6,7,8,9,10,11,12,13,14,15,16,17,18,19,20,21,22,23,24,25,26,27,28,29,30,31,32,33,34,35,36,37,38,39,40,41,42,43,44,45,46,47,48,49],\"xaxis\":\"x\",\"y\":[0.08878048780487804,0.09590243902439025,0.1038780487804878,0.11197560975609756,0.12078048780487805,0.13082926829268293,0.14109756097560974,0.15295121951219512,0.1634878048780488,0.1747560975609756,0.18548780487804878,0.19504878048780488,0.2033170731707317,0.21085365853658536,0.21792682926829268,0.2238780487804878,0.229,0.2320487804878049,0.23614634146341462,0.23924390243902438,0.24090243902439024,0.24236585365853658,0.24360975609756097,0.24453658536585365,0.24653658536585366,0.2498780487804878,0.2524878048780488,0.255,0.2580487804878049,0.2616829268292683,0.26495121951219514,0.26914634146341465,0.27351219512195124,0.2775609756097561,0.2825853658536585,0.2869024390243902,0.2912682926829268,0.2946829268292683,0.2984390243902439,0.3028292682926829,0.3061951219512195,0.31017073170731707,0.31378048780487805,0.31670731707317074,0.3205609756097561,0.3242439024390244,0.3277560975609756,0.33170731707317075,0.3357317073170732,0.3397804878048781],\"yaxis\":\"y\",\"type\":\"scatter\"},{\"hovertemplate\":\"variable=0.15<br>index=%{x}<br>value=%{y}<extra></extra>\",\"legendgroup\":\"0.15\",\"line\":{\"color\":\"#EF553B\",\"dash\":\"solid\"},\"marker\":{\"symbol\":\"circle\"},\"mode\":\"lines\",\"name\":\"0.15\",\"orientation\":\"v\",\"showlegend\":true,\"x\":[0,1,2,3,4,5,6,7,8,9,10,11,12,13,14,15,16,17,18,19,20,21,22,23,24,25,26,27,28,29,30,31,32,33,34,35,36,37,38,39,40,41,42,43,44,45,46,47,48,49],\"xaxis\":\"x\",\"y\":[0.08195121951219513,0.08614634146341463,0.09065853658536585,0.09531707317073171,0.10097560975609757,0.10704878048780488,0.1144390243902439,0.1224390243902439,0.13251219512195123,0.14385365853658535,0.15760975609756098,0.17304878048780487,0.18960975609756098,0.20692682926829267,0.22295121951219513,0.23690243902439023,0.24907317073170732,0.2606341463414634,0.2692926829268293,0.27870731707317076,0.29036585365853657,0.3055121951219512,0.32270731707317074,0.3384146341463415,0.3532682926829268,0.36685365853658536,0.3804390243902439,0.39434146341463416,0.40656097560975607,0.4181463414634146,0.4284390243902439,0.437609756097561,0.44570731707317074,0.4528536585365854,0.46019512195121953,0.4676585365853659,0.47509756097560973,0.48197560975609754,0.4895853658536585,0.49834146341463414,0.5090731707317073,0.5204634146341464,0.5337560975609756,0.5476585365853659,0.5616341463414635,0.5761219512195122,0.5918536585365853,0.6068292682926829,0.6217073170731707,0.634219512195122],\"yaxis\":\"y\",\"type\":\"scatter\"},{\"hovertemplate\":\"variable=0.20<br>index=%{x}<br>value=%{y}<extra></extra>\",\"legendgroup\":\"0.20\",\"line\":{\"color\":\"#00cc96\",\"dash\":\"solid\"},\"marker\":{\"symbol\":\"circle\"},\"mode\":\"lines\",\"name\":\"0.20\",\"orientation\":\"v\",\"showlegend\":true,\"x\":[0,1,2,3,4,5,6,7,8,9,10,11,12,13,14,15,16,17,18,19,20,21,22,23,24,25,26,27,28,29,30,31,32,33,34,35,36,37,38,39,40,41,42,43,44,45,46,47,48,49],\"xaxis\":\"x\",\"y\":[0.11339024390243903,0.1274390243902439,0.13814634146341465,0.1464390243902439,0.15378048780487805,0.16034146341463415,0.16829268292682928,0.17573170731707316,0.18314634146341463,0.18929268292682927,0.19060975609756098,0.18848780487804878,0.1858048780487805,0.18480487804878049,0.18773170731707317,0.19341463414634147,0.2021219512195122,0.2126829268292683,0.22714634146341464,0.24473170731707317,0.26434146341463416,0.28524390243902437,0.30941463414634146,0.3311219512195122,0.3520731707317073,0.37217073170731707,0.3912926829268293,0.4053658536585366,0.4172682926829268,0.4253170731707317,0.43721951219512195,0.4562439024390244,0.48236585365853657,0.5087073170731707,0.5307317073170732,0.5493658536585366,0.5640487804878048,0.5798780487804878,0.5924146341463414,0.6074634146341463,0.6208048780487805,0.6334390243902439,0.6448780487804878,0.654609756097561,0.6643902439024391,0.6717073170731708,0.6791463414634147,0.6854634146341464,0.6910731707317073,0.697],\"yaxis\":\"y\",\"type\":\"scatter\"},{\"hovertemplate\":\"variable=0.25<br>index=%{x}<br>value=%{y}<extra></extra>\",\"legendgroup\":\"0.25\",\"line\":{\"color\":\"#ab63fa\",\"dash\":\"solid\"},\"marker\":{\"symbol\":\"circle\"},\"mode\":\"lines\",\"name\":\"0.25\",\"orientation\":\"v\",\"showlegend\":true,\"x\":[0,1,2,3,4,5,6,7,8,9,10,11,12,13,14,15,16,17,18,19,20,21,22,23,24,25,26,27,28,29,30,31,32,33,34,35,36,37,38,39,40,41,42,43,44,45,46,47,48,49],\"xaxis\":\"x\",\"y\":[0.06978048780487806,0.09053658536585366,0.11487804878048781,0.1390487804878049,0.1618780487804878,0.18165853658536585,0.2022439024390244,0.23560975609756096,0.2735365853658537,0.29997560975609755,0.31382926829268293,0.3162439024390244,0.3176829268292683,0.32053658536585367,0.3274390243902439,0.33819512195121954,0.35060975609756095,0.36329268292682926,0.37709756097560976,0.3911219512195122,0.406780487804878,0.42197560975609755,0.4392439024390244,0.45651219512195124,0.4753414634146341,0.4937560975609756,0.5115121951219512,0.529609756097561,0.5462926829268293,0.5640975609756097,0.5827317073170731,0.602170731707317,0.6212926829268293,0.6408048780487805,0.6580975609756098,0.6741219512195122,0.6882195121951219,0.7010243902439024,0.7130487804878048,0.7235365853658536,0.7328536585365854,0.7422439024390244,0.75,0.7572926829268293,0.7640243902439025,0.7706341463414634,0.776609756097561,0.7811707317073171,0.7861707317073171,0.7903902439024391],\"yaxis\":\"y\",\"type\":\"scatter\"},{\"hovertemplate\":\"variable=0.30<br>index=%{x}<br>value=%{y}<extra></extra>\",\"legendgroup\":\"0.30\",\"line\":{\"color\":\"#FFA15A\",\"dash\":\"solid\"},\"marker\":{\"symbol\":\"circle\"},\"mode\":\"lines\",\"name\":\"0.30\",\"orientation\":\"v\",\"showlegend\":true,\"x\":[0,1,2,3,4,5,6,7,8,9,10,11,12,13,14,15,16,17,18,19,20,21,22,23,24,25,26,27,28,29,30,31,32,33,34,35,36,37,38,39,40,41,42,43,44,45,46,47,48,49],\"xaxis\":\"x\",\"y\":[0.09321951219512195,0.10678048780487805,0.13570731707317074,0.18151219512195121,0.24697560975609756,0.32141463414634147,0.3803170731707317,0.41360975609756095,0.42660975609756097,0.4338292682926829,0.43697560975609756,0.4412439024390244,0.44658536585365854,0.4498536585365854,0.4542439024390244,0.4608048780487805,0.4694390243902439,0.48060975609756096,0.49778048780487805,0.523609756097561,0.5537073170731708,0.5848292682926829,0.6134146341463415,0.6429024390243903,0.6664878048780488,0.6888780487804878,0.7058292682926829,0.7195853658536585,0.7307317073170732,0.7405609756097561,0.7485609756097561,0.7559024390243902,0.7618536585365854,0.7677560975609756,0.773219512195122,0.7775121951219512,0.7820487804878049,0.7862926829268293,0.7901951219512195,0.7935853658536586,0.7966829268292683,0.8003902439024391,0.8035609756097561,0.8067560975609757,0.8091951219512196,0.8119512195121952,0.8140731707317073,0.8162682926829268,0.8188780487804878,0.8215853658536585],\"yaxis\":\"y\",\"type\":\"scatter\"},{\"hovertemplate\":\"variable=0.35<br>index=%{x}<br>value=%{y}<extra></extra>\",\"legendgroup\":\"0.35\",\"line\":{\"color\":\"#19d3f3\",\"dash\":\"solid\"},\"marker\":{\"symbol\":\"circle\"},\"mode\":\"lines\",\"name\":\"0.35\",\"orientation\":\"v\",\"showlegend\":true,\"x\":[0,1,2,3,4,5,6,7,8,9,10,11,12,13,14,15,16,17,18,19,20,21,22,23,24,25,26,27,28,29,30,31,32,33,34,35,36,37,38,39,40,41,42,43,44,45,46,47,48,49],\"xaxis\":\"x\",\"y\":[0.1116829268292683,0.11173170731707317,0.11170731707317073,0.11170731707317073,0.11173170731707317,0.1121219512195122,0.11565853658536586,0.13634146341463416,0.1793170731707317,0.23378048780487806,0.2829512195121951,0.3158048780487805,0.3352439024390244,0.34187804878048783,0.3406829268292683,0.3368536585365854,0.33590243902439026,0.3387317073170732,0.34660975609756095,0.3598780487804878,0.3805609756097561,0.4071463414634146,0.4403658536585366,0.48160975609756096,0.5267804878048781,0.5711463414634146,0.6121463414634146,0.6461463414634147,0.6702682926829269,0.6899024390243902,0.7062439024390244,0.7207560975609756,0.7332682926829268,0.7457560975609756,0.756390243902439,0.7646829268292683,0.7712439024390244,0.777829268292683,0.783219512195122,0.7887073170731708,0.7929512195121952,0.7973902439024391,0.8011463414634147,0.8048780487804879,0.8080487804878049,0.8110975609756098,0.8141951219512195,0.8169024390243902,0.8194390243902439,0.8216585365853658],\"yaxis\":\"y\",\"type\":\"scatter\"},{\"hovertemplate\":\"variable=0.40<br>index=%{x}<br>value=%{y}<extra></extra>\",\"legendgroup\":\"0.40\",\"line\":{\"color\":\"#FF6692\",\"dash\":\"solid\"},\"marker\":{\"symbol\":\"circle\"},\"mode\":\"lines\",\"name\":\"0.40\",\"orientation\":\"v\",\"showlegend\":true,\"x\":[0,1,2,3,4,5,6,7,8,9,10,11,12,13,14,15,16,17,18,19,20,21,22,23,24,25,26,27,28,29,30,31,32,33,34,35,36,37,38,39,40,41,42,43,44,45,46,47,48,49],\"xaxis\":\"x\",\"y\":[0.08182926829268293,0.09302439024390244,0.11629268292682927,0.16975609756097562,0.23190243902439026,0.26270731707317074,0.24917073170731707,0.23221951219512196,0.2397560975609756,0.2740487804878049,0.3190487804878049,0.3632439024390244,0.39546341463414636,0.42078048780487803,0.45370731707317075,0.49204878048780487,0.5297073170731708,0.5609268292682927,0.5886829268292683,0.6133658536585366,0.6365121951219512,0.6591951219512195,0.6785853658536586,0.6962682926829268,0.7131951219512195,0.726780487804878,0.7378780487804878,0.7482439024390244,0.756390243902439,0.7633414634146342,0.7707317073170732,0.7768048780487805,0.7829024390243903,0.7866341463414634,0.7920487804878049,0.7936829268292683,0.8009268292682927,0.7901951219512195,0.7881463414634147,0.7216341463414634,0.6812439024390244,0.6093170731707317,0.6012682926829268,0.591170731707317,0.6841707317073171,0.7596829268292683,0.7983658536585366,0.802829268292683,0.8189268292682926,0.8156585365853658],\"yaxis\":\"y\",\"type\":\"scatter\"},{\"hovertemplate\":\"variable=0.45<br>index=%{x}<br>value=%{y}<extra></extra>\",\"legendgroup\":\"0.45\",\"line\":{\"color\":\"#B6E880\",\"dash\":\"solid\"},\"marker\":{\"symbol\":\"circle\"},\"mode\":\"lines\",\"name\":\"0.45\",\"orientation\":\"v\",\"showlegend\":true,\"x\":[0,1,2,3,4,5,6,7,8,9,10,11,12,13,14,15,16,17,18,19,20,21,22,23,24,25,26,27,28,29,30,31,32,33,34,35,36,37,38,39,40,41,42,43,44,45,46,47,48,49],\"xaxis\":\"x\",\"y\":[0.11278048780487805,0.15185365853658536,0.21229268292682926,0.271609756097561,0.32082926829268293,0.35997560975609755,0.3914878048780488,0.4134634146341463,0.4269268292682927,0.43534146341463414,0.4513170731707317,0.47185365853658534,0.4908780487804878,0.5101707317073171,0.5291707317073171,0.5487560975609757,0.5790975609756097,0.6374878048780488,0.6850487804878049,0.7152682926829268,0.7322439024390244,0.7468292682926829,0.7584146341463415,0.7661219512195122,0.7741707317073171,0.7818780487804878,0.787219512195122,0.7947317073170732,0.7978780487804878,0.8049024390243903,0.8025853658536586,0.8103658536585366,0.7707073170731708,0.743780487804878,0.6612439024390244,0.6525365853658537,0.6556829268292683,0.8034146341463415,0.7841219512195122,0.828170731707317,0.8129024390243902,0.8302439024390244,0.8078536585365854,0.8222682926829268,0.7755853658536586,0.7860731707317073,0.7175853658536585,0.7681463414634147,0.7328536585365854,0.8056341463414635],\"yaxis\":\"y\",\"type\":\"scatter\"},{\"hovertemplate\":\"variable=0.50<br>index=%{x}<br>value=%{y}<extra></extra>\",\"legendgroup\":\"0.50\",\"line\":{\"color\":\"#FF97FF\",\"dash\":\"solid\"},\"marker\":{\"symbol\":\"circle\"},\"mode\":\"lines\",\"name\":\"0.50\",\"orientation\":\"v\",\"showlegend\":true,\"x\":[0,1,2,3,4,5,6,7,8,9,10,11,12,13,14,15,16,17,18,19,20,21,22,23,24,25,26,27,28,29,30,31,32,33,34,35,36,37,38,39,40,41,42,43,44,45,46,47,48,49],\"xaxis\":\"x\",\"y\":[0.10873170731707317,0.14212195121951218,0.1945609756097561,0.2468780487804878,0.27719512195121954,0.281780487804878,0.276219512195122,0.27846341463414637,0.29421951219512193,0.3210487804878049,0.34953658536585364,0.3806341463414634,0.4125853658536585,0.44865853658536586,0.48846341463414633,0.5377804878048781,0.5811463414634146,0.6204878048780488,0.6520243902439025,0.6757073170731708,0.6962682926829268,0.7140975609756097,0.730390243902439,0.7440975609756098,0.7552926829268293,0.7653658536585366,0.774,0.7791219512195122,0.7828780487804878,0.7547317073170732,0.6490487804878049,0.5128780487804878,0.4880731707317073,0.5150975609756098,0.6825609756097561,0.7934634146341464,0.7865853658536586,0.8132195121951219,0.7932682926829269,0.8084634146341464,0.7691707317073171,0.7650487804878049,0.7065609756097561,0.7184634146341463,0.7006829268292682,0.7834146341463415,0.7793170731707317,0.8218048780487804,0.8078536585365854,0.8280975609756097],\"yaxis\":\"y\",\"type\":\"scatter\"},{\"hovertemplate\":\"variable=0.55<br>index=%{x}<br>value=%{y}<extra></extra>\",\"legendgroup\":\"0.55\",\"line\":{\"color\":\"#FECB52\",\"dash\":\"solid\"},\"marker\":{\"symbol\":\"circle\"},\"mode\":\"lines\",\"name\":\"0.55\",\"orientation\":\"v\",\"showlegend\":true,\"x\":[0,1,2,3,4,5,6,7,8,9,10,11,12,13,14,15,16,17,18,19,20,21,22,23,24,25,26,27,28,29,30,31,32,33,34,35,36,37,38,39,40,41,42,43,44,45,46,47,48,49],\"xaxis\":\"x\",\"y\":[0.09858536585365854,0.11007317073170732,0.13029268292682927,0.17785365853658536,0.24165853658536585,0.29817073170731706,0.33219512195121953,0.35517073170731706,0.3708048780487805,0.3793658536585366,0.3875609756097561,0.40551219512195125,0.4320487804878049,0.46358536585365856,0.49434146341463414,0.5314878048780488,0.5775121951219512,0.6286585365853659,0.6560975609756098,0.6771707317073171,0.6935365853658536,0.7129756097560975,0.7134390243902439,0.703780487804878,0.5401951219512195,0.42653658536585365,0.35573170731707315,0.520829268292683,0.6867804878048781,0.7362439024390244,0.7684390243902439,0.7792926829268293,0.7830975609756098,0.7781463414634147,0.7360731707317073,0.658829268292683,0.6249512195121951,0.6330243902439024,0.6589756097560976,0.7685121951219512,0.7485609756097561,0.7723658536585366,0.7368780487804878,0.7424634146341463,0.710390243902439,0.7253658536585366,0.7132195121951219,0.7509512195121951,0.7495853658536585,0.7865121951219513],\"yaxis\":\"y\",\"type\":\"scatter\"},{\"hovertemplate\":\"variable=0.60<br>index=%{x}<br>value=%{y}<extra></extra>\",\"legendgroup\":\"0.60\",\"line\":{\"color\":\"#636efa\",\"dash\":\"solid\"},\"marker\":{\"symbol\":\"circle\"},\"mode\":\"lines\",\"name\":\"0.60\",\"orientation\":\"v\",\"showlegend\":true,\"x\":[0,1,2,3,4,5,6,7,8,9,10,11,12,13,14,15,16,17,18,19,20,21,22,23,24,25,26,27,28,29,30,31,32,33,34,35,36,37,38,39,40,41,42,43,44,45,46,47,48,49],\"xaxis\":\"x\",\"y\":[0.1285609756097561,0.171609756097561,0.22095121951219512,0.2679268292682927,0.2928292682926829,0.31402439024390244,0.3545121951219512,0.42878048780487804,0.5095853658536585,0.5557317073170732,0.5974390243902439,0.6462682926829268,0.695170731707317,0.7275365853658536,0.7501219512195122,0.7665609756097561,0.7802682926829269,0.7904634146341464,0.7993170731707318,0.8050487804878049,0.8092682926829269,0.7996829268292683,0.6765365853658537,0.5230487804878049,0.4538536585365854,0.49841463414634146,0.556609756097561,0.6741219512195122,0.7477317073170732,0.7712682926829268,0.7626585365853659,0.7508780487804878,0.7270731707317073,0.7299024390243902,0.7128292682926829,0.7535365853658537,0.74,0.7645853658536585,0.7518536585365854,0.7816829268292683,0.7708048780487805,0.8079756097560976,0.7943414634146342,0.8265853658536585,0.8116341463414635,0.8375853658536585,0.8229024390243902,0.8438780487804878,0.8296341463414634,0.8498048780487805],\"yaxis\":\"y\",\"type\":\"scatter\"},{\"hovertemplate\":\"variable=0.65<br>index=%{x}<br>value=%{y}<extra></extra>\",\"legendgroup\":\"0.65\",\"line\":{\"color\":\"#EF553B\",\"dash\":\"solid\"},\"marker\":{\"symbol\":\"circle\"},\"mode\":\"lines\",\"name\":\"0.65\",\"orientation\":\"v\",\"showlegend\":true,\"x\":[0,1,2,3,4,5,6,7,8,9,10,11,12,13,14,15,16,17,18,19,20,21,22,23,24,25,26,27,28,29,30,31,32,33,34,35,36,37,38,39,40,41,42,43,44,45,46,47,48,49],\"xaxis\":\"x\",\"y\":[0.06997560975609757,0.12004878048780487,0.17017073170731709,0.18021951219512194,0.18265853658536585,0.19253658536585366,0.2183170731707317,0.2571951219512195,0.31465853658536586,0.41309756097560973,0.48304878048780486,0.5343414634146342,0.5848048780487805,0.6214878048780488,0.6455853658536586,0.6671219512195122,0.6919268292682926,0.679829268292683,0.606390243902439,0.3854878048780488,0.28736585365853656,0.289,0.39495121951219514,0.4994878048780488,0.624780487804878,0.7342682926829268,0.7659268292682927,0.7799512195121951,0.7885365853658537,0.791219512195122,0.7737073170731708,0.6998292682926829,0.5984146341463414,0.4988048780487805,0.5460487804878049,0.6536829268292683,0.8061707317073171,0.8259024390243902,0.8351219512195122,0.8402926829268292,0.8438048780487805,0.8498048780487805,0.8495853658536585,0.8529024390243902,0.8369268292682926,0.8018536585365854,0.6997073170731707,0.6482682926829268,0.6647804878048781,0.8174634146341463],\"yaxis\":\"y\",\"type\":\"scatter\"}],                        {\"template\":{\"data\":{\"bar\":[{\"error_x\":{\"color\":\"#2a3f5f\"},\"error_y\":{\"color\":\"#2a3f5f\"},\"marker\":{\"line\":{\"color\":\"#E5ECF6\",\"width\":0.5},\"pattern\":{\"fillmode\":\"overlay\",\"size\":10,\"solidity\":0.2}},\"type\":\"bar\"}],\"barpolar\":[{\"marker\":{\"line\":{\"color\":\"#E5ECF6\",\"width\":0.5},\"pattern\":{\"fillmode\":\"overlay\",\"size\":10,\"solidity\":0.2}},\"type\":\"barpolar\"}],\"carpet\":[{\"aaxis\":{\"endlinecolor\":\"#2a3f5f\",\"gridcolor\":\"white\",\"linecolor\":\"white\",\"minorgridcolor\":\"white\",\"startlinecolor\":\"#2a3f5f\"},\"baxis\":{\"endlinecolor\":\"#2a3f5f\",\"gridcolor\":\"white\",\"linecolor\":\"white\",\"minorgridcolor\":\"white\",\"startlinecolor\":\"#2a3f5f\"},\"type\":\"carpet\"}],\"choropleth\":[{\"colorbar\":{\"outlinewidth\":0,\"ticks\":\"\"},\"type\":\"choropleth\"}],\"contour\":[{\"colorbar\":{\"outlinewidth\":0,\"ticks\":\"\"},\"colorscale\":[[0.0,\"#0d0887\"],[0.1111111111111111,\"#46039f\"],[0.2222222222222222,\"#7201a8\"],[0.3333333333333333,\"#9c179e\"],[0.4444444444444444,\"#bd3786\"],[0.5555555555555556,\"#d8576b\"],[0.6666666666666666,\"#ed7953\"],[0.7777777777777778,\"#fb9f3a\"],[0.8888888888888888,\"#fdca26\"],[1.0,\"#f0f921\"]],\"type\":\"contour\"}],\"contourcarpet\":[{\"colorbar\":{\"outlinewidth\":0,\"ticks\":\"\"},\"type\":\"contourcarpet\"}],\"heatmap\":[{\"colorbar\":{\"outlinewidth\":0,\"ticks\":\"\"},\"colorscale\":[[0.0,\"#0d0887\"],[0.1111111111111111,\"#46039f\"],[0.2222222222222222,\"#7201a8\"],[0.3333333333333333,\"#9c179e\"],[0.4444444444444444,\"#bd3786\"],[0.5555555555555556,\"#d8576b\"],[0.6666666666666666,\"#ed7953\"],[0.7777777777777778,\"#fb9f3a\"],[0.8888888888888888,\"#fdca26\"],[1.0,\"#f0f921\"]],\"type\":\"heatmap\"}],\"heatmapgl\":[{\"colorbar\":{\"outlinewidth\":0,\"ticks\":\"\"},\"colorscale\":[[0.0,\"#0d0887\"],[0.1111111111111111,\"#46039f\"],[0.2222222222222222,\"#7201a8\"],[0.3333333333333333,\"#9c179e\"],[0.4444444444444444,\"#bd3786\"],[0.5555555555555556,\"#d8576b\"],[0.6666666666666666,\"#ed7953\"],[0.7777777777777778,\"#fb9f3a\"],[0.8888888888888888,\"#fdca26\"],[1.0,\"#f0f921\"]],\"type\":\"heatmapgl\"}],\"histogram\":[{\"marker\":{\"pattern\":{\"fillmode\":\"overlay\",\"size\":10,\"solidity\":0.2}},\"type\":\"histogram\"}],\"histogram2d\":[{\"colorbar\":{\"outlinewidth\":0,\"ticks\":\"\"},\"colorscale\":[[0.0,\"#0d0887\"],[0.1111111111111111,\"#46039f\"],[0.2222222222222222,\"#7201a8\"],[0.3333333333333333,\"#9c179e\"],[0.4444444444444444,\"#bd3786\"],[0.5555555555555556,\"#d8576b\"],[0.6666666666666666,\"#ed7953\"],[0.7777777777777778,\"#fb9f3a\"],[0.8888888888888888,\"#fdca26\"],[1.0,\"#f0f921\"]],\"type\":\"histogram2d\"}],\"histogram2dcontour\":[{\"colorbar\":{\"outlinewidth\":0,\"ticks\":\"\"},\"colorscale\":[[0.0,\"#0d0887\"],[0.1111111111111111,\"#46039f\"],[0.2222222222222222,\"#7201a8\"],[0.3333333333333333,\"#9c179e\"],[0.4444444444444444,\"#bd3786\"],[0.5555555555555556,\"#d8576b\"],[0.6666666666666666,\"#ed7953\"],[0.7777777777777778,\"#fb9f3a\"],[0.8888888888888888,\"#fdca26\"],[1.0,\"#f0f921\"]],\"type\":\"histogram2dcontour\"}],\"mesh3d\":[{\"colorbar\":{\"outlinewidth\":0,\"ticks\":\"\"},\"type\":\"mesh3d\"}],\"parcoords\":[{\"line\":{\"colorbar\":{\"outlinewidth\":0,\"ticks\":\"\"}},\"type\":\"parcoords\"}],\"pie\":[{\"automargin\":true,\"type\":\"pie\"}],\"scatter\":[{\"marker\":{\"colorbar\":{\"outlinewidth\":0,\"ticks\":\"\"}},\"type\":\"scatter\"}],\"scatter3d\":[{\"line\":{\"colorbar\":{\"outlinewidth\":0,\"ticks\":\"\"}},\"marker\":{\"colorbar\":{\"outlinewidth\":0,\"ticks\":\"\"}},\"type\":\"scatter3d\"}],\"scattercarpet\":[{\"marker\":{\"colorbar\":{\"outlinewidth\":0,\"ticks\":\"\"}},\"type\":\"scattercarpet\"}],\"scattergeo\":[{\"marker\":{\"colorbar\":{\"outlinewidth\":0,\"ticks\":\"\"}},\"type\":\"scattergeo\"}],\"scattergl\":[{\"marker\":{\"colorbar\":{\"outlinewidth\":0,\"ticks\":\"\"}},\"type\":\"scattergl\"}],\"scattermapbox\":[{\"marker\":{\"colorbar\":{\"outlinewidth\":0,\"ticks\":\"\"}},\"type\":\"scattermapbox\"}],\"scatterpolar\":[{\"marker\":{\"colorbar\":{\"outlinewidth\":0,\"ticks\":\"\"}},\"type\":\"scatterpolar\"}],\"scatterpolargl\":[{\"marker\":{\"colorbar\":{\"outlinewidth\":0,\"ticks\":\"\"}},\"type\":\"scatterpolargl\"}],\"scatterternary\":[{\"marker\":{\"colorbar\":{\"outlinewidth\":0,\"ticks\":\"\"}},\"type\":\"scatterternary\"}],\"surface\":[{\"colorbar\":{\"outlinewidth\":0,\"ticks\":\"\"},\"colorscale\":[[0.0,\"#0d0887\"],[0.1111111111111111,\"#46039f\"],[0.2222222222222222,\"#7201a8\"],[0.3333333333333333,\"#9c179e\"],[0.4444444444444444,\"#bd3786\"],[0.5555555555555556,\"#d8576b\"],[0.6666666666666666,\"#ed7953\"],[0.7777777777777778,\"#fb9f3a\"],[0.8888888888888888,\"#fdca26\"],[1.0,\"#f0f921\"]],\"type\":\"surface\"}],\"table\":[{\"cells\":{\"fill\":{\"color\":\"#EBF0F8\"},\"line\":{\"color\":\"white\"}},\"header\":{\"fill\":{\"color\":\"#C8D4E3\"},\"line\":{\"color\":\"white\"}},\"type\":\"table\"}]},\"layout\":{\"annotationdefaults\":{\"arrowcolor\":\"#2a3f5f\",\"arrowhead\":0,\"arrowwidth\":1},\"autotypenumbers\":\"strict\",\"coloraxis\":{\"colorbar\":{\"outlinewidth\":0,\"ticks\":\"\"}},\"colorscale\":{\"diverging\":[[0,\"#8e0152\"],[0.1,\"#c51b7d\"],[0.2,\"#de77ae\"],[0.3,\"#f1b6da\"],[0.4,\"#fde0ef\"],[0.5,\"#f7f7f7\"],[0.6,\"#e6f5d0\"],[0.7,\"#b8e186\"],[0.8,\"#7fbc41\"],[0.9,\"#4d9221\"],[1,\"#276419\"]],\"sequential\":[[0.0,\"#0d0887\"],[0.1111111111111111,\"#46039f\"],[0.2222222222222222,\"#7201a8\"],[0.3333333333333333,\"#9c179e\"],[0.4444444444444444,\"#bd3786\"],[0.5555555555555556,\"#d8576b\"],[0.6666666666666666,\"#ed7953\"],[0.7777777777777778,\"#fb9f3a\"],[0.8888888888888888,\"#fdca26\"],[1.0,\"#f0f921\"]],\"sequentialminus\":[[0.0,\"#0d0887\"],[0.1111111111111111,\"#46039f\"],[0.2222222222222222,\"#7201a8\"],[0.3333333333333333,\"#9c179e\"],[0.4444444444444444,\"#bd3786\"],[0.5555555555555556,\"#d8576b\"],[0.6666666666666666,\"#ed7953\"],[0.7777777777777778,\"#fb9f3a\"],[0.8888888888888888,\"#fdca26\"],[1.0,\"#f0f921\"]]},\"colorway\":[\"#636efa\",\"#EF553B\",\"#00cc96\",\"#ab63fa\",\"#FFA15A\",\"#19d3f3\",\"#FF6692\",\"#B6E880\",\"#FF97FF\",\"#FECB52\"],\"font\":{\"color\":\"#2a3f5f\"},\"geo\":{\"bgcolor\":\"white\",\"lakecolor\":\"white\",\"landcolor\":\"#E5ECF6\",\"showlakes\":true,\"showland\":true,\"subunitcolor\":\"white\"},\"hoverlabel\":{\"align\":\"left\"},\"hovermode\":\"closest\",\"mapbox\":{\"style\":\"light\"},\"paper_bgcolor\":\"white\",\"plot_bgcolor\":\"#E5ECF6\",\"polar\":{\"angularaxis\":{\"gridcolor\":\"white\",\"linecolor\":\"white\",\"ticks\":\"\"},\"bgcolor\":\"#E5ECF6\",\"radialaxis\":{\"gridcolor\":\"white\",\"linecolor\":\"white\",\"ticks\":\"\"}},\"scene\":{\"xaxis\":{\"backgroundcolor\":\"#E5ECF6\",\"gridcolor\":\"white\",\"gridwidth\":2,\"linecolor\":\"white\",\"showbackground\":true,\"ticks\":\"\",\"zerolinecolor\":\"white\"},\"yaxis\":{\"backgroundcolor\":\"#E5ECF6\",\"gridcolor\":\"white\",\"gridwidth\":2,\"linecolor\":\"white\",\"showbackground\":true,\"ticks\":\"\",\"zerolinecolor\":\"white\"},\"zaxis\":{\"backgroundcolor\":\"#E5ECF6\",\"gridcolor\":\"white\",\"gridwidth\":2,\"linecolor\":\"white\",\"showbackground\":true,\"ticks\":\"\",\"zerolinecolor\":\"white\"}},\"shapedefaults\":{\"line\":{\"color\":\"#2a3f5f\"}},\"ternary\":{\"aaxis\":{\"gridcolor\":\"white\",\"linecolor\":\"white\",\"ticks\":\"\"},\"baxis\":{\"gridcolor\":\"white\",\"linecolor\":\"white\",\"ticks\":\"\"},\"bgcolor\":\"#E5ECF6\",\"caxis\":{\"gridcolor\":\"white\",\"linecolor\":\"white\",\"ticks\":\"\"}},\"title\":{\"x\":0.05},\"xaxis\":{\"automargin\":true,\"gridcolor\":\"white\",\"linecolor\":\"white\",\"ticks\":\"\",\"title\":{\"standoff\":15},\"zerolinecolor\":\"white\",\"zerolinewidth\":2},\"yaxis\":{\"automargin\":true,\"gridcolor\":\"white\",\"linecolor\":\"white\",\"ticks\":\"\",\"title\":{\"standoff\":15},\"zerolinecolor\":\"white\",\"zerolinewidth\":2}}},\"xaxis\":{\"anchor\":\"y\",\"domain\":[0.0,1.0],\"title\":{\"text\":\"index\"}},\"yaxis\":{\"anchor\":\"x\",\"domain\":[0.0,1.0],\"title\":{\"text\":\"value\"}},\"legend\":{\"title\":{\"text\":\"variable\"},\"tracegroupgap\":0},\"margin\":{\"t\":60}},                        {\"responsive\": true}                    ).then(function(){\n",
       "                            \n",
       "var gd = document.getElementById('b24b0634-eb2d-4968-93f0-3c59ff54b32d');\n",
       "var x = new MutationObserver(function (mutations, observer) {{\n",
       "        var display = window.getComputedStyle(gd).display;\n",
       "        if (!display || display === 'none') {{\n",
       "            console.log([gd, 'removed!']);\n",
       "            Plotly.purge(gd);\n",
       "            observer.disconnect();\n",
       "        }}\n",
       "}});\n",
       "\n",
       "// Listen for the removal of the full notebook cells\n",
       "var notebookContainer = gd.closest('#notebook-container');\n",
       "if (notebookContainer) {{\n",
       "    x.observe(notebookContainer, {childList: true});\n",
       "}}\n",
       "\n",
       "// Listen for the clearing of the current output cell\n",
       "var outputEl = gd.closest('.output');\n",
       "if (outputEl) {{\n",
       "    x.observe(outputEl, {childList: true});\n",
       "}}\n",
       "\n",
       "                        })                };                });            </script>        </div>"
      ]
     },
     "metadata": {},
     "output_type": "display_data"
    }
   ],
   "source": [
    "fig = px.line(df, y=['0.10', '0.15','0.20', '0.25','0.30', '0.35', '0.40', '0.45' ,'0.50','0.55','0.60','0.65'])\n",
    "fig.show()"
   ]
  },
  {
   "cell_type": "code",
   "execution_count": 39,
   "id": "90236400",
   "metadata": {},
   "outputs": [],
   "source": [
    "W1, b1, W2, b2, Accu, Alph, Time = gradient_descent(X_train, Y_train, 0.10, 100)\n",
    "W1, b1, W2, b2, Accu1, Alph1, Time1 = gradient_descent(X_train, Y_train, 0.15, 100)\n",
    "W1, b1, W2, b2, Accu2, Alph2, Time2 = gradient_descent(X_train, Y_train, 0.20, 100)\n",
    "W1, b1, W2, b2, Accu3, Alph3, Time3 = gradient_descent(X_train, Y_train, 0.25, 100)\n",
    "W1, b1, W2, b2, Accu4, Alph4, Time4 = gradient_descent(X_train, Y_train, 0.30, 100)\n",
    "W1, b1, W2, b2, Accu5, Alph5, Time5 = gradient_descent(X_train, Y_train, 0.35, 100)\n",
    "W1, b1, W2, b2, Accu6, Alph6, Time6 = gradient_descent(X_train, Y_train, 0.40, 100)\n",
    "W1, b1, W2, b2, Accu7, Alph7, Time7 = gradient_descent(X_train, Y_train, 0.45, 100)\n",
    "W1, b1, W2, b2, Accu8, Alph8, Time8 = gradient_descent(X_train, Y_train, 0.50, 100)\n",
    "W1, b1, W2, b2, Accu9, Alph9, Time9 = gradient_descent(X_train, Y_train, 0.55, 100)\n",
    "W1, b1, W2, b2, Accu10, Alph10, Time10 = gradient_descent(X_train, Y_train, 0.60, 100)\n",
    "W1, b1, W2, b2, Accu11, Alph11, Time11 = gradient_descent(X_train, Y_train, 0.65, 100)"
   ]
  },
  {
   "cell_type": "code",
   "execution_count": 40,
   "id": "87d8862d",
   "metadata": {},
   "outputs": [
    {
     "data": {
      "text/plain": [
       "(23.812271118164062,\n",
       " 20.31696128845215,\n",
       " 20.015991687774658,\n",
       " 20.44811177253723,\n",
       " 20.397027492523193,\n",
       " 20.55569839477539,\n",
       " 19.978657245635986,\n",
       " 20.08984923362732,\n",
       " 20.160657167434692,\n",
       " 20.142712116241455,\n",
       " 20.014570474624634,\n",
       " 20.212141513824463)"
      ]
     },
     "execution_count": 40,
     "metadata": {},
     "output_type": "execute_result"
    }
   ],
   "source": [
    "Time, Time1, Time2, Time3, Time4, Time5, Time6, Time7, Time8, Time9, Time10, Time11"
   ]
  },
  {
   "cell_type": "code",
   "execution_count": 41,
   "id": "b3cdc272",
   "metadata": {},
   "outputs": [],
   "source": [
    "numbersList = []\n",
    "numbersList.append(Accu)\n",
    "numbersList.append(Accu1)\n",
    "numbersList.append(Accu2)\n",
    "numbersList.append(Accu3)\n",
    "numbersList.append(Accu4)\n",
    "numbersList.append(Accu5)\n",
    "numbersList.append(Accu6)\n",
    "numbersList.append(Accu7)\n",
    "numbersList.append(Accu8)\n",
    "numbersList.append(Accu9)\n",
    "numbersList.append(Accu10)\n",
    "numbersList.append(Accu11)\n",
    "# creating a list of index names\n",
    "index_values = list(range(0, 100))\n",
    "# creating a list of column names\n",
    "column_values  = ['0.10', '0.15','0.20', '0.25','0.30', '0.35', '0.40', '0.45' ,'0.50','0.55','0.60','0.65']\n",
    "# creating the dataframe\n",
    "df = pd.DataFrame(data = np.transpose(numbersList),index = index_values,columns = column_values)\n",
    "# displaying the dataframe\n",
    "#df\n",
    "#df.iloc[300:500]"
   ]
  },
  {
   "cell_type": "code",
   "execution_count": 42,
   "id": "2e33c995",
   "metadata": {},
   "outputs": [
    {
     "data": {
      "application/vnd.plotly.v1+json": {
       "config": {
        "plotlyServerURL": "https://plot.ly"
       },
       "data": [
        {
         "hovertemplate": "variable=0.10<br>index=%{x}<br>value=%{y}<extra></extra>",
         "legendgroup": "0.10",
         "line": {
          "color": "#636efa",
          "dash": "solid"
         },
         "marker": {
          "symbol": "circle"
         },
         "mode": "lines",
         "name": "0.10",
         "showlegend": true,
         "type": "scattergl",
         "x": [
          0,
          1,
          2,
          3,
          4,
          5,
          6,
          7,
          8,
          9,
          10,
          11,
          12,
          13,
          14,
          15,
          16,
          17,
          18,
          19,
          20,
          21,
          22,
          23,
          24,
          25,
          26,
          27,
          28,
          29,
          30,
          31,
          32,
          33,
          34,
          35,
          36,
          37,
          38,
          39,
          40,
          41,
          42,
          43,
          44,
          45,
          46,
          47,
          48,
          49,
          50,
          51,
          52,
          53,
          54,
          55,
          56,
          57,
          58,
          59,
          60,
          61,
          62,
          63,
          64,
          65,
          66,
          67,
          68,
          69,
          70,
          71,
          72,
          73,
          74,
          75,
          76,
          77,
          78,
          79,
          80,
          81,
          82,
          83,
          84,
          85,
          86,
          87,
          88,
          89,
          90,
          91,
          92,
          93,
          94,
          95,
          96,
          97,
          98,
          99
         ],
         "xaxis": "x",
         "y": [
          0.16360975609756098,
          0.16695121951219513,
          0.16839024390243904,
          0.17026829268292684,
          0.1700487804878049,
          0.17014634146341465,
          0.16929268292682928,
          0.16990243902439026,
          0.17002439024390245,
          0.16921951219512196,
          0.1701219512195122,
          0.16965853658536587,
          0.1702439024390244,
          0.17065853658536587,
          0.1719512195121951,
          0.1726341463414634,
          0.17329268292682926,
          0.174,
          0.1750731707317073,
          0.17621951219512194,
          0.17770731707317072,
          0.17902439024390243,
          0.18009756097560975,
          0.18117073170731707,
          0.18234146341463414,
          0.18351219512195122,
          0.1845609756097561,
          0.18536585365853658,
          0.18697560975609756,
          0.18741463414634146,
          0.1882439024390244,
          0.18914634146341464,
          0.1898780487804878,
          0.19063414634146342,
          0.19095121951219513,
          0.19141463414634147,
          0.1918780487804878,
          0.19226829268292683,
          0.19253658536585366,
          0.19278048780487805,
          0.19302439024390244,
          0.193,
          0.1933658536585366,
          0.19360975609756098,
          0.19390243902439025,
          0.19397560975609757,
          0.19409756097560976,
          0.19429268292682927,
          0.19439024390243903,
          0.19451219512195123,
          0.19465853658536586,
          0.19465853658536586,
          0.19475609756097562,
          0.19495121951219513,
          0.19509756097560976,
          0.19541463414634147,
          0.19604878048780489,
          0.19646341463414635,
          0.19731707317073172,
          0.19865853658536586,
          0.2009268292682927,
          0.20409756097560974,
          0.2086341463414634,
          0.21534146341463414,
          0.22397560975609757,
          0.2341707317073171,
          0.246,
          0.26114634146341464,
          0.2778048780487805,
          0.29553658536585364,
          0.3144390243902439,
          0.3328780487804878,
          0.3531463414634146,
          0.3765121951219512,
          0.40095121951219515,
          0.42409756097560974,
          0.4473658536585366,
          0.4679268292682927,
          0.4875853658536585,
          0.5039268292682927,
          0.5190975609756098,
          0.5325121951219512,
          0.5457073170731708,
          0.5574878048780488,
          0.5684390243902439,
          0.5791219512195122,
          0.589390243902439,
          0.5986341463414634,
          0.6069756097560975,
          0.6150243902439024,
          0.6226585365853659,
          0.6285853658536585,
          0.6345365853658537,
          0.6400975609756098,
          0.6456829268292683,
          0.6505853658536586,
          0.6547317073170732,
          0.659219512195122,
          0.6636341463414634,
          0.6678536585365854
         ],
         "yaxis": "y"
        },
        {
         "hovertemplate": "variable=0.15<br>index=%{x}<br>value=%{y}<extra></extra>",
         "legendgroup": "0.15",
         "line": {
          "color": "#EF553B",
          "dash": "solid"
         },
         "marker": {
          "symbol": "circle"
         },
         "mode": "lines",
         "name": "0.15",
         "showlegend": true,
         "type": "scattergl",
         "x": [
          0,
          1,
          2,
          3,
          4,
          5,
          6,
          7,
          8,
          9,
          10,
          11,
          12,
          13,
          14,
          15,
          16,
          17,
          18,
          19,
          20,
          21,
          22,
          23,
          24,
          25,
          26,
          27,
          28,
          29,
          30,
          31,
          32,
          33,
          34,
          35,
          36,
          37,
          38,
          39,
          40,
          41,
          42,
          43,
          44,
          45,
          46,
          47,
          48,
          49,
          50,
          51,
          52,
          53,
          54,
          55,
          56,
          57,
          58,
          59,
          60,
          61,
          62,
          63,
          64,
          65,
          66,
          67,
          68,
          69,
          70,
          71,
          72,
          73,
          74,
          75,
          76,
          77,
          78,
          79,
          80,
          81,
          82,
          83,
          84,
          85,
          86,
          87,
          88,
          89,
          90,
          91,
          92,
          93,
          94,
          95,
          96,
          97,
          98,
          99
         ],
         "xaxis": "x",
         "y": [
          0.13109756097560976,
          0.1363658536585366,
          0.14053658536585367,
          0.1443170731707317,
          0.14995121951219512,
          0.15695121951219512,
          0.16751219512195123,
          0.18160975609756097,
          0.19782926829268294,
          0.21621951219512195,
          0.2342439024390244,
          0.25290243902439025,
          0.2695609756097561,
          0.2853170731707317,
          0.2996341463414634,
          0.31126829268292683,
          0.3205609756097561,
          0.3282439024390244,
          0.33382926829268295,
          0.33778048780487807,
          0.34063414634146344,
          0.34087804878048783,
          0.34251219512195125,
          0.3437317073170732,
          0.3455121951219512,
          0.34804878048780485,
          0.35109756097560973,
          0.35473170731707315,
          0.3582439024390244,
          0.36373170731707316,
          0.3698292682926829,
          0.3773170731707317,
          0.3843170731707317,
          0.39207317073170733,
          0.39975609756097563,
          0.4088292682926829,
          0.4191463414634146,
          0.4344878048780488,
          0.45670731707317075,
          0.4868048780487805,
          0.5190243902439025,
          0.548609756097561,
          0.5760731707317073,
          0.5995853658536585,
          0.6227560975609756,
          0.6410487804878049,
          0.6572439024390244,
          0.6713658536585366,
          0.6832682926829269,
          0.6930487804878048,
          0.7008292682926829,
          0.7082195121951219,
          0.7149268292682927,
          0.7215853658536585,
          0.7266585365853658,
          0.7315365853658536,
          0.7362195121951219,
          0.7404878048780488,
          0.7446585365853658,
          0.7483658536585366,
          0.7514634146341463,
          0.755,
          0.7580731707317073,
          0.7614146341463415,
          0.7646829268292683,
          0.767390243902439,
          0.7701219512195122,
          0.7730731707317073,
          0.775390243902439,
          0.7773414634146342,
          0.7792439024390244,
          0.7811707317073171,
          0.7834634146341464,
          0.7857317073170732,
          0.787609756097561,
          0.7891951219512195,
          0.7910243902439025,
          0.7927317073170732,
          0.7947073170731708,
          0.7967804878048781,
          0.7986829268292683,
          0.8005365853658537,
          0.8024634146341464,
          0.8040243902439025,
          0.8057804878048781,
          0.8074146341463415,
          0.8088780487804879,
          0.8103902439024391,
          0.8118780487804879,
          0.8131951219512195,
          0.8145853658536585,
          0.8163658536585365,
          0.8177073170731707,
          0.8188292682926829,
          0.8200487804878048,
          0.8215121951219512,
          0.8223414634146341,
          0.823560975609756,
          0.8249268292682926,
          0.8263170731707317
         ],
         "yaxis": "y"
        },
        {
         "hovertemplate": "variable=0.20<br>index=%{x}<br>value=%{y}<extra></extra>",
         "legendgroup": "0.20",
         "line": {
          "color": "#00cc96",
          "dash": "solid"
         },
         "marker": {
          "symbol": "circle"
         },
         "mode": "lines",
         "name": "0.20",
         "showlegend": true,
         "type": "scattergl",
         "x": [
          0,
          1,
          2,
          3,
          4,
          5,
          6,
          7,
          8,
          9,
          10,
          11,
          12,
          13,
          14,
          15,
          16,
          17,
          18,
          19,
          20,
          21,
          22,
          23,
          24,
          25,
          26,
          27,
          28,
          29,
          30,
          31,
          32,
          33,
          34,
          35,
          36,
          37,
          38,
          39,
          40,
          41,
          42,
          43,
          44,
          45,
          46,
          47,
          48,
          49,
          50,
          51,
          52,
          53,
          54,
          55,
          56,
          57,
          58,
          59,
          60,
          61,
          62,
          63,
          64,
          65,
          66,
          67,
          68,
          69,
          70,
          71,
          72,
          73,
          74,
          75,
          76,
          77,
          78,
          79,
          80,
          81,
          82,
          83,
          84,
          85,
          86,
          87,
          88,
          89,
          90,
          91,
          92,
          93,
          94,
          95,
          96,
          97,
          98,
          99
         ],
         "xaxis": "x",
         "y": [
          0.1144390243902439,
          0.11780487804878048,
          0.12102439024390244,
          0.1252439024390244,
          0.13175609756097562,
          0.142390243902439,
          0.1592439024390244,
          0.1847560975609756,
          0.21365853658536585,
          0.24226829268292682,
          0.26751219512195124,
          0.29221951219512193,
          0.3176829268292683,
          0.3423658536585366,
          0.36941463414634146,
          0.39326829268292685,
          0.41721951219512193,
          0.4359268292682927,
          0.4526829268292683,
          0.4618048780487805,
          0.46634146341463417,
          0.46912195121951217,
          0.47292682926829266,
          0.47878048780487803,
          0.4853658536585366,
          0.49590243902439024,
          0.5086341463414634,
          0.5240975609756098,
          0.5387560975609756,
          0.5528780487804879,
          0.5663658536585365,
          0.5813170731707317,
          0.5950731707317073,
          0.6070731707317073,
          0.6199756097560976,
          0.6315365853658537,
          0.6439024390243903,
          0.655609756097561,
          0.6652926829268293,
          0.6745853658536586,
          0.6839756097560976,
          0.692780487804878,
          0.7003658536585365,
          0.7073170731707317,
          0.7139268292682927,
          0.7204146341463414,
          0.726170731707317,
          0.731780487804878,
          0.7362682926829268,
          0.7414390243902439,
          0.7464390243902439,
          0.7501463414634146,
          0.7535609756097561,
          0.7569268292682927,
          0.7598292682926829,
          0.7633658536585366,
          0.7662926829268293,
          0.7695853658536586,
          0.7724878048780488,
          0.7754146341463415,
          0.778,
          0.7809268292682927,
          0.7833658536585366,
          0.7858780487804878,
          0.7879512195121952,
          0.7903170731707317,
          0.7923902439024391,
          0.7944634146341464,
          0.7963902439024391,
          0.7978048780487805,
          0.7996585365853659,
          0.8019756097560976,
          0.8039512195121952,
          0.8054146341463415,
          0.8070243902439025,
          0.8088048780487805,
          0.8102926829268293,
          0.8117804878048781,
          0.813780487804878,
          0.8155121951219512,
          0.8166829268292682,
          0.8175853658536585,
          0.8189756097560975,
          0.8204146341463414,
          0.8220975609756097,
          0.8232439024390243,
          0.8246341463414634,
          0.8258536585365853,
          0.8270243902439024,
          0.8284390243902439,
          0.8294146341463414,
          0.8308780487804878,
          0.8321463414634146,
          0.8332439024390244,
          0.8342195121951219,
          0.8349512195121951,
          0.8362439024390244,
          0.8370243902439024,
          0.8379268292682926,
          0.8390243902439024
         ],
         "yaxis": "y"
        },
        {
         "hovertemplate": "variable=0.25<br>index=%{x}<br>value=%{y}<extra></extra>",
         "legendgroup": "0.25",
         "line": {
          "color": "#ab63fa",
          "dash": "solid"
         },
         "marker": {
          "symbol": "circle"
         },
         "mode": "lines",
         "name": "0.25",
         "showlegend": true,
         "type": "scattergl",
         "x": [
          0,
          1,
          2,
          3,
          4,
          5,
          6,
          7,
          8,
          9,
          10,
          11,
          12,
          13,
          14,
          15,
          16,
          17,
          18,
          19,
          20,
          21,
          22,
          23,
          24,
          25,
          26,
          27,
          28,
          29,
          30,
          31,
          32,
          33,
          34,
          35,
          36,
          37,
          38,
          39,
          40,
          41,
          42,
          43,
          44,
          45,
          46,
          47,
          48,
          49,
          50,
          51,
          52,
          53,
          54,
          55,
          56,
          57,
          58,
          59,
          60,
          61,
          62,
          63,
          64,
          65,
          66,
          67,
          68,
          69,
          70,
          71,
          72,
          73,
          74,
          75,
          76,
          77,
          78,
          79,
          80,
          81,
          82,
          83,
          84,
          85,
          86,
          87,
          88,
          89,
          90,
          91,
          92,
          93,
          94,
          95,
          96,
          97,
          98,
          99
         ],
         "xaxis": "x",
         "y": [
          0.09046341463414634,
          0.09336585365853659,
          0.09746341463414634,
          0.10553658536585366,
          0.1174390243902439,
          0.13370731707317074,
          0.15460975609756097,
          0.1776341463414634,
          0.20329268292682925,
          0.2342439024390244,
          0.2735609756097561,
          0.3198536585365854,
          0.36546341463414633,
          0.4004146341463415,
          0.42678048780487804,
          0.4440487804878049,
          0.4559268292682927,
          0.463609756097561,
          0.4711951219512195,
          0.4797073170731707,
          0.4895853658536585,
          0.4989512195121951,
          0.5091219512195122,
          0.5194634146341464,
          0.5359024390243903,
          0.555609756097561,
          0.5759268292682926,
          0.5964878048780488,
          0.6144878048780488,
          0.6321463414634146,
          0.6475121951219512,
          0.6579512195121952,
          0.6686829268292683,
          0.6779512195121952,
          0.6851219512195122,
          0.6930243902439024,
          0.7000243902439024,
          0.7064878048780487,
          0.7118292682926829,
          0.7175853658536585,
          0.7236341463414634,
          0.7281951219512195,
          0.7324634146341463,
          0.7373414634146341,
          0.7415121951219512,
          0.7456341463414634,
          0.7496341463414634,
          0.753219512195122,
          0.7571707317073171,
          0.7603658536585366,
          0.7638292682926829,
          0.7670731707317073,
          0.7700487804878049,
          0.7732682926829268,
          0.776,
          0.7784878048780488,
          0.7810487804878049,
          0.7832439024390244,
          0.7856341463414634,
          0.7882926829268293,
          0.7906341463414635,
          0.7931951219512196,
          0.7955853658536586,
          0.7980487804878049,
          0.8009268292682927,
          0.8028780487804879,
          0.8047804878048781,
          0.8065121951219513,
          0.8088048780487805,
          0.8110975609756098,
          0.8134146341463414,
          0.8150975609756097,
          0.8170487804878048,
          0.8190731707317073,
          0.8207560975609756,
          0.8226829268292682,
          0.8245121951219512,
          0.8264634146341463,
          0.8282439024390243,
          0.8302439024390244,
          0.8318780487804878,
          0.8334878048780487,
          0.8351219512195122,
          0.8366341463414634,
          0.8380975609756097,
          0.8394146341463414,
          0.8410731707317073,
          0.8428292682926829,
          0.8439512195121951,
          0.8451219512195122,
          0.8463414634146341,
          0.8478536585365853,
          0.8492439024390244,
          0.8506341463414634,
          0.8517073170731707,
          0.8531463414634146,
          0.8544878048780488,
          0.855609756097561,
          0.8565365853658536,
          0.8577073170731707
         ],
         "yaxis": "y"
        },
        {
         "hovertemplate": "variable=0.30<br>index=%{x}<br>value=%{y}<extra></extra>",
         "legendgroup": "0.30",
         "line": {
          "color": "#FFA15A",
          "dash": "solid"
         },
         "marker": {
          "symbol": "circle"
         },
         "mode": "lines",
         "name": "0.30",
         "showlegend": true,
         "type": "scattergl",
         "x": [
          0,
          1,
          2,
          3,
          4,
          5,
          6,
          7,
          8,
          9,
          10,
          11,
          12,
          13,
          14,
          15,
          16,
          17,
          18,
          19,
          20,
          21,
          22,
          23,
          24,
          25,
          26,
          27,
          28,
          29,
          30,
          31,
          32,
          33,
          34,
          35,
          36,
          37,
          38,
          39,
          40,
          41,
          42,
          43,
          44,
          45,
          46,
          47,
          48,
          49,
          50,
          51,
          52,
          53,
          54,
          55,
          56,
          57,
          58,
          59,
          60,
          61,
          62,
          63,
          64,
          65,
          66,
          67,
          68,
          69,
          70,
          71,
          72,
          73,
          74,
          75,
          76,
          77,
          78,
          79,
          80,
          81,
          82,
          83,
          84,
          85,
          86,
          87,
          88,
          89,
          90,
          91,
          92,
          93,
          94,
          95,
          96,
          97,
          98,
          99
         ],
         "xaxis": "x",
         "y": [
          0.09690243902439025,
          0.09882926829268293,
          0.10143902439024391,
          0.10595121951219512,
          0.11878048780487804,
          0.13926829268292684,
          0.16278048780487805,
          0.18817073170731707,
          0.2294878048780488,
          0.27107317073170734,
          0.3117560975609756,
          0.3530243902439024,
          0.393,
          0.4241463414634146,
          0.4430487804878049,
          0.45539024390243904,
          0.4662926829268293,
          0.4796341463414634,
          0.49509756097560975,
          0.5077804878048781,
          0.5192439024390244,
          0.5317317073170732,
          0.5449512195121952,
          0.5590487804878049,
          0.5753658536585365,
          0.5941219512195122,
          0.6140487804878049,
          0.6346341463414634,
          0.6529024390243903,
          0.6694878048780488,
          0.6852682926829269,
          0.7,
          0.7109512195121951,
          0.7222926829268292,
          0.7325365853658536,
          0.7415365853658537,
          0.7493414634146341,
          0.7556341463414634,
          0.7627073170731707,
          0.7690731707317073,
          0.7749756097560976,
          0.7801707317073171,
          0.7852926829268293,
          0.7903658536585366,
          0.7943414634146342,
          0.7988536585365854,
          0.8029512195121952,
          0.806829268292683,
          0.8096341463414635,
          0.8127073170731707,
          0.8148780487804878,
          0.818,
          0.8206585365853658,
          0.823,
          0.8250731707317073,
          0.8274146341463414,
          0.8292926829268292,
          0.8310243902439024,
          0.8328780487804878,
          0.8344146341463414,
          0.8362195121951219,
          0.8378780487804878,
          0.8393170731707317,
          0.8402926829268292,
          0.8417560975609756,
          0.8440243902439024,
          0.8452682926829268,
          0.8466829268292683,
          0.8477073170731707,
          0.8494878048780488,
          0.8504878048780488,
          0.8518292682926829,
          0.8525853658536585,
          0.8538780487804878,
          0.8539512195121951,
          0.8554634146341463,
          0.8543414634146341,
          0.8545121951219512,
          0.8495609756097561,
          0.8435365853658536,
          0.8254634146341463,
          0.8077073170731708,
          0.7742682926829269,
          0.7715365853658537,
          0.7512926829268293,
          0.7797804878048781,
          0.7798780487804878,
          0.810829268292683,
          0.8163658536585365,
          0.8368292682926829,
          0.841170731707317,
          0.8551951219512195,
          0.8546341463414634,
          0.863,
          0.8619024390243902,
          0.8674634146341463,
          0.8664878048780488,
          0.8701951219512195,
          0.8697073170731707,
          0.8718780487804878
         ],
         "yaxis": "y"
        },
        {
         "hovertemplate": "variable=0.35<br>index=%{x}<br>value=%{y}<extra></extra>",
         "legendgroup": "0.35",
         "line": {
          "color": "#19d3f3",
          "dash": "solid"
         },
         "marker": {
          "symbol": "circle"
         },
         "mode": "lines",
         "name": "0.35",
         "showlegend": true,
         "type": "scattergl",
         "x": [
          0,
          1,
          2,
          3,
          4,
          5,
          6,
          7,
          8,
          9,
          10,
          11,
          12,
          13,
          14,
          15,
          16,
          17,
          18,
          19,
          20,
          21,
          22,
          23,
          24,
          25,
          26,
          27,
          28,
          29,
          30,
          31,
          32,
          33,
          34,
          35,
          36,
          37,
          38,
          39,
          40,
          41,
          42,
          43,
          44,
          45,
          46,
          47,
          48,
          49,
          50,
          51,
          52,
          53,
          54,
          55,
          56,
          57,
          58,
          59,
          60,
          61,
          62,
          63,
          64,
          65,
          66,
          67,
          68,
          69,
          70,
          71,
          72,
          73,
          74,
          75,
          76,
          77,
          78,
          79,
          80,
          81,
          82,
          83,
          84,
          85,
          86,
          87,
          88,
          89,
          90,
          91,
          92,
          93,
          94,
          95,
          96,
          97,
          98,
          99
         ],
         "xaxis": "x",
         "y": [
          0.09353658536585366,
          0.13419512195121952,
          0.1761951219512195,
          0.20290243902439026,
          0.22014634146341464,
          0.234,
          0.2444390243902439,
          0.2573658536585366,
          0.2775609756097561,
          0.30458536585365853,
          0.3393658536585366,
          0.37546341463414634,
          0.41029268292682924,
          0.4410731707317073,
          0.4640975609756098,
          0.4841463414634146,
          0.505780487804878,
          0.5271707317073171,
          0.5458536585365854,
          0.5647560975609756,
          0.58,
          0.5925121951219512,
          0.6093658536585366,
          0.6544390243902439,
          0.6946585365853658,
          0.7135121951219512,
          0.726,
          0.7354146341463415,
          0.742609756097561,
          0.7495121951219512,
          0.7554390243902439,
          0.7606585365853659,
          0.7653170731707317,
          0.7701951219512195,
          0.7750243902439025,
          0.779,
          0.7834878048780488,
          0.7880731707317074,
          0.7922682926829269,
          0.796219512195122,
          0.7998780487804878,
          0.8030975609756098,
          0.8061951219512196,
          0.8096829268292683,
          0.8121951219512196,
          0.8153170731707317,
          0.8174878048780487,
          0.8208536585365853,
          0.8215853658536585,
          0.826,
          0.8247560975609756,
          0.8303414634146341,
          0.8216585365853658,
          0.821170731707317,
          0.7779268292682927,
          0.7447560975609756,
          0.678439024390244,
          0.6921951219512195,
          0.6882195121951219,
          0.7648536585365854,
          0.7692926829268293,
          0.8187560975609756,
          0.8160243902439024,
          0.8395121951219512,
          0.8342439024390244,
          0.848170731707317,
          0.8422926829268292,
          0.8525853658536585,
          0.8475853658536585,
          0.856,
          0.8517073170731707,
          0.8585121951219512,
          0.8545609756097561,
          0.8605121951219512,
          0.8561951219512195,
          0.8615609756097561,
          0.8571951219512195,
          0.8630731707317073,
          0.8576829268292683,
          0.864,
          0.856,
          0.8631707317073171,
          0.8522439024390244,
          0.8617560975609756,
          0.847170731707317,
          0.8585853658536585,
          0.8402439024390244,
          0.8544634146341463,
          0.8363658536585366,
          0.851609756097561,
          0.8367560975609756,
          0.8526829268292683,
          0.8421463414634146,
          0.8572682926829268,
          0.8506341463414634,
          0.8630731707317073,
          0.8590487804878049,
          0.8683414634146341,
          0.8659512195121951,
          0.8725609756097561
         ],
         "yaxis": "y"
        },
        {
         "hovertemplate": "variable=0.40<br>index=%{x}<br>value=%{y}<extra></extra>",
         "legendgroup": "0.40",
         "line": {
          "color": "#FF6692",
          "dash": "solid"
         },
         "marker": {
          "symbol": "circle"
         },
         "mode": "lines",
         "name": "0.40",
         "showlegend": true,
         "type": "scattergl",
         "x": [
          0,
          1,
          2,
          3,
          4,
          5,
          6,
          7,
          8,
          9,
          10,
          11,
          12,
          13,
          14,
          15,
          16,
          17,
          18,
          19,
          20,
          21,
          22,
          23,
          24,
          25,
          26,
          27,
          28,
          29,
          30,
          31,
          32,
          33,
          34,
          35,
          36,
          37,
          38,
          39,
          40,
          41,
          42,
          43,
          44,
          45,
          46,
          47,
          48,
          49,
          50,
          51,
          52,
          53,
          54,
          55,
          56,
          57,
          58,
          59,
          60,
          61,
          62,
          63,
          64,
          65,
          66,
          67,
          68,
          69,
          70,
          71,
          72,
          73,
          74,
          75,
          76,
          77,
          78,
          79,
          80,
          81,
          82,
          83,
          84,
          85,
          86,
          87,
          88,
          89,
          90,
          91,
          92,
          93,
          94,
          95,
          96,
          97,
          98,
          99
         ],
         "xaxis": "x",
         "y": [
          0.12051219512195122,
          0.16329268292682927,
          0.21336585365853658,
          0.23648780487804877,
          0.23529268292682926,
          0.23317073170731709,
          0.23970731707317072,
          0.25134146341463415,
          0.26395121951219513,
          0.2780975609756098,
          0.2920731707317073,
          0.3170731707317073,
          0.3751219512195122,
          0.4469268292682927,
          0.5060243902439024,
          0.552219512195122,
          0.5899024390243902,
          0.6210975609756098,
          0.648390243902439,
          0.6702439024390244,
          0.6882682926829268,
          0.7064390243902439,
          0.7217317073170731,
          0.7338780487804878,
          0.7447073170731707,
          0.755780487804878,
          0.7653170731707317,
          0.7732926829268293,
          0.7812926829268293,
          0.7887560975609756,
          0.7954878048780488,
          0.8006829268292683,
          0.8061463414634147,
          0.811439024390244,
          0.8133170731707317,
          0.8192926829268292,
          0.8053902439024391,
          0.7940975609756098,
          0.710390243902439,
          0.6399756097560976,
          0.6387073170731707,
          0.7038536585365853,
          0.739780487804878,
          0.8213170731707317,
          0.8137317073170731,
          0.8370975609756097,
          0.8230243902439024,
          0.8378536585365853,
          0.8203170731707317,
          0.8280975609756097,
          0.8079024390243903,
          0.8080731707317074,
          0.7930487804878049,
          0.7920975609756098,
          0.7827560975609756,
          0.7861219512195122,
          0.7815609756097561,
          0.7951463414634147,
          0.8027560975609757,
          0.8189024390243902,
          0.829390243902439,
          0.8407317073170731,
          0.8467317073170731,
          0.8527560975609756,
          0.8558292682926829,
          0.859,
          0.8621219512195122,
          0.8625121951219512,
          0.8649268292682927,
          0.8643658536585366,
          0.8662195121951219,
          0.8647073170731707,
          0.8660487804878049,
          0.8638048780487805,
          0.8656585365853658,
          0.8623414634146341,
          0.8645365853658536,
          0.8609512195121951,
          0.8631463414634146,
          0.8596341463414634,
          0.8631463414634146,
          0.8594878048780488,
          0.8646341463414634,
          0.8604878048780488,
          0.8667317073170732,
          0.8631219512195122,
          0.8689512195121951,
          0.8658048780487805,
          0.872219512195122,
          0.868390243902439,
          0.8743414634146341,
          0.8709024390243902,
          0.8768048780487805,
          0.873390243902439,
          0.8787317073170732,
          0.8759268292682927,
          0.8806829268292683,
          0.878,
          0.8823170731707317,
          0.8803414634146342
         ],
         "yaxis": "y"
        },
        {
         "hovertemplate": "variable=0.45<br>index=%{x}<br>value=%{y}<extra></extra>",
         "legendgroup": "0.45",
         "line": {
          "color": "#B6E880",
          "dash": "solid"
         },
         "marker": {
          "symbol": "circle"
         },
         "mode": "lines",
         "name": "0.45",
         "showlegend": true,
         "type": "scattergl",
         "x": [
          0,
          1,
          2,
          3,
          4,
          5,
          6,
          7,
          8,
          9,
          10,
          11,
          12,
          13,
          14,
          15,
          16,
          17,
          18,
          19,
          20,
          21,
          22,
          23,
          24,
          25,
          26,
          27,
          28,
          29,
          30,
          31,
          32,
          33,
          34,
          35,
          36,
          37,
          38,
          39,
          40,
          41,
          42,
          43,
          44,
          45,
          46,
          47,
          48,
          49,
          50,
          51,
          52,
          53,
          54,
          55,
          56,
          57,
          58,
          59,
          60,
          61,
          62,
          63,
          64,
          65,
          66,
          67,
          68,
          69,
          70,
          71,
          72,
          73,
          74,
          75,
          76,
          77,
          78,
          79,
          80,
          81,
          82,
          83,
          84,
          85,
          86,
          87,
          88,
          89,
          90,
          91,
          92,
          93,
          94,
          95,
          96,
          97,
          98,
          99
         ],
         "xaxis": "x",
         "y": [
          0.08929268292682926,
          0.10304878048780487,
          0.14109756097560974,
          0.18570731707317073,
          0.2079512195121951,
          0.21048780487804877,
          0.2157560975609756,
          0.23680487804878048,
          0.25470731707317074,
          0.2740487804878049,
          0.3154878048780488,
          0.38070731707317074,
          0.43597560975609756,
          0.47992682926829267,
          0.5214390243902439,
          0.5654390243902438,
          0.6072195121951219,
          0.6393414634146342,
          0.6621707317073171,
          0.6818780487804879,
          0.7002439024390243,
          0.7162926829268292,
          0.7285609756097561,
          0.741390243902439,
          0.7526829268292683,
          0.7625609756097561,
          0.770219512195122,
          0.7779268292682927,
          0.7840731707317073,
          0.7920487804878049,
          0.7896585365853659,
          0.7920731707317074,
          0.7345365853658536,
          0.6787317073170732,
          0.5832195121951219,
          0.5899024390243902,
          0.6061707317073171,
          0.7638048780487805,
          0.782219512195122,
          0.8131219512195121,
          0.8065121951219513,
          0.8215121951219512,
          0.8098536585365854,
          0.8206097560975609,
          0.8038536585365854,
          0.8109268292682927,
          0.7918048780487805,
          0.7972926829268293,
          0.7832439024390244,
          0.7872682926829269,
          0.7784878048780488,
          0.7825609756097561,
          0.7749512195121951,
          0.7898780487804878,
          0.7824146341463415,
          0.8051463414634147,
          0.8006341463414635,
          0.8196341463414634,
          0.8170487804878048,
          0.8294878048780487,
          0.8263170731707317,
          0.8329268292682926,
          0.8298292682926829,
          0.8329512195121951,
          0.8316829268292683,
          0.8346585365853658,
          0.8359268292682926,
          0.8382926829268292,
          0.8429756097560975,
          0.8460975609756097,
          0.8518780487804878,
          0.852780487804878,
          0.857780487804878,
          0.8590243902439024,
          0.8628048780487805,
          0.8628048780487805,
          0.8660487804878049,
          0.8662682926829268,
          0.8686341463414634,
          0.8681219512195122,
          0.8707317073170732,
          0.8691951219512195,
          0.8718536585365854,
          0.8705853658536585,
          0.8731463414634146,
          0.8718536585365854,
          0.8742682926829268,
          0.872390243902439,
          0.8752682926829268,
          0.8731219512195122,
          0.8765609756097561,
          0.8741463414634146,
          0.8778048780487805,
          0.875390243902439,
          0.8788048780487805,
          0.8764878048780488,
          0.880219512195122,
          0.8780243902439024,
          0.8815121951219512,
          0.879609756097561
         ],
         "yaxis": "y"
        },
        {
         "hovertemplate": "variable=0.50<br>index=%{x}<br>value=%{y}<extra></extra>",
         "legendgroup": "0.50",
         "line": {
          "color": "#FF97FF",
          "dash": "solid"
         },
         "marker": {
          "symbol": "circle"
         },
         "mode": "lines",
         "name": "0.50",
         "showlegend": true,
         "type": "scattergl",
         "x": [
          0,
          1,
          2,
          3,
          4,
          5,
          6,
          7,
          8,
          9,
          10,
          11,
          12,
          13,
          14,
          15,
          16,
          17,
          18,
          19,
          20,
          21,
          22,
          23,
          24,
          25,
          26,
          27,
          28,
          29,
          30,
          31,
          32,
          33,
          34,
          35,
          36,
          37,
          38,
          39,
          40,
          41,
          42,
          43,
          44,
          45,
          46,
          47,
          48,
          49,
          50,
          51,
          52,
          53,
          54,
          55,
          56,
          57,
          58,
          59,
          60,
          61,
          62,
          63,
          64,
          65,
          66,
          67,
          68,
          69,
          70,
          71,
          72,
          73,
          74,
          75,
          76,
          77,
          78,
          79,
          80,
          81,
          82,
          83,
          84,
          85,
          86,
          87,
          88,
          89,
          90,
          91,
          92,
          93,
          94,
          95,
          96,
          97,
          98,
          99
         ],
         "xaxis": "x",
         "y": [
          0.09719512195121952,
          0.14565853658536584,
          0.19270731707317074,
          0.20948780487804877,
          0.2146829268292683,
          0.2552439024390244,
          0.3415365853658537,
          0.421,
          0.48797560975609755,
          0.5408780487804878,
          0.5812195121951219,
          0.6096585365853658,
          0.6366829268292683,
          0.6661707317073171,
          0.6954634146341463,
          0.7198780487804878,
          0.7386829268292683,
          0.7534878048780488,
          0.7655365853658537,
          0.7757073170731708,
          0.784829268292683,
          0.7921219512195122,
          0.7984634146341464,
          0.8038780487804879,
          0.809439024390244,
          0.8117560975609757,
          0.8034634146341464,
          0.7434390243902439,
          0.6513658536585366,
          0.6115365853658536,
          0.567560975609756,
          0.6651951219512195,
          0.7326829268292683,
          0.7927317073170732,
          0.7691463414634147,
          0.7931707317073171,
          0.7479024390243902,
          0.7598536585365854,
          0.7120975609756097,
          0.7474146341463415,
          0.7338048780487805,
          0.7910731707317074,
          0.7907804878048781,
          0.8219512195121951,
          0.8156585365853658,
          0.8324878048780487,
          0.8230243902439024,
          0.8329024390243902,
          0.8207560975609756,
          0.8298536585365853,
          0.8177560975609756,
          0.829170731707317,
          0.8206341463414634,
          0.8329024390243902,
          0.8282195121951219,
          0.8375609756097561,
          0.8345853658536585,
          0.8349268292682926,
          0.826170731707317,
          0.8121219512195123,
          0.8020243902439025,
          0.7915853658536586,
          0.8113902439024391,
          0.8197317073170731,
          0.8470243902439024,
          0.8454390243902439,
          0.865,
          0.8599024390243902,
          0.8730731707317073,
          0.8668536585365854,
          0.8765121951219512,
          0.8697073170731707,
          0.8783414634146341,
          0.8713170731707317,
          0.878780487804878,
          0.8715609756097561,
          0.8785121951219512,
          0.8712926829268293,
          0.878390243902439,
          0.870780487804878,
          0.878219512195122,
          0.8704634146341463,
          0.8786585365853659,
          0.8711707317073171,
          0.8795609756097561,
          0.8730243902439024,
          0.8813414634146342,
          0.8753658536585366,
          0.8835609756097561,
          0.8781463414634146,
          0.8858780487804878,
          0.8803658536585366,
          0.8871707317073171,
          0.8821463414634146,
          0.8878292682926829,
          0.8826829268292683,
          0.8884146341463415,
          0.8832682926829268,
          0.8880487804878049,
          0.883
         ],
         "yaxis": "y"
        },
        {
         "hovertemplate": "variable=0.55<br>index=%{x}<br>value=%{y}<extra></extra>",
         "legendgroup": "0.55",
         "line": {
          "color": "#FECB52",
          "dash": "solid"
         },
         "marker": {
          "symbol": "circle"
         },
         "mode": "lines",
         "name": "0.55",
         "showlegend": true,
         "type": "scattergl",
         "x": [
          0,
          1,
          2,
          3,
          4,
          5,
          6,
          7,
          8,
          9,
          10,
          11,
          12,
          13,
          14,
          15,
          16,
          17,
          18,
          19,
          20,
          21,
          22,
          23,
          24,
          25,
          26,
          27,
          28,
          29,
          30,
          31,
          32,
          33,
          34,
          35,
          36,
          37,
          38,
          39,
          40,
          41,
          42,
          43,
          44,
          45,
          46,
          47,
          48,
          49,
          50,
          51,
          52,
          53,
          54,
          55,
          56,
          57,
          58,
          59,
          60,
          61,
          62,
          63,
          64,
          65,
          66,
          67,
          68,
          69,
          70,
          71,
          72,
          73,
          74,
          75,
          76,
          77,
          78,
          79,
          80,
          81,
          82,
          83,
          84,
          85,
          86,
          87,
          88,
          89,
          90,
          91,
          92,
          93,
          94,
          95,
          96,
          97,
          98,
          99
         ],
         "xaxis": "x",
         "y": [
          0.13931707317073172,
          0.17717073170731706,
          0.21309756097560975,
          0.23690243902439023,
          0.25458536585365854,
          0.26846341463414636,
          0.2891219512195122,
          0.3432439024390244,
          0.4260731707317073,
          0.4913170731707317,
          0.5354634146341464,
          0.5673170731707317,
          0.6008048780487805,
          0.6346585365853659,
          0.665609756097561,
          0.6967560975609756,
          0.7223170731707317,
          0.7414146341463415,
          0.7568536585365854,
          0.7692926829268293,
          0.7784878048780488,
          0.7875365853658537,
          0.7932926829268293,
          0.7940731707317074,
          0.7842926829268293,
          0.7349268292682927,
          0.6972926829268292,
          0.6288536585365854,
          0.5677317073170731,
          0.6034390243902439,
          0.6181463414634146,
          0.6969268292682926,
          0.7908536585365854,
          0.8185121951219512,
          0.823390243902439,
          0.8201463414634146,
          0.8105365853658537,
          0.7744878048780488,
          0.7490487804878049,
          0.6952682926829268,
          0.7102195121951219,
          0.7148292682926829,
          0.7814390243902439,
          0.8111219512195122,
          0.8390975609756097,
          0.8434146341463414,
          0.8515853658536585,
          0.8473170731707317,
          0.8471463414634146,
          0.8280243902439024,
          0.8071219512195122,
          0.7498536585365854,
          0.7563170731707317,
          0.7357317073170732,
          0.8139756097560975,
          0.8292195121951219,
          0.8470975609756097,
          0.8571707317073171,
          0.8553414634146341,
          0.861609756097561,
          0.8561463414634146,
          0.8599756097560975,
          0.8512682926829268,
          0.8515121951219512,
          0.8437317073170731,
          0.8408536585365853,
          0.8345853658536585,
          0.8342195121951219,
          0.8351219512195122,
          0.8442926829268292,
          0.8488048780487805,
          0.8609512195121951,
          0.8638780487804878,
          0.8712439024390244,
          0.8726829268292683,
          0.8768780487804878,
          0.878,
          0.879780487804878,
          0.8804634146341463,
          0.8814390243902439,
          0.8822439024390244,
          0.8821463414634146,
          0.8828292682926829,
          0.8825121951219512,
          0.8830975609756098,
          0.8820243902439024,
          0.8831707317073171,
          0.8810731707317073,
          0.8828292682926829,
          0.8804390243902439,
          0.882609756097561,
          0.8792439024390244,
          0.8830243902439024,
          0.879,
          0.8837560975609756,
          0.8799512195121951,
          0.8855853658536585,
          0.8817073170731707,
          0.8874390243902439,
          0.8838048780487805
         ],
         "yaxis": "y"
        },
        {
         "hovertemplate": "variable=0.60<br>index=%{x}<br>value=%{y}<extra></extra>",
         "legendgroup": "0.60",
         "line": {
          "color": "#636efa",
          "dash": "solid"
         },
         "marker": {
          "symbol": "circle"
         },
         "mode": "lines",
         "name": "0.60",
         "showlegend": true,
         "type": "scattergl",
         "x": [
          0,
          1,
          2,
          3,
          4,
          5,
          6,
          7,
          8,
          9,
          10,
          11,
          12,
          13,
          14,
          15,
          16,
          17,
          18,
          19,
          20,
          21,
          22,
          23,
          24,
          25,
          26,
          27,
          28,
          29,
          30,
          31,
          32,
          33,
          34,
          35,
          36,
          37,
          38,
          39,
          40,
          41,
          42,
          43,
          44,
          45,
          46,
          47,
          48,
          49,
          50,
          51,
          52,
          53,
          54,
          55,
          56,
          57,
          58,
          59,
          60,
          61,
          62,
          63,
          64,
          65,
          66,
          67,
          68,
          69,
          70,
          71,
          72,
          73,
          74,
          75,
          76,
          77,
          78,
          79,
          80,
          81,
          82,
          83,
          84,
          85,
          86,
          87,
          88,
          89,
          90,
          91,
          92,
          93,
          94,
          95,
          96,
          97,
          98,
          99
         ],
         "xaxis": "x",
         "y": [
          0.1306829268292683,
          0.16739024390243903,
          0.1851219512195122,
          0.1828780487804878,
          0.18214634146341463,
          0.19595121951219513,
          0.23039024390243903,
          0.2672439024390244,
          0.2961463414634146,
          0.31841463414634147,
          0.34580487804878046,
          0.4016829268292683,
          0.47760975609756096,
          0.5339512195121952,
          0.5922926829268292,
          0.655,
          0.6989512195121951,
          0.7267073170731707,
          0.7488780487804878,
          0.7670243902439025,
          0.7749268292682927,
          0.7810731707317073,
          0.6635365853658537,
          0.5065365853658537,
          0.48273170731707316,
          0.5458048780487805,
          0.5677073170731707,
          0.5939756097560975,
          0.6705365853658537,
          0.6913170731707317,
          0.765390243902439,
          0.7787317073170732,
          0.8031707317073171,
          0.8025853658536586,
          0.8142195121951219,
          0.8079756097560976,
          0.8150731707317073,
          0.8052439024390244,
          0.8129268292682926,
          0.8043170731707318,
          0.8111463414634147,
          0.809219512195122,
          0.8042682926829269,
          0.8030975609756098,
          0.7875121951219513,
          0.7965853658536586,
          0.7734878048780488,
          0.7901219512195122,
          0.7598780487804878,
          0.7713658536585366,
          0.7625121951219512,
          0.8119268292682927,
          0.826390243902439,
          0.8586585365853658,
          0.8608292682926829,
          0.8723170731707317,
          0.8713170731707317,
          0.8778780487804878,
          0.8757073170731707,
          0.8795365853658537,
          0.8766341463414634,
          0.8790975609756098,
          0.8747560975609756,
          0.8756829268292683,
          0.8684634146341463,
          0.8695853658536585,
          0.8588536585365854,
          0.8602926829268293,
          0.8501951219512195,
          0.8551463414634146,
          0.8518292682926829,
          0.8611707317073171,
          0.8660731707317073,
          0.8742439024390244,
          0.8808780487804878,
          0.8814878048780488,
          0.8849512195121951,
          0.8807073170731707,
          0.8812926829268293,
          0.8705121951219512,
          0.8688048780487805,
          0.8511951219512195,
          0.8538536585365853,
          0.8448536585365853,
          0.8642195121951219,
          0.8694878048780488,
          0.8850731707317073,
          0.8866341463414634,
          0.8925609756097561,
          0.8942682926829268,
          0.895829268292683,
          0.8971951219512195,
          0.8973414634146342,
          0.8986585365853659,
          0.8987560975609756,
          0.8997804878048781,
          0.8993170731707317,
          0.9000487804878049,
          0.8994878048780488,
          0.9002439024390244
         ],
         "yaxis": "y"
        },
        {
         "hovertemplate": "variable=0.65<br>index=%{x}<br>value=%{y}<extra></extra>",
         "legendgroup": "0.65",
         "line": {
          "color": "#EF553B",
          "dash": "solid"
         },
         "marker": {
          "symbol": "circle"
         },
         "mode": "lines",
         "name": "0.65",
         "showlegend": true,
         "type": "scattergl",
         "x": [
          0,
          1,
          2,
          3,
          4,
          5,
          6,
          7,
          8,
          9,
          10,
          11,
          12,
          13,
          14,
          15,
          16,
          17,
          18,
          19,
          20,
          21,
          22,
          23,
          24,
          25,
          26,
          27,
          28,
          29,
          30,
          31,
          32,
          33,
          34,
          35,
          36,
          37,
          38,
          39,
          40,
          41,
          42,
          43,
          44,
          45,
          46,
          47,
          48,
          49,
          50,
          51,
          52,
          53,
          54,
          55,
          56,
          57,
          58,
          59,
          60,
          61,
          62,
          63,
          64,
          65,
          66,
          67,
          68,
          69,
          70,
          71,
          72,
          73,
          74,
          75,
          76,
          77,
          78,
          79,
          80,
          81,
          82,
          83,
          84,
          85,
          86,
          87,
          88,
          89,
          90,
          91,
          92,
          93,
          94,
          95,
          96,
          97,
          98,
          99
         ],
         "xaxis": "x",
         "y": [
          0.09390243902439024,
          0.10558536585365853,
          0.13763414634146343,
          0.17792682926829267,
          0.20202439024390245,
          0.2286829268292683,
          0.3170731707317073,
          0.4322682926829268,
          0.5045609756097561,
          0.559,
          0.6141463414634146,
          0.6527073170731708,
          0.6823902439024391,
          0.7070243902439024,
          0.7289268292682927,
          0.7451707317073171,
          0.7571951219512195,
          0.7202195121951219,
          0.5369756097560976,
          0.3797317073170732,
          0.2985853658536585,
          0.2578048780487805,
          0.384,
          0.4033658536585366,
          0.43765853658536585,
          0.44982926829268294,
          0.5006829268292683,
          0.5641463414634146,
          0.5813170731707317,
          0.641219512195122,
          0.66,
          0.6856829268292683,
          0.6858780487804879,
          0.6903170731707317,
          0.690390243902439,
          0.6907073170731707,
          0.666,
          0.6929512195121951,
          0.6891219512195121,
          0.7159024390243902,
          0.7309512195121951,
          0.7833170731707317,
          0.7898780487804878,
          0.811609756097561,
          0.803609756097561,
          0.8145121951219512,
          0.800609756097561,
          0.8075853658536586,
          0.7917804878048781,
          0.8003658536585366,
          0.7857804878048781,
          0.7987560975609757,
          0.795,
          0.8108048780487805,
          0.8112682926829269,
          0.8144390243902438,
          0.8088780487804879,
          0.800439024390244,
          0.8097560975609757,
          0.8095853658536586,
          0.8288536585365853,
          0.8368048780487805,
          0.8495121951219512,
          0.8532682926829268,
          0.8590975609756097,
          0.8610243902439024,
          0.8647317073170732,
          0.8644146341463415,
          0.8672682926829268,
          0.8661707317073171,
          0.867609756097561,
          0.8659512195121951,
          0.8658048780487805,
          0.8637073170731707,
          0.8632682926829268,
          0.8592682926829268,
          0.8591463414634146,
          0.8542439024390244,
          0.8571463414634146,
          0.853170731707317,
          0.8599024390243902,
          0.8588536585365854,
          0.8661707317073171,
          0.8654146341463415,
          0.8732682926829268,
          0.8709024390243902,
          0.8761463414634146,
          0.872780487804878,
          0.8766341463414634,
          0.8715365853658537,
          0.8751463414634146,
          0.8694390243902439,
          0.8734390243902439,
          0.8662439024390244,
          0.8706829268292683,
          0.8638780487804878,
          0.8688536585365854,
          0.8612439024390244,
          0.8638048780487805,
          0.8514390243902439
         ],
         "yaxis": "y"
        }
       ],
       "layout": {
        "legend": {
         "title": {
          "text": "variable"
         },
         "tracegroupgap": 0
        },
        "margin": {
         "t": 60
        },
        "template": {
         "data": {
          "bar": [
           {
            "error_x": {
             "color": "#2a3f5f"
            },
            "error_y": {
             "color": "#2a3f5f"
            },
            "marker": {
             "line": {
              "color": "#E5ECF6",
              "width": 0.5
             },
             "pattern": {
              "fillmode": "overlay",
              "size": 10,
              "solidity": 0.2
             }
            },
            "type": "bar"
           }
          ],
          "barpolar": [
           {
            "marker": {
             "line": {
              "color": "#E5ECF6",
              "width": 0.5
             },
             "pattern": {
              "fillmode": "overlay",
              "size": 10,
              "solidity": 0.2
             }
            },
            "type": "barpolar"
           }
          ],
          "carpet": [
           {
            "aaxis": {
             "endlinecolor": "#2a3f5f",
             "gridcolor": "white",
             "linecolor": "white",
             "minorgridcolor": "white",
             "startlinecolor": "#2a3f5f"
            },
            "baxis": {
             "endlinecolor": "#2a3f5f",
             "gridcolor": "white",
             "linecolor": "white",
             "minorgridcolor": "white",
             "startlinecolor": "#2a3f5f"
            },
            "type": "carpet"
           }
          ],
          "choropleth": [
           {
            "colorbar": {
             "outlinewidth": 0,
             "ticks": ""
            },
            "type": "choropleth"
           }
          ],
          "contour": [
           {
            "colorbar": {
             "outlinewidth": 0,
             "ticks": ""
            },
            "colorscale": [
             [
              0,
              "#0d0887"
             ],
             [
              0.1111111111111111,
              "#46039f"
             ],
             [
              0.2222222222222222,
              "#7201a8"
             ],
             [
              0.3333333333333333,
              "#9c179e"
             ],
             [
              0.4444444444444444,
              "#bd3786"
             ],
             [
              0.5555555555555556,
              "#d8576b"
             ],
             [
              0.6666666666666666,
              "#ed7953"
             ],
             [
              0.7777777777777778,
              "#fb9f3a"
             ],
             [
              0.8888888888888888,
              "#fdca26"
             ],
             [
              1,
              "#f0f921"
             ]
            ],
            "type": "contour"
           }
          ],
          "contourcarpet": [
           {
            "colorbar": {
             "outlinewidth": 0,
             "ticks": ""
            },
            "type": "contourcarpet"
           }
          ],
          "heatmap": [
           {
            "colorbar": {
             "outlinewidth": 0,
             "ticks": ""
            },
            "colorscale": [
             [
              0,
              "#0d0887"
             ],
             [
              0.1111111111111111,
              "#46039f"
             ],
             [
              0.2222222222222222,
              "#7201a8"
             ],
             [
              0.3333333333333333,
              "#9c179e"
             ],
             [
              0.4444444444444444,
              "#bd3786"
             ],
             [
              0.5555555555555556,
              "#d8576b"
             ],
             [
              0.6666666666666666,
              "#ed7953"
             ],
             [
              0.7777777777777778,
              "#fb9f3a"
             ],
             [
              0.8888888888888888,
              "#fdca26"
             ],
             [
              1,
              "#f0f921"
             ]
            ],
            "type": "heatmap"
           }
          ],
          "heatmapgl": [
           {
            "colorbar": {
             "outlinewidth": 0,
             "ticks": ""
            },
            "colorscale": [
             [
              0,
              "#0d0887"
             ],
             [
              0.1111111111111111,
              "#46039f"
             ],
             [
              0.2222222222222222,
              "#7201a8"
             ],
             [
              0.3333333333333333,
              "#9c179e"
             ],
             [
              0.4444444444444444,
              "#bd3786"
             ],
             [
              0.5555555555555556,
              "#d8576b"
             ],
             [
              0.6666666666666666,
              "#ed7953"
             ],
             [
              0.7777777777777778,
              "#fb9f3a"
             ],
             [
              0.8888888888888888,
              "#fdca26"
             ],
             [
              1,
              "#f0f921"
             ]
            ],
            "type": "heatmapgl"
           }
          ],
          "histogram": [
           {
            "marker": {
             "pattern": {
              "fillmode": "overlay",
              "size": 10,
              "solidity": 0.2
             }
            },
            "type": "histogram"
           }
          ],
          "histogram2d": [
           {
            "colorbar": {
             "outlinewidth": 0,
             "ticks": ""
            },
            "colorscale": [
             [
              0,
              "#0d0887"
             ],
             [
              0.1111111111111111,
              "#46039f"
             ],
             [
              0.2222222222222222,
              "#7201a8"
             ],
             [
              0.3333333333333333,
              "#9c179e"
             ],
             [
              0.4444444444444444,
              "#bd3786"
             ],
             [
              0.5555555555555556,
              "#d8576b"
             ],
             [
              0.6666666666666666,
              "#ed7953"
             ],
             [
              0.7777777777777778,
              "#fb9f3a"
             ],
             [
              0.8888888888888888,
              "#fdca26"
             ],
             [
              1,
              "#f0f921"
             ]
            ],
            "type": "histogram2d"
           }
          ],
          "histogram2dcontour": [
           {
            "colorbar": {
             "outlinewidth": 0,
             "ticks": ""
            },
            "colorscale": [
             [
              0,
              "#0d0887"
             ],
             [
              0.1111111111111111,
              "#46039f"
             ],
             [
              0.2222222222222222,
              "#7201a8"
             ],
             [
              0.3333333333333333,
              "#9c179e"
             ],
             [
              0.4444444444444444,
              "#bd3786"
             ],
             [
              0.5555555555555556,
              "#d8576b"
             ],
             [
              0.6666666666666666,
              "#ed7953"
             ],
             [
              0.7777777777777778,
              "#fb9f3a"
             ],
             [
              0.8888888888888888,
              "#fdca26"
             ],
             [
              1,
              "#f0f921"
             ]
            ],
            "type": "histogram2dcontour"
           }
          ],
          "mesh3d": [
           {
            "colorbar": {
             "outlinewidth": 0,
             "ticks": ""
            },
            "type": "mesh3d"
           }
          ],
          "parcoords": [
           {
            "line": {
             "colorbar": {
              "outlinewidth": 0,
              "ticks": ""
             }
            },
            "type": "parcoords"
           }
          ],
          "pie": [
           {
            "automargin": true,
            "type": "pie"
           }
          ],
          "scatter": [
           {
            "marker": {
             "colorbar": {
              "outlinewidth": 0,
              "ticks": ""
             }
            },
            "type": "scatter"
           }
          ],
          "scatter3d": [
           {
            "line": {
             "colorbar": {
              "outlinewidth": 0,
              "ticks": ""
             }
            },
            "marker": {
             "colorbar": {
              "outlinewidth": 0,
              "ticks": ""
             }
            },
            "type": "scatter3d"
           }
          ],
          "scattercarpet": [
           {
            "marker": {
             "colorbar": {
              "outlinewidth": 0,
              "ticks": ""
             }
            },
            "type": "scattercarpet"
           }
          ],
          "scattergeo": [
           {
            "marker": {
             "colorbar": {
              "outlinewidth": 0,
              "ticks": ""
             }
            },
            "type": "scattergeo"
           }
          ],
          "scattergl": [
           {
            "marker": {
             "colorbar": {
              "outlinewidth": 0,
              "ticks": ""
             }
            },
            "type": "scattergl"
           }
          ],
          "scattermapbox": [
           {
            "marker": {
             "colorbar": {
              "outlinewidth": 0,
              "ticks": ""
             }
            },
            "type": "scattermapbox"
           }
          ],
          "scatterpolar": [
           {
            "marker": {
             "colorbar": {
              "outlinewidth": 0,
              "ticks": ""
             }
            },
            "type": "scatterpolar"
           }
          ],
          "scatterpolargl": [
           {
            "marker": {
             "colorbar": {
              "outlinewidth": 0,
              "ticks": ""
             }
            },
            "type": "scatterpolargl"
           }
          ],
          "scatterternary": [
           {
            "marker": {
             "colorbar": {
              "outlinewidth": 0,
              "ticks": ""
             }
            },
            "type": "scatterternary"
           }
          ],
          "surface": [
           {
            "colorbar": {
             "outlinewidth": 0,
             "ticks": ""
            },
            "colorscale": [
             [
              0,
              "#0d0887"
             ],
             [
              0.1111111111111111,
              "#46039f"
             ],
             [
              0.2222222222222222,
              "#7201a8"
             ],
             [
              0.3333333333333333,
              "#9c179e"
             ],
             [
              0.4444444444444444,
              "#bd3786"
             ],
             [
              0.5555555555555556,
              "#d8576b"
             ],
             [
              0.6666666666666666,
              "#ed7953"
             ],
             [
              0.7777777777777778,
              "#fb9f3a"
             ],
             [
              0.8888888888888888,
              "#fdca26"
             ],
             [
              1,
              "#f0f921"
             ]
            ],
            "type": "surface"
           }
          ],
          "table": [
           {
            "cells": {
             "fill": {
              "color": "#EBF0F8"
             },
             "line": {
              "color": "white"
             }
            },
            "header": {
             "fill": {
              "color": "#C8D4E3"
             },
             "line": {
              "color": "white"
             }
            },
            "type": "table"
           }
          ]
         },
         "layout": {
          "annotationdefaults": {
           "arrowcolor": "#2a3f5f",
           "arrowhead": 0,
           "arrowwidth": 1
          },
          "autotypenumbers": "strict",
          "coloraxis": {
           "colorbar": {
            "outlinewidth": 0,
            "ticks": ""
           }
          },
          "colorscale": {
           "diverging": [
            [
             0,
             "#8e0152"
            ],
            [
             0.1,
             "#c51b7d"
            ],
            [
             0.2,
             "#de77ae"
            ],
            [
             0.3,
             "#f1b6da"
            ],
            [
             0.4,
             "#fde0ef"
            ],
            [
             0.5,
             "#f7f7f7"
            ],
            [
             0.6,
             "#e6f5d0"
            ],
            [
             0.7,
             "#b8e186"
            ],
            [
             0.8,
             "#7fbc41"
            ],
            [
             0.9,
             "#4d9221"
            ],
            [
             1,
             "#276419"
            ]
           ],
           "sequential": [
            [
             0,
             "#0d0887"
            ],
            [
             0.1111111111111111,
             "#46039f"
            ],
            [
             0.2222222222222222,
             "#7201a8"
            ],
            [
             0.3333333333333333,
             "#9c179e"
            ],
            [
             0.4444444444444444,
             "#bd3786"
            ],
            [
             0.5555555555555556,
             "#d8576b"
            ],
            [
             0.6666666666666666,
             "#ed7953"
            ],
            [
             0.7777777777777778,
             "#fb9f3a"
            ],
            [
             0.8888888888888888,
             "#fdca26"
            ],
            [
             1,
             "#f0f921"
            ]
           ],
           "sequentialminus": [
            [
             0,
             "#0d0887"
            ],
            [
             0.1111111111111111,
             "#46039f"
            ],
            [
             0.2222222222222222,
             "#7201a8"
            ],
            [
             0.3333333333333333,
             "#9c179e"
            ],
            [
             0.4444444444444444,
             "#bd3786"
            ],
            [
             0.5555555555555556,
             "#d8576b"
            ],
            [
             0.6666666666666666,
             "#ed7953"
            ],
            [
             0.7777777777777778,
             "#fb9f3a"
            ],
            [
             0.8888888888888888,
             "#fdca26"
            ],
            [
             1,
             "#f0f921"
            ]
           ]
          },
          "colorway": [
           "#636efa",
           "#EF553B",
           "#00cc96",
           "#ab63fa",
           "#FFA15A",
           "#19d3f3",
           "#FF6692",
           "#B6E880",
           "#FF97FF",
           "#FECB52"
          ],
          "font": {
           "color": "#2a3f5f"
          },
          "geo": {
           "bgcolor": "white",
           "lakecolor": "white",
           "landcolor": "#E5ECF6",
           "showlakes": true,
           "showland": true,
           "subunitcolor": "white"
          },
          "hoverlabel": {
           "align": "left"
          },
          "hovermode": "closest",
          "mapbox": {
           "style": "light"
          },
          "paper_bgcolor": "white",
          "plot_bgcolor": "#E5ECF6",
          "polar": {
           "angularaxis": {
            "gridcolor": "white",
            "linecolor": "white",
            "ticks": ""
           },
           "bgcolor": "#E5ECF6",
           "radialaxis": {
            "gridcolor": "white",
            "linecolor": "white",
            "ticks": ""
           }
          },
          "scene": {
           "xaxis": {
            "backgroundcolor": "#E5ECF6",
            "gridcolor": "white",
            "gridwidth": 2,
            "linecolor": "white",
            "showbackground": true,
            "ticks": "",
            "zerolinecolor": "white"
           },
           "yaxis": {
            "backgroundcolor": "#E5ECF6",
            "gridcolor": "white",
            "gridwidth": 2,
            "linecolor": "white",
            "showbackground": true,
            "ticks": "",
            "zerolinecolor": "white"
           },
           "zaxis": {
            "backgroundcolor": "#E5ECF6",
            "gridcolor": "white",
            "gridwidth": 2,
            "linecolor": "white",
            "showbackground": true,
            "ticks": "",
            "zerolinecolor": "white"
           }
          },
          "shapedefaults": {
           "line": {
            "color": "#2a3f5f"
           }
          },
          "ternary": {
           "aaxis": {
            "gridcolor": "white",
            "linecolor": "white",
            "ticks": ""
           },
           "baxis": {
            "gridcolor": "white",
            "linecolor": "white",
            "ticks": ""
           },
           "bgcolor": "#E5ECF6",
           "caxis": {
            "gridcolor": "white",
            "linecolor": "white",
            "ticks": ""
           }
          },
          "title": {
           "x": 0.05
          },
          "xaxis": {
           "automargin": true,
           "gridcolor": "white",
           "linecolor": "white",
           "ticks": "",
           "title": {
            "standoff": 15
           },
           "zerolinecolor": "white",
           "zerolinewidth": 2
          },
          "yaxis": {
           "automargin": true,
           "gridcolor": "white",
           "linecolor": "white",
           "ticks": "",
           "title": {
            "standoff": 15
           },
           "zerolinecolor": "white",
           "zerolinewidth": 2
          }
         }
        },
        "xaxis": {
         "anchor": "y",
         "domain": [
          0,
          1
         ],
         "title": {
          "text": "index"
         }
        },
        "yaxis": {
         "anchor": "x",
         "domain": [
          0,
          1
         ],
         "title": {
          "text": "value"
         }
        }
       }
      },
      "text/html": [
       "<div>                            <div id=\"2b777fb3-780a-4821-82cf-08e8cd093005\" class=\"plotly-graph-div\" style=\"height:525px; width:100%;\"></div>            <script type=\"text/javascript\">                require([\"plotly\"], function(Plotly) {                    window.PLOTLYENV=window.PLOTLYENV || {};                                    if (document.getElementById(\"2b777fb3-780a-4821-82cf-08e8cd093005\")) {                    Plotly.newPlot(                        \"2b777fb3-780a-4821-82cf-08e8cd093005\",                        [{\"hovertemplate\":\"variable=0.10<br>index=%{x}<br>value=%{y}<extra></extra>\",\"legendgroup\":\"0.10\",\"line\":{\"color\":\"#636efa\",\"dash\":\"solid\"},\"marker\":{\"symbol\":\"circle\"},\"mode\":\"lines\",\"name\":\"0.10\",\"showlegend\":true,\"x\":[0,1,2,3,4,5,6,7,8,9,10,11,12,13,14,15,16,17,18,19,20,21,22,23,24,25,26,27,28,29,30,31,32,33,34,35,36,37,38,39,40,41,42,43,44,45,46,47,48,49,50,51,52,53,54,55,56,57,58,59,60,61,62,63,64,65,66,67,68,69,70,71,72,73,74,75,76,77,78,79,80,81,82,83,84,85,86,87,88,89,90,91,92,93,94,95,96,97,98,99],\"xaxis\":\"x\",\"y\":[0.16360975609756098,0.16695121951219513,0.16839024390243904,0.17026829268292684,0.1700487804878049,0.17014634146341465,0.16929268292682928,0.16990243902439026,0.17002439024390245,0.16921951219512196,0.1701219512195122,0.16965853658536587,0.1702439024390244,0.17065853658536587,0.1719512195121951,0.1726341463414634,0.17329268292682926,0.174,0.1750731707317073,0.17621951219512194,0.17770731707317072,0.17902439024390243,0.18009756097560975,0.18117073170731707,0.18234146341463414,0.18351219512195122,0.1845609756097561,0.18536585365853658,0.18697560975609756,0.18741463414634146,0.1882439024390244,0.18914634146341464,0.1898780487804878,0.19063414634146342,0.19095121951219513,0.19141463414634147,0.1918780487804878,0.19226829268292683,0.19253658536585366,0.19278048780487805,0.19302439024390244,0.193,0.1933658536585366,0.19360975609756098,0.19390243902439025,0.19397560975609757,0.19409756097560976,0.19429268292682927,0.19439024390243903,0.19451219512195123,0.19465853658536586,0.19465853658536586,0.19475609756097562,0.19495121951219513,0.19509756097560976,0.19541463414634147,0.19604878048780489,0.19646341463414635,0.19731707317073172,0.19865853658536586,0.2009268292682927,0.20409756097560974,0.2086341463414634,0.21534146341463414,0.22397560975609757,0.2341707317073171,0.246,0.26114634146341464,0.2778048780487805,0.29553658536585364,0.3144390243902439,0.3328780487804878,0.3531463414634146,0.3765121951219512,0.40095121951219515,0.42409756097560974,0.4473658536585366,0.4679268292682927,0.4875853658536585,0.5039268292682927,0.5190975609756098,0.5325121951219512,0.5457073170731708,0.5574878048780488,0.5684390243902439,0.5791219512195122,0.589390243902439,0.5986341463414634,0.6069756097560975,0.6150243902439024,0.6226585365853659,0.6285853658536585,0.6345365853658537,0.6400975609756098,0.6456829268292683,0.6505853658536586,0.6547317073170732,0.659219512195122,0.6636341463414634,0.6678536585365854],\"yaxis\":\"y\",\"type\":\"scattergl\"},{\"hovertemplate\":\"variable=0.15<br>index=%{x}<br>value=%{y}<extra></extra>\",\"legendgroup\":\"0.15\",\"line\":{\"color\":\"#EF553B\",\"dash\":\"solid\"},\"marker\":{\"symbol\":\"circle\"},\"mode\":\"lines\",\"name\":\"0.15\",\"showlegend\":true,\"x\":[0,1,2,3,4,5,6,7,8,9,10,11,12,13,14,15,16,17,18,19,20,21,22,23,24,25,26,27,28,29,30,31,32,33,34,35,36,37,38,39,40,41,42,43,44,45,46,47,48,49,50,51,52,53,54,55,56,57,58,59,60,61,62,63,64,65,66,67,68,69,70,71,72,73,74,75,76,77,78,79,80,81,82,83,84,85,86,87,88,89,90,91,92,93,94,95,96,97,98,99],\"xaxis\":\"x\",\"y\":[0.13109756097560976,0.1363658536585366,0.14053658536585367,0.1443170731707317,0.14995121951219512,0.15695121951219512,0.16751219512195123,0.18160975609756097,0.19782926829268294,0.21621951219512195,0.2342439024390244,0.25290243902439025,0.2695609756097561,0.2853170731707317,0.2996341463414634,0.31126829268292683,0.3205609756097561,0.3282439024390244,0.33382926829268295,0.33778048780487807,0.34063414634146344,0.34087804878048783,0.34251219512195125,0.3437317073170732,0.3455121951219512,0.34804878048780485,0.35109756097560973,0.35473170731707315,0.3582439024390244,0.36373170731707316,0.3698292682926829,0.3773170731707317,0.3843170731707317,0.39207317073170733,0.39975609756097563,0.4088292682926829,0.4191463414634146,0.4344878048780488,0.45670731707317075,0.4868048780487805,0.5190243902439025,0.548609756097561,0.5760731707317073,0.5995853658536585,0.6227560975609756,0.6410487804878049,0.6572439024390244,0.6713658536585366,0.6832682926829269,0.6930487804878048,0.7008292682926829,0.7082195121951219,0.7149268292682927,0.7215853658536585,0.7266585365853658,0.7315365853658536,0.7362195121951219,0.7404878048780488,0.7446585365853658,0.7483658536585366,0.7514634146341463,0.755,0.7580731707317073,0.7614146341463415,0.7646829268292683,0.767390243902439,0.7701219512195122,0.7730731707317073,0.775390243902439,0.7773414634146342,0.7792439024390244,0.7811707317073171,0.7834634146341464,0.7857317073170732,0.787609756097561,0.7891951219512195,0.7910243902439025,0.7927317073170732,0.7947073170731708,0.7967804878048781,0.7986829268292683,0.8005365853658537,0.8024634146341464,0.8040243902439025,0.8057804878048781,0.8074146341463415,0.8088780487804879,0.8103902439024391,0.8118780487804879,0.8131951219512195,0.8145853658536585,0.8163658536585365,0.8177073170731707,0.8188292682926829,0.8200487804878048,0.8215121951219512,0.8223414634146341,0.823560975609756,0.8249268292682926,0.8263170731707317],\"yaxis\":\"y\",\"type\":\"scattergl\"},{\"hovertemplate\":\"variable=0.20<br>index=%{x}<br>value=%{y}<extra></extra>\",\"legendgroup\":\"0.20\",\"line\":{\"color\":\"#00cc96\",\"dash\":\"solid\"},\"marker\":{\"symbol\":\"circle\"},\"mode\":\"lines\",\"name\":\"0.20\",\"showlegend\":true,\"x\":[0,1,2,3,4,5,6,7,8,9,10,11,12,13,14,15,16,17,18,19,20,21,22,23,24,25,26,27,28,29,30,31,32,33,34,35,36,37,38,39,40,41,42,43,44,45,46,47,48,49,50,51,52,53,54,55,56,57,58,59,60,61,62,63,64,65,66,67,68,69,70,71,72,73,74,75,76,77,78,79,80,81,82,83,84,85,86,87,88,89,90,91,92,93,94,95,96,97,98,99],\"xaxis\":\"x\",\"y\":[0.1144390243902439,0.11780487804878048,0.12102439024390244,0.1252439024390244,0.13175609756097562,0.142390243902439,0.1592439024390244,0.1847560975609756,0.21365853658536585,0.24226829268292682,0.26751219512195124,0.29221951219512193,0.3176829268292683,0.3423658536585366,0.36941463414634146,0.39326829268292685,0.41721951219512193,0.4359268292682927,0.4526829268292683,0.4618048780487805,0.46634146341463417,0.46912195121951217,0.47292682926829266,0.47878048780487803,0.4853658536585366,0.49590243902439024,0.5086341463414634,0.5240975609756098,0.5387560975609756,0.5528780487804879,0.5663658536585365,0.5813170731707317,0.5950731707317073,0.6070731707317073,0.6199756097560976,0.6315365853658537,0.6439024390243903,0.655609756097561,0.6652926829268293,0.6745853658536586,0.6839756097560976,0.692780487804878,0.7003658536585365,0.7073170731707317,0.7139268292682927,0.7204146341463414,0.726170731707317,0.731780487804878,0.7362682926829268,0.7414390243902439,0.7464390243902439,0.7501463414634146,0.7535609756097561,0.7569268292682927,0.7598292682926829,0.7633658536585366,0.7662926829268293,0.7695853658536586,0.7724878048780488,0.7754146341463415,0.778,0.7809268292682927,0.7833658536585366,0.7858780487804878,0.7879512195121952,0.7903170731707317,0.7923902439024391,0.7944634146341464,0.7963902439024391,0.7978048780487805,0.7996585365853659,0.8019756097560976,0.8039512195121952,0.8054146341463415,0.8070243902439025,0.8088048780487805,0.8102926829268293,0.8117804878048781,0.813780487804878,0.8155121951219512,0.8166829268292682,0.8175853658536585,0.8189756097560975,0.8204146341463414,0.8220975609756097,0.8232439024390243,0.8246341463414634,0.8258536585365853,0.8270243902439024,0.8284390243902439,0.8294146341463414,0.8308780487804878,0.8321463414634146,0.8332439024390244,0.8342195121951219,0.8349512195121951,0.8362439024390244,0.8370243902439024,0.8379268292682926,0.8390243902439024],\"yaxis\":\"y\",\"type\":\"scattergl\"},{\"hovertemplate\":\"variable=0.25<br>index=%{x}<br>value=%{y}<extra></extra>\",\"legendgroup\":\"0.25\",\"line\":{\"color\":\"#ab63fa\",\"dash\":\"solid\"},\"marker\":{\"symbol\":\"circle\"},\"mode\":\"lines\",\"name\":\"0.25\",\"showlegend\":true,\"x\":[0,1,2,3,4,5,6,7,8,9,10,11,12,13,14,15,16,17,18,19,20,21,22,23,24,25,26,27,28,29,30,31,32,33,34,35,36,37,38,39,40,41,42,43,44,45,46,47,48,49,50,51,52,53,54,55,56,57,58,59,60,61,62,63,64,65,66,67,68,69,70,71,72,73,74,75,76,77,78,79,80,81,82,83,84,85,86,87,88,89,90,91,92,93,94,95,96,97,98,99],\"xaxis\":\"x\",\"y\":[0.09046341463414634,0.09336585365853659,0.09746341463414634,0.10553658536585366,0.1174390243902439,0.13370731707317074,0.15460975609756097,0.1776341463414634,0.20329268292682925,0.2342439024390244,0.2735609756097561,0.3198536585365854,0.36546341463414633,0.4004146341463415,0.42678048780487804,0.4440487804878049,0.4559268292682927,0.463609756097561,0.4711951219512195,0.4797073170731707,0.4895853658536585,0.4989512195121951,0.5091219512195122,0.5194634146341464,0.5359024390243903,0.555609756097561,0.5759268292682926,0.5964878048780488,0.6144878048780488,0.6321463414634146,0.6475121951219512,0.6579512195121952,0.6686829268292683,0.6779512195121952,0.6851219512195122,0.6930243902439024,0.7000243902439024,0.7064878048780487,0.7118292682926829,0.7175853658536585,0.7236341463414634,0.7281951219512195,0.7324634146341463,0.7373414634146341,0.7415121951219512,0.7456341463414634,0.7496341463414634,0.753219512195122,0.7571707317073171,0.7603658536585366,0.7638292682926829,0.7670731707317073,0.7700487804878049,0.7732682926829268,0.776,0.7784878048780488,0.7810487804878049,0.7832439024390244,0.7856341463414634,0.7882926829268293,0.7906341463414635,0.7931951219512196,0.7955853658536586,0.7980487804878049,0.8009268292682927,0.8028780487804879,0.8047804878048781,0.8065121951219513,0.8088048780487805,0.8110975609756098,0.8134146341463414,0.8150975609756097,0.8170487804878048,0.8190731707317073,0.8207560975609756,0.8226829268292682,0.8245121951219512,0.8264634146341463,0.8282439024390243,0.8302439024390244,0.8318780487804878,0.8334878048780487,0.8351219512195122,0.8366341463414634,0.8380975609756097,0.8394146341463414,0.8410731707317073,0.8428292682926829,0.8439512195121951,0.8451219512195122,0.8463414634146341,0.8478536585365853,0.8492439024390244,0.8506341463414634,0.8517073170731707,0.8531463414634146,0.8544878048780488,0.855609756097561,0.8565365853658536,0.8577073170731707],\"yaxis\":\"y\",\"type\":\"scattergl\"},{\"hovertemplate\":\"variable=0.30<br>index=%{x}<br>value=%{y}<extra></extra>\",\"legendgroup\":\"0.30\",\"line\":{\"color\":\"#FFA15A\",\"dash\":\"solid\"},\"marker\":{\"symbol\":\"circle\"},\"mode\":\"lines\",\"name\":\"0.30\",\"showlegend\":true,\"x\":[0,1,2,3,4,5,6,7,8,9,10,11,12,13,14,15,16,17,18,19,20,21,22,23,24,25,26,27,28,29,30,31,32,33,34,35,36,37,38,39,40,41,42,43,44,45,46,47,48,49,50,51,52,53,54,55,56,57,58,59,60,61,62,63,64,65,66,67,68,69,70,71,72,73,74,75,76,77,78,79,80,81,82,83,84,85,86,87,88,89,90,91,92,93,94,95,96,97,98,99],\"xaxis\":\"x\",\"y\":[0.09690243902439025,0.09882926829268293,0.10143902439024391,0.10595121951219512,0.11878048780487804,0.13926829268292684,0.16278048780487805,0.18817073170731707,0.2294878048780488,0.27107317073170734,0.3117560975609756,0.3530243902439024,0.393,0.4241463414634146,0.4430487804878049,0.45539024390243904,0.4662926829268293,0.4796341463414634,0.49509756097560975,0.5077804878048781,0.5192439024390244,0.5317317073170732,0.5449512195121952,0.5590487804878049,0.5753658536585365,0.5941219512195122,0.6140487804878049,0.6346341463414634,0.6529024390243903,0.6694878048780488,0.6852682926829269,0.7,0.7109512195121951,0.7222926829268292,0.7325365853658536,0.7415365853658537,0.7493414634146341,0.7556341463414634,0.7627073170731707,0.7690731707317073,0.7749756097560976,0.7801707317073171,0.7852926829268293,0.7903658536585366,0.7943414634146342,0.7988536585365854,0.8029512195121952,0.806829268292683,0.8096341463414635,0.8127073170731707,0.8148780487804878,0.818,0.8206585365853658,0.823,0.8250731707317073,0.8274146341463414,0.8292926829268292,0.8310243902439024,0.8328780487804878,0.8344146341463414,0.8362195121951219,0.8378780487804878,0.8393170731707317,0.8402926829268292,0.8417560975609756,0.8440243902439024,0.8452682926829268,0.8466829268292683,0.8477073170731707,0.8494878048780488,0.8504878048780488,0.8518292682926829,0.8525853658536585,0.8538780487804878,0.8539512195121951,0.8554634146341463,0.8543414634146341,0.8545121951219512,0.8495609756097561,0.8435365853658536,0.8254634146341463,0.8077073170731708,0.7742682926829269,0.7715365853658537,0.7512926829268293,0.7797804878048781,0.7798780487804878,0.810829268292683,0.8163658536585365,0.8368292682926829,0.841170731707317,0.8551951219512195,0.8546341463414634,0.863,0.8619024390243902,0.8674634146341463,0.8664878048780488,0.8701951219512195,0.8697073170731707,0.8718780487804878],\"yaxis\":\"y\",\"type\":\"scattergl\"},{\"hovertemplate\":\"variable=0.35<br>index=%{x}<br>value=%{y}<extra></extra>\",\"legendgroup\":\"0.35\",\"line\":{\"color\":\"#19d3f3\",\"dash\":\"solid\"},\"marker\":{\"symbol\":\"circle\"},\"mode\":\"lines\",\"name\":\"0.35\",\"showlegend\":true,\"x\":[0,1,2,3,4,5,6,7,8,9,10,11,12,13,14,15,16,17,18,19,20,21,22,23,24,25,26,27,28,29,30,31,32,33,34,35,36,37,38,39,40,41,42,43,44,45,46,47,48,49,50,51,52,53,54,55,56,57,58,59,60,61,62,63,64,65,66,67,68,69,70,71,72,73,74,75,76,77,78,79,80,81,82,83,84,85,86,87,88,89,90,91,92,93,94,95,96,97,98,99],\"xaxis\":\"x\",\"y\":[0.09353658536585366,0.13419512195121952,0.1761951219512195,0.20290243902439026,0.22014634146341464,0.234,0.2444390243902439,0.2573658536585366,0.2775609756097561,0.30458536585365853,0.3393658536585366,0.37546341463414634,0.41029268292682924,0.4410731707317073,0.4640975609756098,0.4841463414634146,0.505780487804878,0.5271707317073171,0.5458536585365854,0.5647560975609756,0.58,0.5925121951219512,0.6093658536585366,0.6544390243902439,0.6946585365853658,0.7135121951219512,0.726,0.7354146341463415,0.742609756097561,0.7495121951219512,0.7554390243902439,0.7606585365853659,0.7653170731707317,0.7701951219512195,0.7750243902439025,0.779,0.7834878048780488,0.7880731707317074,0.7922682926829269,0.796219512195122,0.7998780487804878,0.8030975609756098,0.8061951219512196,0.8096829268292683,0.8121951219512196,0.8153170731707317,0.8174878048780487,0.8208536585365853,0.8215853658536585,0.826,0.8247560975609756,0.8303414634146341,0.8216585365853658,0.821170731707317,0.7779268292682927,0.7447560975609756,0.678439024390244,0.6921951219512195,0.6882195121951219,0.7648536585365854,0.7692926829268293,0.8187560975609756,0.8160243902439024,0.8395121951219512,0.8342439024390244,0.848170731707317,0.8422926829268292,0.8525853658536585,0.8475853658536585,0.856,0.8517073170731707,0.8585121951219512,0.8545609756097561,0.8605121951219512,0.8561951219512195,0.8615609756097561,0.8571951219512195,0.8630731707317073,0.8576829268292683,0.864,0.856,0.8631707317073171,0.8522439024390244,0.8617560975609756,0.847170731707317,0.8585853658536585,0.8402439024390244,0.8544634146341463,0.8363658536585366,0.851609756097561,0.8367560975609756,0.8526829268292683,0.8421463414634146,0.8572682926829268,0.8506341463414634,0.8630731707317073,0.8590487804878049,0.8683414634146341,0.8659512195121951,0.8725609756097561],\"yaxis\":\"y\",\"type\":\"scattergl\"},{\"hovertemplate\":\"variable=0.40<br>index=%{x}<br>value=%{y}<extra></extra>\",\"legendgroup\":\"0.40\",\"line\":{\"color\":\"#FF6692\",\"dash\":\"solid\"},\"marker\":{\"symbol\":\"circle\"},\"mode\":\"lines\",\"name\":\"0.40\",\"showlegend\":true,\"x\":[0,1,2,3,4,5,6,7,8,9,10,11,12,13,14,15,16,17,18,19,20,21,22,23,24,25,26,27,28,29,30,31,32,33,34,35,36,37,38,39,40,41,42,43,44,45,46,47,48,49,50,51,52,53,54,55,56,57,58,59,60,61,62,63,64,65,66,67,68,69,70,71,72,73,74,75,76,77,78,79,80,81,82,83,84,85,86,87,88,89,90,91,92,93,94,95,96,97,98,99],\"xaxis\":\"x\",\"y\":[0.12051219512195122,0.16329268292682927,0.21336585365853658,0.23648780487804877,0.23529268292682926,0.23317073170731709,0.23970731707317072,0.25134146341463415,0.26395121951219513,0.2780975609756098,0.2920731707317073,0.3170731707317073,0.3751219512195122,0.4469268292682927,0.5060243902439024,0.552219512195122,0.5899024390243902,0.6210975609756098,0.648390243902439,0.6702439024390244,0.6882682926829268,0.7064390243902439,0.7217317073170731,0.7338780487804878,0.7447073170731707,0.755780487804878,0.7653170731707317,0.7732926829268293,0.7812926829268293,0.7887560975609756,0.7954878048780488,0.8006829268292683,0.8061463414634147,0.811439024390244,0.8133170731707317,0.8192926829268292,0.8053902439024391,0.7940975609756098,0.710390243902439,0.6399756097560976,0.6387073170731707,0.7038536585365853,0.739780487804878,0.8213170731707317,0.8137317073170731,0.8370975609756097,0.8230243902439024,0.8378536585365853,0.8203170731707317,0.8280975609756097,0.8079024390243903,0.8080731707317074,0.7930487804878049,0.7920975609756098,0.7827560975609756,0.7861219512195122,0.7815609756097561,0.7951463414634147,0.8027560975609757,0.8189024390243902,0.829390243902439,0.8407317073170731,0.8467317073170731,0.8527560975609756,0.8558292682926829,0.859,0.8621219512195122,0.8625121951219512,0.8649268292682927,0.8643658536585366,0.8662195121951219,0.8647073170731707,0.8660487804878049,0.8638048780487805,0.8656585365853658,0.8623414634146341,0.8645365853658536,0.8609512195121951,0.8631463414634146,0.8596341463414634,0.8631463414634146,0.8594878048780488,0.8646341463414634,0.8604878048780488,0.8667317073170732,0.8631219512195122,0.8689512195121951,0.8658048780487805,0.872219512195122,0.868390243902439,0.8743414634146341,0.8709024390243902,0.8768048780487805,0.873390243902439,0.8787317073170732,0.8759268292682927,0.8806829268292683,0.878,0.8823170731707317,0.8803414634146342],\"yaxis\":\"y\",\"type\":\"scattergl\"},{\"hovertemplate\":\"variable=0.45<br>index=%{x}<br>value=%{y}<extra></extra>\",\"legendgroup\":\"0.45\",\"line\":{\"color\":\"#B6E880\",\"dash\":\"solid\"},\"marker\":{\"symbol\":\"circle\"},\"mode\":\"lines\",\"name\":\"0.45\",\"showlegend\":true,\"x\":[0,1,2,3,4,5,6,7,8,9,10,11,12,13,14,15,16,17,18,19,20,21,22,23,24,25,26,27,28,29,30,31,32,33,34,35,36,37,38,39,40,41,42,43,44,45,46,47,48,49,50,51,52,53,54,55,56,57,58,59,60,61,62,63,64,65,66,67,68,69,70,71,72,73,74,75,76,77,78,79,80,81,82,83,84,85,86,87,88,89,90,91,92,93,94,95,96,97,98,99],\"xaxis\":\"x\",\"y\":[0.08929268292682926,0.10304878048780487,0.14109756097560974,0.18570731707317073,0.2079512195121951,0.21048780487804877,0.2157560975609756,0.23680487804878048,0.25470731707317074,0.2740487804878049,0.3154878048780488,0.38070731707317074,0.43597560975609756,0.47992682926829267,0.5214390243902439,0.5654390243902438,0.6072195121951219,0.6393414634146342,0.6621707317073171,0.6818780487804879,0.7002439024390243,0.7162926829268292,0.7285609756097561,0.741390243902439,0.7526829268292683,0.7625609756097561,0.770219512195122,0.7779268292682927,0.7840731707317073,0.7920487804878049,0.7896585365853659,0.7920731707317074,0.7345365853658536,0.6787317073170732,0.5832195121951219,0.5899024390243902,0.6061707317073171,0.7638048780487805,0.782219512195122,0.8131219512195121,0.8065121951219513,0.8215121951219512,0.8098536585365854,0.8206097560975609,0.8038536585365854,0.8109268292682927,0.7918048780487805,0.7972926829268293,0.7832439024390244,0.7872682926829269,0.7784878048780488,0.7825609756097561,0.7749512195121951,0.7898780487804878,0.7824146341463415,0.8051463414634147,0.8006341463414635,0.8196341463414634,0.8170487804878048,0.8294878048780487,0.8263170731707317,0.8329268292682926,0.8298292682926829,0.8329512195121951,0.8316829268292683,0.8346585365853658,0.8359268292682926,0.8382926829268292,0.8429756097560975,0.8460975609756097,0.8518780487804878,0.852780487804878,0.857780487804878,0.8590243902439024,0.8628048780487805,0.8628048780487805,0.8660487804878049,0.8662682926829268,0.8686341463414634,0.8681219512195122,0.8707317073170732,0.8691951219512195,0.8718536585365854,0.8705853658536585,0.8731463414634146,0.8718536585365854,0.8742682926829268,0.872390243902439,0.8752682926829268,0.8731219512195122,0.8765609756097561,0.8741463414634146,0.8778048780487805,0.875390243902439,0.8788048780487805,0.8764878048780488,0.880219512195122,0.8780243902439024,0.8815121951219512,0.879609756097561],\"yaxis\":\"y\",\"type\":\"scattergl\"},{\"hovertemplate\":\"variable=0.50<br>index=%{x}<br>value=%{y}<extra></extra>\",\"legendgroup\":\"0.50\",\"line\":{\"color\":\"#FF97FF\",\"dash\":\"solid\"},\"marker\":{\"symbol\":\"circle\"},\"mode\":\"lines\",\"name\":\"0.50\",\"showlegend\":true,\"x\":[0,1,2,3,4,5,6,7,8,9,10,11,12,13,14,15,16,17,18,19,20,21,22,23,24,25,26,27,28,29,30,31,32,33,34,35,36,37,38,39,40,41,42,43,44,45,46,47,48,49,50,51,52,53,54,55,56,57,58,59,60,61,62,63,64,65,66,67,68,69,70,71,72,73,74,75,76,77,78,79,80,81,82,83,84,85,86,87,88,89,90,91,92,93,94,95,96,97,98,99],\"xaxis\":\"x\",\"y\":[0.09719512195121952,0.14565853658536584,0.19270731707317074,0.20948780487804877,0.2146829268292683,0.2552439024390244,0.3415365853658537,0.421,0.48797560975609755,0.5408780487804878,0.5812195121951219,0.6096585365853658,0.6366829268292683,0.6661707317073171,0.6954634146341463,0.7198780487804878,0.7386829268292683,0.7534878048780488,0.7655365853658537,0.7757073170731708,0.784829268292683,0.7921219512195122,0.7984634146341464,0.8038780487804879,0.809439024390244,0.8117560975609757,0.8034634146341464,0.7434390243902439,0.6513658536585366,0.6115365853658536,0.567560975609756,0.6651951219512195,0.7326829268292683,0.7927317073170732,0.7691463414634147,0.7931707317073171,0.7479024390243902,0.7598536585365854,0.7120975609756097,0.7474146341463415,0.7338048780487805,0.7910731707317074,0.7907804878048781,0.8219512195121951,0.8156585365853658,0.8324878048780487,0.8230243902439024,0.8329024390243902,0.8207560975609756,0.8298536585365853,0.8177560975609756,0.829170731707317,0.8206341463414634,0.8329024390243902,0.8282195121951219,0.8375609756097561,0.8345853658536585,0.8349268292682926,0.826170731707317,0.8121219512195123,0.8020243902439025,0.7915853658536586,0.8113902439024391,0.8197317073170731,0.8470243902439024,0.8454390243902439,0.865,0.8599024390243902,0.8730731707317073,0.8668536585365854,0.8765121951219512,0.8697073170731707,0.8783414634146341,0.8713170731707317,0.878780487804878,0.8715609756097561,0.8785121951219512,0.8712926829268293,0.878390243902439,0.870780487804878,0.878219512195122,0.8704634146341463,0.8786585365853659,0.8711707317073171,0.8795609756097561,0.8730243902439024,0.8813414634146342,0.8753658536585366,0.8835609756097561,0.8781463414634146,0.8858780487804878,0.8803658536585366,0.8871707317073171,0.8821463414634146,0.8878292682926829,0.8826829268292683,0.8884146341463415,0.8832682926829268,0.8880487804878049,0.883],\"yaxis\":\"y\",\"type\":\"scattergl\"},{\"hovertemplate\":\"variable=0.55<br>index=%{x}<br>value=%{y}<extra></extra>\",\"legendgroup\":\"0.55\",\"line\":{\"color\":\"#FECB52\",\"dash\":\"solid\"},\"marker\":{\"symbol\":\"circle\"},\"mode\":\"lines\",\"name\":\"0.55\",\"showlegend\":true,\"x\":[0,1,2,3,4,5,6,7,8,9,10,11,12,13,14,15,16,17,18,19,20,21,22,23,24,25,26,27,28,29,30,31,32,33,34,35,36,37,38,39,40,41,42,43,44,45,46,47,48,49,50,51,52,53,54,55,56,57,58,59,60,61,62,63,64,65,66,67,68,69,70,71,72,73,74,75,76,77,78,79,80,81,82,83,84,85,86,87,88,89,90,91,92,93,94,95,96,97,98,99],\"xaxis\":\"x\",\"y\":[0.13931707317073172,0.17717073170731706,0.21309756097560975,0.23690243902439023,0.25458536585365854,0.26846341463414636,0.2891219512195122,0.3432439024390244,0.4260731707317073,0.4913170731707317,0.5354634146341464,0.5673170731707317,0.6008048780487805,0.6346585365853659,0.665609756097561,0.6967560975609756,0.7223170731707317,0.7414146341463415,0.7568536585365854,0.7692926829268293,0.7784878048780488,0.7875365853658537,0.7932926829268293,0.7940731707317074,0.7842926829268293,0.7349268292682927,0.6972926829268292,0.6288536585365854,0.5677317073170731,0.6034390243902439,0.6181463414634146,0.6969268292682926,0.7908536585365854,0.8185121951219512,0.823390243902439,0.8201463414634146,0.8105365853658537,0.7744878048780488,0.7490487804878049,0.6952682926829268,0.7102195121951219,0.7148292682926829,0.7814390243902439,0.8111219512195122,0.8390975609756097,0.8434146341463414,0.8515853658536585,0.8473170731707317,0.8471463414634146,0.8280243902439024,0.8071219512195122,0.7498536585365854,0.7563170731707317,0.7357317073170732,0.8139756097560975,0.8292195121951219,0.8470975609756097,0.8571707317073171,0.8553414634146341,0.861609756097561,0.8561463414634146,0.8599756097560975,0.8512682926829268,0.8515121951219512,0.8437317073170731,0.8408536585365853,0.8345853658536585,0.8342195121951219,0.8351219512195122,0.8442926829268292,0.8488048780487805,0.8609512195121951,0.8638780487804878,0.8712439024390244,0.8726829268292683,0.8768780487804878,0.878,0.879780487804878,0.8804634146341463,0.8814390243902439,0.8822439024390244,0.8821463414634146,0.8828292682926829,0.8825121951219512,0.8830975609756098,0.8820243902439024,0.8831707317073171,0.8810731707317073,0.8828292682926829,0.8804390243902439,0.882609756097561,0.8792439024390244,0.8830243902439024,0.879,0.8837560975609756,0.8799512195121951,0.8855853658536585,0.8817073170731707,0.8874390243902439,0.8838048780487805],\"yaxis\":\"y\",\"type\":\"scattergl\"},{\"hovertemplate\":\"variable=0.60<br>index=%{x}<br>value=%{y}<extra></extra>\",\"legendgroup\":\"0.60\",\"line\":{\"color\":\"#636efa\",\"dash\":\"solid\"},\"marker\":{\"symbol\":\"circle\"},\"mode\":\"lines\",\"name\":\"0.60\",\"showlegend\":true,\"x\":[0,1,2,3,4,5,6,7,8,9,10,11,12,13,14,15,16,17,18,19,20,21,22,23,24,25,26,27,28,29,30,31,32,33,34,35,36,37,38,39,40,41,42,43,44,45,46,47,48,49,50,51,52,53,54,55,56,57,58,59,60,61,62,63,64,65,66,67,68,69,70,71,72,73,74,75,76,77,78,79,80,81,82,83,84,85,86,87,88,89,90,91,92,93,94,95,96,97,98,99],\"xaxis\":\"x\",\"y\":[0.1306829268292683,0.16739024390243903,0.1851219512195122,0.1828780487804878,0.18214634146341463,0.19595121951219513,0.23039024390243903,0.2672439024390244,0.2961463414634146,0.31841463414634147,0.34580487804878046,0.4016829268292683,0.47760975609756096,0.5339512195121952,0.5922926829268292,0.655,0.6989512195121951,0.7267073170731707,0.7488780487804878,0.7670243902439025,0.7749268292682927,0.7810731707317073,0.6635365853658537,0.5065365853658537,0.48273170731707316,0.5458048780487805,0.5677073170731707,0.5939756097560975,0.6705365853658537,0.6913170731707317,0.765390243902439,0.7787317073170732,0.8031707317073171,0.8025853658536586,0.8142195121951219,0.8079756097560976,0.8150731707317073,0.8052439024390244,0.8129268292682926,0.8043170731707318,0.8111463414634147,0.809219512195122,0.8042682926829269,0.8030975609756098,0.7875121951219513,0.7965853658536586,0.7734878048780488,0.7901219512195122,0.7598780487804878,0.7713658536585366,0.7625121951219512,0.8119268292682927,0.826390243902439,0.8586585365853658,0.8608292682926829,0.8723170731707317,0.8713170731707317,0.8778780487804878,0.8757073170731707,0.8795365853658537,0.8766341463414634,0.8790975609756098,0.8747560975609756,0.8756829268292683,0.8684634146341463,0.8695853658536585,0.8588536585365854,0.8602926829268293,0.8501951219512195,0.8551463414634146,0.8518292682926829,0.8611707317073171,0.8660731707317073,0.8742439024390244,0.8808780487804878,0.8814878048780488,0.8849512195121951,0.8807073170731707,0.8812926829268293,0.8705121951219512,0.8688048780487805,0.8511951219512195,0.8538536585365853,0.8448536585365853,0.8642195121951219,0.8694878048780488,0.8850731707317073,0.8866341463414634,0.8925609756097561,0.8942682926829268,0.895829268292683,0.8971951219512195,0.8973414634146342,0.8986585365853659,0.8987560975609756,0.8997804878048781,0.8993170731707317,0.9000487804878049,0.8994878048780488,0.9002439024390244],\"yaxis\":\"y\",\"type\":\"scattergl\"},{\"hovertemplate\":\"variable=0.65<br>index=%{x}<br>value=%{y}<extra></extra>\",\"legendgroup\":\"0.65\",\"line\":{\"color\":\"#EF553B\",\"dash\":\"solid\"},\"marker\":{\"symbol\":\"circle\"},\"mode\":\"lines\",\"name\":\"0.65\",\"showlegend\":true,\"x\":[0,1,2,3,4,5,6,7,8,9,10,11,12,13,14,15,16,17,18,19,20,21,22,23,24,25,26,27,28,29,30,31,32,33,34,35,36,37,38,39,40,41,42,43,44,45,46,47,48,49,50,51,52,53,54,55,56,57,58,59,60,61,62,63,64,65,66,67,68,69,70,71,72,73,74,75,76,77,78,79,80,81,82,83,84,85,86,87,88,89,90,91,92,93,94,95,96,97,98,99],\"xaxis\":\"x\",\"y\":[0.09390243902439024,0.10558536585365853,0.13763414634146343,0.17792682926829267,0.20202439024390245,0.2286829268292683,0.3170731707317073,0.4322682926829268,0.5045609756097561,0.559,0.6141463414634146,0.6527073170731708,0.6823902439024391,0.7070243902439024,0.7289268292682927,0.7451707317073171,0.7571951219512195,0.7202195121951219,0.5369756097560976,0.3797317073170732,0.2985853658536585,0.2578048780487805,0.384,0.4033658536585366,0.43765853658536585,0.44982926829268294,0.5006829268292683,0.5641463414634146,0.5813170731707317,0.641219512195122,0.66,0.6856829268292683,0.6858780487804879,0.6903170731707317,0.690390243902439,0.6907073170731707,0.666,0.6929512195121951,0.6891219512195121,0.7159024390243902,0.7309512195121951,0.7833170731707317,0.7898780487804878,0.811609756097561,0.803609756097561,0.8145121951219512,0.800609756097561,0.8075853658536586,0.7917804878048781,0.8003658536585366,0.7857804878048781,0.7987560975609757,0.795,0.8108048780487805,0.8112682926829269,0.8144390243902438,0.8088780487804879,0.800439024390244,0.8097560975609757,0.8095853658536586,0.8288536585365853,0.8368048780487805,0.8495121951219512,0.8532682926829268,0.8590975609756097,0.8610243902439024,0.8647317073170732,0.8644146341463415,0.8672682926829268,0.8661707317073171,0.867609756097561,0.8659512195121951,0.8658048780487805,0.8637073170731707,0.8632682926829268,0.8592682926829268,0.8591463414634146,0.8542439024390244,0.8571463414634146,0.853170731707317,0.8599024390243902,0.8588536585365854,0.8661707317073171,0.8654146341463415,0.8732682926829268,0.8709024390243902,0.8761463414634146,0.872780487804878,0.8766341463414634,0.8715365853658537,0.8751463414634146,0.8694390243902439,0.8734390243902439,0.8662439024390244,0.8706829268292683,0.8638780487804878,0.8688536585365854,0.8612439024390244,0.8638048780487805,0.8514390243902439],\"yaxis\":\"y\",\"type\":\"scattergl\"}],                        {\"template\":{\"data\":{\"bar\":[{\"error_x\":{\"color\":\"#2a3f5f\"},\"error_y\":{\"color\":\"#2a3f5f\"},\"marker\":{\"line\":{\"color\":\"#E5ECF6\",\"width\":0.5},\"pattern\":{\"fillmode\":\"overlay\",\"size\":10,\"solidity\":0.2}},\"type\":\"bar\"}],\"barpolar\":[{\"marker\":{\"line\":{\"color\":\"#E5ECF6\",\"width\":0.5},\"pattern\":{\"fillmode\":\"overlay\",\"size\":10,\"solidity\":0.2}},\"type\":\"barpolar\"}],\"carpet\":[{\"aaxis\":{\"endlinecolor\":\"#2a3f5f\",\"gridcolor\":\"white\",\"linecolor\":\"white\",\"minorgridcolor\":\"white\",\"startlinecolor\":\"#2a3f5f\"},\"baxis\":{\"endlinecolor\":\"#2a3f5f\",\"gridcolor\":\"white\",\"linecolor\":\"white\",\"minorgridcolor\":\"white\",\"startlinecolor\":\"#2a3f5f\"},\"type\":\"carpet\"}],\"choropleth\":[{\"colorbar\":{\"outlinewidth\":0,\"ticks\":\"\"},\"type\":\"choropleth\"}],\"contour\":[{\"colorbar\":{\"outlinewidth\":0,\"ticks\":\"\"},\"colorscale\":[[0.0,\"#0d0887\"],[0.1111111111111111,\"#46039f\"],[0.2222222222222222,\"#7201a8\"],[0.3333333333333333,\"#9c179e\"],[0.4444444444444444,\"#bd3786\"],[0.5555555555555556,\"#d8576b\"],[0.6666666666666666,\"#ed7953\"],[0.7777777777777778,\"#fb9f3a\"],[0.8888888888888888,\"#fdca26\"],[1.0,\"#f0f921\"]],\"type\":\"contour\"}],\"contourcarpet\":[{\"colorbar\":{\"outlinewidth\":0,\"ticks\":\"\"},\"type\":\"contourcarpet\"}],\"heatmap\":[{\"colorbar\":{\"outlinewidth\":0,\"ticks\":\"\"},\"colorscale\":[[0.0,\"#0d0887\"],[0.1111111111111111,\"#46039f\"],[0.2222222222222222,\"#7201a8\"],[0.3333333333333333,\"#9c179e\"],[0.4444444444444444,\"#bd3786\"],[0.5555555555555556,\"#d8576b\"],[0.6666666666666666,\"#ed7953\"],[0.7777777777777778,\"#fb9f3a\"],[0.8888888888888888,\"#fdca26\"],[1.0,\"#f0f921\"]],\"type\":\"heatmap\"}],\"heatmapgl\":[{\"colorbar\":{\"outlinewidth\":0,\"ticks\":\"\"},\"colorscale\":[[0.0,\"#0d0887\"],[0.1111111111111111,\"#46039f\"],[0.2222222222222222,\"#7201a8\"],[0.3333333333333333,\"#9c179e\"],[0.4444444444444444,\"#bd3786\"],[0.5555555555555556,\"#d8576b\"],[0.6666666666666666,\"#ed7953\"],[0.7777777777777778,\"#fb9f3a\"],[0.8888888888888888,\"#fdca26\"],[1.0,\"#f0f921\"]],\"type\":\"heatmapgl\"}],\"histogram\":[{\"marker\":{\"pattern\":{\"fillmode\":\"overlay\",\"size\":10,\"solidity\":0.2}},\"type\":\"histogram\"}],\"histogram2d\":[{\"colorbar\":{\"outlinewidth\":0,\"ticks\":\"\"},\"colorscale\":[[0.0,\"#0d0887\"],[0.1111111111111111,\"#46039f\"],[0.2222222222222222,\"#7201a8\"],[0.3333333333333333,\"#9c179e\"],[0.4444444444444444,\"#bd3786\"],[0.5555555555555556,\"#d8576b\"],[0.6666666666666666,\"#ed7953\"],[0.7777777777777778,\"#fb9f3a\"],[0.8888888888888888,\"#fdca26\"],[1.0,\"#f0f921\"]],\"type\":\"histogram2d\"}],\"histogram2dcontour\":[{\"colorbar\":{\"outlinewidth\":0,\"ticks\":\"\"},\"colorscale\":[[0.0,\"#0d0887\"],[0.1111111111111111,\"#46039f\"],[0.2222222222222222,\"#7201a8\"],[0.3333333333333333,\"#9c179e\"],[0.4444444444444444,\"#bd3786\"],[0.5555555555555556,\"#d8576b\"],[0.6666666666666666,\"#ed7953\"],[0.7777777777777778,\"#fb9f3a\"],[0.8888888888888888,\"#fdca26\"],[1.0,\"#f0f921\"]],\"type\":\"histogram2dcontour\"}],\"mesh3d\":[{\"colorbar\":{\"outlinewidth\":0,\"ticks\":\"\"},\"type\":\"mesh3d\"}],\"parcoords\":[{\"line\":{\"colorbar\":{\"outlinewidth\":0,\"ticks\":\"\"}},\"type\":\"parcoords\"}],\"pie\":[{\"automargin\":true,\"type\":\"pie\"}],\"scatter\":[{\"marker\":{\"colorbar\":{\"outlinewidth\":0,\"ticks\":\"\"}},\"type\":\"scatter\"}],\"scatter3d\":[{\"line\":{\"colorbar\":{\"outlinewidth\":0,\"ticks\":\"\"}},\"marker\":{\"colorbar\":{\"outlinewidth\":0,\"ticks\":\"\"}},\"type\":\"scatter3d\"}],\"scattercarpet\":[{\"marker\":{\"colorbar\":{\"outlinewidth\":0,\"ticks\":\"\"}},\"type\":\"scattercarpet\"}],\"scattergeo\":[{\"marker\":{\"colorbar\":{\"outlinewidth\":0,\"ticks\":\"\"}},\"type\":\"scattergeo\"}],\"scattergl\":[{\"marker\":{\"colorbar\":{\"outlinewidth\":0,\"ticks\":\"\"}},\"type\":\"scattergl\"}],\"scattermapbox\":[{\"marker\":{\"colorbar\":{\"outlinewidth\":0,\"ticks\":\"\"}},\"type\":\"scattermapbox\"}],\"scatterpolar\":[{\"marker\":{\"colorbar\":{\"outlinewidth\":0,\"ticks\":\"\"}},\"type\":\"scatterpolar\"}],\"scatterpolargl\":[{\"marker\":{\"colorbar\":{\"outlinewidth\":0,\"ticks\":\"\"}},\"type\":\"scatterpolargl\"}],\"scatterternary\":[{\"marker\":{\"colorbar\":{\"outlinewidth\":0,\"ticks\":\"\"}},\"type\":\"scatterternary\"}],\"surface\":[{\"colorbar\":{\"outlinewidth\":0,\"ticks\":\"\"},\"colorscale\":[[0.0,\"#0d0887\"],[0.1111111111111111,\"#46039f\"],[0.2222222222222222,\"#7201a8\"],[0.3333333333333333,\"#9c179e\"],[0.4444444444444444,\"#bd3786\"],[0.5555555555555556,\"#d8576b\"],[0.6666666666666666,\"#ed7953\"],[0.7777777777777778,\"#fb9f3a\"],[0.8888888888888888,\"#fdca26\"],[1.0,\"#f0f921\"]],\"type\":\"surface\"}],\"table\":[{\"cells\":{\"fill\":{\"color\":\"#EBF0F8\"},\"line\":{\"color\":\"white\"}},\"header\":{\"fill\":{\"color\":\"#C8D4E3\"},\"line\":{\"color\":\"white\"}},\"type\":\"table\"}]},\"layout\":{\"annotationdefaults\":{\"arrowcolor\":\"#2a3f5f\",\"arrowhead\":0,\"arrowwidth\":1},\"autotypenumbers\":\"strict\",\"coloraxis\":{\"colorbar\":{\"outlinewidth\":0,\"ticks\":\"\"}},\"colorscale\":{\"diverging\":[[0,\"#8e0152\"],[0.1,\"#c51b7d\"],[0.2,\"#de77ae\"],[0.3,\"#f1b6da\"],[0.4,\"#fde0ef\"],[0.5,\"#f7f7f7\"],[0.6,\"#e6f5d0\"],[0.7,\"#b8e186\"],[0.8,\"#7fbc41\"],[0.9,\"#4d9221\"],[1,\"#276419\"]],\"sequential\":[[0.0,\"#0d0887\"],[0.1111111111111111,\"#46039f\"],[0.2222222222222222,\"#7201a8\"],[0.3333333333333333,\"#9c179e\"],[0.4444444444444444,\"#bd3786\"],[0.5555555555555556,\"#d8576b\"],[0.6666666666666666,\"#ed7953\"],[0.7777777777777778,\"#fb9f3a\"],[0.8888888888888888,\"#fdca26\"],[1.0,\"#f0f921\"]],\"sequentialminus\":[[0.0,\"#0d0887\"],[0.1111111111111111,\"#46039f\"],[0.2222222222222222,\"#7201a8\"],[0.3333333333333333,\"#9c179e\"],[0.4444444444444444,\"#bd3786\"],[0.5555555555555556,\"#d8576b\"],[0.6666666666666666,\"#ed7953\"],[0.7777777777777778,\"#fb9f3a\"],[0.8888888888888888,\"#fdca26\"],[1.0,\"#f0f921\"]]},\"colorway\":[\"#636efa\",\"#EF553B\",\"#00cc96\",\"#ab63fa\",\"#FFA15A\",\"#19d3f3\",\"#FF6692\",\"#B6E880\",\"#FF97FF\",\"#FECB52\"],\"font\":{\"color\":\"#2a3f5f\"},\"geo\":{\"bgcolor\":\"white\",\"lakecolor\":\"white\",\"landcolor\":\"#E5ECF6\",\"showlakes\":true,\"showland\":true,\"subunitcolor\":\"white\"},\"hoverlabel\":{\"align\":\"left\"},\"hovermode\":\"closest\",\"mapbox\":{\"style\":\"light\"},\"paper_bgcolor\":\"white\",\"plot_bgcolor\":\"#E5ECF6\",\"polar\":{\"angularaxis\":{\"gridcolor\":\"white\",\"linecolor\":\"white\",\"ticks\":\"\"},\"bgcolor\":\"#E5ECF6\",\"radialaxis\":{\"gridcolor\":\"white\",\"linecolor\":\"white\",\"ticks\":\"\"}},\"scene\":{\"xaxis\":{\"backgroundcolor\":\"#E5ECF6\",\"gridcolor\":\"white\",\"gridwidth\":2,\"linecolor\":\"white\",\"showbackground\":true,\"ticks\":\"\",\"zerolinecolor\":\"white\"},\"yaxis\":{\"backgroundcolor\":\"#E5ECF6\",\"gridcolor\":\"white\",\"gridwidth\":2,\"linecolor\":\"white\",\"showbackground\":true,\"ticks\":\"\",\"zerolinecolor\":\"white\"},\"zaxis\":{\"backgroundcolor\":\"#E5ECF6\",\"gridcolor\":\"white\",\"gridwidth\":2,\"linecolor\":\"white\",\"showbackground\":true,\"ticks\":\"\",\"zerolinecolor\":\"white\"}},\"shapedefaults\":{\"line\":{\"color\":\"#2a3f5f\"}},\"ternary\":{\"aaxis\":{\"gridcolor\":\"white\",\"linecolor\":\"white\",\"ticks\":\"\"},\"baxis\":{\"gridcolor\":\"white\",\"linecolor\":\"white\",\"ticks\":\"\"},\"bgcolor\":\"#E5ECF6\",\"caxis\":{\"gridcolor\":\"white\",\"linecolor\":\"white\",\"ticks\":\"\"}},\"title\":{\"x\":0.05},\"xaxis\":{\"automargin\":true,\"gridcolor\":\"white\",\"linecolor\":\"white\",\"ticks\":\"\",\"title\":{\"standoff\":15},\"zerolinecolor\":\"white\",\"zerolinewidth\":2},\"yaxis\":{\"automargin\":true,\"gridcolor\":\"white\",\"linecolor\":\"white\",\"ticks\":\"\",\"title\":{\"standoff\":15},\"zerolinecolor\":\"white\",\"zerolinewidth\":2}}},\"xaxis\":{\"anchor\":\"y\",\"domain\":[0.0,1.0],\"title\":{\"text\":\"index\"}},\"yaxis\":{\"anchor\":\"x\",\"domain\":[0.0,1.0],\"title\":{\"text\":\"value\"}},\"legend\":{\"title\":{\"text\":\"variable\"},\"tracegroupgap\":0},\"margin\":{\"t\":60}},                        {\"responsive\": true}                    ).then(function(){\n",
       "                            \n",
       "var gd = document.getElementById('2b777fb3-780a-4821-82cf-08e8cd093005');\n",
       "var x = new MutationObserver(function (mutations, observer) {{\n",
       "        var display = window.getComputedStyle(gd).display;\n",
       "        if (!display || display === 'none') {{\n",
       "            console.log([gd, 'removed!']);\n",
       "            Plotly.purge(gd);\n",
       "            observer.disconnect();\n",
       "        }}\n",
       "}});\n",
       "\n",
       "// Listen for the removal of the full notebook cells\n",
       "var notebookContainer = gd.closest('#notebook-container');\n",
       "if (notebookContainer) {{\n",
       "    x.observe(notebookContainer, {childList: true});\n",
       "}}\n",
       "\n",
       "// Listen for the clearing of the current output cell\n",
       "var outputEl = gd.closest('.output');\n",
       "if (outputEl) {{\n",
       "    x.observe(outputEl, {childList: true});\n",
       "}}\n",
       "\n",
       "                        })                };                });            </script>        </div>"
      ]
     },
     "metadata": {},
     "output_type": "display_data"
    }
   ],
   "source": [
    "fig = px.line(df, y=['0.10', '0.15','0.20', '0.25','0.30', '0.35', '0.40', '0.45' ,'0.50','0.55','0.60','0.65'])\n",
    "fig.show()"
   ]
  },
  {
   "cell_type": "code",
   "execution_count": 106,
   "id": "ce2d314b",
   "metadata": {},
   "outputs": [],
   "source": [
    "def make_predictions(X, W1, b1, W2, b2):\n",
    "    _, _, _, A2 = forward_prop(W1, b1, W2, b2, X)\n",
    "    predictions = get_predictions(A2)\n",
    "    return predictions\n",
    "\n",
    "def test_prediction(index, W1, b1, W2, b2):\n",
    "    current_image = X_train[:, index, None]\n",
    "    prediction = make_predictions(X_train[:, index, None], W1, b1, W2, b2)\n",
    "    label = Y_train[index]\n",
    "    print(\"Prediction: \", prediction)\n",
    "    print(\"Label: \", label)\n",
    "    \n",
    "    current_image = current_image.reshape((28, 28)) * 255\n",
    "    plt.gray()\n",
    "    plt.imshow(current_image, interpolation='nearest')\n",
    "    plt.show()"
   ]
  },
  {
   "cell_type": "code",
   "execution_count": 123,
   "id": "139d21e7",
   "metadata": {},
   "outputs": [
    {
     "ename": "NameError",
     "evalue": "name 'prediction' is not defined",
     "output_type": "error",
     "traceback": [
      "\u001b[0;31m---------------------------------------------------------------------------\u001b[0m",
      "\u001b[0;31mNameError\u001b[0m                                 Traceback (most recent call last)",
      "Input \u001b[0;32mIn [123]\u001b[0m, in \u001b[0;36m<cell line: 1>\u001b[0;34m()\u001b[0m\n\u001b[0;32m----> 1\u001b[0m \u001b[43mprediction\u001b[49m\n",
      "\u001b[0;31mNameError\u001b[0m: name 'prediction' is not defined"
     ]
    }
   ],
   "source": []
  },
  {
   "cell_type": "code",
   "execution_count": 109,
   "id": "1f28305f",
   "metadata": {},
   "outputs": [
    {
     "name": "stdout",
     "output_type": "stream",
     "text": [
      "Prediction:  [1]\n",
      "Label:  1\n"
     ]
    },
    {
     "data": {
      "image/png": "[encoded data removed]",
      "text/plain": [
       "<Figure size 432x288 with 1 Axes>"
      ]
     },
     "metadata": {
      "needs_background": "light"
     },
     "output_type": "display_data"
    },
    {
     "name": "stdout",
     "output_type": "stream",
     "text": [
      "Prediction:  [2]\n",
      "Label:  2\n"
     ]
    },
    {
     "data": {
      "image/png": "[encoded data removed]",
      "text/plain": [
       "<Figure size 432x288 with 1 Axes>"
      ]
     },
     "metadata": {
      "needs_background": "light"
     },
     "output_type": "display_data"
    },
    {
     "name": "stdout",
     "output_type": "stream",
     "text": [
      "Prediction:  [2]\n",
      "Label:  2\n"
     ]
    },
    {
     "data": {
      "image/png": "[encoded data removed]",
      "text/plain": [
       "<Figure size 432x288 with 1 Axes>"
      ]
     },
     "metadata": {
      "needs_background": "light"
     },
     "output_type": "display_data"
    },
    {
     "name": "stdout",
     "output_type": "stream",
     "text": [
      "Prediction:  [7]\n",
      "Label:  5\n"
     ]
    },
    {
     "data": {
      "image/png": "[encoded data removed]",
      "text/plain": [
       "<Figure size 432x288 with 1 Axes>"
      ]
     },
     "metadata": {
      "needs_background": "light"
     },
     "output_type": "display_data"
    },
    {
     "name": "stdout",
     "output_type": "stream",
     "text": [
      "Prediction:  [9]\n",
      "Label:  9\n"
     ]
    },
    {
     "data": {
      "image/png": "[encoded data removed]",
      "text/plain": [
       "<Figure size 432x288 with 1 Axes>"
      ]
     },
     "metadata": {
      "needs_background": "light"
     },
     "output_type": "display_data"
    }
   ],
   "source": [
    "test_prediction(0, W1, b1, W2, b2)\n",
    "test_prediction(1, W1, b1, W2, b2)\n",
    "test_prediction(2, W1, b1, W2, b2)\n",
    "test_prediction(3, W1, b1, W2, b2)\n",
    "test_prediction(8, W1, b1, W2, b2)"
   ]
  },
  {
   "cell_type": "code",
   "execution_count": 116,
   "id": "ea767f04",
   "metadata": {},
   "outputs": [
    {
     "data": {
      "text/plain": [
       "0.833"
      ]
     },
     "execution_count": 116,
     "metadata": {},
     "output_type": "execute_result"
    }
   ],
   "source": [
    "dev_predictions = make_predictions(X_dev, W1, b1, W2, b2)\n",
    "get_accuracy(dev_predictions, Y_dev)"
   ]
  },
  {
   "cell_type": "markdown",
   "id": "00002b8b",
   "metadata": {},
   "source": []
  },
  {
   "cell_type": "code",
   "execution_count": 65,
   "id": "5d625ff4",
   "metadata": {},
   "outputs": [
    {
     "data": {
      "image/png": "[encoded data removed]",
      "text/plain": [
       "<Figure size 432x288 with 2 Axes>"
      ]
     },
     "metadata": {
      "needs_background": "light"
     },
     "output_type": "display_data"
    }
   ],
   "source": [
    "import matplotlib.pyplot as plt\n",
    "import numpy\n",
    "from sklearn import metrics\n",
    "\n",
    "actual = numpy.random.binomial(10,.3,size = 100)\n",
    "predicted = numpy.random.binomial(10,.3,size = 100)\n",
    "\n",
    "confusion_matrix = metrics.confusion_matrix(actual, predicted)\n",
    "\n",
    "cm_display = metrics.ConfusionMatrixDisplay(confusion_matrix = confusion_matrix)\n",
    "\n",
    "cm_display.plot()\n",
    "plt.show()"
   ]
  },
  {
   "cell_type": "code",
   "execution_count": 66,
   "id": "6a636148",
   "metadata": {},
   "outputs": [
    {
     "data": {
      "text/plain": [
       "array([3, 3, 1, 2, 2, 5, 1, 3, 3, 4, 3, 2, 3, 4, 1, 3, 0, 3, 5, 3, 6, 2,\n",
       "       0, 3, 5, 5, 5, 1, 2, 3, 2, 2, 1, 2, 3, 2, 4, 5, 4, 2, 4, 5, 4, 2,\n",
       "       5, 1, 2, 2, 2, 2, 4, 2, 2, 2, 2, 3, 3, 3, 6, 3, 4, 5, 4, 3, 1, 4,\n",
       "       4, 3, 3, 4, 3, 2, 2, 7, 5, 1, 3, 5, 2, 2, 5, 2, 4, 3, 1, 2, 4, 6,\n",
       "       3, 2, 4, 4, 2, 3, 3, 2, 7, 2, 1, 2])"
      ]
     },
     "execution_count": 66,
     "metadata": {},
     "output_type": "execute_result"
    }
   ],
   "source": [
    "actual"
   ]
  },
  {
   "cell_type": "code",
   "execution_count": 67,
   "id": "99a8fdbe",
   "metadata": {},
   "outputs": [
    {
     "data": {
      "text/plain": [
       "array([3, 2, 4, 2, 4, 4, 3, 1, 2, 3, 3, 4, 5, 5, 3, 2, 2, 5, 1, 2, 3, 4,\n",
       "       1, 2, 2, 4, 2, 6, 3, 0, 2, 3, 3, 2, 5, 1, 4, 4, 3, 2, 2, 3, 5, 4,\n",
       "       3, 4, 2, 3, 2, 2, 3, 2, 4, 5, 1, 2, 2, 1, 2, 1, 1, 5, 2, 4, 2, 0,\n",
       "       4, 4, 4, 5, 3, 3, 2, 2, 3, 4, 5, 5, 3, 3, 3, 3, 2, 3, 4, 2, 4, 3,\n",
       "       4, 4, 2, 6, 6, 2, 1, 5, 5, 4, 4, 4])"
      ]
     },
     "execution_count": 67,
     "metadata": {},
     "output_type": "execute_result"
    }
   ],
   "source": [
    "predicted"
   ]
  },
  {
   "cell_type": "code",
   "execution_count": null,
   "id": "0fe3c8d0",
   "metadata": {},
   "outputs": [],
   "source": []
  },
  {
   "cell_type": "code",
   "execution_count": null,
   "id": "4f21ef99",
   "metadata": {},
   "outputs": [],
   "source": []
  },
  {
   "cell_type": "code",
   "execution_count": null,
   "id": "75a4b231",
   "metadata": {},
   "outputs": [],
   "source": []
  }
 ],
 "metadata": {
  "kernelspec": {
   "display_name": "Python 3 (ipykernel)",
   "language": "python",
   "name": "python3"
  },
  "language_info": {
   "codemirror_mode": {
    "name": "ipython",
    "version": 3
   },
   "file_extension": ".py",
   "mimetype": "text/x-python",
   "name": "python",
   "nbconvert_exporter": "python",
   "pygments_lexer": "ipython3",
   "version": "3.10.12"
  }
 },
 "nbformat": 4,
 "nbformat_minor": 5
}
