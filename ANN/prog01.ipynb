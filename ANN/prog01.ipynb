{
 "cells": [
  {
   "cell_type": "markdown",
   "metadata": {
    "id": "mTujx-wnuDwy"
   },
   "source": [
    "Write a program to generate marks for 10 subjects randomly using normal distribution.\n",
    "\n",
    "1.   Range of each subject is [5, 95]\n",
    "2.   If marks of any subject is less than 30 then subject will be considered fail & will b erepresented as 0 otherwise 1.\n",
    "3.   Generate marks for 100000 students.\n",
    "4.   Make a simple Neural Network (NN) for the above dataset.\n",
    "\n"
   ]
  },
  {
   "cell_type": "code",
   "execution_count": 2,
   "metadata": {
    "id": "vGQ41cfAsccc"
   },
   "outputs": [],
   "source": [
    "import numpy as np\n",
    "import matplotlib.pyplot as plt\n",
    "import seaborn as sns\n",
    "import pandas as pd"
   ]
  },
  {
   "cell_type": "code",
   "execution_count": 3,
   "metadata": {
    "colab": {
     "base_uri": "https://localhost:8080/",
     "height": 621
    },
    "id": "oS1utNDcy6VK",
    "outputId": "96b0759b-64e2-48db-fa86-2f04ebf65ed5"
   },
   "outputs": [
    {
     "name": "stderr",
     "output_type": "stream",
     "text": [
      "C:\\Users\\shubh\\AppData\\Local\\Temp\\ipykernel_12216\\143504611.py:6: UserWarning: \n",
      "\n",
      "`distplot` is a deprecated function and will be removed in seaborn v0.14.0.\n",
      "\n",
      "Please adapt your code to use either `displot` (a figure-level function with\n",
      "similar flexibility) or `histplot` (an axes-level function for histograms).\n",
      "\n",
      "For a guide to updating your code to use the new functions, please see\n",
      "https://gist.github.com/mwaskom/de44147ed2974457ad6372750bbe5751\n",
      "\n",
      "  sns.distplot(val, hist=True)\n"
     ]
    },
    {
     "data": {
      "image/png": "[encoded data removed]",
      "text/plain": [
       "<Figure size 640x480 with 1 Axes>"
      ]
     },
     "metadata": {},
     "output_type": "display_data"
    }
   ],
   "source": [
    "mean = 50\n",
    "stDev = 15\n",
    "val = np.random.normal(mean, stDev, size=1000)\n",
    "val = np.clip(val, 5, 95)\n",
    "\n",
    "sns.distplot(val, hist=True)\n",
    "plt.show()"
   ]
  },
  {
   "cell_type": "code",
   "execution_count": 4,
   "metadata": {
    "colab": {
     "base_uri": "https://localhost:8080/"
    },
    "id": "msFEdu7a1A8y",
    "outputId": "f8120805-3627-4ba8-a246-2dbcdf737e51"
   },
   "outputs": [
    {
     "name": "stdout",
     "output_type": "stream",
     "text": [
      "5.539620319788966 95.0\n"
     ]
    }
   ],
   "source": [
    "print(min(val), max(val))"
   ]
  },
  {
   "cell_type": "code",
   "execution_count": 5,
   "metadata": {
    "colab": {
     "base_uri": "https://localhost:8080/"
    },
    "id": "XpBs7AXE3ffx",
    "outputId": "83e951a9-dc93-4137-ceea-e9d15c5e3187"
   },
   "outputs": [
    {
     "data": {
      "text/plain": [
       "array([[54, 19, 36, ..., 63, 54, 56],\n",
       "       [58, 54, 52, ..., 31, 30, 35],\n",
       "       [41, 61, 21, ..., 36, 39, 47],\n",
       "       ...,\n",
       "       [54, 66, 36, ..., 67, 58, 80],\n",
       "       [85, 46, 49, ..., 36, 91, 40],\n",
       "       [24, 48, 56, ..., 54, 61, 50]], dtype=int8)"
      ]
     },
     "execution_count": 5,
     "metadata": {},
     "output_type": "execute_result"
    }
   ],
   "source": [
    "marks = np.random.normal(mean, stDev, size=(100000, 10))\n",
    "marks = np.clip(marks, 5, 95)\n",
    "marks.astype(dtype='int8')"
   ]
  },
  {
   "cell_type": "code",
   "execution_count": 6,
   "metadata": {
    "id": "6MEPXprl8YZ5"
   },
   "outputs": [],
   "source": [
    "df = pd.DataFrame(marks, columns=[f'sub-{i}' for i in range(1, 11)])"
   ]
  },
  {
   "cell_type": "code",
   "execution_count": 9,
   "metadata": {
    "id": "7-rTCtC3IBEX"
   },
   "outputs": [],
   "source": [
    "df['label'] = df.apply(lambda row: int((row > 30).all()), axis=1)"
   ]
  },
  {
   "cell_type": "code",
   "execution_count": 10,
   "metadata": {
    "colab": {
     "base_uri": "https://localhost:8080/",
     "height": 424
    },
    "id": "s-RgfLHnAeUJ",
    "outputId": "4bbae0a3-04c5-4e1e-8d42-5943742cd06e"
   },
   "outputs": [
    {
     "data": {
      "text/html": [
       "<div>\n",
       "<style scoped>\n",
       "    .dataframe tbody tr th:only-of-type {\n",
       "        vertical-align: middle;\n",
       "    }\n",
       "\n",
       "    .dataframe tbody tr th {\n",
       "        vertical-align: top;\n",
       "    }\n",
       "\n",
       "    .dataframe thead th {\n",
       "        text-align: right;\n",
       "    }\n",
       "</style>\n",
       "<table border=\"1\" class=\"dataframe\">\n",
       "  <thead>\n",
       "    <tr style=\"text-align: right;\">\n",
       "      <th></th>\n",
       "      <th>sub-1</th>\n",
       "      <th>sub-2</th>\n",
       "      <th>sub-3</th>\n",
       "      <th>sub-4</th>\n",
       "      <th>sub-5</th>\n",
       "      <th>sub-6</th>\n",
       "      <th>sub-7</th>\n",
       "      <th>sub-8</th>\n",
       "      <th>sub-9</th>\n",
       "      <th>sub-10</th>\n",
       "      <th>label</th>\n",
       "    </tr>\n",
       "  </thead>\n",
       "  <tbody>\n",
       "    <tr>\n",
       "      <th>71541</th>\n",
       "      <td>32.669604</td>\n",
       "      <td>43.087056</td>\n",
       "      <td>31.101263</td>\n",
       "      <td>49.455561</td>\n",
       "      <td>24.517368</td>\n",
       "      <td>39.253022</td>\n",
       "      <td>36.200870</td>\n",
       "      <td>43.242290</td>\n",
       "      <td>49.868119</td>\n",
       "      <td>49.964037</td>\n",
       "      <td>0</td>\n",
       "    </tr>\n",
       "    <tr>\n",
       "      <th>59265</th>\n",
       "      <td>58.826947</td>\n",
       "      <td>14.948712</td>\n",
       "      <td>46.181902</td>\n",
       "      <td>58.993496</td>\n",
       "      <td>65.424175</td>\n",
       "      <td>50.035687</td>\n",
       "      <td>54.777739</td>\n",
       "      <td>45.295226</td>\n",
       "      <td>48.872506</td>\n",
       "      <td>57.320023</td>\n",
       "      <td>0</td>\n",
       "    </tr>\n",
       "    <tr>\n",
       "      <th>83860</th>\n",
       "      <td>38.349428</td>\n",
       "      <td>45.020553</td>\n",
       "      <td>65.003930</td>\n",
       "      <td>52.672716</td>\n",
       "      <td>62.933885</td>\n",
       "      <td>43.323194</td>\n",
       "      <td>50.550457</td>\n",
       "      <td>31.776070</td>\n",
       "      <td>85.340486</td>\n",
       "      <td>48.301468</td>\n",
       "      <td>1</td>\n",
       "    </tr>\n",
       "    <tr>\n",
       "      <th>59395</th>\n",
       "      <td>43.382025</td>\n",
       "      <td>44.644786</td>\n",
       "      <td>25.673598</td>\n",
       "      <td>31.979581</td>\n",
       "      <td>62.533737</td>\n",
       "      <td>50.410361</td>\n",
       "      <td>39.470897</td>\n",
       "      <td>48.855021</td>\n",
       "      <td>40.664611</td>\n",
       "      <td>33.188296</td>\n",
       "      <td>0</td>\n",
       "    </tr>\n",
       "    <tr>\n",
       "      <th>15321</th>\n",
       "      <td>71.278619</td>\n",
       "      <td>61.268478</td>\n",
       "      <td>46.179271</td>\n",
       "      <td>18.707138</td>\n",
       "      <td>73.912315</td>\n",
       "      <td>44.352869</td>\n",
       "      <td>40.229210</td>\n",
       "      <td>60.979043</td>\n",
       "      <td>27.459107</td>\n",
       "      <td>71.482528</td>\n",
       "      <td>0</td>\n",
       "    </tr>\n",
       "    <tr>\n",
       "      <th>14628</th>\n",
       "      <td>37.446000</td>\n",
       "      <td>74.801408</td>\n",
       "      <td>58.757437</td>\n",
       "      <td>59.746686</td>\n",
       "      <td>33.052254</td>\n",
       "      <td>34.435203</td>\n",
       "      <td>76.847729</td>\n",
       "      <td>70.742945</td>\n",
       "      <td>38.357737</td>\n",
       "      <td>76.921416</td>\n",
       "      <td>1</td>\n",
       "    </tr>\n",
       "    <tr>\n",
       "      <th>10460</th>\n",
       "      <td>34.746635</td>\n",
       "      <td>55.601934</td>\n",
       "      <td>48.067892</td>\n",
       "      <td>44.601227</td>\n",
       "      <td>53.874079</td>\n",
       "      <td>75.058398</td>\n",
       "      <td>64.499079</td>\n",
       "      <td>40.915492</td>\n",
       "      <td>10.774386</td>\n",
       "      <td>52.090062</td>\n",
       "      <td>0</td>\n",
       "    </tr>\n",
       "    <tr>\n",
       "      <th>47926</th>\n",
       "      <td>40.713825</td>\n",
       "      <td>54.698143</td>\n",
       "      <td>28.407305</td>\n",
       "      <td>68.458768</td>\n",
       "      <td>48.877797</td>\n",
       "      <td>81.030717</td>\n",
       "      <td>36.747288</td>\n",
       "      <td>50.907031</td>\n",
       "      <td>50.353560</td>\n",
       "      <td>30.760270</td>\n",
       "      <td>0</td>\n",
       "    </tr>\n",
       "    <tr>\n",
       "      <th>39086</th>\n",
       "      <td>66.600552</td>\n",
       "      <td>60.663334</td>\n",
       "      <td>56.393915</td>\n",
       "      <td>52.379413</td>\n",
       "      <td>48.069362</td>\n",
       "      <td>59.174831</td>\n",
       "      <td>41.086838</td>\n",
       "      <td>54.728796</td>\n",
       "      <td>81.329328</td>\n",
       "      <td>41.640840</td>\n",
       "      <td>1</td>\n",
       "    </tr>\n",
       "    <tr>\n",
       "      <th>74260</th>\n",
       "      <td>54.004730</td>\n",
       "      <td>43.565289</td>\n",
       "      <td>51.090175</td>\n",
       "      <td>34.579558</td>\n",
       "      <td>44.914378</td>\n",
       "      <td>55.157619</td>\n",
       "      <td>43.105350</td>\n",
       "      <td>49.714939</td>\n",
       "      <td>58.123074</td>\n",
       "      <td>41.325669</td>\n",
       "      <td>1</td>\n",
       "    </tr>\n",
       "  </tbody>\n",
       "</table>\n",
       "</div>"
      ],
      "text/plain": [
       "           sub-1      sub-2      sub-3      sub-4      sub-5      sub-6  \\\n",
       "71541  32.669604  43.087056  31.101263  49.455561  24.517368  39.253022   \n",
       "59265  58.826947  14.948712  46.181902  58.993496  65.424175  50.035687   \n",
       "83860  38.349428  45.020553  65.003930  52.672716  62.933885  43.323194   \n",
       "59395  43.382025  44.644786  25.673598  31.979581  62.533737  50.410361   \n",
       "15321  71.278619  61.268478  46.179271  18.707138  73.912315  44.352869   \n",
       "14628  37.446000  74.801408  58.757437  59.746686  33.052254  34.435203   \n",
       "10460  34.746635  55.601934  48.067892  44.601227  53.874079  75.058398   \n",
       "47926  40.713825  54.698143  28.407305  68.458768  48.877797  81.030717   \n",
       "39086  66.600552  60.663334  56.393915  52.379413  48.069362  59.174831   \n",
       "74260  54.004730  43.565289  51.090175  34.579558  44.914378  55.157619   \n",
       "\n",
       "           sub-7      sub-8      sub-9     sub-10  label  \n",
       "71541  36.200870  43.242290  49.868119  49.964037      0  \n",
       "59265  54.777739  45.295226  48.872506  57.320023      0  \n",
       "83860  50.550457  31.776070  85.340486  48.301468      1  \n",
       "59395  39.470897  48.855021  40.664611  33.188296      0  \n",
       "15321  40.229210  60.979043  27.459107  71.482528      0  \n",
       "14628  76.847729  70.742945  38.357737  76.921416      1  \n",
       "10460  64.499079  40.915492  10.774386  52.090062      0  \n",
       "47926  36.747288  50.907031  50.353560  30.760270      0  \n",
       "39086  41.086838  54.728796  81.329328  41.640840      1  \n",
       "74260  43.105350  49.714939  58.123074  41.325669      1  "
      ]
     },
     "execution_count": 10,
     "metadata": {},
     "output_type": "execute_result"
    }
   ],
   "source": [
    "df.sample(10)"
   ]
  },
  {
   "cell_type": "code",
   "execution_count": 12,
   "metadata": {
    "colab": {
     "base_uri": "https://localhost:8080/"
    },
    "id": "AIy1YoWuM2Xs",
    "outputId": "9626685d-e9b7-45f0-8b7e-589c51bc8f2c"
   },
   "outputs": [
    {
     "data": {
      "text/plain": [
       "label\n",
       "0    61778\n",
       "1    38222\n",
       "Name: count, dtype: int64"
      ]
     },
     "execution_count": 12,
     "metadata": {},
     "output_type": "execute_result"
    }
   ],
   "source": [
    "df['label'].value_counts()"
   ]
  },
  {
   "cell_type": "code",
   "execution_count": 13,
   "metadata": {
    "id": "3_lZt1fQc3gP"
   },
   "outputs": [],
   "source": [
    "df.to_csv('datasetMarks.csv')"
   ]
  },
  {
   "cell_type": "code",
   "execution_count": 40,
   "metadata": {
    "id": "u5dOZzZORJ_e"
   },
   "outputs": [],
   "source": [
    "from sklearn.linear_model import Perceptron\n",
    "from sklearn.model_selection import train_test_split\n",
    "from sklearn.metrics import classification_report"
   ]
  },
  {
   "cell_type": "code",
   "execution_count": 41,
   "metadata": {
    "id": "FXktONIHSLLP"
   },
   "outputs": [],
   "source": [
    "X = df.drop('label', axis=1).values\n",
    "Y = df['label'].values"
   ]
  },
  {
   "cell_type": "code",
   "execution_count": 49,
   "metadata": {
    "colab": {
     "base_uri": "https://localhost:8080/",
     "height": 75
    },
    "id": "2bIw-qtMSV2z",
    "outputId": "ec8d18bd-b368-4211-bf2a-e666a3a68a91"
   },
   "outputs": [
    {
     "data": {
      "text/html": [
       "<style>#sk-container-id-9 {color: black;background-color: white;}#sk-container-id-9 pre{padding: 0;}#sk-container-id-9 div.sk-toggleable {background-color: white;}#sk-container-id-9 label.sk-toggleable__label {cursor: pointer;display: block;width: 100%;margin-bottom: 0;padding: 0.3em;box-sizing: border-box;text-align: center;}#sk-container-id-9 label.sk-toggleable__label-arrow:before {content: \"▸\";float: left;margin-right: 0.25em;color: #696969;}#sk-container-id-9 label.sk-toggleable__label-arrow:hover:before {color: black;}#sk-container-id-9 div.sk-estimator:hover label.sk-toggleable__label-arrow:before {color: black;}#sk-container-id-9 div.sk-toggleable__content {max-height: 0;max-width: 0;overflow: hidden;text-align: left;background-color: #f0f8ff;}#sk-container-id-9 div.sk-toggleable__content pre {margin: 0.2em;color: black;border-radius: 0.25em;background-color: #f0f8ff;}#sk-container-id-9 input.sk-toggleable__control:checked~div.sk-toggleable__content {max-height: 200px;max-width: 100%;overflow: auto;}#sk-container-id-9 input.sk-toggleable__control:checked~label.sk-toggleable__label-arrow:before {content: \"▾\";}#sk-container-id-9 div.sk-estimator input.sk-toggleable__control:checked~label.sk-toggleable__label {background-color: #d4ebff;}#sk-container-id-9 div.sk-label input.sk-toggleable__control:checked~label.sk-toggleable__label {background-color: #d4ebff;}#sk-container-id-9 input.sk-hidden--visually {border: 0;clip: rect(1px 1px 1px 1px);clip: rect(1px, 1px, 1px, 1px);height: 1px;margin: -1px;overflow: hidden;padding: 0;position: absolute;width: 1px;}#sk-container-id-9 div.sk-estimator {font-family: monospace;background-color: #f0f8ff;border: 1px dotted black;border-radius: 0.25em;box-sizing: border-box;margin-bottom: 0.5em;}#sk-container-id-9 div.sk-estimator:hover {background-color: #d4ebff;}#sk-container-id-9 div.sk-parallel-item::after {content: \"\";width: 100%;border-bottom: 1px solid gray;flex-grow: 1;}#sk-container-id-9 div.sk-label:hover label.sk-toggleable__label {background-color: #d4ebff;}#sk-container-id-9 div.sk-serial::before {content: \"\";position: absolute;border-left: 1px solid gray;box-sizing: border-box;top: 0;bottom: 0;left: 50%;z-index: 0;}#sk-container-id-9 div.sk-serial {display: flex;flex-direction: column;align-items: center;background-color: white;padding-right: 0.2em;padding-left: 0.2em;position: relative;}#sk-container-id-9 div.sk-item {position: relative;z-index: 1;}#sk-container-id-9 div.sk-parallel {display: flex;align-items: stretch;justify-content: center;background-color: white;position: relative;}#sk-container-id-9 div.sk-item::before, #sk-container-id-9 div.sk-parallel-item::before {content: \"\";position: absolute;border-left: 1px solid gray;box-sizing: border-box;top: 0;bottom: 0;left: 50%;z-index: -1;}#sk-container-id-9 div.sk-parallel-item {display: flex;flex-direction: column;z-index: 1;position: relative;background-color: white;}#sk-container-id-9 div.sk-parallel-item:first-child::after {align-self: flex-end;width: 50%;}#sk-container-id-9 div.sk-parallel-item:last-child::after {align-self: flex-start;width: 50%;}#sk-container-id-9 div.sk-parallel-item:only-child::after {width: 0;}#sk-container-id-9 div.sk-dashed-wrapped {border: 1px dashed gray;margin: 0 0.4em 0.5em 0.4em;box-sizing: border-box;padding-bottom: 0.4em;background-color: white;}#sk-container-id-9 div.sk-label label {font-family: monospace;font-weight: bold;display: inline-block;line-height: 1.2em;}#sk-container-id-9 div.sk-label-container {text-align: center;}#sk-container-id-9 div.sk-container {/* jupyter's `normalize.less` sets `[hidden] { display: none; }` but bootstrap.min.css set `[hidden] { display: none !important; }` so we also need the `!important` here to be able to override the default hidden behavior on the sphinx rendered scikit-learn.org. See: https://github.com/scikit-learn/scikit-learn/issues/21755 */display: inline-block !important;position: relative;}#sk-container-id-9 div.sk-text-repr-fallback {display: none;}</style><div id=\"sk-container-id-9\" class=\"sk-top-container\"><div class=\"sk-text-repr-fallback\"><pre>Perceptron(eta0=0.01, random_state=6)</pre><b>In a Jupyter environment, please rerun this cell to show the HTML representation or trust the notebook. <br />On GitHub, the HTML representation is unable to render, please try loading this page with nbviewer.org.</b></div><div class=\"sk-container\" hidden><div class=\"sk-item\"><div class=\"sk-estimator sk-toggleable\"><input class=\"sk-toggleable__control sk-hidden--visually\" id=\"sk-estimator-id-9\" type=\"checkbox\" checked><label for=\"sk-estimator-id-9\" class=\"sk-toggleable__label sk-toggleable__label-arrow\">Perceptron</label><div class=\"sk-toggleable__content\"><pre>Perceptron(eta0=0.01, random_state=6)</pre></div></div></div></div></div>"
      ],
      "text/plain": [
       "Perceptron(eta0=0.01, random_state=6)"
      ]
     },
     "execution_count": 49,
     "metadata": {},
     "output_type": "execute_result"
    }
   ],
   "source": [
    "xTrain, xTest, yTrain, yTest = train_test_split(X, Y, test_size=0.1, random_state=6)\n",
    "model = Perceptron(max_iter=1000, eta0=0.01, random_state=6)\n",
    "model.fit(xTrain, yTrain)"
   ]
  },
  {
   "cell_type": "code",
   "execution_count": 50,
   "metadata": {
    "id": "wIk8zFaZTvJI"
   },
   "outputs": [],
   "source": [
    "yPred = model.predict(xTest)"
   ]
  },
  {
   "cell_type": "code",
   "execution_count": 51,
   "metadata": {
    "colab": {
     "base_uri": "https://localhost:8080/"
    },
    "id": "AT434Il5UBlS",
    "outputId": "9654bd98-4076-4383-eb55-192fb2c82d96"
   },
   "outputs": [
    {
     "name": "stdout",
     "output_type": "stream",
     "text": [
      "              precision    recall  f1-score   support\n",
      "\n",
      "           0       0.74      0.63      0.68      6136\n",
      "           1       0.52      0.64      0.58      3864\n",
      "\n",
      "    accuracy                           0.64     10000\n",
      "   macro avg       0.63      0.64      0.63     10000\n",
      "weighted avg       0.66      0.64      0.64     10000\n",
      "\n"
     ]
    }
   ],
   "source": [
    "report = classification_report(yTest, yPred)\n",
    "print(report)"
   ]
  }
 ],
 "metadata": {
  "colab": {
   "provenance": []
  },
  "kernelspec": {
   "display_name": "Python 3 (ipykernel)",
   "language": "python",
   "name": "python3"
  },
  "language_info": {
   "codemirror_mode": {
    "name": "ipython",
    "version": 3
   },
   "file_extension": ".py",
   "mimetype": "text/x-python",
   "name": "python",
   "nbconvert_exporter": "python",
   "pygments_lexer": "ipython3",
   "version": "3.12.2"
  }
 },
 "nbformat": 4,
 "nbformat_minor": 4
}
